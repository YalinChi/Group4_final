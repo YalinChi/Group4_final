{
  "cells": [
    {
      "cell_type": "markdown",
      "metadata": {
        "colab_type": "text",
        "id": "view-in-github"
      },
      "source": [
        "<a href=\"https://colab.research.google.com/github/murmurmaomao/-Data-Science-for-Smart-Environments_GRS35306/blob/main/Hyperparameter_Optimization_Catboost.ipynb\" target=\"_parent\"><img src=\"https://colab.research.google.com/assets/colab-badge.svg\" alt=\"Open In Colab\"/></a>"
      ]
    },
    {
      "cell_type": "code",
      "execution_count": null,
      "metadata": {
        "colab": {
          "base_uri": "https://localhost:8080/"
        },
        "id": "YcNHzTRnhhPq",
        "outputId": "818ef64e-1777-4fff-f152-9a887d199dbd"
      },
      "outputs": [
        {
          "name": "stdout",
          "output_type": "stream",
          "text": [
            "Mounted at /content/drive\n"
          ]
        }
      ],
      "source": [
        "from google.colab import drive\n",
        "drive.mount('/content/drive')"
      ]
    },
    {
      "cell_type": "code",
      "execution_count": null,
      "metadata": {
        "colab": {
          "base_uri": "https://localhost:8080/"
        },
        "id": "7THDtgwviXky",
        "outputId": "f8b3fa52-9837-4667-81fe-674e13efeb40"
      },
      "outputs": [
        {
          "name": "stdout",
          "output_type": "stream",
          "text": [
            "Collecting catboost\n",
            "  Downloading catboost-1.2.2-cp310-cp310-manylinux2014_x86_64.whl (98.7 MB)\n",
            "\u001b[2K     \u001b[90m━━━━━━━━━━━━━━━━━━━━━━━━━━━━━━━━━━━━━━━━\u001b[0m \u001b[32m98.7/98.7 MB\u001b[0m \u001b[31m14.0 MB/s\u001b[0m eta \u001b[36m0:00:00\u001b[0m\n",
            "\u001b[?25hRequirement already satisfied: graphviz in /usr/local/lib/python3.10/dist-packages (from catboost) (0.20.1)\n",
            "Requirement already satisfied: matplotlib in /usr/local/lib/python3.10/dist-packages (from catboost) (3.7.1)\n",
            "Requirement already satisfied: numpy>=1.16.0 in /usr/local/lib/python3.10/dist-packages (from catboost) (1.23.5)\n",
            "Requirement already satisfied: pandas>=0.24 in /usr/local/lib/python3.10/dist-packages (from catboost) (1.5.3)\n",
            "Requirement already satisfied: scipy in /usr/local/lib/python3.10/dist-packages (from catboost) (1.11.4)\n",
            "Requirement already satisfied: plotly in /usr/local/lib/python3.10/dist-packages (from catboost) (5.15.0)\n",
            "Requirement already satisfied: six in /usr/local/lib/python3.10/dist-packages (from catboost) (1.16.0)\n",
            "Requirement already satisfied: python-dateutil>=2.8.1 in /usr/local/lib/python3.10/dist-packages (from pandas>=0.24->catboost) (2.8.2)\n",
            "Requirement already satisfied: pytz>=2020.1 in /usr/local/lib/python3.10/dist-packages (from pandas>=0.24->catboost) (2023.3.post1)\n",
            "Requirement already satisfied: contourpy>=1.0.1 in /usr/local/lib/python3.10/dist-packages (from matplotlib->catboost) (1.2.0)\n",
            "Requirement already satisfied: cycler>=0.10 in /usr/local/lib/python3.10/dist-packages (from matplotlib->catboost) (0.12.1)\n",
            "Requirement already satisfied: fonttools>=4.22.0 in /usr/local/lib/python3.10/dist-packages (from matplotlib->catboost) (4.47.2)\n",
            "Requirement already satisfied: kiwisolver>=1.0.1 in /usr/local/lib/python3.10/dist-packages (from matplotlib->catboost) (1.4.5)\n",
            "Requirement already satisfied: packaging>=20.0 in /usr/local/lib/python3.10/dist-packages (from matplotlib->catboost) (23.2)\n",
            "Requirement already satisfied: pillow>=6.2.0 in /usr/local/lib/python3.10/dist-packages (from matplotlib->catboost) (9.4.0)\n",
            "Requirement already satisfied: pyparsing>=2.3.1 in /usr/local/lib/python3.10/dist-packages (from matplotlib->catboost) (3.1.1)\n",
            "Requirement already satisfied: tenacity>=6.2.0 in /usr/local/lib/python3.10/dist-packages (from plotly->catboost) (8.2.3)\n",
            "Installing collected packages: catboost\n",
            "Successfully installed catboost-1.2.2\n",
            "Collecting optuna\n",
            "  Downloading optuna-3.5.0-py3-none-any.whl (413 kB)\n",
            "\u001b[2K     \u001b[90m━━━━━━━━━━━━━━━━━━━━━━━━━━━━━━━━━━━━━━━━\u001b[0m \u001b[32m413.4/413.4 kB\u001b[0m \u001b[31m7.9 MB/s\u001b[0m eta \u001b[36m0:00:00\u001b[0m\n",
            "\u001b[?25hCollecting alembic>=1.5.0 (from optuna)\n",
            "  Downloading alembic-1.13.1-py3-none-any.whl (233 kB)\n",
            "\u001b[2K     \u001b[90m━━━━━━━━━━━━━━━━━━━━━━━━━━━━━━━━━━━━━━━━\u001b[0m \u001b[32m233.4/233.4 kB\u001b[0m \u001b[31m30.3 MB/s\u001b[0m eta \u001b[36m0:00:00\u001b[0m\n",
            "\u001b[?25hCollecting colorlog (from optuna)\n",
            "  Downloading colorlog-6.8.0-py3-none-any.whl (11 kB)\n",
            "Requirement already satisfied: numpy in /usr/local/lib/python3.10/dist-packages (from optuna) (1.23.5)\n",
            "Requirement already satisfied: packaging>=20.0 in /usr/local/lib/python3.10/dist-packages (from optuna) (23.2)\n",
            "Requirement already satisfied: sqlalchemy>=1.3.0 in /usr/local/lib/python3.10/dist-packages (from optuna) (2.0.24)\n",
            "Requirement already satisfied: tqdm in /usr/local/lib/python3.10/dist-packages (from optuna) (4.66.1)\n",
            "Requirement already satisfied: PyYAML in /usr/local/lib/python3.10/dist-packages (from optuna) (6.0.1)\n",
            "Collecting Mako (from alembic>=1.5.0->optuna)\n",
            "  Downloading Mako-1.3.1-py3-none-any.whl (78 kB)\n",
            "\u001b[2K     \u001b[90m━━━━━━━━━━━━━━━━━━━━━━━━━━━━━━━━━━━━━━━━\u001b[0m \u001b[32m78.7/78.7 kB\u001b[0m \u001b[31m11.7 MB/s\u001b[0m eta \u001b[36m0:00:00\u001b[0m\n",
            "\u001b[?25hRequirement already satisfied: typing-extensions>=4 in /usr/local/lib/python3.10/dist-packages (from alembic>=1.5.0->optuna) (4.5.0)\n",
            "Requirement already satisfied: greenlet!=0.4.17 in /usr/local/lib/python3.10/dist-packages (from sqlalchemy>=1.3.0->optuna) (3.0.3)\n",
            "Requirement already satisfied: MarkupSafe>=0.9.2 in /usr/local/lib/python3.10/dist-packages (from Mako->alembic>=1.5.0->optuna) (2.1.4)\n",
            "Installing collected packages: Mako, colorlog, alembic, optuna\n",
            "Successfully installed Mako-1.3.1 alembic-1.13.1 colorlog-6.8.0 optuna-3.5.0\n"
          ]
        }
      ],
      "source": [
        "!pip install catboost\n",
        "!pip install optuna"
      ]
    },
    {
      "cell_type": "markdown",
      "metadata": {
        "id": "wJ0xBfeoiP92"
      },
      "source": [
        "# Import"
      ]
    },
    {
      "cell_type": "code",
      "execution_count": null,
      "metadata": {
        "id": "07CY3bFuhyn3"
      },
      "outputs": [],
      "source": [
        "import warnings\n",
        "\n",
        "warnings.filterwarnings(\"ignore\")\n",
        "\n",
        "import os\n",
        "import gc\n",
        "import datetime\n",
        "\n",
        "import numpy as np\n",
        "import pandas as pd\n",
        "import polars as pl\n",
        "import plotly.express as px\n",
        "import pyarrow as pa\n",
        "\n",
        "import catboost as cb\n",
        "import optuna\n",
        "from sklearn.metrics import mean_absolute_error\n",
        "\n",
        "import holidays"
      ]
    },
    {
      "cell_type": "markdown",
      "metadata": {
        "id": "V1jG5kdIiqT5"
      },
      "source": [
        "# Class"
      ]
    },
    {
      "cell_type": "markdown",
      "metadata": {
        "id": "4U5b2Nxgiw6C"
      },
      "source": [
        "## Load Data"
      ]
    },
    {
      "cell_type": "code",
      "execution_count": null,
      "metadata": {
        "id": "f2fpGVEpisrS"
      },
      "outputs": [],
      "source": [
        "class DataStorage:\n",
        "    # root = \"..\\data\"\n",
        "    root = \"/content/drive/MyDrive/predict-energy-behavior-of-prosumers/Data\"\n",
        "    # root = \"/kaggle/input/predict-energy-behavior-of-prosumers\"\n",
        "\n",
        "    data_cols = [\n",
        "        \"target\",\n",
        "        \"county\",\n",
        "        \"is_business\",\n",
        "        \"product_type\",\n",
        "        \"is_consumption\",\n",
        "        \"datetime\",\n",
        "        \"row_id\",\n",
        "    ]\n",
        "    client_cols = [\n",
        "        \"product_type\",\n",
        "        \"county\",\n",
        "        \"eic_count\",\n",
        "        \"installed_capacity\",\n",
        "        \"is_business\",\n",
        "        \"date\",\n",
        "    ]\n",
        "    gas_prices_cols = [\"forecast_date\", \"lowest_price_per_mwh\", \"highest_price_per_mwh\"]\n",
        "    electricity_prices_cols = [\"forecast_date\", \"euros_per_mwh\"]\n",
        "    forecast_weather_cols = [\n",
        "        \"latitude\",\n",
        "        \"longitude\",\n",
        "        \"origin_datetime\",\n",
        "        \"hours_ahead\",\n",
        "        \"temperature\",\n",
        "        \"dewpoint\",\n",
        "        \"cloudcover_high\",\n",
        "        \"cloudcover_low\",\n",
        "        \"cloudcover_mid\",\n",
        "        \"cloudcover_total\",\n",
        "        \"10_metre_u_wind_component\",\n",
        "        \"10_metre_v_wind_component\",\n",
        "        \"forecast_datetime\",\n",
        "        \"direct_solar_radiation\",\n",
        "        \"surface_solar_radiation_downwards\",\n",
        "        \"snowfall\",\n",
        "        \"total_precipitation\",\n",
        "    ]\n",
        "    historical_weather_cols = [\n",
        "        \"datetime\",\n",
        "        \"temperature\",\n",
        "        \"dewpoint\",\n",
        "        \"rain\",\n",
        "        \"snowfall\",\n",
        "        \"surface_pressure\",\n",
        "        \"cloudcover_total\",\n",
        "        \"cloudcover_low\",\n",
        "        \"cloudcover_mid\",\n",
        "        \"cloudcover_high\",\n",
        "        \"windspeed_10m\",\n",
        "        \"winddirection_10m\",\n",
        "        \"shortwave_radiation\",\n",
        "        \"direct_solar_radiation\",\n",
        "        \"diffuse_radiation\",\n",
        "        \"latitude\",\n",
        "        \"longitude\",\n",
        "    ]\n",
        "    location_cols = [\"longitude\", \"latitude\", \"county\"]\n",
        "    target_cols = [\n",
        "        \"target\",\n",
        "        \"county\",\n",
        "        \"is_business\",\n",
        "        \"product_type\",\n",
        "        \"is_consumption\",\n",
        "        \"datetime\",\n",
        "    ]\n",
        "\n",
        "    def __init__(self):\n",
        "        self.df_data = pl.read_csv(\n",
        "            os.path.join(self.root, \"train.csv\"),\n",
        "            columns=self.data_cols,\n",
        "            try_parse_dates=True,\n",
        "        )\n",
        "        self.df_client = pl.read_csv(\n",
        "            os.path.join(self.root, \"client.csv\"),\n",
        "            columns=self.client_cols,\n",
        "            try_parse_dates=True,\n",
        "        )\n",
        "        self.df_gas_prices = pl.read_csv(\n",
        "            os.path.join(self.root, \"gas_prices.csv\"),\n",
        "            columns=self.gas_prices_cols,\n",
        "            try_parse_dates=True,\n",
        "        )\n",
        "        self.df_electricity_prices = pl.read_csv(\n",
        "            os.path.join(self.root, \"electricity_prices.csv\"),\n",
        "            columns=self.electricity_prices_cols,\n",
        "            try_parse_dates=True,\n",
        "        )\n",
        "        self.df_forecast_weather = pl.read_csv(\n",
        "            os.path.join(self.root, \"forecast_weather.csv\"),\n",
        "            columns=self.forecast_weather_cols,\n",
        "            try_parse_dates=True,\n",
        "        )\n",
        "        self.df_historical_weather = pl.read_csv(\n",
        "            os.path.join(self.root, \"historical_weather.csv\"),\n",
        "            columns=self.historical_weather_cols,\n",
        "            try_parse_dates=True,\n",
        "        )\n",
        "        self.df_weather_station_to_county_mapping = pl.read_csv(\n",
        "            os.path.join(self.root, \"weather_station_to_county_mapping.csv\"),\n",
        "            columns=self.location_cols,\n",
        "            try_parse_dates=True,\n",
        "        )\n",
        "        self.df_data = self.df_data.filter(\n",
        "            (pl.col(\"datetime\") >= pd.to_datetime(\"2022-01-01\"))&\n",
        "            (pl.col(\"datetime\") <= pd.to_datetime(\"2023-05-17\"))\n",
        "        )\n",
        "        self.df_target = self.df_data.select(self.target_cols)\n",
        "\n",
        "        self.schema_data = self.df_data.schema\n",
        "        self.schema_client = self.df_client.schema\n",
        "        self.schema_gas_prices = self.df_gas_prices.schema\n",
        "        self.schema_electricity_prices = self.df_electricity_prices.schema\n",
        "        self.schema_forecast_weather = self.df_forecast_weather.schema\n",
        "        self.schema_historical_weather = self.df_historical_weather.schema\n",
        "        self.schema_target = self.df_target.schema\n",
        "\n",
        "        self.df_weather_station_to_county_mapping = (\n",
        "            self.df_weather_station_to_county_mapping.with_columns(\n",
        "                pl.col(\"latitude\").cast(pl.datatypes.Float32),\n",
        "                pl.col(\"longitude\").cast(pl.datatypes.Float32),\n",
        "            )\n",
        "        )\n",
        "\n",
        "    def update_with_new_data(\n",
        "        self,\n",
        "        df_new_client,\n",
        "        df_new_gas_prices,\n",
        "        df_new_electricity_prices,\n",
        "        df_new_forecast_weather,\n",
        "        df_new_historical_weather,\n",
        "        df_new_target,\n",
        "    ):\n",
        "        df_new_client = pl.from_pandas(\n",
        "            df_new_client[self.client_cols], schema_overrides=self.schema_client\n",
        "        )\n",
        "        df_new_gas_prices = pl.from_pandas(\n",
        "            df_new_gas_prices[self.gas_prices_cols],\n",
        "            schema_overrides=self.schema_gas_prices,\n",
        "        )\n",
        "        df_new_electricity_prices = pl.from_pandas(\n",
        "            df_new_electricity_prices[self.electricity_prices_cols],\n",
        "            schema_overrides=self.schema_electricity_prices,\n",
        "        )\n",
        "        df_new_forecast_weather = pl.from_pandas(\n",
        "            df_new_forecast_weather[self.forecast_weather_cols],\n",
        "            schema_overrides=self.schema_forecast_weather,\n",
        "        )\n",
        "        df_new_historical_weather = pl.from_pandas(\n",
        "            df_new_historical_weather[self.historical_weather_cols],\n",
        "            schema_overrides=self.schema_historical_weather,\n",
        "        )\n",
        "        df_new_target = pl.from_pandas(\n",
        "            df_new_target[self.target_cols], schema_overrides=self.schema_target\n",
        "        )\n",
        "\n",
        "        self.df_client = pl.concat([self.df_client, df_new_client]).unique(\n",
        "            [\"date\", \"county\", \"is_business\", \"product_type\"]\n",
        "        )\n",
        "        self.df_gas_prices = pl.concat([self.df_gas_prices, df_new_gas_prices]).unique(\n",
        "            [\"forecast_date\"]\n",
        "        )\n",
        "        self.df_electricity_prices = pl.concat(\n",
        "            [self.df_electricity_prices, df_new_electricity_prices]\n",
        "        ).unique([\"forecast_date\"])\n",
        "        self.df_forecast_weather = pl.concat(\n",
        "            [self.df_forecast_weather, df_new_forecast_weather]\n",
        "        ).unique([\"forecast_datetime\", \"latitude\", \"longitude\", \"hours_ahead\"])\n",
        "        self.df_historical_weather = pl.concat(\n",
        "            [self.df_historical_weather, df_new_historical_weather]\n",
        "        ).unique([\"datetime\", \"latitude\", \"longitude\"])\n",
        "        self.df_target = pl.concat([self.df_target, df_new_target]).unique(\n",
        "            [\"datetime\", \"county\", \"is_business\", \"product_type\", \"is_consumption\"]\n",
        "        )\n",
        "\n"
      ]
    },
    {
      "cell_type": "markdown",
      "metadata": {
        "id": "R3Db2Yomi6eo"
      },
      "source": [
        "## Feature Enegineering"
      ]
    },
    {
      "cell_type": "code",
      "execution_count": null,
      "metadata": {
        "id": "GlRWh8xOiz7q"
      },
      "outputs": [],
      "source": [
        "class FeaturesGenerator:\n",
        "    def __init__(self, data_storage):\n",
        "        self.data_storage = data_storage\n",
        "        self.estonian_holidays = list(\n",
        "            holidays.country_holidays(\"EE\", years=range(2021, 2026)).keys()\n",
        "        )\n",
        "\n",
        "    def _add_general_features(self, df_features):\n",
        "        df_features = (\n",
        "            df_features.with_columns(\n",
        "                pl.col(\"datetime\").dt.ordinal_day().alias(\"dayofyear\"),\n",
        "                pl.col(\"datetime\").dt.hour().alias(\"hour\"),\n",
        "                pl.col(\"datetime\").dt.day().alias(\"day\"),\n",
        "                pl.col(\"datetime\").dt.weekday().alias(\"weekday\"),\n",
        "                pl.col(\"datetime\").dt.month().alias(\"month\"),\n",
        "                pl.col(\"datetime\").dt.year().alias(\"year\"),\n",
        "            )\n",
        "            .with_columns(\n",
        "                pl.concat_str(\n",
        "                    \"county\",\n",
        "                    \"is_business\",\n",
        "                    \"product_type\",\n",
        "                    \"is_consumption\",\n",
        "                    separator=\"_\",\n",
        "                ).alias(\"segment\"),\n",
        "            )\n",
        "            .with_columns(\n",
        "                (np.pi * pl.col(\"dayofyear\") / 183).sin().alias(\"sin(dayofyear)\"),\n",
        "                (np.pi * pl.col(\"dayofyear\") / 183).cos().alias(\"cos(dayofyear)\"),\n",
        "                (np.pi * pl.col(\"hour\") / 12).sin().alias(\"sin(hour)\"),\n",
        "                (np.pi * pl.col(\"hour\") / 12).cos().alias(\"cos(hour)\"),\n",
        "            )\n",
        "        )\n",
        "        return df_features\n",
        "\n",
        "    def _add_client_features(self, df_features):\n",
        "        df_client = self.data_storage.df_client\n",
        "\n",
        "        df_features = df_features.join(\n",
        "            df_client.with_columns(\n",
        "                (pl.col(\"date\") + pl.duration(days=2)).cast(pl.Date)\n",
        "            ),\n",
        "            on=[\"county\", \"is_business\", \"product_type\", \"date\"],\n",
        "            how=\"left\",\n",
        "        )\n",
        "        return df_features\n",
        "\n",
        "    def is_country_holiday(self, row):\n",
        "        return (\n",
        "            datetime.date(row[\"year\"], row[\"month\"], row[\"day\"])\n",
        "            in self.estonian_holidays\n",
        "        )\n",
        "\n",
        "    def _add_holidays_features(self, df_features):\n",
        "        df_features = df_features.with_columns(\n",
        "            pl.struct([\"year\", \"month\", \"day\"])\n",
        "            .apply(self.is_country_holiday)\n",
        "            .alias(\"is_country_holiday\")\n",
        "        )\n",
        "        return df_features\n",
        "\n",
        "    def _add_forecast_weather_features(self, df_features):\n",
        "        df_forecast_weather = self.data_storage.df_forecast_weather\n",
        "        df_weather_station_to_county_mapping = (\n",
        "            self.data_storage.df_weather_station_to_county_mapping\n",
        "        )\n",
        "\n",
        "        df_forecast_weather = (\n",
        "            df_forecast_weather.rename({\"forecast_datetime\": \"datetime\"})\n",
        "            .filter((pl.col(\"hours_ahead\") >= 22) & pl.col(\"hours_ahead\") <= 45)\n",
        "            .drop(\"hours_ahead\")\n",
        "            .with_columns(\n",
        "                pl.col(\"latitude\").cast(pl.datatypes.Float32),\n",
        "                pl.col(\"longitude\").cast(pl.datatypes.Float32),\n",
        "            )\n",
        "            .join(\n",
        "                df_weather_station_to_county_mapping,\n",
        "                how=\"left\",\n",
        "                on=[\"longitude\", \"latitude\"],\n",
        "            )\n",
        "            .drop(\"longitude\", \"latitude\", \"origin_datetime\")\n",
        "        )\n",
        "\n",
        "        df_forecast_weather_date = (\n",
        "            df_forecast_weather.group_by(\"datetime\").mean().drop(\"county\")\n",
        "        )\n",
        "\n",
        "        df_forecast_weather_local = (\n",
        "            df_forecast_weather.filter(pl.col(\"county\").is_not_null())\n",
        "            .group_by(\"county\", \"datetime\")\n",
        "            .mean()\n",
        "        )\n",
        "\n",
        "        for hours_lag in [0, 7 * 24]:\n",
        "            df_features = df_features.join(\n",
        "                df_forecast_weather_date.with_columns(\n",
        "                    pl.col(\"datetime\") + pl.duration(hours=hours_lag)\n",
        "                ),\n",
        "                on=\"datetime\",\n",
        "                how=\"left\",\n",
        "                suffix=f\"_forecast_{hours_lag}h\",\n",
        "            )\n",
        "            df_features = df_features.join(\n",
        "                df_forecast_weather_local.with_columns(\n",
        "                    pl.col(\"datetime\") + pl.duration(hours=hours_lag)\n",
        "                ),\n",
        "                on=[\"county\", \"datetime\"],\n",
        "                how=\"left\",\n",
        "                suffix=f\"_forecast_local_{hours_lag}h\",\n",
        "            )\n",
        "\n",
        "        df_features = df_features.with_columns(\n",
        "            (\n",
        "                pl.col(f\"temperature_forecast_local_0h\")\n",
        "                / (pl.col(f\"temperature_forecast_local_168h\") + 1e-3)\n",
        "            ).alias(f\"temperature_forecast_local_0h/168h\"),\n",
        "            (\n",
        "                pl.col(f\"surface_solar_radiation_downwards_forecast_local_0h\")\n",
        "                / (pl.col(f\"surface_solar_radiation_downwards_forecast_local_168h\") + 1e-3)\n",
        "            ).alias(f\"surface_solar_radiation_downwards_forecast_local_0h/168h\"),\n",
        "        )\n",
        "\n",
        "        return df_features\n",
        "\n",
        "    def _add_historical_weather_features(self, df_features):\n",
        "        df_historical_weather = self.data_storage.df_historical_weather\n",
        "        df_weather_station_to_county_mapping = (\n",
        "            self.data_storage.df_weather_station_to_county_mapping\n",
        "        )\n",
        "\n",
        "        df_historical_weather = (\n",
        "            df_historical_weather.with_columns(\n",
        "                pl.col(\"latitude\").cast(pl.datatypes.Float32),\n",
        "                pl.col(\"longitude\").cast(pl.datatypes.Float32),\n",
        "            )\n",
        "            .join(\n",
        "                df_weather_station_to_county_mapping,\n",
        "                how=\"left\",\n",
        "                on=[\"longitude\", \"latitude\"],\n",
        "            )\n",
        "            .drop(\"longitude\", \"latitude\")\n",
        "        )\n",
        "\n",
        "        df_historical_weather_date = (\n",
        "            df_historical_weather.group_by(\"datetime\").mean().drop(\"county\")\n",
        "        )\n",
        "\n",
        "        df_historical_weather_local = (\n",
        "            df_historical_weather.filter(pl.col(\"county\").is_not_null())\n",
        "            .group_by(\"county\", \"datetime\")\n",
        "            .mean()\n",
        "        )\n",
        "\n",
        "        for hours_lag in [2 * 24, 7 * 24]:\n",
        "            df_features = df_features.join(\n",
        "                df_historical_weather_date.with_columns(\n",
        "                    pl.col(\"datetime\") + pl.duration(hours=hours_lag)\n",
        "                ),\n",
        "                on=\"datetime\",\n",
        "                how=\"left\",\n",
        "                suffix=f\"_historical_{hours_lag}h\",\n",
        "            )\n",
        "            df_features = df_features.join(\n",
        "                df_historical_weather_local.with_columns(\n",
        "                    pl.col(\"datetime\") + pl.duration(hours=hours_lag)\n",
        "                ),\n",
        "                on=[\"county\", \"datetime\"],\n",
        "                how=\"left\",\n",
        "                suffix=f\"_historical_local_{hours_lag}h\",\n",
        "            )\n",
        "\n",
        "        for hours_lag in [1 * 24]:\n",
        "            df_features = df_features.join(\n",
        "                df_historical_weather_date.with_columns(\n",
        "                    pl.col(\"datetime\") + pl.duration(hours=hours_lag),\n",
        "                    pl.col(\"datetime\").dt.hour().alias(\"hour\"),\n",
        "                )\n",
        "                .filter(pl.col(\"hour\") <= 10)\n",
        "                .drop(\"hour\"),\n",
        "                on=\"datetime\",\n",
        "                how=\"left\",\n",
        "                suffix=f\"_historical_{hours_lag}h\",\n",
        "            )\n",
        "\n",
        "        df_features = df_features.with_columns(\n",
        "            (\n",
        "                pl.col(f\"temperature_historical_local_48h\")\n",
        "                / (pl.col(f\"temperature_historical_local_168h\") + 1e-3)\n",
        "            ).alias(f\"temperature_historical_local_48h/168h\"),\n",
        "            (\n",
        "                pl.col(f\"direct_solar_radiation_historical_local_48h\")\n",
        "                / (pl.col(f\"direct_solar_radiation_historical_local_168h\") + 1e-3)\n",
        "            ).alias(f\"direct_solar_radiation_historical_local_48h/168h\"),\n",
        "            (\n",
        "                pl.col(f\"temperature_historical_24h\")\n",
        "                / (pl.col(f\"temperature\") + 1e-3)\n",
        "            ).alias(f\"temperature_historical_24h/48h\"),\n",
        "            (\n",
        "                pl.col(f\"direct_solar_radiation_historical_24h\")\n",
        "                / (pl.col(f\"direct_solar_radiation\") + 1e-3)\n",
        "            ).alias(f\"direct_solar_radiation_historical_24h/48h\"),\n",
        "        )\n",
        "\n",
        "        return df_features\n",
        "\n",
        "    def _add_target_features(self, df_features):\n",
        "        df_target = self.data_storage.df_target\n",
        "\n",
        "        df_target_all_type_sum = (\n",
        "            df_target.group_by([\"datetime\", \"county\", \"is_business\", \"is_consumption\"])\n",
        "            .sum()\n",
        "            .drop(\"product_type\")\n",
        "        )\n",
        "\n",
        "        df_target_all_county_type_sum = (\n",
        "            df_target.group_by([\"datetime\", \"is_business\", \"is_consumption\"])\n",
        "            .sum()\n",
        "            .drop(\"product_type\", \"county\")\n",
        "        )\n",
        "\n",
        "        for hours_lag in [\n",
        "            2 * 24,\n",
        "            3 * 24,\n",
        "            4 * 24,\n",
        "            5 * 24,\n",
        "            6 * 24,\n",
        "            7 * 24,\n",
        "            8 * 24,\n",
        "            9 * 24,\n",
        "            10 * 24,\n",
        "            11 * 24,\n",
        "            12 * 24,\n",
        "            13 * 24,\n",
        "            14 * 24,\n",
        "        ]:\n",
        "            df_features = df_features.join(\n",
        "                df_target.with_columns(\n",
        "                    pl.col(\"datetime\") + pl.duration(hours=hours_lag)\n",
        "                ).rename({\"target\": f\"target_{hours_lag}h\"}),\n",
        "                on=[\n",
        "                    \"county\",\n",
        "                    \"is_business\",\n",
        "                    \"product_type\",\n",
        "                    \"is_consumption\",\n",
        "                    \"datetime\",\n",
        "                ],\n",
        "                how=\"left\",\n",
        "            )\n",
        "\n",
        "        for hours_lag in [2 * 24, 3 * 24, 7 * 24, 14 * 24]:\n",
        "            df_features = df_features.join(\n",
        "                df_target_all_type_sum.with_columns(\n",
        "                    pl.col(\"datetime\") + pl.duration(hours=hours_lag)\n",
        "                ).rename({\"target\": f\"target_all_type_sum_{hours_lag}h\"}),\n",
        "                on=[\"county\", \"is_business\", \"is_consumption\", \"datetime\"],\n",
        "                how=\"left\",\n",
        "            )\n",
        "\n",
        "            df_features = df_features.join(\n",
        "                df_target_all_county_type_sum.with_columns(\n",
        "                    pl.col(\"datetime\") + pl.duration(hours=hours_lag)\n",
        "                ).rename({\"target\": f\"target_all_county_type_sum_{hours_lag}h\"}),\n",
        "                on=[\"is_business\", \"is_consumption\", \"datetime\"],\n",
        "                how=\"left\",\n",
        "                suffix=f\"_all_county_type_sum_{hours_lag}h\",\n",
        "            )\n",
        "\n",
        "        cols_for_stats = [\n",
        "            f\"target_{hours_lag}h\" for hours_lag in [2 * 24, 3 * 24, 4 * 24, 5 * 24]\n",
        "        ]\n",
        "        df_features = df_features.with_columns(\n",
        "            df_features.select(cols_for_stats).mean(axis=1).alias(f\"target_mean\"),\n",
        "            df_features.select(cols_for_stats)\n",
        "            .transpose()\n",
        "            .std()\n",
        "            .transpose()\n",
        "            .to_series()\n",
        "            .alias(f\"target_std\"),\n",
        "        )\n",
        "\n",
        "        for target_prefix, lag_nominator, lag_denomonator in [\n",
        "            (\"target\", 24 * 7, 24 * 14),\n",
        "            (\"target\", 24 * 2, 24 * 9),\n",
        "            (\"target\", 24 * 3, 24 * 10),\n",
        "            (\"target\", 24 * 2, 24 * 3),\n",
        "            (\"target_all_type_sum\", 24 * 2, 24 * 3),\n",
        "            (\"target_all_type_sum\", 24 * 7, 24 * 14),\n",
        "            (\"target_all_county_type_sum\", 24 * 2, 24 * 3),\n",
        "            (\"target_all_county_type_sum\", 24 * 7, 24 * 14),\n",
        "        ]:\n",
        "            df_features = df_features.with_columns(\n",
        "                (\n",
        "                    pl.col(f\"{target_prefix}_{lag_nominator}h\")\n",
        "                    / (pl.col(f\"{target_prefix}_{lag_denomonator}h\") + 1e-3)\n",
        "                ).alias(f\"{target_prefix}_ratio_{lag_nominator}_{lag_denomonator}\")\n",
        "            )\n",
        "\n",
        "        return df_features\n",
        "\n",
        "    def _reduce_memory_usage(self, df_features):\n",
        "        df_features = df_features.with_columns(pl.col(pl.Float64).cast(pl.Float32))\n",
        "        return df_features\n",
        "\n",
        "    def _drop_columns(self, df_features):\n",
        "        df_features = df_features.drop(\n",
        "            \"date\", \"datetime\", \"hour\", \"dayofyear\"\n",
        "        )\n",
        "        return df_features\n",
        "\n",
        "    def _to_pandas(self, df_features, y):\n",
        "        cat_cols = [\n",
        "            \"county\",\n",
        "            \"is_business\",\n",
        "            \"product_type\",\n",
        "            \"is_consumption\",\n",
        "            \"segment\",\n",
        "        ]\n",
        "\n",
        "        if y is not None:\n",
        "            df_features = pd.concat([df_features.to_pandas(), y.to_pandas()], axis=1)\n",
        "        else:\n",
        "            df_features = df_features.to_pandas()\n",
        "\n",
        "        df_features[cat_cols] = df_features[cat_cols].astype(\"category\")\n",
        "\n",
        "        if 'row_id' in df_features.columns:\n",
        "            df_features = df_features.drop(\"row_id\", axis=1)\n",
        "\n",
        "        return df_features\n",
        "\n",
        "    def generate_features(self, df_prediction_items):\n",
        "        if \"target\" in df_prediction_items.columns:\n",
        "            df_prediction_items, y = (\n",
        "                df_prediction_items.drop(\"target\"),\n",
        "                df_prediction_items.select(\"target\"),\n",
        "            )\n",
        "        else:\n",
        "            y = None\n",
        "\n",
        "        df_features = df_prediction_items.with_columns(\n",
        "            pl.col(\"datetime\").cast(pl.Date).alias(\"date\"),\n",
        "        )\n",
        "\n",
        "        for add_features in [\n",
        "            self._add_general_features,\n",
        "            self._add_client_features,\n",
        "            self._add_forecast_weather_features,\n",
        "            self._add_historical_weather_features,\n",
        "            self._add_target_features,\n",
        "            self._add_holidays_features,\n",
        "            self._reduce_memory_usage,\n",
        "            self._drop_columns,\n",
        "        ]:\n",
        "            df_features = add_features(df_features)\n",
        "\n",
        "        df_features = self._to_pandas(df_features, y)\n",
        "\n",
        "        return df_features"
      ]
    },
    {
      "cell_type": "markdown",
      "metadata": {
        "id": "6yQsjtnSl65o"
      },
      "source": [
        "# Initialisation"
      ]
    },
    {
      "cell_type": "code",
      "execution_count": null,
      "metadata": {
        "id": "Nok2PABZi9DL"
      },
      "outputs": [],
      "source": [
        "data_storage = DataStorage()\n",
        "features_generator = FeaturesGenerator(data_storage=data_storage)"
      ]
    },
    {
      "cell_type": "markdown",
      "metadata": {
        "id": "hsnyw3M4m1WJ"
      },
      "source": [
        "### Feature Generation"
      ]
    },
    {
      "cell_type": "code",
      "execution_count": null,
      "metadata": {
        "id": "OoPqtZGzl_B0"
      },
      "outputs": [],
      "source": [
        "df_train_features = features_generator.generate_features(data_storage.df_data)\n",
        "df_train_features = df_train_features[df_train_features['target'].notnull()]"
      ]
    },
    {
      "cell_type": "code",
      "execution_count": null,
      "metadata": {
        "colab": {
          "base_uri": "https://localhost:8080/"
        },
        "id": "23vgZk7om4U0",
        "outputId": "44851133-eb49-435c-9dec-ba474a8dde8d"
      },
      "outputs": [
        {
          "data": {
            "text/plain": [
              "(1604324, 172)"
            ]
          },
          "execution_count": 8,
          "metadata": {},
          "output_type": "execute_result"
        }
      ],
      "source": [
        "df_train_features.shape"
      ]
    },
    {
      "cell_type": "markdown",
      "metadata": {
        "id": "VKiNldsTnHe9"
      },
      "source": [
        "# Catboost Models Hyperparameter Optimization"
      ]
    },
    {
      "cell_type": "code",
      "execution_count": null,
      "metadata": {
        "id": "JbQBcPcDnDOb"
      },
      "outputs": [],
      "source": [
        "def catboost_model(mask,trial,is_diff):\n",
        "    X = df_train_features[mask].drop(columns=[\"target\"])\n",
        "    Y = df_train_features[mask][\"target\"] - (df_train_features[mask][\"target_48h\"].fillna(0) * is_diff)\n",
        "    train_size=0.85\n",
        "    X_train, X_test = X.head(int(len(Y)*train_size)) , X.tail(int(len(Y)*(1-train_size)))\n",
        "    y_train, y_test = Y.head(int(len(Y)*train_size)) , Y.tail(int(len(Y)*(1-train_size)))\n",
        "    params = {\n",
        "        \"random_seed\":49,\n",
        "        \"loss_function\":\"RMSE\",\n",
        "        \"task_type\":\"GPU\",\n",
        "        'bootstrap_type': 'Bernoulli',\n",
        "\n",
        "        \"iterations\": trial.suggest_int(\"iterations\", 2000, 10000, step=500),\n",
        "        \"learning_rate\": trial.suggest_float(\"learning_rate\", 0.01, 0.5),\n",
        "        \"depth\": trial.suggest_int(\"depth\", 1, 15),\n",
        "        'random_strength': trial.suggest_uniform('random_strength',10,50),\n",
        "        \"subsample\": trial.suggest_float(\"subsample\", 0.5, 1.0),\n",
        "        \"min_data_in_leaf\": trial.suggest_int(\"min_data_in_leaf\", 10, 1000),\n",
        "        'reg_lambda': trial.suggest_float('reg_lambda', 0.1, 5,)\n",
        "    }\n",
        "    cat_features = [\"county\", \"is_business\", \"product_type\", \"is_consumption\", \"segment\"]\n",
        "    model = cb.CatBoostRegressor(**params, silent=True)\n",
        "    model.fit(X_train, y_train , cat_features=cat_features , eval_set=(X_test, y_test))\n",
        "    pred_cat=model.predict(X_test)\n",
        "    mae = mean_absolute_error(y_test, pred_cat)\n",
        "    return mae"
      ]
    },
    {
      "cell_type": "code",
      "execution_count": null,
      "metadata": {
        "id": "crQarc9WCjn7"
      },
      "outputs": [],
      "source": [
        "def Hyperparameter_study(mask,study_name,is_diff,n_trials):\n",
        "    study=optuna.create_study(direction='minimize',study_name=study_name)\n",
        "    func = lambda trial: catboost_model(mask,trial,is_diff)\n",
        "    study.optimize(func, n_trials=n_trials)\n",
        "    return study"
      ]
    },
    {
      "cell_type": "code",
      "execution_count": null,
      "metadata": {
        "id": "NpX1-DUiEH1l"
      },
      "outputs": [],
      "source": [
        "def Hyperparameter_study_visualization(study,target_name,study_name):\n",
        "    optuna.visualization.plot_optimization_history(study,target_name=target_name).show()\n",
        "    # plot_parallel_coordinate: interactively visualizes the hyperparameters and scores\n",
        "    optuna.visualization.plot_parallel_coordinate(study,target_name=target_name).show()\n",
        "    # plot_slice: shows the evolution of the search. You can see where in the hyperparameter space your search went and which parts of the space were explored more.\n",
        "    optuna.visualization.plot_slice(study,target_name=target_name).show()\n",
        "    #Visualize parameter importances.\n",
        "    optuna.visualization.plot_param_importances(study,target_name=target_name).show()\n",
        "    #Visualize empirical distribution function\n",
        "    optuna.visualization.plot_edf(study,target_name=target_name).show()\n",
        "    print(f\"\\tBest value (MAE): {study.best_value:.5f}\")\n",
        "    print(f\"\\tBest params {study_name}:\")\n",
        "    for key, value in study.best_params.items():\n",
        "        print(f\"\\t\\t{key}: {value}\")"
      ]
    },
    {
      "cell_type": "code",
      "execution_count": null,
      "metadata": {
        "id": "P1YL29_RnFv_"
      },
      "outputs": [],
      "source": [
        "consumption = df_train_features[\"is_consumption\"] == 1\n",
        "production = df_train_features[\"is_consumption\"] == 0\n",
        "n_trials = 30"
      ]
    },
    {
      "cell_type": "markdown",
      "metadata": {
        "id": "On4BOTZZoPXb"
      },
      "source": [
        "## Consumption_model_Catboost"
      ]
    },
    {
      "cell_type": "code",
      "execution_count": null,
      "metadata": {
        "colab": {
          "background_save": true,
          "base_uri": "https://localhost:8080/"
        },
        "id": "iT6Wj0tTI4SY",
        "outputId": "2ae06521-d7d5-4e9e-b801-193c4cef553a"
      },
      "outputs": [
        {
          "name": "stderr",
          "output_type": "stream",
          "text": [
            "[I 2024-01-25 02:30:55,243] A new study created in memory with name: Consumption_model_Catboost\n",
            "[I 2024-01-25 02:33:55,801] Trial 0 finished with value: 73.47410375895937 and parameters: {'iterations': 8500, 'learning_rate': 0.3926234976584529, 'depth': 7, 'random_strength': 37.06472597365693, 'subsample': 0.9031576424454716, 'min_data_in_leaf': 739, 'reg_lambda': 0.30851441817550884}. Best is trial 0 with value: 73.47410375895937.\n",
            "[I 2024-01-25 02:39:07,981] Trial 1 finished with value: 73.66797406657264 and parameters: {'iterations': 10000, 'learning_rate': 0.4386559442646001, 'depth': 9, 'random_strength': 20.740944047136537, 'subsample': 0.9316126983301964, 'min_data_in_leaf': 621, 'reg_lambda': 1.4491060338116233}. Best is trial 0 with value: 73.47410375895937.\n",
            "[I 2024-01-25 02:40:37,678] Trial 2 finished with value: 64.0505171824274 and parameters: {'iterations': 5000, 'learning_rate': 0.22997621133602522, 'depth': 6, 'random_strength': 10.952091998710207, 'subsample': 0.6489554725212932, 'min_data_in_leaf': 581, 'reg_lambda': 1.0207816936955776}. Best is trial 2 with value: 64.0505171824274.\n",
            "[I 2024-01-25 02:41:10,518] Trial 3 finished with value: 72.09088218744725 and parameters: {'iterations': 3500, 'learning_rate': 0.4069048034632573, 'depth': 3, 'random_strength': 42.24224893728219, 'subsample': 0.5879756242641122, 'min_data_in_leaf': 525, 'reg_lambda': 1.5697320778319732}. Best is trial 2 with value: 64.0505171824274.\n",
            "[I 2024-01-25 02:45:51,612] Trial 4 finished with value: 67.76274458656238 and parameters: {'iterations': 3500, 'learning_rate': 0.21001287434186627, 'depth': 12, 'random_strength': 20.97604559164269, 'subsample': 0.6068252342073455, 'min_data_in_leaf': 821, 'reg_lambda': 0.28658476729598803}. Best is trial 2 with value: 64.0505171824274.\n",
            "[I 2024-01-25 03:45:24,857] Trial 5 finished with value: 89.49480772558994 and parameters: {'iterations': 9000, 'learning_rate': 0.454131673880689, 'depth': 15, 'random_strength': 40.09695155513282, 'subsample': 0.635719438755656, 'min_data_in_leaf': 528, 'reg_lambda': 1.7135599716758418}. Best is trial 2 with value: 64.0505171824274.\n",
            "[I 2024-01-25 03:50:45,432] Trial 6 finished with value: 68.60163588588553 and parameters: {'iterations': 8000, 'learning_rate': 0.18661065197534318, 'depth': 10, 'random_strength': 30.733233205448055, 'subsample': 0.5427163154097354, 'min_data_in_leaf': 630, 'reg_lambda': 1.0811726395599575}. Best is trial 2 with value: 64.0505171824274.\n",
            "[I 2024-01-25 03:53:26,548] Trial 7 finished with value: 61.990853322811795 and parameters: {'iterations': 9000, 'learning_rate': 0.07916259075551343, 'depth': 6, 'random_strength': 41.91322407442543, 'subsample': 0.5672605141954822, 'min_data_in_leaf': 378, 'reg_lambda': 2.535537106918675}. Best is trial 7 with value: 61.990853322811795.\n",
            "[I 2024-01-25 03:53:54,342] Trial 8 finished with value: 112.95043321112055 and parameters: {'iterations': 7500, 'learning_rate': 0.3026571581507541, 'depth': 1, 'random_strength': 12.08991645486314, 'subsample': 0.7767418710453766, 'min_data_in_leaf': 92, 'reg_lambda': 0.34801306782743446}. Best is trial 7 with value: 61.990853322811795.\n",
            "[I 2024-01-25 04:40:21,881] Trial 9 finished with value: 78.2807407474037 and parameters: {'iterations': 7000, 'learning_rate': 0.3220499496310762, 'depth': 15, 'random_strength': 38.37543526706327, 'subsample': 0.9667944772215376, 'min_data_in_leaf': 855, 'reg_lambda': 2.4933737101025986}. Best is trial 7 with value: 61.990853322811795.\n",
            "[I 2024-01-25 04:41:28,163] Trial 10 finished with value: 64.5486236170156 and parameters: {'iterations': 5500, 'learning_rate': 0.021135289517093404, 'depth': 4, 'random_strength': 48.318542086439415, 'subsample': 0.7397080755150448, 'min_data_in_leaf': 255, 'reg_lambda': 4.557349923459096}. Best is trial 7 with value: 61.990853322811795.\n",
            "[I 2024-01-25 04:43:07,153] Trial 11 finished with value: 59.73857783236978 and parameters: {'iterations': 5500, 'learning_rate': 0.07977939306360646, 'depth': 6, 'random_strength': 11.144167524078691, 'subsample': 0.6984707561056236, 'min_data_in_leaf': 323, 'reg_lambda': 3.789146585391106}. Best is trial 11 with value: 59.73857783236978.\n",
            "[I 2024-01-25 04:43:39,259] Trial 12 finished with value: 63.55516013424299 and parameters: {'iterations': 2000, 'learning_rate': 0.06319787765779133, 'depth': 5, 'random_strength': 26.54510113958196, 'subsample': 0.7313346985644207, 'min_data_in_leaf': 323, 'reg_lambda': 4.040512714988683}. Best is trial 11 with value: 59.73857783236978.\n",
            "[I 2024-01-25 04:46:25,681] Trial 13 finished with value: 61.045547445352206 and parameters: {'iterations': 6500, 'learning_rate': 0.11966579352240175, 'depth': 8, 'random_strength': 31.324571493058468, 'subsample': 0.5142981015962409, 'min_data_in_leaf': 354, 'reg_lambda': 3.3157740971223735}. Best is trial 11 with value: 59.73857783236978.\n",
            "[I 2024-01-25 04:50:46,276] Trial 14 finished with value: 66.57234788605578 and parameters: {'iterations': 6500, 'learning_rate': 0.13735205539930753, 'depth': 10, 'random_strength': 29.251049041356723, 'subsample': 0.5090314146285522, 'min_data_in_leaf': 133, 'reg_lambda': 3.5195165499859535}. Best is trial 11 with value: 59.73857783236978.\n",
            "[I 2024-01-25 04:51:16,101] Trial 15 finished with value: 68.5195543829409 and parameters: {'iterations': 4500, 'learning_rate': 0.13464819372780823, 'depth': 2, 'random_strength': 18.234950026057803, 'subsample': 0.8591623333928982, 'min_data_in_leaf': 384, 'reg_lambda': 3.3830765244230117}. Best is trial 11 with value: 59.73857783236978.\n",
            "[I 2024-01-25 04:53:49,847] Trial 16 finished with value: 63.905955971915816 and parameters: {'iterations': 6000, 'learning_rate': 0.1289702505104135, 'depth': 8, 'random_strength': 34.389562872422914, 'subsample': 0.6872209642223652, 'min_data_in_leaf': 216, 'reg_lambda': 4.796055298641939}. Best is trial 11 with value: 59.73857783236978.\n",
            "[I 2024-01-25 04:59:10,182] Trial 17 finished with value: 60.4031481839151 and parameters: {'iterations': 4000, 'learning_rate': 0.012004087887458562, 'depth': 12, 'random_strength': 15.86270654893279, 'subsample': 0.7972268959171683, 'min_data_in_leaf': 42, 'reg_lambda': 3.199654667880767}. Best is trial 11 with value: 59.73857783236978.\n",
            "[I 2024-01-25 05:04:30,965] Trial 18 finished with value: 59.44969825928589 and parameters: {'iterations': 4000, 'learning_rate': 0.017687582466737024, 'depth': 12, 'random_strength': 15.265330867867803, 'subsample': 0.8086617969373396, 'min_data_in_leaf': 82, 'reg_lambda': 3.957408455534595}. Best is trial 18 with value: 59.44969825928589.\n",
            "[I 2024-01-25 05:09:55,505] Trial 19 finished with value: 61.11479934578464 and parameters: {'iterations': 2500, 'learning_rate': 0.051866066289762085, 'depth': 13, 'random_strength': 24.157555681865986, 'subsample': 0.8293632592393283, 'min_data_in_leaf': 995, 'reg_lambda': 4.098542893497569}. Best is trial 18 with value: 59.44969825928589.\n",
            "[I 2024-01-25 05:12:40,924] Trial 20 finished with value: 69.67307618087948 and parameters: {'iterations': 3000, 'learning_rate': 0.28886795274530475, 'depth': 11, 'random_strength': 14.827440423000224, 'subsample': 0.6895494952569501, 'min_data_in_leaf': 182, 'reg_lambda': 4.080363486851681}. Best is trial 18 with value: 59.44969825928589.\n",
            "[I 2024-01-25 05:21:13,366] Trial 21 finished with value: 61.122104935091215 and parameters: {'iterations': 4000, 'learning_rate': 0.011911241250060798, 'depth': 13, 'random_strength': 15.710390432698784, 'subsample': 0.7998280489385083, 'min_data_in_leaf': 12, 'reg_lambda': 2.904869073402152}. Best is trial 18 with value: 59.44969825928589.\n",
            "[I 2024-01-25 05:31:54,023] Trial 22 finished with value: 63.77035867416169 and parameters: {'iterations': 5000, 'learning_rate': 0.08327625024417251, 'depth': 13, 'random_strength': 10.276608968204712, 'subsample': 0.8661480766671421, 'min_data_in_leaf': 13, 'reg_lambda': 2.9419598206462103}. Best is trial 18 with value: 59.44969825928589.\n",
            "[I 2024-01-25 05:36:01,372] Trial 23 finished with value: 59.43302301810638 and parameters: {'iterations': 4500, 'learning_rate': 0.01240813245424538, 'depth': 11, 'random_strength': 15.676074935669043, 'subsample': 0.7877393817115238, 'min_data_in_leaf': 119, 'reg_lambda': 3.7806933338325157}. Best is trial 23 with value: 59.43302301810638.\n",
            "[I 2024-01-25 05:39:43,346] Trial 24 finished with value: 65.42239854459777 and parameters: {'iterations': 5500, 'learning_rate': 0.0937239681252326, 'depth': 10, 'random_strength': 19.793228889881227, 'subsample': 0.6995024276707653, 'min_data_in_leaf': 275, 'reg_lambda': 3.747554784225927}. Best is trial 23 with value: 59.43302301810638.\n",
            "[I 2024-01-25 05:42:06,291] Trial 25 finished with value: 62.63500330035936 and parameters: {'iterations': 4500, 'learning_rate': 0.1745004366450922, 'depth': 9, 'random_strength': 13.42763107479334, 'subsample': 0.7583944892840256, 'min_data_in_leaf': 144, 'reg_lambda': 4.561998088773788}. Best is trial 23 with value: 59.43302301810638.\n",
            "[I 2024-01-25 05:53:09,593] Trial 26 finished with value: 64.0692033043933 and parameters: {'iterations': 3000, 'learning_rate': 0.048039062058998966, 'depth': 14, 'random_strength': 23.834712742131416, 'subsample': 0.8442936904360271, 'min_data_in_leaf': 429, 'reg_lambda': 2.146942986565013}. Best is trial 23 with value: 59.43302301810638.\n",
            "[I 2024-01-25 05:58:10,176] Trial 27 finished with value: 59.9071496406061 and parameters: {'iterations': 5500, 'learning_rate': 0.03833027925133849, 'depth': 11, 'random_strength': 17.66764539109711, 'subsample': 0.71846302494742, 'min_data_in_leaf': 102, 'reg_lambda': 3.8199345450772335}. Best is trial 23 with value: 59.43302301810638.\n",
            "[I 2024-01-25 05:59:37,139] Trial 28 finished with value: 61.22799344642489 and parameters: {'iterations': 4000, 'learning_rate': 0.10399440081283601, 'depth': 7, 'random_strength': 23.173238283617874, 'subsample': 0.9985284610160995, 'min_data_in_leaf': 222, 'reg_lambda': 4.960963081034952}. Best is trial 23 with value: 59.43302301810638.\n",
            "[I 2024-01-25 06:01:24,413] Trial 29 finished with value: 62.349341797035535 and parameters: {'iterations': 5000, 'learning_rate': 0.15163442827611612, 'depth': 7, 'random_strength': 13.682939040686266, 'subsample': 0.897532434820098, 'min_data_in_leaf': 449, 'reg_lambda': 4.464793055161508}. Best is trial 23 with value: 59.43302301810638.\n"
          ]
        }
      ],
      "source": [
        "study_consumption = Hyperparameter_study(mask=consumption,study_name=\"Consumption_model_Catboost\",is_diff=0 , n_trials=n_trials)"
      ]
    },
    {
      "cell_type": "code",
      "execution_count": null,
      "metadata": {
        "colab": {
          "background_save": true
        },
        "id": "3JOiv545KKy9",
        "outputId": "a204f508-9963-4e0c-c03b-07c0841608bf"
      },
      "outputs": [
        {
          "data": {
            "text/html": [
              "<html>\n",
              "<head><meta charset=\"utf-8\" /></head>\n",
              "<body>\n",
              "    <div>            <script src=\"https://cdnjs.cloudflare.com/ajax/libs/mathjax/2.7.5/MathJax.js?config=TeX-AMS-MML_SVG\"></script><script type=\"text/javascript\">if (window.MathJax && window.MathJax.Hub && window.MathJax.Hub.Config) {window.MathJax.Hub.Config({SVG: {font: \"STIX-Web\"}});}</script>                <script type=\"text/javascript\">window.PlotlyConfig = {MathJaxConfig: 'local'};</script>\n",
              "        <script charset=\"utf-8\" src=\"https://cdn.plot.ly/plotly-2.24.1.min.js\"></script>                <div id=\"58592ecd-2db7-4126-a12d-64def8400ef8\" class=\"plotly-graph-div\" style=\"height:525px; width:100%;\"></div>            <script type=\"text/javascript\">                                    window.PLOTLYENV=window.PLOTLYENV || {};                                    if (document.getElementById(\"58592ecd-2db7-4126-a12d-64def8400ef8\")) {                    Plotly.newPlot(                        \"58592ecd-2db7-4126-a12d-64def8400ef8\",                        [{\"mode\":\"markers\",\"name\":\"MAE\",\"x\":[0,1,2,3,4,5,6,7,8,9,10,11,12,13,14,15,16,17,18,19,20,21,22,23,24,25,26,27,28,29],\"y\":[73.47410375895937,73.66797406657264,64.0505171824274,72.09088218744725,67.76274458656238,89.49480772558994,68.60163588588553,61.990853322811795,112.95043321112055,78.2807407474037,64.5486236170156,59.73857783236978,63.55516013424299,61.045547445352206,66.57234788605578,68.5195543829409,63.905955971915816,60.4031481839151,59.44969825928589,61.11479934578464,69.67307618087948,61.122104935091215,63.77035867416169,59.43302301810638,65.42239854459777,62.63500330035936,64.0692033043933,59.9071496406061,61.22799344642489,62.349341797035535],\"type\":\"scatter\"},{\"mode\":\"lines\",\"name\":\"Best Value\",\"x\":[0,1,2,3,4,5,6,7,8,9,10,11,12,13,14,15,16,17,18,19,20,21,22,23,24,25,26,27,28,29],\"y\":[73.47410375895937,73.47410375895937,64.0505171824274,64.0505171824274,64.0505171824274,64.0505171824274,64.0505171824274,61.990853322811795,61.990853322811795,61.990853322811795,61.990853322811795,59.73857783236978,59.73857783236978,59.73857783236978,59.73857783236978,59.73857783236978,59.73857783236978,59.73857783236978,59.44969825928589,59.44969825928589,59.44969825928589,59.44969825928589,59.44969825928589,59.43302301810638,59.43302301810638,59.43302301810638,59.43302301810638,59.43302301810638,59.43302301810638,59.43302301810638],\"type\":\"scatter\"},{\"marker\":{\"color\":\"#cccccc\"},\"mode\":\"markers\",\"name\":\"Infeasible Trial\",\"showlegend\":false,\"x\":[],\"y\":[],\"type\":\"scatter\"}],                        {\"title\":{\"text\":\"Optimization History Plot\"},\"xaxis\":{\"title\":{\"text\":\"Trial\"}},\"yaxis\":{\"title\":{\"text\":\"MAE\"}},\"template\":{\"data\":{\"histogram2dcontour\":[{\"type\":\"histogram2dcontour\",\"colorbar\":{\"outlinewidth\":0,\"ticks\":\"\"},\"colorscale\":[[0.0,\"#0d0887\"],[0.1111111111111111,\"#46039f\"],[0.2222222222222222,\"#7201a8\"],[0.3333333333333333,\"#9c179e\"],[0.4444444444444444,\"#bd3786\"],[0.5555555555555556,\"#d8576b\"],[0.6666666666666666,\"#ed7953\"],[0.7777777777777778,\"#fb9f3a\"],[0.8888888888888888,\"#fdca26\"],[1.0,\"#f0f921\"]]}],\"choropleth\":[{\"type\":\"choropleth\",\"colorbar\":{\"outlinewidth\":0,\"ticks\":\"\"}}],\"histogram2d\":[{\"type\":\"histogram2d\",\"colorbar\":{\"outlinewidth\":0,\"ticks\":\"\"},\"colorscale\":[[0.0,\"#0d0887\"],[0.1111111111111111,\"#46039f\"],[0.2222222222222222,\"#7201a8\"],[0.3333333333333333,\"#9c179e\"],[0.4444444444444444,\"#bd3786\"],[0.5555555555555556,\"#d8576b\"],[0.6666666666666666,\"#ed7953\"],[0.7777777777777778,\"#fb9f3a\"],[0.8888888888888888,\"#fdca26\"],[1.0,\"#f0f921\"]]}],\"heatmap\":[{\"type\":\"heatmap\",\"colorbar\":{\"outlinewidth\":0,\"ticks\":\"\"},\"colorscale\":[[0.0,\"#0d0887\"],[0.1111111111111111,\"#46039f\"],[0.2222222222222222,\"#7201a8\"],[0.3333333333333333,\"#9c179e\"],[0.4444444444444444,\"#bd3786\"],[0.5555555555555556,\"#d8576b\"],[0.6666666666666666,\"#ed7953\"],[0.7777777777777778,\"#fb9f3a\"],[0.8888888888888888,\"#fdca26\"],[1.0,\"#f0f921\"]]}],\"heatmapgl\":[{\"type\":\"heatmapgl\",\"colorbar\":{\"outlinewidth\":0,\"ticks\":\"\"},\"colorscale\":[[0.0,\"#0d0887\"],[0.1111111111111111,\"#46039f\"],[0.2222222222222222,\"#7201a8\"],[0.3333333333333333,\"#9c179e\"],[0.4444444444444444,\"#bd3786\"],[0.5555555555555556,\"#d8576b\"],[0.6666666666666666,\"#ed7953\"],[0.7777777777777778,\"#fb9f3a\"],[0.8888888888888888,\"#fdca26\"],[1.0,\"#f0f921\"]]}],\"contourcarpet\":[{\"type\":\"contourcarpet\",\"colorbar\":{\"outlinewidth\":0,\"ticks\":\"\"}}],\"contour\":[{\"type\":\"contour\",\"colorbar\":{\"outlinewidth\":0,\"ticks\":\"\"},\"colorscale\":[[0.0,\"#0d0887\"],[0.1111111111111111,\"#46039f\"],[0.2222222222222222,\"#7201a8\"],[0.3333333333333333,\"#9c179e\"],[0.4444444444444444,\"#bd3786\"],[0.5555555555555556,\"#d8576b\"],[0.6666666666666666,\"#ed7953\"],[0.7777777777777778,\"#fb9f3a\"],[0.8888888888888888,\"#fdca26\"],[1.0,\"#f0f921\"]]}],\"surface\":[{\"type\":\"surface\",\"colorbar\":{\"outlinewidth\":0,\"ticks\":\"\"},\"colorscale\":[[0.0,\"#0d0887\"],[0.1111111111111111,\"#46039f\"],[0.2222222222222222,\"#7201a8\"],[0.3333333333333333,\"#9c179e\"],[0.4444444444444444,\"#bd3786\"],[0.5555555555555556,\"#d8576b\"],[0.6666666666666666,\"#ed7953\"],[0.7777777777777778,\"#fb9f3a\"],[0.8888888888888888,\"#fdca26\"],[1.0,\"#f0f921\"]]}],\"mesh3d\":[{\"type\":\"mesh3d\",\"colorbar\":{\"outlinewidth\":0,\"ticks\":\"\"}}],\"scatter\":[{\"fillpattern\":{\"fillmode\":\"overlay\",\"size\":10,\"solidity\":0.2},\"type\":\"scatter\"}],\"parcoords\":[{\"type\":\"parcoords\",\"line\":{\"colorbar\":{\"outlinewidth\":0,\"ticks\":\"\"}}}],\"scatterpolargl\":[{\"type\":\"scatterpolargl\",\"marker\":{\"colorbar\":{\"outlinewidth\":0,\"ticks\":\"\"}}}],\"bar\":[{\"error_x\":{\"color\":\"#2a3f5f\"},\"error_y\":{\"color\":\"#2a3f5f\"},\"marker\":{\"line\":{\"color\":\"#E5ECF6\",\"width\":0.5},\"pattern\":{\"fillmode\":\"overlay\",\"size\":10,\"solidity\":0.2}},\"type\":\"bar\"}],\"scattergeo\":[{\"type\":\"scattergeo\",\"marker\":{\"colorbar\":{\"outlinewidth\":0,\"ticks\":\"\"}}}],\"scatterpolar\":[{\"type\":\"scatterpolar\",\"marker\":{\"colorbar\":{\"outlinewidth\":0,\"ticks\":\"\"}}}],\"histogram\":[{\"marker\":{\"pattern\":{\"fillmode\":\"overlay\",\"size\":10,\"solidity\":0.2}},\"type\":\"histogram\"}],\"scattergl\":[{\"type\":\"scattergl\",\"marker\":{\"colorbar\":{\"outlinewidth\":0,\"ticks\":\"\"}}}],\"scatter3d\":[{\"type\":\"scatter3d\",\"line\":{\"colorbar\":{\"outlinewidth\":0,\"ticks\":\"\"}},\"marker\":{\"colorbar\":{\"outlinewidth\":0,\"ticks\":\"\"}}}],\"scattermapbox\":[{\"type\":\"scattermapbox\",\"marker\":{\"colorbar\":{\"outlinewidth\":0,\"ticks\":\"\"}}}],\"scatterternary\":[{\"type\":\"scatterternary\",\"marker\":{\"colorbar\":{\"outlinewidth\":0,\"ticks\":\"\"}}}],\"scattercarpet\":[{\"type\":\"scattercarpet\",\"marker\":{\"colorbar\":{\"outlinewidth\":0,\"ticks\":\"\"}}}],\"carpet\":[{\"aaxis\":{\"endlinecolor\":\"#2a3f5f\",\"gridcolor\":\"white\",\"linecolor\":\"white\",\"minorgridcolor\":\"white\",\"startlinecolor\":\"#2a3f5f\"},\"baxis\":{\"endlinecolor\":\"#2a3f5f\",\"gridcolor\":\"white\",\"linecolor\":\"white\",\"minorgridcolor\":\"white\",\"startlinecolor\":\"#2a3f5f\"},\"type\":\"carpet\"}],\"table\":[{\"cells\":{\"fill\":{\"color\":\"#EBF0F8\"},\"line\":{\"color\":\"white\"}},\"header\":{\"fill\":{\"color\":\"#C8D4E3\"},\"line\":{\"color\":\"white\"}},\"type\":\"table\"}],\"barpolar\":[{\"marker\":{\"line\":{\"color\":\"#E5ECF6\",\"width\":0.5},\"pattern\":{\"fillmode\":\"overlay\",\"size\":10,\"solidity\":0.2}},\"type\":\"barpolar\"}],\"pie\":[{\"automargin\":true,\"type\":\"pie\"}]},\"layout\":{\"autotypenumbers\":\"strict\",\"colorway\":[\"#636efa\",\"#EF553B\",\"#00cc96\",\"#ab63fa\",\"#FFA15A\",\"#19d3f3\",\"#FF6692\",\"#B6E880\",\"#FF97FF\",\"#FECB52\"],\"font\":{\"color\":\"#2a3f5f\"},\"hovermode\":\"closest\",\"hoverlabel\":{\"align\":\"left\"},\"paper_bgcolor\":\"white\",\"plot_bgcolor\":\"#E5ECF6\",\"polar\":{\"bgcolor\":\"#E5ECF6\",\"angularaxis\":{\"gridcolor\":\"white\",\"linecolor\":\"white\",\"ticks\":\"\"},\"radialaxis\":{\"gridcolor\":\"white\",\"linecolor\":\"white\",\"ticks\":\"\"}},\"ternary\":{\"bgcolor\":\"#E5ECF6\",\"aaxis\":{\"gridcolor\":\"white\",\"linecolor\":\"white\",\"ticks\":\"\"},\"baxis\":{\"gridcolor\":\"white\",\"linecolor\":\"white\",\"ticks\":\"\"},\"caxis\":{\"gridcolor\":\"white\",\"linecolor\":\"white\",\"ticks\":\"\"}},\"coloraxis\":{\"colorbar\":{\"outlinewidth\":0,\"ticks\":\"\"}},\"colorscale\":{\"sequential\":[[0.0,\"#0d0887\"],[0.1111111111111111,\"#46039f\"],[0.2222222222222222,\"#7201a8\"],[0.3333333333333333,\"#9c179e\"],[0.4444444444444444,\"#bd3786\"],[0.5555555555555556,\"#d8576b\"],[0.6666666666666666,\"#ed7953\"],[0.7777777777777778,\"#fb9f3a\"],[0.8888888888888888,\"#fdca26\"],[1.0,\"#f0f921\"]],\"sequentialminus\":[[0.0,\"#0d0887\"],[0.1111111111111111,\"#46039f\"],[0.2222222222222222,\"#7201a8\"],[0.3333333333333333,\"#9c179e\"],[0.4444444444444444,\"#bd3786\"],[0.5555555555555556,\"#d8576b\"],[0.6666666666666666,\"#ed7953\"],[0.7777777777777778,\"#fb9f3a\"],[0.8888888888888888,\"#fdca26\"],[1.0,\"#f0f921\"]],\"diverging\":[[0,\"#8e0152\"],[0.1,\"#c51b7d\"],[0.2,\"#de77ae\"],[0.3,\"#f1b6da\"],[0.4,\"#fde0ef\"],[0.5,\"#f7f7f7\"],[0.6,\"#e6f5d0\"],[0.7,\"#b8e186\"],[0.8,\"#7fbc41\"],[0.9,\"#4d9221\"],[1,\"#276419\"]]},\"xaxis\":{\"gridcolor\":\"white\",\"linecolor\":\"white\",\"ticks\":\"\",\"title\":{\"standoff\":15},\"zerolinecolor\":\"white\",\"automargin\":true,\"zerolinewidth\":2},\"yaxis\":{\"gridcolor\":\"white\",\"linecolor\":\"white\",\"ticks\":\"\",\"title\":{\"standoff\":15},\"zerolinecolor\":\"white\",\"automargin\":true,\"zerolinewidth\":2},\"scene\":{\"xaxis\":{\"backgroundcolor\":\"#E5ECF6\",\"gridcolor\":\"white\",\"linecolor\":\"white\",\"showbackground\":true,\"ticks\":\"\",\"zerolinecolor\":\"white\",\"gridwidth\":2},\"yaxis\":{\"backgroundcolor\":\"#E5ECF6\",\"gridcolor\":\"white\",\"linecolor\":\"white\",\"showbackground\":true,\"ticks\":\"\",\"zerolinecolor\":\"white\",\"gridwidth\":2},\"zaxis\":{\"backgroundcolor\":\"#E5ECF6\",\"gridcolor\":\"white\",\"linecolor\":\"white\",\"showbackground\":true,\"ticks\":\"\",\"zerolinecolor\":\"white\",\"gridwidth\":2}},\"shapedefaults\":{\"line\":{\"color\":\"#2a3f5f\"}},\"annotationdefaults\":{\"arrowcolor\":\"#2a3f5f\",\"arrowhead\":0,\"arrowwidth\":1},\"geo\":{\"bgcolor\":\"white\",\"landcolor\":\"#E5ECF6\",\"subunitcolor\":\"white\",\"showland\":true,\"showlakes\":true,\"lakecolor\":\"white\"},\"title\":{\"x\":0.05},\"mapbox\":{\"style\":\"light\"}}}},                        {\"responsive\": true}                    ).then(function(){\n",
              "                            \n",
              "var gd = document.getElementById('58592ecd-2db7-4126-a12d-64def8400ef8');\n",
              "var x = new MutationObserver(function (mutations, observer) {{\n",
              "        var display = window.getComputedStyle(gd).display;\n",
              "        if (!display || display === 'none') {{\n",
              "            console.log([gd, 'removed!']);\n",
              "            Plotly.purge(gd);\n",
              "            observer.disconnect();\n",
              "        }}\n",
              "}});\n",
              "\n",
              "// Listen for the removal of the full notebook cells\n",
              "var notebookContainer = gd.closest('#notebook-container');\n",
              "if (notebookContainer) {{\n",
              "    x.observe(notebookContainer, {childList: true});\n",
              "}}\n",
              "\n",
              "// Listen for the clearing of the current output cell\n",
              "var outputEl = gd.closest('.output');\n",
              "if (outputEl) {{\n",
              "    x.observe(outputEl, {childList: true});\n",
              "}}\n",
              "\n",
              "                        })                };                            </script>        </div>\n",
              "</body>\n",
              "</html>"
            ]
          },
          "metadata": {},
          "output_type": "display_data"
        },
        {
          "data": {
            "text/html": [
              "<html>\n",
              "<head><meta charset=\"utf-8\" /></head>\n",
              "<body>\n",
              "    <div>            <script src=\"https://cdnjs.cloudflare.com/ajax/libs/mathjax/2.7.5/MathJax.js?config=TeX-AMS-MML_SVG\"></script><script type=\"text/javascript\">if (window.MathJax && window.MathJax.Hub && window.MathJax.Hub.Config) {window.MathJax.Hub.Config({SVG: {font: \"STIX-Web\"}});}</script>                <script type=\"text/javascript\">window.PlotlyConfig = {MathJaxConfig: 'local'};</script>\n",
              "        <script charset=\"utf-8\" src=\"https://cdn.plot.ly/plotly-2.24.1.min.js\"></script>                <div id=\"b27b808c-e683-41ea-98e7-55d2f089abaf\" class=\"plotly-graph-div\" style=\"height:525px; width:100%;\"></div>            <script type=\"text/javascript\">                                    window.PLOTLYENV=window.PLOTLYENV || {};                                    if (document.getElementById(\"b27b808c-e683-41ea-98e7-55d2f089abaf\")) {                    Plotly.newPlot(                        \"b27b808c-e683-41ea-98e7-55d2f089abaf\",                        [{\"dimensions\":[{\"label\":\"MAE\",\"range\":[59.43302301810638,112.95043321112055],\"values\":[73.47410375895937,73.66797406657264,64.0505171824274,72.09088218744725,67.76274458656238,89.49480772558994,68.60163588588553,61.990853322811795,112.95043321112055,78.2807407474037,64.5486236170156,59.73857783236978,63.55516013424299,61.045547445352206,66.57234788605578,68.5195543829409,63.905955971915816,60.4031481839151,59.44969825928589,61.11479934578464,69.67307618087948,61.122104935091215,63.77035867416169,59.43302301810638,65.42239854459777,62.63500330035936,64.0692033043933,59.9071496406061,61.22799344642489,62.349341797035535]},{\"label\":\"depth\",\"range\":[1,15],\"values\":[7,9,6,3,12,15,10,6,1,15,4,6,5,8,10,2,8,12,12,13,11,13,13,11,10,9,14,11,7,7]},{\"label\":\"iterations\",\"range\":[2000,10000],\"values\":[8500,10000,5000,3500,3500,9000,8000,9000,7500,7000,5500,5500,2000,6500,6500,4500,6000,4000,4000,2500,3000,4000,5000,4500,5500,4500,3000,5500,4000,5000]},{\"label\":\"learning_rate\",\"range\":[0.011911241250060798,0.454131673880689],\"values\":[0.3926234976584529,0.4386559442646001,0.22997621133602522,0.4069048034632573,0.21001287434186627,0.454131673880689,0.18661065197534318,0.07916259075551343,0.3026571581507541,0.3220499496310762,0.021135289517093404,0.07977939306360646,0.06319787765779133,0.11966579352240175,0.13735205539930753,0.13464819372780823,0.1289702505104135,0.012004087887458562,0.017687582466737024,0.051866066289762085,0.28886795274530475,0.011911241250060798,0.08327625024417251,0.01240813245424538,0.0937239681252326,0.1745004366450922,0.048039062058998966,0.03833027925133849,0.10399440081283601,0.15163442827611612]},{\"label\":\"min_data_in_leaf\",\"range\":[12,995],\"values\":[739,621,581,525,821,528,630,378,92,855,255,323,323,354,133,384,216,42,82,995,182,12,13,119,275,144,429,102,222,449]},{\"label\":\"random_strength\",\"range\":[10.276608968204712,48.318542086439415],\"values\":[37.06472597365693,20.740944047136537,10.952091998710207,42.24224893728219,20.97604559164269,40.09695155513282,30.733233205448055,41.91322407442543,12.08991645486314,38.37543526706327,48.318542086439415,11.144167524078691,26.54510113958196,31.324571493058468,29.251049041356723,18.234950026057803,34.389562872422914,15.86270654893279,15.265330867867803,24.157555681865986,14.827440423000224,15.710390432698784,10.276608968204712,15.676074935669043,19.793228889881227,13.42763107479334,23.834712742131416,17.66764539109711,23.173238283617874,13.682939040686266]},{\"label\":\"reg_lambda\",\"range\":[0.28658476729598803,4.960963081034952],\"values\":[0.30851441817550884,1.4491060338116233,1.0207816936955776,1.5697320778319732,0.28658476729598803,1.7135599716758418,1.0811726395599575,2.535537106918675,0.34801306782743446,2.4933737101025986,4.557349923459096,3.789146585391106,4.040512714988683,3.3157740971223735,3.5195165499859535,3.3830765244230117,4.796055298641939,3.199654667880767,3.957408455534595,4.098542893497569,4.080363486851681,2.904869073402152,2.9419598206462103,3.7806933338325157,3.747554784225927,4.561998088773788,2.146942986565013,3.8199345450772335,4.960963081034952,4.464793055161508]},{\"label\":\"subsample\",\"range\":[0.5090314146285522,0.9985284610160995],\"values\":[0.9031576424454716,0.9316126983301964,0.6489554725212932,0.5879756242641122,0.6068252342073455,0.635719438755656,0.5427163154097354,0.5672605141954822,0.7767418710453766,0.9667944772215376,0.7397080755150448,0.6984707561056236,0.7313346985644207,0.5142981015962409,0.5090314146285522,0.8591623333928982,0.6872209642223652,0.7972268959171683,0.8086617969373396,0.8293632592393283,0.6895494952569501,0.7998280489385083,0.8661480766671421,0.7877393817115238,0.6995024276707653,0.7583944892840256,0.8442936904360271,0.71846302494742,0.9985284610160995,0.897532434820098]}],\"labelangle\":30,\"labelside\":\"bottom\",\"line\":{\"color\":[73.47410375895937,73.66797406657264,64.0505171824274,72.09088218744725,67.76274458656238,89.49480772558994,68.60163588588553,61.990853322811795,112.95043321112055,78.2807407474037,64.5486236170156,59.73857783236978,63.55516013424299,61.045547445352206,66.57234788605578,68.5195543829409,63.905955971915816,60.4031481839151,59.44969825928589,61.11479934578464,69.67307618087948,61.122104935091215,63.77035867416169,59.43302301810638,65.42239854459777,62.63500330035936,64.0692033043933,59.9071496406061,61.22799344642489,62.349341797035535],\"colorbar\":{\"title\":{\"text\":\"MAE\"}},\"colorscale\":[[0.0,\"rgb(247,251,255)\"],[0.125,\"rgb(222,235,247)\"],[0.25,\"rgb(198,219,239)\"],[0.375,\"rgb(158,202,225)\"],[0.5,\"rgb(107,174,214)\"],[0.625,\"rgb(66,146,198)\"],[0.75,\"rgb(33,113,181)\"],[0.875,\"rgb(8,81,156)\"],[1.0,\"rgb(8,48,107)\"]],\"reversescale\":true,\"showscale\":true},\"type\":\"parcoords\"}],                        {\"title\":{\"text\":\"Parallel Coordinate Plot\"},\"template\":{\"data\":{\"histogram2dcontour\":[{\"type\":\"histogram2dcontour\",\"colorbar\":{\"outlinewidth\":0,\"ticks\":\"\"},\"colorscale\":[[0.0,\"#0d0887\"],[0.1111111111111111,\"#46039f\"],[0.2222222222222222,\"#7201a8\"],[0.3333333333333333,\"#9c179e\"],[0.4444444444444444,\"#bd3786\"],[0.5555555555555556,\"#d8576b\"],[0.6666666666666666,\"#ed7953\"],[0.7777777777777778,\"#fb9f3a\"],[0.8888888888888888,\"#fdca26\"],[1.0,\"#f0f921\"]]}],\"choropleth\":[{\"type\":\"choropleth\",\"colorbar\":{\"outlinewidth\":0,\"ticks\":\"\"}}],\"histogram2d\":[{\"type\":\"histogram2d\",\"colorbar\":{\"outlinewidth\":0,\"ticks\":\"\"},\"colorscale\":[[0.0,\"#0d0887\"],[0.1111111111111111,\"#46039f\"],[0.2222222222222222,\"#7201a8\"],[0.3333333333333333,\"#9c179e\"],[0.4444444444444444,\"#bd3786\"],[0.5555555555555556,\"#d8576b\"],[0.6666666666666666,\"#ed7953\"],[0.7777777777777778,\"#fb9f3a\"],[0.8888888888888888,\"#fdca26\"],[1.0,\"#f0f921\"]]}],\"heatmap\":[{\"type\":\"heatmap\",\"colorbar\":{\"outlinewidth\":0,\"ticks\":\"\"},\"colorscale\":[[0.0,\"#0d0887\"],[0.1111111111111111,\"#46039f\"],[0.2222222222222222,\"#7201a8\"],[0.3333333333333333,\"#9c179e\"],[0.4444444444444444,\"#bd3786\"],[0.5555555555555556,\"#d8576b\"],[0.6666666666666666,\"#ed7953\"],[0.7777777777777778,\"#fb9f3a\"],[0.8888888888888888,\"#fdca26\"],[1.0,\"#f0f921\"]]}],\"heatmapgl\":[{\"type\":\"heatmapgl\",\"colorbar\":{\"outlinewidth\":0,\"ticks\":\"\"},\"colorscale\":[[0.0,\"#0d0887\"],[0.1111111111111111,\"#46039f\"],[0.2222222222222222,\"#7201a8\"],[0.3333333333333333,\"#9c179e\"],[0.4444444444444444,\"#bd3786\"],[0.5555555555555556,\"#d8576b\"],[0.6666666666666666,\"#ed7953\"],[0.7777777777777778,\"#fb9f3a\"],[0.8888888888888888,\"#fdca26\"],[1.0,\"#f0f921\"]]}],\"contourcarpet\":[{\"type\":\"contourcarpet\",\"colorbar\":{\"outlinewidth\":0,\"ticks\":\"\"}}],\"contour\":[{\"type\":\"contour\",\"colorbar\":{\"outlinewidth\":0,\"ticks\":\"\"},\"colorscale\":[[0.0,\"#0d0887\"],[0.1111111111111111,\"#46039f\"],[0.2222222222222222,\"#7201a8\"],[0.3333333333333333,\"#9c179e\"],[0.4444444444444444,\"#bd3786\"],[0.5555555555555556,\"#d8576b\"],[0.6666666666666666,\"#ed7953\"],[0.7777777777777778,\"#fb9f3a\"],[0.8888888888888888,\"#fdca26\"],[1.0,\"#f0f921\"]]}],\"surface\":[{\"type\":\"surface\",\"colorbar\":{\"outlinewidth\":0,\"ticks\":\"\"},\"colorscale\":[[0.0,\"#0d0887\"],[0.1111111111111111,\"#46039f\"],[0.2222222222222222,\"#7201a8\"],[0.3333333333333333,\"#9c179e\"],[0.4444444444444444,\"#bd3786\"],[0.5555555555555556,\"#d8576b\"],[0.6666666666666666,\"#ed7953\"],[0.7777777777777778,\"#fb9f3a\"],[0.8888888888888888,\"#fdca26\"],[1.0,\"#f0f921\"]]}],\"mesh3d\":[{\"type\":\"mesh3d\",\"colorbar\":{\"outlinewidth\":0,\"ticks\":\"\"}}],\"scatter\":[{\"fillpattern\":{\"fillmode\":\"overlay\",\"size\":10,\"solidity\":0.2},\"type\":\"scatter\"}],\"parcoords\":[{\"type\":\"parcoords\",\"line\":{\"colorbar\":{\"outlinewidth\":0,\"ticks\":\"\"}}}],\"scatterpolargl\":[{\"type\":\"scatterpolargl\",\"marker\":{\"colorbar\":{\"outlinewidth\":0,\"ticks\":\"\"}}}],\"bar\":[{\"error_x\":{\"color\":\"#2a3f5f\"},\"error_y\":{\"color\":\"#2a3f5f\"},\"marker\":{\"line\":{\"color\":\"#E5ECF6\",\"width\":0.5},\"pattern\":{\"fillmode\":\"overlay\",\"size\":10,\"solidity\":0.2}},\"type\":\"bar\"}],\"scattergeo\":[{\"type\":\"scattergeo\",\"marker\":{\"colorbar\":{\"outlinewidth\":0,\"ticks\":\"\"}}}],\"scatterpolar\":[{\"type\":\"scatterpolar\",\"marker\":{\"colorbar\":{\"outlinewidth\":0,\"ticks\":\"\"}}}],\"histogram\":[{\"marker\":{\"pattern\":{\"fillmode\":\"overlay\",\"size\":10,\"solidity\":0.2}},\"type\":\"histogram\"}],\"scattergl\":[{\"type\":\"scattergl\",\"marker\":{\"colorbar\":{\"outlinewidth\":0,\"ticks\":\"\"}}}],\"scatter3d\":[{\"type\":\"scatter3d\",\"line\":{\"colorbar\":{\"outlinewidth\":0,\"ticks\":\"\"}},\"marker\":{\"colorbar\":{\"outlinewidth\":0,\"ticks\":\"\"}}}],\"scattermapbox\":[{\"type\":\"scattermapbox\",\"marker\":{\"colorbar\":{\"outlinewidth\":0,\"ticks\":\"\"}}}],\"scatterternary\":[{\"type\":\"scatterternary\",\"marker\":{\"colorbar\":{\"outlinewidth\":0,\"ticks\":\"\"}}}],\"scattercarpet\":[{\"type\":\"scattercarpet\",\"marker\":{\"colorbar\":{\"outlinewidth\":0,\"ticks\":\"\"}}}],\"carpet\":[{\"aaxis\":{\"endlinecolor\":\"#2a3f5f\",\"gridcolor\":\"white\",\"linecolor\":\"white\",\"minorgridcolor\":\"white\",\"startlinecolor\":\"#2a3f5f\"},\"baxis\":{\"endlinecolor\":\"#2a3f5f\",\"gridcolor\":\"white\",\"linecolor\":\"white\",\"minorgridcolor\":\"white\",\"startlinecolor\":\"#2a3f5f\"},\"type\":\"carpet\"}],\"table\":[{\"cells\":{\"fill\":{\"color\":\"#EBF0F8\"},\"line\":{\"color\":\"white\"}},\"header\":{\"fill\":{\"color\":\"#C8D4E3\"},\"line\":{\"color\":\"white\"}},\"type\":\"table\"}],\"barpolar\":[{\"marker\":{\"line\":{\"color\":\"#E5ECF6\",\"width\":0.5},\"pattern\":{\"fillmode\":\"overlay\",\"size\":10,\"solidity\":0.2}},\"type\":\"barpolar\"}],\"pie\":[{\"automargin\":true,\"type\":\"pie\"}]},\"layout\":{\"autotypenumbers\":\"strict\",\"colorway\":[\"#636efa\",\"#EF553B\",\"#00cc96\",\"#ab63fa\",\"#FFA15A\",\"#19d3f3\",\"#FF6692\",\"#B6E880\",\"#FF97FF\",\"#FECB52\"],\"font\":{\"color\":\"#2a3f5f\"},\"hovermode\":\"closest\",\"hoverlabel\":{\"align\":\"left\"},\"paper_bgcolor\":\"white\",\"plot_bgcolor\":\"#E5ECF6\",\"polar\":{\"bgcolor\":\"#E5ECF6\",\"angularaxis\":{\"gridcolor\":\"white\",\"linecolor\":\"white\",\"ticks\":\"\"},\"radialaxis\":{\"gridcolor\":\"white\",\"linecolor\":\"white\",\"ticks\":\"\"}},\"ternary\":{\"bgcolor\":\"#E5ECF6\",\"aaxis\":{\"gridcolor\":\"white\",\"linecolor\":\"white\",\"ticks\":\"\"},\"baxis\":{\"gridcolor\":\"white\",\"linecolor\":\"white\",\"ticks\":\"\"},\"caxis\":{\"gridcolor\":\"white\",\"linecolor\":\"white\",\"ticks\":\"\"}},\"coloraxis\":{\"colorbar\":{\"outlinewidth\":0,\"ticks\":\"\"}},\"colorscale\":{\"sequential\":[[0.0,\"#0d0887\"],[0.1111111111111111,\"#46039f\"],[0.2222222222222222,\"#7201a8\"],[0.3333333333333333,\"#9c179e\"],[0.4444444444444444,\"#bd3786\"],[0.5555555555555556,\"#d8576b\"],[0.6666666666666666,\"#ed7953\"],[0.7777777777777778,\"#fb9f3a\"],[0.8888888888888888,\"#fdca26\"],[1.0,\"#f0f921\"]],\"sequentialminus\":[[0.0,\"#0d0887\"],[0.1111111111111111,\"#46039f\"],[0.2222222222222222,\"#7201a8\"],[0.3333333333333333,\"#9c179e\"],[0.4444444444444444,\"#bd3786\"],[0.5555555555555556,\"#d8576b\"],[0.6666666666666666,\"#ed7953\"],[0.7777777777777778,\"#fb9f3a\"],[0.8888888888888888,\"#fdca26\"],[1.0,\"#f0f921\"]],\"diverging\":[[0,\"#8e0152\"],[0.1,\"#c51b7d\"],[0.2,\"#de77ae\"],[0.3,\"#f1b6da\"],[0.4,\"#fde0ef\"],[0.5,\"#f7f7f7\"],[0.6,\"#e6f5d0\"],[0.7,\"#b8e186\"],[0.8,\"#7fbc41\"],[0.9,\"#4d9221\"],[1,\"#276419\"]]},\"xaxis\":{\"gridcolor\":\"white\",\"linecolor\":\"white\",\"ticks\":\"\",\"title\":{\"standoff\":15},\"zerolinecolor\":\"white\",\"automargin\":true,\"zerolinewidth\":2},\"yaxis\":{\"gridcolor\":\"white\",\"linecolor\":\"white\",\"ticks\":\"\",\"title\":{\"standoff\":15},\"zerolinecolor\":\"white\",\"automargin\":true,\"zerolinewidth\":2},\"scene\":{\"xaxis\":{\"backgroundcolor\":\"#E5ECF6\",\"gridcolor\":\"white\",\"linecolor\":\"white\",\"showbackground\":true,\"ticks\":\"\",\"zerolinecolor\":\"white\",\"gridwidth\":2},\"yaxis\":{\"backgroundcolor\":\"#E5ECF6\",\"gridcolor\":\"white\",\"linecolor\":\"white\",\"showbackground\":true,\"ticks\":\"\",\"zerolinecolor\":\"white\",\"gridwidth\":2},\"zaxis\":{\"backgroundcolor\":\"#E5ECF6\",\"gridcolor\":\"white\",\"linecolor\":\"white\",\"showbackground\":true,\"ticks\":\"\",\"zerolinecolor\":\"white\",\"gridwidth\":2}},\"shapedefaults\":{\"line\":{\"color\":\"#2a3f5f\"}},\"annotationdefaults\":{\"arrowcolor\":\"#2a3f5f\",\"arrowhead\":0,\"arrowwidth\":1},\"geo\":{\"bgcolor\":\"white\",\"landcolor\":\"#E5ECF6\",\"subunitcolor\":\"white\",\"showland\":true,\"showlakes\":true,\"lakecolor\":\"white\"},\"title\":{\"x\":0.05},\"mapbox\":{\"style\":\"light\"}}}},                        {\"responsive\": true}                    ).then(function(){\n",
              "                            \n",
              "var gd = document.getElementById('b27b808c-e683-41ea-98e7-55d2f089abaf');\n",
              "var x = new MutationObserver(function (mutations, observer) {{\n",
              "        var display = window.getComputedStyle(gd).display;\n",
              "        if (!display || display === 'none') {{\n",
              "            console.log([gd, 'removed!']);\n",
              "            Plotly.purge(gd);\n",
              "            observer.disconnect();\n",
              "        }}\n",
              "}});\n",
              "\n",
              "// Listen for the removal of the full notebook cells\n",
              "var notebookContainer = gd.closest('#notebook-container');\n",
              "if (notebookContainer) {{\n",
              "    x.observe(notebookContainer, {childList: true});\n",
              "}}\n",
              "\n",
              "// Listen for the clearing of the current output cell\n",
              "var outputEl = gd.closest('.output');\n",
              "if (outputEl) {{\n",
              "    x.observe(outputEl, {childList: true});\n",
              "}}\n",
              "\n",
              "                        })                };                            </script>        </div>\n",
              "</body>\n",
              "</html>"
            ]
          },
          "metadata": {},
          "output_type": "display_data"
        },
        {
          "data": {
            "text/html": [
              "<html>\n",
              "<head><meta charset=\"utf-8\" /></head>\n",
              "<body>\n",
              "    <div>            <script src=\"https://cdnjs.cloudflare.com/ajax/libs/mathjax/2.7.5/MathJax.js?config=TeX-AMS-MML_SVG\"></script><script type=\"text/javascript\">if (window.MathJax && window.MathJax.Hub && window.MathJax.Hub.Config) {window.MathJax.Hub.Config({SVG: {font: \"STIX-Web\"}});}</script>                <script type=\"text/javascript\">window.PlotlyConfig = {MathJaxConfig: 'local'};</script>\n",
              "        <script charset=\"utf-8\" src=\"https://cdn.plot.ly/plotly-2.24.1.min.js\"></script>                <div id=\"512c3a7b-69b4-4fa9-ae43-4e125dded6bd\" class=\"plotly-graph-div\" style=\"height:525px; width:2100px;\"></div>            <script type=\"text/javascript\">                                    window.PLOTLYENV=window.PLOTLYENV || {};                                    if (document.getElementById(\"512c3a7b-69b4-4fa9-ae43-4e125dded6bd\")) {                    Plotly.newPlot(                        \"512c3a7b-69b4-4fa9-ae43-4e125dded6bd\",                        [{\"marker\":{\"color\":[0,1,2,3,4,5,6,7,8,9,10,11,12,13,14,15,16,17,18,19,20,21,22,23,24,25,26,27,28,29],\"colorbar\":{\"title\":{\"text\":\"Trial\"},\"x\":1.0,\"xpad\":40},\"colorscale\":[[0.0,\"rgb(247,251,255)\"],[0.125,\"rgb(222,235,247)\"],[0.25,\"rgb(198,219,239)\"],[0.375,\"rgb(158,202,225)\"],[0.5,\"rgb(107,174,214)\"],[0.625,\"rgb(66,146,198)\"],[0.75,\"rgb(33,113,181)\"],[0.875,\"rgb(8,81,156)\"],[1.0,\"rgb(8,48,107)\"]],\"line\":{\"color\":\"Grey\",\"width\":0.5},\"showscale\":true},\"mode\":\"markers\",\"name\":\"Feasible Trial\",\"showlegend\":false,\"x\":[7,9,6,3,12,15,10,6,1,15,4,6,5,8,10,2,8,12,12,13,11,13,13,11,10,9,14,11,7,7],\"y\":[73.47410375895937,73.66797406657264,64.0505171824274,72.09088218744725,67.76274458656238,89.49480772558994,68.60163588588553,61.990853322811795,112.95043321112055,78.2807407474037,64.5486236170156,59.73857783236978,63.55516013424299,61.045547445352206,66.57234788605578,68.5195543829409,63.905955971915816,60.4031481839151,59.44969825928589,61.11479934578464,69.67307618087948,61.122104935091215,63.77035867416169,59.43302301810638,65.42239854459777,62.63500330035936,64.0692033043933,59.9071496406061,61.22799344642489,62.349341797035535],\"type\":\"scatter\",\"xaxis\":\"x\",\"yaxis\":\"y\"},{\"marker\":{\"color\":[0,1,2,3,4,5,6,7,8,9,10,11,12,13,14,15,16,17,18,19,20,21,22,23,24,25,26,27,28,29],\"colorbar\":{\"title\":{\"text\":\"Trial\"},\"x\":1.0,\"xpad\":40},\"colorscale\":[[0.0,\"rgb(247,251,255)\"],[0.125,\"rgb(222,235,247)\"],[0.25,\"rgb(198,219,239)\"],[0.375,\"rgb(158,202,225)\"],[0.5,\"rgb(107,174,214)\"],[0.625,\"rgb(66,146,198)\"],[0.75,\"rgb(33,113,181)\"],[0.875,\"rgb(8,81,156)\"],[1.0,\"rgb(8,48,107)\"]],\"line\":{\"color\":\"Grey\",\"width\":0.5},\"showscale\":false},\"mode\":\"markers\",\"name\":\"Feasible Trial\",\"showlegend\":false,\"x\":[8500,10000,5000,3500,3500,9000,8000,9000,7500,7000,5500,5500,2000,6500,6500,4500,6000,4000,4000,2500,3000,4000,5000,4500,5500,4500,3000,5500,4000,5000],\"y\":[73.47410375895937,73.66797406657264,64.0505171824274,72.09088218744725,67.76274458656238,89.49480772558994,68.60163588588553,61.990853322811795,112.95043321112055,78.2807407474037,64.5486236170156,59.73857783236978,63.55516013424299,61.045547445352206,66.57234788605578,68.5195543829409,63.905955971915816,60.4031481839151,59.44969825928589,61.11479934578464,69.67307618087948,61.122104935091215,63.77035867416169,59.43302301810638,65.42239854459777,62.63500330035936,64.0692033043933,59.9071496406061,61.22799344642489,62.349341797035535],\"type\":\"scatter\",\"xaxis\":\"x2\",\"yaxis\":\"y2\"},{\"marker\":{\"color\":[0,1,2,3,4,5,6,7,8,9,10,11,12,13,14,15,16,17,18,19,20,21,22,23,24,25,26,27,28,29],\"colorbar\":{\"title\":{\"text\":\"Trial\"},\"x\":1.0,\"xpad\":40},\"colorscale\":[[0.0,\"rgb(247,251,255)\"],[0.125,\"rgb(222,235,247)\"],[0.25,\"rgb(198,219,239)\"],[0.375,\"rgb(158,202,225)\"],[0.5,\"rgb(107,174,214)\"],[0.625,\"rgb(66,146,198)\"],[0.75,\"rgb(33,113,181)\"],[0.875,\"rgb(8,81,156)\"],[1.0,\"rgb(8,48,107)\"]],\"line\":{\"color\":\"Grey\",\"width\":0.5},\"showscale\":false},\"mode\":\"markers\",\"name\":\"Feasible Trial\",\"showlegend\":false,\"x\":[0.3926234976584529,0.4386559442646001,0.22997621133602522,0.4069048034632573,0.21001287434186627,0.454131673880689,0.18661065197534318,0.07916259075551343,0.3026571581507541,0.3220499496310762,0.021135289517093404,0.07977939306360646,0.06319787765779133,0.11966579352240175,0.13735205539930753,0.13464819372780823,0.1289702505104135,0.012004087887458562,0.017687582466737024,0.051866066289762085,0.28886795274530475,0.011911241250060798,0.08327625024417251,0.01240813245424538,0.0937239681252326,0.1745004366450922,0.048039062058998966,0.03833027925133849,0.10399440081283601,0.15163442827611612],\"y\":[73.47410375895937,73.66797406657264,64.0505171824274,72.09088218744725,67.76274458656238,89.49480772558994,68.60163588588553,61.990853322811795,112.95043321112055,78.2807407474037,64.5486236170156,59.73857783236978,63.55516013424299,61.045547445352206,66.57234788605578,68.5195543829409,63.905955971915816,60.4031481839151,59.44969825928589,61.11479934578464,69.67307618087948,61.122104935091215,63.77035867416169,59.43302301810638,65.42239854459777,62.63500330035936,64.0692033043933,59.9071496406061,61.22799344642489,62.349341797035535],\"type\":\"scatter\",\"xaxis\":\"x3\",\"yaxis\":\"y3\"},{\"marker\":{\"color\":[0,1,2,3,4,5,6,7,8,9,10,11,12,13,14,15,16,17,18,19,20,21,22,23,24,25,26,27,28,29],\"colorbar\":{\"title\":{\"text\":\"Trial\"},\"x\":1.0,\"xpad\":40},\"colorscale\":[[0.0,\"rgb(247,251,255)\"],[0.125,\"rgb(222,235,247)\"],[0.25,\"rgb(198,219,239)\"],[0.375,\"rgb(158,202,225)\"],[0.5,\"rgb(107,174,214)\"],[0.625,\"rgb(66,146,198)\"],[0.75,\"rgb(33,113,181)\"],[0.875,\"rgb(8,81,156)\"],[1.0,\"rgb(8,48,107)\"]],\"line\":{\"color\":\"Grey\",\"width\":0.5},\"showscale\":false},\"mode\":\"markers\",\"name\":\"Feasible Trial\",\"showlegend\":false,\"x\":[739,621,581,525,821,528,630,378,92,855,255,323,323,354,133,384,216,42,82,995,182,12,13,119,275,144,429,102,222,449],\"y\":[73.47410375895937,73.66797406657264,64.0505171824274,72.09088218744725,67.76274458656238,89.49480772558994,68.60163588588553,61.990853322811795,112.95043321112055,78.2807407474037,64.5486236170156,59.73857783236978,63.55516013424299,61.045547445352206,66.57234788605578,68.5195543829409,63.905955971915816,60.4031481839151,59.44969825928589,61.11479934578464,69.67307618087948,61.122104935091215,63.77035867416169,59.43302301810638,65.42239854459777,62.63500330035936,64.0692033043933,59.9071496406061,61.22799344642489,62.349341797035535],\"type\":\"scatter\",\"xaxis\":\"x4\",\"yaxis\":\"y4\"},{\"marker\":{\"color\":[0,1,2,3,4,5,6,7,8,9,10,11,12,13,14,15,16,17,18,19,20,21,22,23,24,25,26,27,28,29],\"colorbar\":{\"title\":{\"text\":\"Trial\"},\"x\":1.0,\"xpad\":40},\"colorscale\":[[0.0,\"rgb(247,251,255)\"],[0.125,\"rgb(222,235,247)\"],[0.25,\"rgb(198,219,239)\"],[0.375,\"rgb(158,202,225)\"],[0.5,\"rgb(107,174,214)\"],[0.625,\"rgb(66,146,198)\"],[0.75,\"rgb(33,113,181)\"],[0.875,\"rgb(8,81,156)\"],[1.0,\"rgb(8,48,107)\"]],\"line\":{\"color\":\"Grey\",\"width\":0.5},\"showscale\":false},\"mode\":\"markers\",\"name\":\"Feasible Trial\",\"showlegend\":false,\"x\":[37.06472597365693,20.740944047136537,10.952091998710207,42.24224893728219,20.97604559164269,40.09695155513282,30.733233205448055,41.91322407442543,12.08991645486314,38.37543526706327,48.318542086439415,11.144167524078691,26.54510113958196,31.324571493058468,29.251049041356723,18.234950026057803,34.389562872422914,15.86270654893279,15.265330867867803,24.157555681865986,14.827440423000224,15.710390432698784,10.276608968204712,15.676074935669043,19.793228889881227,13.42763107479334,23.834712742131416,17.66764539109711,23.173238283617874,13.682939040686266],\"y\":[73.47410375895937,73.66797406657264,64.0505171824274,72.09088218744725,67.76274458656238,89.49480772558994,68.60163588588553,61.990853322811795,112.95043321112055,78.2807407474037,64.5486236170156,59.73857783236978,63.55516013424299,61.045547445352206,66.57234788605578,68.5195543829409,63.905955971915816,60.4031481839151,59.44969825928589,61.11479934578464,69.67307618087948,61.122104935091215,63.77035867416169,59.43302301810638,65.42239854459777,62.63500330035936,64.0692033043933,59.9071496406061,61.22799344642489,62.349341797035535],\"type\":\"scatter\",\"xaxis\":\"x5\",\"yaxis\":\"y5\"},{\"marker\":{\"color\":[0,1,2,3,4,5,6,7,8,9,10,11,12,13,14,15,16,17,18,19,20,21,22,23,24,25,26,27,28,29],\"colorbar\":{\"title\":{\"text\":\"Trial\"},\"x\":1.0,\"xpad\":40},\"colorscale\":[[0.0,\"rgb(247,251,255)\"],[0.125,\"rgb(222,235,247)\"],[0.25,\"rgb(198,219,239)\"],[0.375,\"rgb(158,202,225)\"],[0.5,\"rgb(107,174,214)\"],[0.625,\"rgb(66,146,198)\"],[0.75,\"rgb(33,113,181)\"],[0.875,\"rgb(8,81,156)\"],[1.0,\"rgb(8,48,107)\"]],\"line\":{\"color\":\"Grey\",\"width\":0.5},\"showscale\":false},\"mode\":\"markers\",\"name\":\"Feasible Trial\",\"showlegend\":false,\"x\":[0.30851441817550884,1.4491060338116233,1.0207816936955776,1.5697320778319732,0.28658476729598803,1.7135599716758418,1.0811726395599575,2.535537106918675,0.34801306782743446,2.4933737101025986,4.557349923459096,3.789146585391106,4.040512714988683,3.3157740971223735,3.5195165499859535,3.3830765244230117,4.796055298641939,3.199654667880767,3.957408455534595,4.098542893497569,4.080363486851681,2.904869073402152,2.9419598206462103,3.7806933338325157,3.747554784225927,4.561998088773788,2.146942986565013,3.8199345450772335,4.960963081034952,4.464793055161508],\"y\":[73.47410375895937,73.66797406657264,64.0505171824274,72.09088218744725,67.76274458656238,89.49480772558994,68.60163588588553,61.990853322811795,112.95043321112055,78.2807407474037,64.5486236170156,59.73857783236978,63.55516013424299,61.045547445352206,66.57234788605578,68.5195543829409,63.905955971915816,60.4031481839151,59.44969825928589,61.11479934578464,69.67307618087948,61.122104935091215,63.77035867416169,59.43302301810638,65.42239854459777,62.63500330035936,64.0692033043933,59.9071496406061,61.22799344642489,62.349341797035535],\"type\":\"scatter\",\"xaxis\":\"x6\",\"yaxis\":\"y6\"},{\"marker\":{\"color\":[0,1,2,3,4,5,6,7,8,9,10,11,12,13,14,15,16,17,18,19,20,21,22,23,24,25,26,27,28,29],\"colorbar\":{\"title\":{\"text\":\"Trial\"},\"x\":1.0,\"xpad\":40},\"colorscale\":[[0.0,\"rgb(247,251,255)\"],[0.125,\"rgb(222,235,247)\"],[0.25,\"rgb(198,219,239)\"],[0.375,\"rgb(158,202,225)\"],[0.5,\"rgb(107,174,214)\"],[0.625,\"rgb(66,146,198)\"],[0.75,\"rgb(33,113,181)\"],[0.875,\"rgb(8,81,156)\"],[1.0,\"rgb(8,48,107)\"]],\"line\":{\"color\":\"Grey\",\"width\":0.5},\"showscale\":false},\"mode\":\"markers\",\"name\":\"Feasible Trial\",\"showlegend\":false,\"x\":[0.9031576424454716,0.9316126983301964,0.6489554725212932,0.5879756242641122,0.6068252342073455,0.635719438755656,0.5427163154097354,0.5672605141954822,0.7767418710453766,0.9667944772215376,0.7397080755150448,0.6984707561056236,0.7313346985644207,0.5142981015962409,0.5090314146285522,0.8591623333928982,0.6872209642223652,0.7972268959171683,0.8086617969373396,0.8293632592393283,0.6895494952569501,0.7998280489385083,0.8661480766671421,0.7877393817115238,0.6995024276707653,0.7583944892840256,0.8442936904360271,0.71846302494742,0.9985284610160995,0.897532434820098],\"y\":[73.47410375895937,73.66797406657264,64.0505171824274,72.09088218744725,67.76274458656238,89.49480772558994,68.60163588588553,61.990853322811795,112.95043321112055,78.2807407474037,64.5486236170156,59.73857783236978,63.55516013424299,61.045547445352206,66.57234788605578,68.5195543829409,63.905955971915816,60.4031481839151,59.44969825928589,61.11479934578464,69.67307618087948,61.122104935091215,63.77035867416169,59.43302301810638,65.42239854459777,62.63500330035936,64.0692033043933,59.9071496406061,61.22799344642489,62.349341797035535],\"type\":\"scatter\",\"xaxis\":\"x7\",\"yaxis\":\"y7\"}],                        {\"template\":{\"data\":{\"histogram2dcontour\":[{\"type\":\"histogram2dcontour\",\"colorbar\":{\"outlinewidth\":0,\"ticks\":\"\"},\"colorscale\":[[0.0,\"#0d0887\"],[0.1111111111111111,\"#46039f\"],[0.2222222222222222,\"#7201a8\"],[0.3333333333333333,\"#9c179e\"],[0.4444444444444444,\"#bd3786\"],[0.5555555555555556,\"#d8576b\"],[0.6666666666666666,\"#ed7953\"],[0.7777777777777778,\"#fb9f3a\"],[0.8888888888888888,\"#fdca26\"],[1.0,\"#f0f921\"]]}],\"choropleth\":[{\"type\":\"choropleth\",\"colorbar\":{\"outlinewidth\":0,\"ticks\":\"\"}}],\"histogram2d\":[{\"type\":\"histogram2d\",\"colorbar\":{\"outlinewidth\":0,\"ticks\":\"\"},\"colorscale\":[[0.0,\"#0d0887\"],[0.1111111111111111,\"#46039f\"],[0.2222222222222222,\"#7201a8\"],[0.3333333333333333,\"#9c179e\"],[0.4444444444444444,\"#bd3786\"],[0.5555555555555556,\"#d8576b\"],[0.6666666666666666,\"#ed7953\"],[0.7777777777777778,\"#fb9f3a\"],[0.8888888888888888,\"#fdca26\"],[1.0,\"#f0f921\"]]}],\"heatmap\":[{\"type\":\"heatmap\",\"colorbar\":{\"outlinewidth\":0,\"ticks\":\"\"},\"colorscale\":[[0.0,\"#0d0887\"],[0.1111111111111111,\"#46039f\"],[0.2222222222222222,\"#7201a8\"],[0.3333333333333333,\"#9c179e\"],[0.4444444444444444,\"#bd3786\"],[0.5555555555555556,\"#d8576b\"],[0.6666666666666666,\"#ed7953\"],[0.7777777777777778,\"#fb9f3a\"],[0.8888888888888888,\"#fdca26\"],[1.0,\"#f0f921\"]]}],\"heatmapgl\":[{\"type\":\"heatmapgl\",\"colorbar\":{\"outlinewidth\":0,\"ticks\":\"\"},\"colorscale\":[[0.0,\"#0d0887\"],[0.1111111111111111,\"#46039f\"],[0.2222222222222222,\"#7201a8\"],[0.3333333333333333,\"#9c179e\"],[0.4444444444444444,\"#bd3786\"],[0.5555555555555556,\"#d8576b\"],[0.6666666666666666,\"#ed7953\"],[0.7777777777777778,\"#fb9f3a\"],[0.8888888888888888,\"#fdca26\"],[1.0,\"#f0f921\"]]}],\"contourcarpet\":[{\"type\":\"contourcarpet\",\"colorbar\":{\"outlinewidth\":0,\"ticks\":\"\"}}],\"contour\":[{\"type\":\"contour\",\"colorbar\":{\"outlinewidth\":0,\"ticks\":\"\"},\"colorscale\":[[0.0,\"#0d0887\"],[0.1111111111111111,\"#46039f\"],[0.2222222222222222,\"#7201a8\"],[0.3333333333333333,\"#9c179e\"],[0.4444444444444444,\"#bd3786\"],[0.5555555555555556,\"#d8576b\"],[0.6666666666666666,\"#ed7953\"],[0.7777777777777778,\"#fb9f3a\"],[0.8888888888888888,\"#fdca26\"],[1.0,\"#f0f921\"]]}],\"surface\":[{\"type\":\"surface\",\"colorbar\":{\"outlinewidth\":0,\"ticks\":\"\"},\"colorscale\":[[0.0,\"#0d0887\"],[0.1111111111111111,\"#46039f\"],[0.2222222222222222,\"#7201a8\"],[0.3333333333333333,\"#9c179e\"],[0.4444444444444444,\"#bd3786\"],[0.5555555555555556,\"#d8576b\"],[0.6666666666666666,\"#ed7953\"],[0.7777777777777778,\"#fb9f3a\"],[0.8888888888888888,\"#fdca26\"],[1.0,\"#f0f921\"]]}],\"mesh3d\":[{\"type\":\"mesh3d\",\"colorbar\":{\"outlinewidth\":0,\"ticks\":\"\"}}],\"scatter\":[{\"fillpattern\":{\"fillmode\":\"overlay\",\"size\":10,\"solidity\":0.2},\"type\":\"scatter\"}],\"parcoords\":[{\"type\":\"parcoords\",\"line\":{\"colorbar\":{\"outlinewidth\":0,\"ticks\":\"\"}}}],\"scatterpolargl\":[{\"type\":\"scatterpolargl\",\"marker\":{\"colorbar\":{\"outlinewidth\":0,\"ticks\":\"\"}}}],\"bar\":[{\"error_x\":{\"color\":\"#2a3f5f\"},\"error_y\":{\"color\":\"#2a3f5f\"},\"marker\":{\"line\":{\"color\":\"#E5ECF6\",\"width\":0.5},\"pattern\":{\"fillmode\":\"overlay\",\"size\":10,\"solidity\":0.2}},\"type\":\"bar\"}],\"scattergeo\":[{\"type\":\"scattergeo\",\"marker\":{\"colorbar\":{\"outlinewidth\":0,\"ticks\":\"\"}}}],\"scatterpolar\":[{\"type\":\"scatterpolar\",\"marker\":{\"colorbar\":{\"outlinewidth\":0,\"ticks\":\"\"}}}],\"histogram\":[{\"marker\":{\"pattern\":{\"fillmode\":\"overlay\",\"size\":10,\"solidity\":0.2}},\"type\":\"histogram\"}],\"scattergl\":[{\"type\":\"scattergl\",\"marker\":{\"colorbar\":{\"outlinewidth\":0,\"ticks\":\"\"}}}],\"scatter3d\":[{\"type\":\"scatter3d\",\"line\":{\"colorbar\":{\"outlinewidth\":0,\"ticks\":\"\"}},\"marker\":{\"colorbar\":{\"outlinewidth\":0,\"ticks\":\"\"}}}],\"scattermapbox\":[{\"type\":\"scattermapbox\",\"marker\":{\"colorbar\":{\"outlinewidth\":0,\"ticks\":\"\"}}}],\"scatterternary\":[{\"type\":\"scatterternary\",\"marker\":{\"colorbar\":{\"outlinewidth\":0,\"ticks\":\"\"}}}],\"scattercarpet\":[{\"type\":\"scattercarpet\",\"marker\":{\"colorbar\":{\"outlinewidth\":0,\"ticks\":\"\"}}}],\"carpet\":[{\"aaxis\":{\"endlinecolor\":\"#2a3f5f\",\"gridcolor\":\"white\",\"linecolor\":\"white\",\"minorgridcolor\":\"white\",\"startlinecolor\":\"#2a3f5f\"},\"baxis\":{\"endlinecolor\":\"#2a3f5f\",\"gridcolor\":\"white\",\"linecolor\":\"white\",\"minorgridcolor\":\"white\",\"startlinecolor\":\"#2a3f5f\"},\"type\":\"carpet\"}],\"table\":[{\"cells\":{\"fill\":{\"color\":\"#EBF0F8\"},\"line\":{\"color\":\"white\"}},\"header\":{\"fill\":{\"color\":\"#C8D4E3\"},\"line\":{\"color\":\"white\"}},\"type\":\"table\"}],\"barpolar\":[{\"marker\":{\"line\":{\"color\":\"#E5ECF6\",\"width\":0.5},\"pattern\":{\"fillmode\":\"overlay\",\"size\":10,\"solidity\":0.2}},\"type\":\"barpolar\"}],\"pie\":[{\"automargin\":true,\"type\":\"pie\"}]},\"layout\":{\"autotypenumbers\":\"strict\",\"colorway\":[\"#636efa\",\"#EF553B\",\"#00cc96\",\"#ab63fa\",\"#FFA15A\",\"#19d3f3\",\"#FF6692\",\"#B6E880\",\"#FF97FF\",\"#FECB52\"],\"font\":{\"color\":\"#2a3f5f\"},\"hovermode\":\"closest\",\"hoverlabel\":{\"align\":\"left\"},\"paper_bgcolor\":\"white\",\"plot_bgcolor\":\"#E5ECF6\",\"polar\":{\"bgcolor\":\"#E5ECF6\",\"angularaxis\":{\"gridcolor\":\"white\",\"linecolor\":\"white\",\"ticks\":\"\"},\"radialaxis\":{\"gridcolor\":\"white\",\"linecolor\":\"white\",\"ticks\":\"\"}},\"ternary\":{\"bgcolor\":\"#E5ECF6\",\"aaxis\":{\"gridcolor\":\"white\",\"linecolor\":\"white\",\"ticks\":\"\"},\"baxis\":{\"gridcolor\":\"white\",\"linecolor\":\"white\",\"ticks\":\"\"},\"caxis\":{\"gridcolor\":\"white\",\"linecolor\":\"white\",\"ticks\":\"\"}},\"coloraxis\":{\"colorbar\":{\"outlinewidth\":0,\"ticks\":\"\"}},\"colorscale\":{\"sequential\":[[0.0,\"#0d0887\"],[0.1111111111111111,\"#46039f\"],[0.2222222222222222,\"#7201a8\"],[0.3333333333333333,\"#9c179e\"],[0.4444444444444444,\"#bd3786\"],[0.5555555555555556,\"#d8576b\"],[0.6666666666666666,\"#ed7953\"],[0.7777777777777778,\"#fb9f3a\"],[0.8888888888888888,\"#fdca26\"],[1.0,\"#f0f921\"]],\"sequentialminus\":[[0.0,\"#0d0887\"],[0.1111111111111111,\"#46039f\"],[0.2222222222222222,\"#7201a8\"],[0.3333333333333333,\"#9c179e\"],[0.4444444444444444,\"#bd3786\"],[0.5555555555555556,\"#d8576b\"],[0.6666666666666666,\"#ed7953\"],[0.7777777777777778,\"#fb9f3a\"],[0.8888888888888888,\"#fdca26\"],[1.0,\"#f0f921\"]],\"diverging\":[[0,\"#8e0152\"],[0.1,\"#c51b7d\"],[0.2,\"#de77ae\"],[0.3,\"#f1b6da\"],[0.4,\"#fde0ef\"],[0.5,\"#f7f7f7\"],[0.6,\"#e6f5d0\"],[0.7,\"#b8e186\"],[0.8,\"#7fbc41\"],[0.9,\"#4d9221\"],[1,\"#276419\"]]},\"xaxis\":{\"gridcolor\":\"white\",\"linecolor\":\"white\",\"ticks\":\"\",\"title\":{\"standoff\":15},\"zerolinecolor\":\"white\",\"automargin\":true,\"zerolinewidth\":2},\"yaxis\":{\"gridcolor\":\"white\",\"linecolor\":\"white\",\"ticks\":\"\",\"title\":{\"standoff\":15},\"zerolinecolor\":\"white\",\"automargin\":true,\"zerolinewidth\":2},\"scene\":{\"xaxis\":{\"backgroundcolor\":\"#E5ECF6\",\"gridcolor\":\"white\",\"linecolor\":\"white\",\"showbackground\":true,\"ticks\":\"\",\"zerolinecolor\":\"white\",\"gridwidth\":2},\"yaxis\":{\"backgroundcolor\":\"#E5ECF6\",\"gridcolor\":\"white\",\"linecolor\":\"white\",\"showbackground\":true,\"ticks\":\"\",\"zerolinecolor\":\"white\",\"gridwidth\":2},\"zaxis\":{\"backgroundcolor\":\"#E5ECF6\",\"gridcolor\":\"white\",\"linecolor\":\"white\",\"showbackground\":true,\"ticks\":\"\",\"zerolinecolor\":\"white\",\"gridwidth\":2}},\"shapedefaults\":{\"line\":{\"color\":\"#2a3f5f\"}},\"annotationdefaults\":{\"arrowcolor\":\"#2a3f5f\",\"arrowhead\":0,\"arrowwidth\":1},\"geo\":{\"bgcolor\":\"white\",\"landcolor\":\"#E5ECF6\",\"subunitcolor\":\"white\",\"showland\":true,\"showlakes\":true,\"lakecolor\":\"white\"},\"title\":{\"x\":0.05},\"mapbox\":{\"style\":\"light\"}}},\"xaxis\":{\"anchor\":\"y\",\"domain\":[0.0,0.1183673469387755],\"title\":{\"text\":\"depth\"}},\"yaxis\":{\"anchor\":\"x\",\"domain\":[0.0,1.0],\"title\":{\"text\":\"MAE\"}},\"xaxis2\":{\"anchor\":\"y2\",\"domain\":[0.14693877551020407,0.26530612244897955],\"title\":{\"text\":\"iterations\"}},\"yaxis2\":{\"anchor\":\"x2\",\"domain\":[0.0,1.0],\"matches\":\"y\",\"showticklabels\":false},\"xaxis3\":{\"anchor\":\"y3\",\"domain\":[0.29387755102040813,0.4122448979591836],\"title\":{\"text\":\"learning_rate\"}},\"yaxis3\":{\"anchor\":\"x3\",\"domain\":[0.0,1.0],\"matches\":\"y\",\"showticklabels\":false},\"xaxis4\":{\"anchor\":\"y4\",\"domain\":[0.4408163265306122,0.5591836734693877],\"title\":{\"text\":\"min_data_in_leaf\"}},\"yaxis4\":{\"anchor\":\"x4\",\"domain\":[0.0,1.0],\"matches\":\"y\",\"showticklabels\":false},\"xaxis5\":{\"anchor\":\"y5\",\"domain\":[0.5877551020408163,0.7061224489795918],\"title\":{\"text\":\"random_strength\"}},\"yaxis5\":{\"anchor\":\"x5\",\"domain\":[0.0,1.0],\"matches\":\"y\",\"showticklabels\":false},\"xaxis6\":{\"anchor\":\"y6\",\"domain\":[0.7346938775510204,0.8530612244897959],\"title\":{\"text\":\"reg_lambda\"}},\"yaxis6\":{\"anchor\":\"x6\",\"domain\":[0.0,1.0],\"matches\":\"y\",\"showticklabels\":false},\"xaxis7\":{\"anchor\":\"y7\",\"domain\":[0.8816326530612244,0.9999999999999999],\"title\":{\"text\":\"subsample\"}},\"yaxis7\":{\"anchor\":\"x7\",\"domain\":[0.0,1.0],\"matches\":\"y\",\"showticklabels\":false},\"title\":{\"text\":\"Slice Plot\"},\"width\":2100},                        {\"responsive\": true}                    ).then(function(){\n",
              "                            \n",
              "var gd = document.getElementById('512c3a7b-69b4-4fa9-ae43-4e125dded6bd');\n",
              "var x = new MutationObserver(function (mutations, observer) {{\n",
              "        var display = window.getComputedStyle(gd).display;\n",
              "        if (!display || display === 'none') {{\n",
              "            console.log([gd, 'removed!']);\n",
              "            Plotly.purge(gd);\n",
              "            observer.disconnect();\n",
              "        }}\n",
              "}});\n",
              "\n",
              "// Listen for the removal of the full notebook cells\n",
              "var notebookContainer = gd.closest('#notebook-container');\n",
              "if (notebookContainer) {{\n",
              "    x.observe(notebookContainer, {childList: true});\n",
              "}}\n",
              "\n",
              "// Listen for the clearing of the current output cell\n",
              "var outputEl = gd.closest('.output');\n",
              "if (outputEl) {{\n",
              "    x.observe(outputEl, {childList: true});\n",
              "}}\n",
              "\n",
              "                        })                };                            </script>        </div>\n",
              "</body>\n",
              "</html>"
            ]
          },
          "metadata": {},
          "output_type": "display_data"
        },
        {
          "data": {
            "text/html": [
              "<html>\n",
              "<head><meta charset=\"utf-8\" /></head>\n",
              "<body>\n",
              "    <div>            <script src=\"https://cdnjs.cloudflare.com/ajax/libs/mathjax/2.7.5/MathJax.js?config=TeX-AMS-MML_SVG\"></script><script type=\"text/javascript\">if (window.MathJax && window.MathJax.Hub && window.MathJax.Hub.Config) {window.MathJax.Hub.Config({SVG: {font: \"STIX-Web\"}});}</script>                <script type=\"text/javascript\">window.PlotlyConfig = {MathJaxConfig: 'local'};</script>\n",
              "        <script charset=\"utf-8\" src=\"https://cdn.plot.ly/plotly-2.24.1.min.js\"></script>                <div id=\"7b9e80bb-35a5-440c-8373-afd8efedf318\" class=\"plotly-graph-div\" style=\"height:525px; width:100%;\"></div>            <script type=\"text/javascript\">                                    window.PLOTLYENV=window.PLOTLYENV || {};                                    if (document.getElementById(\"7b9e80bb-35a5-440c-8373-afd8efedf318\")) {                    Plotly.newPlot(                        \"7b9e80bb-35a5-440c-8373-afd8efedf318\",                        [{\"cliponaxis\":false,\"hovertemplate\":[\"random_strength (FloatDistribution): 0.007181783934686395\\u003cextra\\u003e\\u003c\\u002fextra\\u003e\",\"subsample (FloatDistribution): 0.011503509907731795\\u003cextra\\u003e\\u003c\\u002fextra\\u003e\",\"min_data_in_leaf (IntDistribution): 0.013285545223851758\\u003cextra\\u003e\\u003c\\u002fextra\\u003e\",\"iterations (IntDistribution): 0.042717646421592426\\u003cextra\\u003e\\u003c\\u002fextra\\u003e\",\"reg_lambda (FloatDistribution): 0.05705611017681792\\u003cextra\\u003e\\u003c\\u002fextra\\u003e\",\"depth (IntDistribution): 0.4159705491391871\\u003cextra\\u003e\\u003c\\u002fextra\\u003e\",\"learning_rate (FloatDistribution): 0.4522848551961328\\u003cextra\\u003e\\u003c\\u002fextra\\u003e\"],\"name\":\"MAE\",\"orientation\":\"h\",\"text\":[\"\\u003c0.01\",\"0.01\",\"0.01\",\"0.04\",\"0.06\",\"0.42\",\"0.45\"],\"textposition\":\"outside\",\"x\":[0.007181783934686395,0.011503509907731795,0.013285545223851758,0.042717646421592426,0.05705611017681792,0.4159705491391871,0.4522848551961328],\"y\":[\"random_strength\",\"subsample\",\"min_data_in_leaf\",\"iterations\",\"reg_lambda\",\"depth\",\"learning_rate\"],\"type\":\"bar\"}],                        {\"title\":{\"text\":\"Hyperparameter Importances\"},\"xaxis\":{\"title\":{\"text\":\"Hyperparameter Importance\"}},\"yaxis\":{\"title\":{\"text\":\"Hyperparameter\"}},\"template\":{\"data\":{\"histogram2dcontour\":[{\"type\":\"histogram2dcontour\",\"colorbar\":{\"outlinewidth\":0,\"ticks\":\"\"},\"colorscale\":[[0.0,\"#0d0887\"],[0.1111111111111111,\"#46039f\"],[0.2222222222222222,\"#7201a8\"],[0.3333333333333333,\"#9c179e\"],[0.4444444444444444,\"#bd3786\"],[0.5555555555555556,\"#d8576b\"],[0.6666666666666666,\"#ed7953\"],[0.7777777777777778,\"#fb9f3a\"],[0.8888888888888888,\"#fdca26\"],[1.0,\"#f0f921\"]]}],\"choropleth\":[{\"type\":\"choropleth\",\"colorbar\":{\"outlinewidth\":0,\"ticks\":\"\"}}],\"histogram2d\":[{\"type\":\"histogram2d\",\"colorbar\":{\"outlinewidth\":0,\"ticks\":\"\"},\"colorscale\":[[0.0,\"#0d0887\"],[0.1111111111111111,\"#46039f\"],[0.2222222222222222,\"#7201a8\"],[0.3333333333333333,\"#9c179e\"],[0.4444444444444444,\"#bd3786\"],[0.5555555555555556,\"#d8576b\"],[0.6666666666666666,\"#ed7953\"],[0.7777777777777778,\"#fb9f3a\"],[0.8888888888888888,\"#fdca26\"],[1.0,\"#f0f921\"]]}],\"heatmap\":[{\"type\":\"heatmap\",\"colorbar\":{\"outlinewidth\":0,\"ticks\":\"\"},\"colorscale\":[[0.0,\"#0d0887\"],[0.1111111111111111,\"#46039f\"],[0.2222222222222222,\"#7201a8\"],[0.3333333333333333,\"#9c179e\"],[0.4444444444444444,\"#bd3786\"],[0.5555555555555556,\"#d8576b\"],[0.6666666666666666,\"#ed7953\"],[0.7777777777777778,\"#fb9f3a\"],[0.8888888888888888,\"#fdca26\"],[1.0,\"#f0f921\"]]}],\"heatmapgl\":[{\"type\":\"heatmapgl\",\"colorbar\":{\"outlinewidth\":0,\"ticks\":\"\"},\"colorscale\":[[0.0,\"#0d0887\"],[0.1111111111111111,\"#46039f\"],[0.2222222222222222,\"#7201a8\"],[0.3333333333333333,\"#9c179e\"],[0.4444444444444444,\"#bd3786\"],[0.5555555555555556,\"#d8576b\"],[0.6666666666666666,\"#ed7953\"],[0.7777777777777778,\"#fb9f3a\"],[0.8888888888888888,\"#fdca26\"],[1.0,\"#f0f921\"]]}],\"contourcarpet\":[{\"type\":\"contourcarpet\",\"colorbar\":{\"outlinewidth\":0,\"ticks\":\"\"}}],\"contour\":[{\"type\":\"contour\",\"colorbar\":{\"outlinewidth\":0,\"ticks\":\"\"},\"colorscale\":[[0.0,\"#0d0887\"],[0.1111111111111111,\"#46039f\"],[0.2222222222222222,\"#7201a8\"],[0.3333333333333333,\"#9c179e\"],[0.4444444444444444,\"#bd3786\"],[0.5555555555555556,\"#d8576b\"],[0.6666666666666666,\"#ed7953\"],[0.7777777777777778,\"#fb9f3a\"],[0.8888888888888888,\"#fdca26\"],[1.0,\"#f0f921\"]]}],\"surface\":[{\"type\":\"surface\",\"colorbar\":{\"outlinewidth\":0,\"ticks\":\"\"},\"colorscale\":[[0.0,\"#0d0887\"],[0.1111111111111111,\"#46039f\"],[0.2222222222222222,\"#7201a8\"],[0.3333333333333333,\"#9c179e\"],[0.4444444444444444,\"#bd3786\"],[0.5555555555555556,\"#d8576b\"],[0.6666666666666666,\"#ed7953\"],[0.7777777777777778,\"#fb9f3a\"],[0.8888888888888888,\"#fdca26\"],[1.0,\"#f0f921\"]]}],\"mesh3d\":[{\"type\":\"mesh3d\",\"colorbar\":{\"outlinewidth\":0,\"ticks\":\"\"}}],\"scatter\":[{\"fillpattern\":{\"fillmode\":\"overlay\",\"size\":10,\"solidity\":0.2},\"type\":\"scatter\"}],\"parcoords\":[{\"type\":\"parcoords\",\"line\":{\"colorbar\":{\"outlinewidth\":0,\"ticks\":\"\"}}}],\"scatterpolargl\":[{\"type\":\"scatterpolargl\",\"marker\":{\"colorbar\":{\"outlinewidth\":0,\"ticks\":\"\"}}}],\"bar\":[{\"error_x\":{\"color\":\"#2a3f5f\"},\"error_y\":{\"color\":\"#2a3f5f\"},\"marker\":{\"line\":{\"color\":\"#E5ECF6\",\"width\":0.5},\"pattern\":{\"fillmode\":\"overlay\",\"size\":10,\"solidity\":0.2}},\"type\":\"bar\"}],\"scattergeo\":[{\"type\":\"scattergeo\",\"marker\":{\"colorbar\":{\"outlinewidth\":0,\"ticks\":\"\"}}}],\"scatterpolar\":[{\"type\":\"scatterpolar\",\"marker\":{\"colorbar\":{\"outlinewidth\":0,\"ticks\":\"\"}}}],\"histogram\":[{\"marker\":{\"pattern\":{\"fillmode\":\"overlay\",\"size\":10,\"solidity\":0.2}},\"type\":\"histogram\"}],\"scattergl\":[{\"type\":\"scattergl\",\"marker\":{\"colorbar\":{\"outlinewidth\":0,\"ticks\":\"\"}}}],\"scatter3d\":[{\"type\":\"scatter3d\",\"line\":{\"colorbar\":{\"outlinewidth\":0,\"ticks\":\"\"}},\"marker\":{\"colorbar\":{\"outlinewidth\":0,\"ticks\":\"\"}}}],\"scattermapbox\":[{\"type\":\"scattermapbox\",\"marker\":{\"colorbar\":{\"outlinewidth\":0,\"ticks\":\"\"}}}],\"scatterternary\":[{\"type\":\"scatterternary\",\"marker\":{\"colorbar\":{\"outlinewidth\":0,\"ticks\":\"\"}}}],\"scattercarpet\":[{\"type\":\"scattercarpet\",\"marker\":{\"colorbar\":{\"outlinewidth\":0,\"ticks\":\"\"}}}],\"carpet\":[{\"aaxis\":{\"endlinecolor\":\"#2a3f5f\",\"gridcolor\":\"white\",\"linecolor\":\"white\",\"minorgridcolor\":\"white\",\"startlinecolor\":\"#2a3f5f\"},\"baxis\":{\"endlinecolor\":\"#2a3f5f\",\"gridcolor\":\"white\",\"linecolor\":\"white\",\"minorgridcolor\":\"white\",\"startlinecolor\":\"#2a3f5f\"},\"type\":\"carpet\"}],\"table\":[{\"cells\":{\"fill\":{\"color\":\"#EBF0F8\"},\"line\":{\"color\":\"white\"}},\"header\":{\"fill\":{\"color\":\"#C8D4E3\"},\"line\":{\"color\":\"white\"}},\"type\":\"table\"}],\"barpolar\":[{\"marker\":{\"line\":{\"color\":\"#E5ECF6\",\"width\":0.5},\"pattern\":{\"fillmode\":\"overlay\",\"size\":10,\"solidity\":0.2}},\"type\":\"barpolar\"}],\"pie\":[{\"automargin\":true,\"type\":\"pie\"}]},\"layout\":{\"autotypenumbers\":\"strict\",\"colorway\":[\"#636efa\",\"#EF553B\",\"#00cc96\",\"#ab63fa\",\"#FFA15A\",\"#19d3f3\",\"#FF6692\",\"#B6E880\",\"#FF97FF\",\"#FECB52\"],\"font\":{\"color\":\"#2a3f5f\"},\"hovermode\":\"closest\",\"hoverlabel\":{\"align\":\"left\"},\"paper_bgcolor\":\"white\",\"plot_bgcolor\":\"#E5ECF6\",\"polar\":{\"bgcolor\":\"#E5ECF6\",\"angularaxis\":{\"gridcolor\":\"white\",\"linecolor\":\"white\",\"ticks\":\"\"},\"radialaxis\":{\"gridcolor\":\"white\",\"linecolor\":\"white\",\"ticks\":\"\"}},\"ternary\":{\"bgcolor\":\"#E5ECF6\",\"aaxis\":{\"gridcolor\":\"white\",\"linecolor\":\"white\",\"ticks\":\"\"},\"baxis\":{\"gridcolor\":\"white\",\"linecolor\":\"white\",\"ticks\":\"\"},\"caxis\":{\"gridcolor\":\"white\",\"linecolor\":\"white\",\"ticks\":\"\"}},\"coloraxis\":{\"colorbar\":{\"outlinewidth\":0,\"ticks\":\"\"}},\"colorscale\":{\"sequential\":[[0.0,\"#0d0887\"],[0.1111111111111111,\"#46039f\"],[0.2222222222222222,\"#7201a8\"],[0.3333333333333333,\"#9c179e\"],[0.4444444444444444,\"#bd3786\"],[0.5555555555555556,\"#d8576b\"],[0.6666666666666666,\"#ed7953\"],[0.7777777777777778,\"#fb9f3a\"],[0.8888888888888888,\"#fdca26\"],[1.0,\"#f0f921\"]],\"sequentialminus\":[[0.0,\"#0d0887\"],[0.1111111111111111,\"#46039f\"],[0.2222222222222222,\"#7201a8\"],[0.3333333333333333,\"#9c179e\"],[0.4444444444444444,\"#bd3786\"],[0.5555555555555556,\"#d8576b\"],[0.6666666666666666,\"#ed7953\"],[0.7777777777777778,\"#fb9f3a\"],[0.8888888888888888,\"#fdca26\"],[1.0,\"#f0f921\"]],\"diverging\":[[0,\"#8e0152\"],[0.1,\"#c51b7d\"],[0.2,\"#de77ae\"],[0.3,\"#f1b6da\"],[0.4,\"#fde0ef\"],[0.5,\"#f7f7f7\"],[0.6,\"#e6f5d0\"],[0.7,\"#b8e186\"],[0.8,\"#7fbc41\"],[0.9,\"#4d9221\"],[1,\"#276419\"]]},\"xaxis\":{\"gridcolor\":\"white\",\"linecolor\":\"white\",\"ticks\":\"\",\"title\":{\"standoff\":15},\"zerolinecolor\":\"white\",\"automargin\":true,\"zerolinewidth\":2},\"yaxis\":{\"gridcolor\":\"white\",\"linecolor\":\"white\",\"ticks\":\"\",\"title\":{\"standoff\":15},\"zerolinecolor\":\"white\",\"automargin\":true,\"zerolinewidth\":2},\"scene\":{\"xaxis\":{\"backgroundcolor\":\"#E5ECF6\",\"gridcolor\":\"white\",\"linecolor\":\"white\",\"showbackground\":true,\"ticks\":\"\",\"zerolinecolor\":\"white\",\"gridwidth\":2},\"yaxis\":{\"backgroundcolor\":\"#E5ECF6\",\"gridcolor\":\"white\",\"linecolor\":\"white\",\"showbackground\":true,\"ticks\":\"\",\"zerolinecolor\":\"white\",\"gridwidth\":2},\"zaxis\":{\"backgroundcolor\":\"#E5ECF6\",\"gridcolor\":\"white\",\"linecolor\":\"white\",\"showbackground\":true,\"ticks\":\"\",\"zerolinecolor\":\"white\",\"gridwidth\":2}},\"shapedefaults\":{\"line\":{\"color\":\"#2a3f5f\"}},\"annotationdefaults\":{\"arrowcolor\":\"#2a3f5f\",\"arrowhead\":0,\"arrowwidth\":1},\"geo\":{\"bgcolor\":\"white\",\"landcolor\":\"#E5ECF6\",\"subunitcolor\":\"white\",\"showland\":true,\"showlakes\":true,\"lakecolor\":\"white\"},\"title\":{\"x\":0.05},\"mapbox\":{\"style\":\"light\"}}}},                        {\"responsive\": true}                    ).then(function(){\n",
              "                            \n",
              "var gd = document.getElementById('7b9e80bb-35a5-440c-8373-afd8efedf318');\n",
              "var x = new MutationObserver(function (mutations, observer) {{\n",
              "        var display = window.getComputedStyle(gd).display;\n",
              "        if (!display || display === 'none') {{\n",
              "            console.log([gd, 'removed!']);\n",
              "            Plotly.purge(gd);\n",
              "            observer.disconnect();\n",
              "        }}\n",
              "}});\n",
              "\n",
              "// Listen for the removal of the full notebook cells\n",
              "var notebookContainer = gd.closest('#notebook-container');\n",
              "if (notebookContainer) {{\n",
              "    x.observe(notebookContainer, {childList: true});\n",
              "}}\n",
              "\n",
              "// Listen for the clearing of the current output cell\n",
              "var outputEl = gd.closest('.output');\n",
              "if (outputEl) {{\n",
              "    x.observe(outputEl, {childList: true});\n",
              "}}\n",
              "\n",
              "                        })                };                            </script>        </div>\n",
              "</body>\n",
              "</html>"
            ]
          },
          "metadata": {},
          "output_type": "display_data"
        },
        {
          "data": {
            "text/html": [
              "<html>\n",
              "<head><meta charset=\"utf-8\" /></head>\n",
              "<body>\n",
              "    <div>            <script src=\"https://cdnjs.cloudflare.com/ajax/libs/mathjax/2.7.5/MathJax.js?config=TeX-AMS-MML_SVG\"></script><script type=\"text/javascript\">if (window.MathJax && window.MathJax.Hub && window.MathJax.Hub.Config) {window.MathJax.Hub.Config({SVG: {font: \"STIX-Web\"}});}</script>                <script type=\"text/javascript\">window.PlotlyConfig = {MathJaxConfig: 'local'};</script>\n",
              "        <script charset=\"utf-8\" src=\"https://cdn.plot.ly/plotly-2.24.1.min.js\"></script>                <div id=\"53b35b13-ff8b-4ecf-8860-20f5d5dbad49\" class=\"plotly-graph-div\" style=\"height:525px; width:100%;\"></div>            <script type=\"text/javascript\">                                    window.PLOTLYENV=window.PLOTLYENV || {};                                    if (document.getElementById(\"53b35b13-ff8b-4ecf-8860-20f5d5dbad49\")) {                    Plotly.newPlot(                        \"53b35b13-ff8b-4ecf-8860-20f5d5dbad49\",                        [{\"mode\":\"lines\",\"name\":\"Consumption_model_Catboost\",\"x\":[59.43302301810638,59.973602919045916,60.51418281998546,61.05476272092499,61.59534262186453,62.135922522804066,62.67650242374361,63.21708232468314,63.75766222562268,64.29824212656222,64.83882202750175,65.3794019284413,65.91998182938083,66.46056173032036,67.0011416312599,67.54172153219943,68.08230143313898,68.62288133407851,69.16346123501805,69.7040411359576,70.24462103689713,70.78520093783666,71.3257808387762,71.86636073971573,72.40694064065528,72.94752054159481,73.48810044253435,74.02868034347388,74.56926024441341,75.10984014535296,75.6504200462925,76.19099994723203,76.73157984817158,77.27215974911111,77.81273965005064,78.35331955099018,78.89389945192971,79.43447935286926,79.9750592538088,80.51563915474833,81.05621905568788,81.5967989566274,82.13737885756694,82.67795875850648,83.21853865944601,83.75911856038556,84.2996984613251,84.84027836226463,85.38085826320416,85.9214381641437,86.46201806508324,87.00259796602278,87.54317786696231,88.08375776790186,88.62433766884139,89.16491756978093,89.70549747072046,90.24607737166,90.78665727259954,91.32723717353907,91.86781707447861,92.40839697541816,92.94897687635768,93.48955677729722,94.03013667823676,94.57071657917629,95.11129648011584,95.65187638105536,96.19245628199491,96.73303618293444,97.27361608387397,97.81419598481352,98.35477588575306,98.89535578669259,99.43593568763214,99.97651558857166,100.5170954895112,101.05767539045074,101.59825529139027,102.13883519232982,102.67941509326936,103.21999499420889,103.76057489514842,104.30115479608796,104.8417346970275,105.38231459796704,105.92289449890657,106.46347439984612,107.00405430078564,107.54463420172519,108.08521410266472,108.62579400360426,109.1663739045438,109.70695380548334,110.24753370642287,110.78811360736242,111.32869350830194,111.86927340924149,112.40985331018102,112.95043321112055],\"y\":[0.03333333333333333,0.13333333333333333,0.16666666666666666,0.2,0.3,0.3333333333333333,0.4,0.4,0.43333333333333335,0.5666666666666667,0.6,0.6,0.6333333333333333,0.6333333333333333,0.6666666666666666,0.6666666666666666,0.7,0.7666666666666667,0.7666666666666667,0.8,0.8,0.8,0.8,0.8,0.8333333333333334,0.8333333333333334,0.8666666666666667,0.9,0.9,0.9,0.9,0.9,0.9,0.9,0.9,0.9333333333333333,0.9333333333333333,0.9333333333333333,0.9333333333333333,0.9333333333333333,0.9333333333333333,0.9333333333333333,0.9333333333333333,0.9333333333333333,0.9333333333333333,0.9333333333333333,0.9333333333333333,0.9333333333333333,0.9333333333333333,0.9333333333333333,0.9333333333333333,0.9333333333333333,0.9333333333333333,0.9333333333333333,0.9333333333333333,0.9333333333333333,0.9666666666666667,0.9666666666666667,0.9666666666666667,0.9666666666666667,0.9666666666666667,0.9666666666666667,0.9666666666666667,0.9666666666666667,0.9666666666666667,0.9666666666666667,0.9666666666666667,0.9666666666666667,0.9666666666666667,0.9666666666666667,0.9666666666666667,0.9666666666666667,0.9666666666666667,0.9666666666666667,0.9666666666666667,0.9666666666666667,0.9666666666666667,0.9666666666666667,0.9666666666666667,0.9666666666666667,0.9666666666666667,0.9666666666666667,0.9666666666666667,0.9666666666666667,0.9666666666666667,0.9666666666666667,0.9666666666666667,0.9666666666666667,0.9666666666666667,0.9666666666666667,0.9666666666666667,0.9666666666666667,0.9666666666666667,0.9666666666666667,0.9666666666666667,0.9666666666666667,0.9666666666666667,0.9666666666666667,0.9666666666666667,1.0],\"type\":\"scatter\"}],                        {\"title\":{\"text\":\"Empirical Distribution Function Plot\"},\"xaxis\":{\"title\":{\"text\":\"MAE\"}},\"yaxis\":{\"title\":{\"text\":\"Cumulative Probability\"},\"range\":[0,1]},\"template\":{\"data\":{\"histogram2dcontour\":[{\"type\":\"histogram2dcontour\",\"colorbar\":{\"outlinewidth\":0,\"ticks\":\"\"},\"colorscale\":[[0.0,\"#0d0887\"],[0.1111111111111111,\"#46039f\"],[0.2222222222222222,\"#7201a8\"],[0.3333333333333333,\"#9c179e\"],[0.4444444444444444,\"#bd3786\"],[0.5555555555555556,\"#d8576b\"],[0.6666666666666666,\"#ed7953\"],[0.7777777777777778,\"#fb9f3a\"],[0.8888888888888888,\"#fdca26\"],[1.0,\"#f0f921\"]]}],\"choropleth\":[{\"type\":\"choropleth\",\"colorbar\":{\"outlinewidth\":0,\"ticks\":\"\"}}],\"histogram2d\":[{\"type\":\"histogram2d\",\"colorbar\":{\"outlinewidth\":0,\"ticks\":\"\"},\"colorscale\":[[0.0,\"#0d0887\"],[0.1111111111111111,\"#46039f\"],[0.2222222222222222,\"#7201a8\"],[0.3333333333333333,\"#9c179e\"],[0.4444444444444444,\"#bd3786\"],[0.5555555555555556,\"#d8576b\"],[0.6666666666666666,\"#ed7953\"],[0.7777777777777778,\"#fb9f3a\"],[0.8888888888888888,\"#fdca26\"],[1.0,\"#f0f921\"]]}],\"heatmap\":[{\"type\":\"heatmap\",\"colorbar\":{\"outlinewidth\":0,\"ticks\":\"\"},\"colorscale\":[[0.0,\"#0d0887\"],[0.1111111111111111,\"#46039f\"],[0.2222222222222222,\"#7201a8\"],[0.3333333333333333,\"#9c179e\"],[0.4444444444444444,\"#bd3786\"],[0.5555555555555556,\"#d8576b\"],[0.6666666666666666,\"#ed7953\"],[0.7777777777777778,\"#fb9f3a\"],[0.8888888888888888,\"#fdca26\"],[1.0,\"#f0f921\"]]}],\"heatmapgl\":[{\"type\":\"heatmapgl\",\"colorbar\":{\"outlinewidth\":0,\"ticks\":\"\"},\"colorscale\":[[0.0,\"#0d0887\"],[0.1111111111111111,\"#46039f\"],[0.2222222222222222,\"#7201a8\"],[0.3333333333333333,\"#9c179e\"],[0.4444444444444444,\"#bd3786\"],[0.5555555555555556,\"#d8576b\"],[0.6666666666666666,\"#ed7953\"],[0.7777777777777778,\"#fb9f3a\"],[0.8888888888888888,\"#fdca26\"],[1.0,\"#f0f921\"]]}],\"contourcarpet\":[{\"type\":\"contourcarpet\",\"colorbar\":{\"outlinewidth\":0,\"ticks\":\"\"}}],\"contour\":[{\"type\":\"contour\",\"colorbar\":{\"outlinewidth\":0,\"ticks\":\"\"},\"colorscale\":[[0.0,\"#0d0887\"],[0.1111111111111111,\"#46039f\"],[0.2222222222222222,\"#7201a8\"],[0.3333333333333333,\"#9c179e\"],[0.4444444444444444,\"#bd3786\"],[0.5555555555555556,\"#d8576b\"],[0.6666666666666666,\"#ed7953\"],[0.7777777777777778,\"#fb9f3a\"],[0.8888888888888888,\"#fdca26\"],[1.0,\"#f0f921\"]]}],\"surface\":[{\"type\":\"surface\",\"colorbar\":{\"outlinewidth\":0,\"ticks\":\"\"},\"colorscale\":[[0.0,\"#0d0887\"],[0.1111111111111111,\"#46039f\"],[0.2222222222222222,\"#7201a8\"],[0.3333333333333333,\"#9c179e\"],[0.4444444444444444,\"#bd3786\"],[0.5555555555555556,\"#d8576b\"],[0.6666666666666666,\"#ed7953\"],[0.7777777777777778,\"#fb9f3a\"],[0.8888888888888888,\"#fdca26\"],[1.0,\"#f0f921\"]]}],\"mesh3d\":[{\"type\":\"mesh3d\",\"colorbar\":{\"outlinewidth\":0,\"ticks\":\"\"}}],\"scatter\":[{\"fillpattern\":{\"fillmode\":\"overlay\",\"size\":10,\"solidity\":0.2},\"type\":\"scatter\"}],\"parcoords\":[{\"type\":\"parcoords\",\"line\":{\"colorbar\":{\"outlinewidth\":0,\"ticks\":\"\"}}}],\"scatterpolargl\":[{\"type\":\"scatterpolargl\",\"marker\":{\"colorbar\":{\"outlinewidth\":0,\"ticks\":\"\"}}}],\"bar\":[{\"error_x\":{\"color\":\"#2a3f5f\"},\"error_y\":{\"color\":\"#2a3f5f\"},\"marker\":{\"line\":{\"color\":\"#E5ECF6\",\"width\":0.5},\"pattern\":{\"fillmode\":\"overlay\",\"size\":10,\"solidity\":0.2}},\"type\":\"bar\"}],\"scattergeo\":[{\"type\":\"scattergeo\",\"marker\":{\"colorbar\":{\"outlinewidth\":0,\"ticks\":\"\"}}}],\"scatterpolar\":[{\"type\":\"scatterpolar\",\"marker\":{\"colorbar\":{\"outlinewidth\":0,\"ticks\":\"\"}}}],\"histogram\":[{\"marker\":{\"pattern\":{\"fillmode\":\"overlay\",\"size\":10,\"solidity\":0.2}},\"type\":\"histogram\"}],\"scattergl\":[{\"type\":\"scattergl\",\"marker\":{\"colorbar\":{\"outlinewidth\":0,\"ticks\":\"\"}}}],\"scatter3d\":[{\"type\":\"scatter3d\",\"line\":{\"colorbar\":{\"outlinewidth\":0,\"ticks\":\"\"}},\"marker\":{\"colorbar\":{\"outlinewidth\":0,\"ticks\":\"\"}}}],\"scattermapbox\":[{\"type\":\"scattermapbox\",\"marker\":{\"colorbar\":{\"outlinewidth\":0,\"ticks\":\"\"}}}],\"scatterternary\":[{\"type\":\"scatterternary\",\"marker\":{\"colorbar\":{\"outlinewidth\":0,\"ticks\":\"\"}}}],\"scattercarpet\":[{\"type\":\"scattercarpet\",\"marker\":{\"colorbar\":{\"outlinewidth\":0,\"ticks\":\"\"}}}],\"carpet\":[{\"aaxis\":{\"endlinecolor\":\"#2a3f5f\",\"gridcolor\":\"white\",\"linecolor\":\"white\",\"minorgridcolor\":\"white\",\"startlinecolor\":\"#2a3f5f\"},\"baxis\":{\"endlinecolor\":\"#2a3f5f\",\"gridcolor\":\"white\",\"linecolor\":\"white\",\"minorgridcolor\":\"white\",\"startlinecolor\":\"#2a3f5f\"},\"type\":\"carpet\"}],\"table\":[{\"cells\":{\"fill\":{\"color\":\"#EBF0F8\"},\"line\":{\"color\":\"white\"}},\"header\":{\"fill\":{\"color\":\"#C8D4E3\"},\"line\":{\"color\":\"white\"}},\"type\":\"table\"}],\"barpolar\":[{\"marker\":{\"line\":{\"color\":\"#E5ECF6\",\"width\":0.5},\"pattern\":{\"fillmode\":\"overlay\",\"size\":10,\"solidity\":0.2}},\"type\":\"barpolar\"}],\"pie\":[{\"automargin\":true,\"type\":\"pie\"}]},\"layout\":{\"autotypenumbers\":\"strict\",\"colorway\":[\"#636efa\",\"#EF553B\",\"#00cc96\",\"#ab63fa\",\"#FFA15A\",\"#19d3f3\",\"#FF6692\",\"#B6E880\",\"#FF97FF\",\"#FECB52\"],\"font\":{\"color\":\"#2a3f5f\"},\"hovermode\":\"closest\",\"hoverlabel\":{\"align\":\"left\"},\"paper_bgcolor\":\"white\",\"plot_bgcolor\":\"#E5ECF6\",\"polar\":{\"bgcolor\":\"#E5ECF6\",\"angularaxis\":{\"gridcolor\":\"white\",\"linecolor\":\"white\",\"ticks\":\"\"},\"radialaxis\":{\"gridcolor\":\"white\",\"linecolor\":\"white\",\"ticks\":\"\"}},\"ternary\":{\"bgcolor\":\"#E5ECF6\",\"aaxis\":{\"gridcolor\":\"white\",\"linecolor\":\"white\",\"ticks\":\"\"},\"baxis\":{\"gridcolor\":\"white\",\"linecolor\":\"white\",\"ticks\":\"\"},\"caxis\":{\"gridcolor\":\"white\",\"linecolor\":\"white\",\"ticks\":\"\"}},\"coloraxis\":{\"colorbar\":{\"outlinewidth\":0,\"ticks\":\"\"}},\"colorscale\":{\"sequential\":[[0.0,\"#0d0887\"],[0.1111111111111111,\"#46039f\"],[0.2222222222222222,\"#7201a8\"],[0.3333333333333333,\"#9c179e\"],[0.4444444444444444,\"#bd3786\"],[0.5555555555555556,\"#d8576b\"],[0.6666666666666666,\"#ed7953\"],[0.7777777777777778,\"#fb9f3a\"],[0.8888888888888888,\"#fdca26\"],[1.0,\"#f0f921\"]],\"sequentialminus\":[[0.0,\"#0d0887\"],[0.1111111111111111,\"#46039f\"],[0.2222222222222222,\"#7201a8\"],[0.3333333333333333,\"#9c179e\"],[0.4444444444444444,\"#bd3786\"],[0.5555555555555556,\"#d8576b\"],[0.6666666666666666,\"#ed7953\"],[0.7777777777777778,\"#fb9f3a\"],[0.8888888888888888,\"#fdca26\"],[1.0,\"#f0f921\"]],\"diverging\":[[0,\"#8e0152\"],[0.1,\"#c51b7d\"],[0.2,\"#de77ae\"],[0.3,\"#f1b6da\"],[0.4,\"#fde0ef\"],[0.5,\"#f7f7f7\"],[0.6,\"#e6f5d0\"],[0.7,\"#b8e186\"],[0.8,\"#7fbc41\"],[0.9,\"#4d9221\"],[1,\"#276419\"]]},\"xaxis\":{\"gridcolor\":\"white\",\"linecolor\":\"white\",\"ticks\":\"\",\"title\":{\"standoff\":15},\"zerolinecolor\":\"white\",\"automargin\":true,\"zerolinewidth\":2},\"yaxis\":{\"gridcolor\":\"white\",\"linecolor\":\"white\",\"ticks\":\"\",\"title\":{\"standoff\":15},\"zerolinecolor\":\"white\",\"automargin\":true,\"zerolinewidth\":2},\"scene\":{\"xaxis\":{\"backgroundcolor\":\"#E5ECF6\",\"gridcolor\":\"white\",\"linecolor\":\"white\",\"showbackground\":true,\"ticks\":\"\",\"zerolinecolor\":\"white\",\"gridwidth\":2},\"yaxis\":{\"backgroundcolor\":\"#E5ECF6\",\"gridcolor\":\"white\",\"linecolor\":\"white\",\"showbackground\":true,\"ticks\":\"\",\"zerolinecolor\":\"white\",\"gridwidth\":2},\"zaxis\":{\"backgroundcolor\":\"#E5ECF6\",\"gridcolor\":\"white\",\"linecolor\":\"white\",\"showbackground\":true,\"ticks\":\"\",\"zerolinecolor\":\"white\",\"gridwidth\":2}},\"shapedefaults\":{\"line\":{\"color\":\"#2a3f5f\"}},\"annotationdefaults\":{\"arrowcolor\":\"#2a3f5f\",\"arrowhead\":0,\"arrowwidth\":1},\"geo\":{\"bgcolor\":\"white\",\"landcolor\":\"#E5ECF6\",\"subunitcolor\":\"white\",\"showland\":true,\"showlakes\":true,\"lakecolor\":\"white\"},\"title\":{\"x\":0.05},\"mapbox\":{\"style\":\"light\"}}}},                        {\"responsive\": true}                    ).then(function(){\n",
              "                            \n",
              "var gd = document.getElementById('53b35b13-ff8b-4ecf-8860-20f5d5dbad49');\n",
              "var x = new MutationObserver(function (mutations, observer) {{\n",
              "        var display = window.getComputedStyle(gd).display;\n",
              "        if (!display || display === 'none') {{\n",
              "            console.log([gd, 'removed!']);\n",
              "            Plotly.purge(gd);\n",
              "            observer.disconnect();\n",
              "        }}\n",
              "}});\n",
              "\n",
              "// Listen for the removal of the full notebook cells\n",
              "var notebookContainer = gd.closest('#notebook-container');\n",
              "if (notebookContainer) {{\n",
              "    x.observe(notebookContainer, {childList: true});\n",
              "}}\n",
              "\n",
              "// Listen for the clearing of the current output cell\n",
              "var outputEl = gd.closest('.output');\n",
              "if (outputEl) {{\n",
              "    x.observe(outputEl, {childList: true});\n",
              "}}\n",
              "\n",
              "                        })                };                            </script>        </div>\n",
              "</body>\n",
              "</html>"
            ]
          },
          "metadata": {},
          "output_type": "display_data"
        },
        {
          "name": "stdout",
          "output_type": "stream",
          "text": [
            "\tBest value (MAE): 59.43302\n",
            "\tBest params Consumption_model_Catboost:\n",
            "\t\titerations: 4500\n",
            "\t\tlearning_rate: 0.01240813245424538\n",
            "\t\tdepth: 11\n",
            "\t\trandom_strength: 15.676074935669043\n",
            "\t\tsubsample: 0.7877393817115238\n",
            "\t\tmin_data_in_leaf: 119\n",
            "\t\treg_lambda: 3.7806933338325157\n"
          ]
        }
      ],
      "source": [
        "Hyperparameter_study_visualization(study = study_consumption,target_name=\"MAE\",study_name=\"Consumption_model_Catboost\")"
      ]
    },
    {
      "cell_type": "markdown",
      "metadata": {
        "id": "lf15frQCofsn"
      },
      "source": [
        "## Production_model_Catboost"
      ]
    },
    {
      "cell_type": "code",
      "execution_count": null,
      "metadata": {
        "colab": {
          "background_save": true
        },
        "id": "ZtBEbL3wLe98",
        "outputId": "9df122de-c2d3-4686-f30c-a8e77509bce3"
      },
      "outputs": [
        {
          "name": "stderr",
          "output_type": "stream",
          "text": [
            "[I 2024-01-25 06:01:25,596] A new study created in memory with name: Production_model_Catboost\n",
            "[I 2024-01-25 06:03:09,475] Trial 0 finished with value: 52.84381830461911 and parameters: {'iterations': 9000, 'learning_rate': 0.13100131645113774, 'depth': 4, 'random_strength': 12.94205724425176, 'subsample': 0.547751447599385, 'min_data_in_leaf': 463, 'reg_lambda': 4.886361816548906}. Best is trial 0 with value: 52.84381830461911.\n",
            "[I 2024-01-25 06:06:41,360] Trial 1 finished with value: 59.18584277926279 and parameters: {'iterations': 10000, 'learning_rate': 0.13993963009677296, 'depth': 7, 'random_strength': 30.456669595064977, 'subsample': 0.9781468646178463, 'min_data_in_leaf': 259, 'reg_lambda': 4.793955999292637}. Best is trial 0 with value: 52.84381830461911.\n",
            "[I 2024-01-25 06:07:34,078] Trial 2 finished with value: 56.500136858845124 and parameters: {'iterations': 8500, 'learning_rate': 0.40276536693061205, 'depth': 2, 'random_strength': 15.355500424655816, 'subsample': 0.7414219757802596, 'min_data_in_leaf': 745, 'reg_lambda': 0.2915588746776958}. Best is trial 0 with value: 52.84381830461911.\n",
            "[I 2024-01-25 06:09:47,747] Trial 3 finished with value: 55.034218324793976 and parameters: {'iterations': 7500, 'learning_rate': 0.06538142700016594, 'depth': 6, 'random_strength': 21.83024086026045, 'subsample': 0.7338142787208605, 'min_data_in_leaf': 671, 'reg_lambda': 1.867028629757227}. Best is trial 0 with value: 52.84381830461911.\n",
            "[I 2024-01-25 06:13:11,768] Trial 4 finished with value: 60.11754464764189 and parameters: {'iterations': 8000, 'learning_rate': 0.10851074265407631, 'depth': 8, 'random_strength': 24.968755679476654, 'subsample': 0.9650035171005467, 'min_data_in_leaf': 482, 'reg_lambda': 4.041651770227298}. Best is trial 0 with value: 52.84381830461911.\n",
            "[I 2024-01-25 06:15:09,845] Trial 5 finished with value: 62.99630238307651 and parameters: {'iterations': 5500, 'learning_rate': 0.476331203097697, 'depth': 7, 'random_strength': 33.64931255651392, 'subsample': 0.991273889963558, 'min_data_in_leaf': 125, 'reg_lambda': 2.0189492779920277}. Best is trial 0 with value: 52.84381830461911.\n",
            "[I 2024-01-25 06:19:49,994] Trial 6 finished with value: 73.30844434472006 and parameters: {'iterations': 9000, 'learning_rate': 0.47827093175188284, 'depth': 9, 'random_strength': 12.471545897100583, 'subsample': 0.8564010859037072, 'min_data_in_leaf': 333, 'reg_lambda': 0.533677354964092}. Best is trial 0 with value: 52.84381830461911.\n",
            "[I 2024-01-25 06:23:01,405] Trial 7 finished with value: 63.83688346225726 and parameters: {'iterations': 7500, 'learning_rate': 0.2808540990765836, 'depth': 8, 'random_strength': 43.0719086406918, 'subsample': 0.7500907456906345, 'min_data_in_leaf': 144, 'reg_lambda': 3.774754829921999}. Best is trial 0 with value: 52.84381830461911.\n",
            "[I 2024-01-25 06:24:11,329] Trial 8 finished with value: 68.70726958988585 and parameters: {'iterations': 6000, 'learning_rate': 0.33115196512532513, 'depth': 4, 'random_strength': 17.557333601837684, 'subsample': 0.8815379927446858, 'min_data_in_leaf': 120, 'reg_lambda': 4.264299346039889}. Best is trial 0 with value: 52.84381830461911.\n",
            "[I 2024-01-25 06:25:58,320] Trial 9 finished with value: 67.66457870014709 and parameters: {'iterations': 5000, 'learning_rate': 0.3809358970337837, 'depth': 7, 'random_strength': 39.01105138796352, 'subsample': 0.5513056283424936, 'min_data_in_leaf': 478, 'reg_lambda': 0.4275022748701227}. Best is trial 0 with value: 52.84381830461911.\n",
            "[I 2024-01-25 06:29:21,537] Trial 10 finished with value: 74.51323290406509 and parameters: {'iterations': 2500, 'learning_rate': 0.18849794068266507, 'depth': 12, 'random_strength': 49.13698882758098, 'subsample': 0.5072456853587304, 'min_data_in_leaf': 951, 'reg_lambda': 3.0856344307131374}. Best is trial 0 with value: 52.84381830461911.\n",
            "[I 2024-01-25 06:31:18,170] Trial 11 finished with value: 51.50443408064422 and parameters: {'iterations': 10000, 'learning_rate': 0.022562027073783797, 'depth': 4, 'random_strength': 22.704954609276108, 'subsample': 0.6263687324495152, 'min_data_in_leaf': 728, 'reg_lambda': 1.9599988661043146}. Best is trial 11 with value: 51.50443408064422.\n",
            "[I 2024-01-25 06:32:20,244] Trial 12 finished with value: 54.08422870232623 and parameters: {'iterations': 10000, 'learning_rate': 0.0318254967368063, 'depth': 2, 'random_strength': 23.494323306196485, 'subsample': 0.6015656898110253, 'min_data_in_leaf': 682, 'reg_lambda': 1.542329797809043}. Best is trial 11 with value: 51.50443408064422.\n",
            "[I 2024-01-25 06:34:15,093] Trial 13 finished with value: 53.77389576066091 and parameters: {'iterations': 10000, 'learning_rate': 0.17997318665538437, 'depth': 4, 'random_strength': 10.759618870829973, 'subsample': 0.6306649615391389, 'min_data_in_leaf': 871, 'reg_lambda': 2.902399074771949}. Best is trial 11 with value: 51.50443408064422.\n",
            "[I 2024-01-25 07:00:39,551] Trial 14 finished with value: 76.82897236888154 and parameters: {'iterations': 4000, 'learning_rate': 0.014932632183316768, 'depth': 15, 'random_strength': 18.850741286578327, 'subsample': 0.6461341554519385, 'min_data_in_leaf': 572, 'reg_lambda': 1.4161388570801001}. Best is trial 11 with value: 51.50443408064422.\n",
            "[I 2024-01-25 07:02:01,582] Trial 15 finished with value: 69.42180944685524 and parameters: {'iterations': 7000, 'learning_rate': 0.0949605288791346, 'depth': 4, 'random_strength': 27.391859148973943, 'subsample': 0.6789979549807583, 'min_data_in_leaf': 353, 'reg_lambda': 4.9918970902028015}. Best is trial 11 with value: 51.50443408064422.\n",
            "[I 2024-01-25 07:02:34,468] Trial 16 finished with value: 91.74253909153231 and parameters: {'iterations': 9000, 'learning_rate': 0.22738090277098155, 'depth': 1, 'random_strength': 18.60340261625711, 'subsample': 0.564086066264092, 'min_data_in_leaf': 798, 'reg_lambda': 3.3667031773852125}. Best is trial 11 with value: 51.50443408064422.\n",
            "[I 2024-01-25 07:06:52,670] Trial 17 finished with value: 63.878072345758284 and parameters: {'iterations': 6500, 'learning_rate': 0.14419878298802896, 'depth': 10, 'random_strength': 10.06509298072725, 'subsample': 0.5027125086801228, 'min_data_in_leaf': 589, 'reg_lambda': 2.6261477573100627}. Best is trial 11 with value: 51.50443408064422.\n",
            "[I 2024-01-25 07:09:05,169] Trial 18 finished with value: 68.17381360586269 and parameters: {'iterations': 9000, 'learning_rate': 0.06400551078273609, 'depth': 5, 'random_strength': 33.160206404094374, 'subsample': 0.6800024396857564, 'min_data_in_leaf': 993, 'reg_lambda': 1.0612948009543546}. Best is trial 11 with value: 51.50443408064422.\n",
            "[I 2024-01-25 07:09:42,637] Trial 19 finished with value: 54.348117635774294 and parameters: {'iterations': 4000, 'learning_rate': 0.2157164657443694, 'depth': 3, 'random_strength': 15.089158800829537, 'subsample': 0.5773611969561845, 'min_data_in_leaf': 398, 'reg_lambda': 2.402827572417298}. Best is trial 11 with value: 51.50443408064422.\n",
            "[I 2024-01-25 07:09:52,823] Trial 20 finished with value: 91.91036619666112 and parameters: {'iterations': 2000, 'learning_rate': 0.281430849703203, 'depth': 1, 'random_strength': 21.700942178633106, 'subsample': 0.8057804054338136, 'min_data_in_leaf': 594, 'reg_lambda': 3.583708689837614}. Best is trial 11 with value: 51.50443408064422.\n",
            "[I 2024-01-25 07:12:18,153] Trial 21 finished with value: 53.78314979984825 and parameters: {'iterations': 10000, 'learning_rate': 0.1680433557147978, 'depth': 5, 'random_strength': 10.54184957595713, 'subsample': 0.6128406047667218, 'min_data_in_leaf': 864, 'reg_lambda': 2.7455685788460142}. Best is trial 11 with value: 51.50443408064422.\n",
            "[I 2024-01-25 07:13:42,717] Trial 22 finished with value: 52.40517087916785 and parameters: {'iterations': 9500, 'learning_rate': 0.09824649875761726, 'depth': 3, 'random_strength': 14.17088195551064, 'subsample': 0.6537178562984164, 'min_data_in_leaf': 871, 'reg_lambda': 4.402918971717863}. Best is trial 11 with value: 51.50443408064422.\n",
            "[I 2024-01-25 07:15:02,062] Trial 23 finished with value: 53.228713534580514 and parameters: {'iterations': 9000, 'learning_rate': 0.10080371008959643, 'depth': 3, 'random_strength': 16.320747868983545, 'subsample': 0.6890272327905754, 'min_data_in_leaf': 799, 'reg_lambda': 4.456590114329699}. Best is trial 11 with value: 51.50443408064422.\n",
            "[I 2024-01-25 07:16:59,827] Trial 24 finished with value: 51.876776339915764 and parameters: {'iterations': 8000, 'learning_rate': 0.05307535143343353, 'depth': 5, 'random_strength': 13.677225891693396, 'subsample': 0.5460794906442975, 'min_data_in_leaf': 691, 'reg_lambda': 4.468892334560817}. Best is trial 11 with value: 51.50443408064422.\n",
            "[I 2024-01-25 07:19:22,712] Trial 25 finished with value: 57.69329001145794 and parameters: {'iterations': 8000, 'learning_rate': 0.05231952559298769, 'depth': 6, 'random_strength': 20.06494243056046, 'subsample': 0.651734715860181, 'min_data_in_leaf': 689, 'reg_lambda': 4.404148609137186}. Best is trial 11 with value: 51.50443408064422.\n",
            "[I 2024-01-25 07:20:22,002] Trial 26 finished with value: 55.89873379284545 and parameters: {'iterations': 9500, 'learning_rate': 0.011748068302604914, 'depth': 2, 'random_strength': 25.46822545565739, 'subsample': 0.5953320520434399, 'min_data_in_leaf': 887, 'reg_lambda': 2.126457467155586}. Best is trial 11 with value: 51.50443408064422.\n",
            "[I 2024-01-25 07:22:26,803] Trial 27 finished with value: 58.03012868777053 and parameters: {'iterations': 8500, 'learning_rate': 0.078606354133904, 'depth': 5, 'random_strength': 28.364953717038567, 'subsample': 0.7092505391311459, 'min_data_in_leaf': 801, 'reg_lambda': 3.4913436188623344}. Best is trial 11 with value: 51.50443408064422.\n",
            "[I 2024-01-25 07:23:38,338] Trial 28 finished with value: 51.429452918197924 and parameters: {'iterations': 8000, 'learning_rate': 0.05078515042769798, 'depth': 3, 'random_strength': 14.176793288653343, 'subsample': 0.5249233420252732, 'min_data_in_leaf': 754, 'reg_lambda': 3.8887691626560406}. Best is trial 28 with value: 51.429452918197924.\n",
            "[I 2024-01-25 07:28:18,020] Trial 29 finished with value: 63.308336810367635 and parameters: {'iterations': 7000, 'learning_rate': 0.04274132575497215, 'depth': 10, 'random_strength': 12.740777129206041, 'subsample': 0.539776386469468, 'min_data_in_leaf': 538, 'reg_lambda': 3.8783138153237204}. Best is trial 28 with value: 51.429452918197924.\n"
          ]
        }
      ],
      "source": [
        "study_production = Hyperparameter_study(mask=production,study_name=\"Production_model_Catboost\",is_diff=0 , n_trials=n_trials)"
      ]
    },
    {
      "cell_type": "code",
      "execution_count": null,
      "metadata": {
        "colab": {
          "background_save": true
        },
        "id": "hREsg6NgL0ft",
        "outputId": "309cbbb6-0dc3-44a2-ffdf-4fad2021c16e"
      },
      "outputs": [
        {
          "data": {
            "text/html": [
              "<html>\n",
              "<head><meta charset=\"utf-8\" /></head>\n",
              "<body>\n",
              "    <div>            <script src=\"https://cdnjs.cloudflare.com/ajax/libs/mathjax/2.7.5/MathJax.js?config=TeX-AMS-MML_SVG\"></script><script type=\"text/javascript\">if (window.MathJax && window.MathJax.Hub && window.MathJax.Hub.Config) {window.MathJax.Hub.Config({SVG: {font: \"STIX-Web\"}});}</script>                <script type=\"text/javascript\">window.PlotlyConfig = {MathJaxConfig: 'local'};</script>\n",
              "        <script charset=\"utf-8\" src=\"https://cdn.plot.ly/plotly-2.24.1.min.js\"></script>                <div id=\"68e5ad9d-3115-4ee0-823b-c7643f6ae758\" class=\"plotly-graph-div\" style=\"height:525px; width:100%;\"></div>            <script type=\"text/javascript\">                                    window.PLOTLYENV=window.PLOTLYENV || {};                                    if (document.getElementById(\"68e5ad9d-3115-4ee0-823b-c7643f6ae758\")) {                    Plotly.newPlot(                        \"68e5ad9d-3115-4ee0-823b-c7643f6ae758\",                        [{\"mode\":\"markers\",\"name\":\"MAE\",\"x\":[0,1,2,3,4,5,6,7,8,9,10,11,12,13,14,15,16,17,18,19,20,21,22,23,24,25,26,27,28,29],\"y\":[52.84381830461911,59.18584277926279,56.500136858845124,55.034218324793976,60.11754464764189,62.99630238307651,73.30844434472006,63.83688346225726,68.70726958988585,67.66457870014709,74.51323290406509,51.50443408064422,54.08422870232623,53.77389576066091,76.82897236888154,69.42180944685524,91.74253909153231,63.878072345758284,68.17381360586269,54.348117635774294,91.91036619666112,53.78314979984825,52.40517087916785,53.228713534580514,51.876776339915764,57.69329001145794,55.89873379284545,58.03012868777053,51.429452918197924,63.308336810367635],\"type\":\"scatter\"},{\"mode\":\"lines\",\"name\":\"Best Value\",\"x\":[0,1,2,3,4,5,6,7,8,9,10,11,12,13,14,15,16,17,18,19,20,21,22,23,24,25,26,27,28,29],\"y\":[52.84381830461911,52.84381830461911,52.84381830461911,52.84381830461911,52.84381830461911,52.84381830461911,52.84381830461911,52.84381830461911,52.84381830461911,52.84381830461911,52.84381830461911,51.50443408064422,51.50443408064422,51.50443408064422,51.50443408064422,51.50443408064422,51.50443408064422,51.50443408064422,51.50443408064422,51.50443408064422,51.50443408064422,51.50443408064422,51.50443408064422,51.50443408064422,51.50443408064422,51.50443408064422,51.50443408064422,51.50443408064422,51.429452918197924,51.429452918197924],\"type\":\"scatter\"},{\"marker\":{\"color\":\"#cccccc\"},\"mode\":\"markers\",\"name\":\"Infeasible Trial\",\"showlegend\":false,\"x\":[],\"y\":[],\"type\":\"scatter\"}],                        {\"title\":{\"text\":\"Optimization History Plot\"},\"xaxis\":{\"title\":{\"text\":\"Trial\"}},\"yaxis\":{\"title\":{\"text\":\"MAE\"}},\"template\":{\"data\":{\"histogram2dcontour\":[{\"type\":\"histogram2dcontour\",\"colorbar\":{\"outlinewidth\":0,\"ticks\":\"\"},\"colorscale\":[[0.0,\"#0d0887\"],[0.1111111111111111,\"#46039f\"],[0.2222222222222222,\"#7201a8\"],[0.3333333333333333,\"#9c179e\"],[0.4444444444444444,\"#bd3786\"],[0.5555555555555556,\"#d8576b\"],[0.6666666666666666,\"#ed7953\"],[0.7777777777777778,\"#fb9f3a\"],[0.8888888888888888,\"#fdca26\"],[1.0,\"#f0f921\"]]}],\"choropleth\":[{\"type\":\"choropleth\",\"colorbar\":{\"outlinewidth\":0,\"ticks\":\"\"}}],\"histogram2d\":[{\"type\":\"histogram2d\",\"colorbar\":{\"outlinewidth\":0,\"ticks\":\"\"},\"colorscale\":[[0.0,\"#0d0887\"],[0.1111111111111111,\"#46039f\"],[0.2222222222222222,\"#7201a8\"],[0.3333333333333333,\"#9c179e\"],[0.4444444444444444,\"#bd3786\"],[0.5555555555555556,\"#d8576b\"],[0.6666666666666666,\"#ed7953\"],[0.7777777777777778,\"#fb9f3a\"],[0.8888888888888888,\"#fdca26\"],[1.0,\"#f0f921\"]]}],\"heatmap\":[{\"type\":\"heatmap\",\"colorbar\":{\"outlinewidth\":0,\"ticks\":\"\"},\"colorscale\":[[0.0,\"#0d0887\"],[0.1111111111111111,\"#46039f\"],[0.2222222222222222,\"#7201a8\"],[0.3333333333333333,\"#9c179e\"],[0.4444444444444444,\"#bd3786\"],[0.5555555555555556,\"#d8576b\"],[0.6666666666666666,\"#ed7953\"],[0.7777777777777778,\"#fb9f3a\"],[0.8888888888888888,\"#fdca26\"],[1.0,\"#f0f921\"]]}],\"heatmapgl\":[{\"type\":\"heatmapgl\",\"colorbar\":{\"outlinewidth\":0,\"ticks\":\"\"},\"colorscale\":[[0.0,\"#0d0887\"],[0.1111111111111111,\"#46039f\"],[0.2222222222222222,\"#7201a8\"],[0.3333333333333333,\"#9c179e\"],[0.4444444444444444,\"#bd3786\"],[0.5555555555555556,\"#d8576b\"],[0.6666666666666666,\"#ed7953\"],[0.7777777777777778,\"#fb9f3a\"],[0.8888888888888888,\"#fdca26\"],[1.0,\"#f0f921\"]]}],\"contourcarpet\":[{\"type\":\"contourcarpet\",\"colorbar\":{\"outlinewidth\":0,\"ticks\":\"\"}}],\"contour\":[{\"type\":\"contour\",\"colorbar\":{\"outlinewidth\":0,\"ticks\":\"\"},\"colorscale\":[[0.0,\"#0d0887\"],[0.1111111111111111,\"#46039f\"],[0.2222222222222222,\"#7201a8\"],[0.3333333333333333,\"#9c179e\"],[0.4444444444444444,\"#bd3786\"],[0.5555555555555556,\"#d8576b\"],[0.6666666666666666,\"#ed7953\"],[0.7777777777777778,\"#fb9f3a\"],[0.8888888888888888,\"#fdca26\"],[1.0,\"#f0f921\"]]}],\"surface\":[{\"type\":\"surface\",\"colorbar\":{\"outlinewidth\":0,\"ticks\":\"\"},\"colorscale\":[[0.0,\"#0d0887\"],[0.1111111111111111,\"#46039f\"],[0.2222222222222222,\"#7201a8\"],[0.3333333333333333,\"#9c179e\"],[0.4444444444444444,\"#bd3786\"],[0.5555555555555556,\"#d8576b\"],[0.6666666666666666,\"#ed7953\"],[0.7777777777777778,\"#fb9f3a\"],[0.8888888888888888,\"#fdca26\"],[1.0,\"#f0f921\"]]}],\"mesh3d\":[{\"type\":\"mesh3d\",\"colorbar\":{\"outlinewidth\":0,\"ticks\":\"\"}}],\"scatter\":[{\"fillpattern\":{\"fillmode\":\"overlay\",\"size\":10,\"solidity\":0.2},\"type\":\"scatter\"}],\"parcoords\":[{\"type\":\"parcoords\",\"line\":{\"colorbar\":{\"outlinewidth\":0,\"ticks\":\"\"}}}],\"scatterpolargl\":[{\"type\":\"scatterpolargl\",\"marker\":{\"colorbar\":{\"outlinewidth\":0,\"ticks\":\"\"}}}],\"bar\":[{\"error_x\":{\"color\":\"#2a3f5f\"},\"error_y\":{\"color\":\"#2a3f5f\"},\"marker\":{\"line\":{\"color\":\"#E5ECF6\",\"width\":0.5},\"pattern\":{\"fillmode\":\"overlay\",\"size\":10,\"solidity\":0.2}},\"type\":\"bar\"}],\"scattergeo\":[{\"type\":\"scattergeo\",\"marker\":{\"colorbar\":{\"outlinewidth\":0,\"ticks\":\"\"}}}],\"scatterpolar\":[{\"type\":\"scatterpolar\",\"marker\":{\"colorbar\":{\"outlinewidth\":0,\"ticks\":\"\"}}}],\"histogram\":[{\"marker\":{\"pattern\":{\"fillmode\":\"overlay\",\"size\":10,\"solidity\":0.2}},\"type\":\"histogram\"}],\"scattergl\":[{\"type\":\"scattergl\",\"marker\":{\"colorbar\":{\"outlinewidth\":0,\"ticks\":\"\"}}}],\"scatter3d\":[{\"type\":\"scatter3d\",\"line\":{\"colorbar\":{\"outlinewidth\":0,\"ticks\":\"\"}},\"marker\":{\"colorbar\":{\"outlinewidth\":0,\"ticks\":\"\"}}}],\"scattermapbox\":[{\"type\":\"scattermapbox\",\"marker\":{\"colorbar\":{\"outlinewidth\":0,\"ticks\":\"\"}}}],\"scatterternary\":[{\"type\":\"scatterternary\",\"marker\":{\"colorbar\":{\"outlinewidth\":0,\"ticks\":\"\"}}}],\"scattercarpet\":[{\"type\":\"scattercarpet\",\"marker\":{\"colorbar\":{\"outlinewidth\":0,\"ticks\":\"\"}}}],\"carpet\":[{\"aaxis\":{\"endlinecolor\":\"#2a3f5f\",\"gridcolor\":\"white\",\"linecolor\":\"white\",\"minorgridcolor\":\"white\",\"startlinecolor\":\"#2a3f5f\"},\"baxis\":{\"endlinecolor\":\"#2a3f5f\",\"gridcolor\":\"white\",\"linecolor\":\"white\",\"minorgridcolor\":\"white\",\"startlinecolor\":\"#2a3f5f\"},\"type\":\"carpet\"}],\"table\":[{\"cells\":{\"fill\":{\"color\":\"#EBF0F8\"},\"line\":{\"color\":\"white\"}},\"header\":{\"fill\":{\"color\":\"#C8D4E3\"},\"line\":{\"color\":\"white\"}},\"type\":\"table\"}],\"barpolar\":[{\"marker\":{\"line\":{\"color\":\"#E5ECF6\",\"width\":0.5},\"pattern\":{\"fillmode\":\"overlay\",\"size\":10,\"solidity\":0.2}},\"type\":\"barpolar\"}],\"pie\":[{\"automargin\":true,\"type\":\"pie\"}]},\"layout\":{\"autotypenumbers\":\"strict\",\"colorway\":[\"#636efa\",\"#EF553B\",\"#00cc96\",\"#ab63fa\",\"#FFA15A\",\"#19d3f3\",\"#FF6692\",\"#B6E880\",\"#FF97FF\",\"#FECB52\"],\"font\":{\"color\":\"#2a3f5f\"},\"hovermode\":\"closest\",\"hoverlabel\":{\"align\":\"left\"},\"paper_bgcolor\":\"white\",\"plot_bgcolor\":\"#E5ECF6\",\"polar\":{\"bgcolor\":\"#E5ECF6\",\"angularaxis\":{\"gridcolor\":\"white\",\"linecolor\":\"white\",\"ticks\":\"\"},\"radialaxis\":{\"gridcolor\":\"white\",\"linecolor\":\"white\",\"ticks\":\"\"}},\"ternary\":{\"bgcolor\":\"#E5ECF6\",\"aaxis\":{\"gridcolor\":\"white\",\"linecolor\":\"white\",\"ticks\":\"\"},\"baxis\":{\"gridcolor\":\"white\",\"linecolor\":\"white\",\"ticks\":\"\"},\"caxis\":{\"gridcolor\":\"white\",\"linecolor\":\"white\",\"ticks\":\"\"}},\"coloraxis\":{\"colorbar\":{\"outlinewidth\":0,\"ticks\":\"\"}},\"colorscale\":{\"sequential\":[[0.0,\"#0d0887\"],[0.1111111111111111,\"#46039f\"],[0.2222222222222222,\"#7201a8\"],[0.3333333333333333,\"#9c179e\"],[0.4444444444444444,\"#bd3786\"],[0.5555555555555556,\"#d8576b\"],[0.6666666666666666,\"#ed7953\"],[0.7777777777777778,\"#fb9f3a\"],[0.8888888888888888,\"#fdca26\"],[1.0,\"#f0f921\"]],\"sequentialminus\":[[0.0,\"#0d0887\"],[0.1111111111111111,\"#46039f\"],[0.2222222222222222,\"#7201a8\"],[0.3333333333333333,\"#9c179e\"],[0.4444444444444444,\"#bd3786\"],[0.5555555555555556,\"#d8576b\"],[0.6666666666666666,\"#ed7953\"],[0.7777777777777778,\"#fb9f3a\"],[0.8888888888888888,\"#fdca26\"],[1.0,\"#f0f921\"]],\"diverging\":[[0,\"#8e0152\"],[0.1,\"#c51b7d\"],[0.2,\"#de77ae\"],[0.3,\"#f1b6da\"],[0.4,\"#fde0ef\"],[0.5,\"#f7f7f7\"],[0.6,\"#e6f5d0\"],[0.7,\"#b8e186\"],[0.8,\"#7fbc41\"],[0.9,\"#4d9221\"],[1,\"#276419\"]]},\"xaxis\":{\"gridcolor\":\"white\",\"linecolor\":\"white\",\"ticks\":\"\",\"title\":{\"standoff\":15},\"zerolinecolor\":\"white\",\"automargin\":true,\"zerolinewidth\":2},\"yaxis\":{\"gridcolor\":\"white\",\"linecolor\":\"white\",\"ticks\":\"\",\"title\":{\"standoff\":15},\"zerolinecolor\":\"white\",\"automargin\":true,\"zerolinewidth\":2},\"scene\":{\"xaxis\":{\"backgroundcolor\":\"#E5ECF6\",\"gridcolor\":\"white\",\"linecolor\":\"white\",\"showbackground\":true,\"ticks\":\"\",\"zerolinecolor\":\"white\",\"gridwidth\":2},\"yaxis\":{\"backgroundcolor\":\"#E5ECF6\",\"gridcolor\":\"white\",\"linecolor\":\"white\",\"showbackground\":true,\"ticks\":\"\",\"zerolinecolor\":\"white\",\"gridwidth\":2},\"zaxis\":{\"backgroundcolor\":\"#E5ECF6\",\"gridcolor\":\"white\",\"linecolor\":\"white\",\"showbackground\":true,\"ticks\":\"\",\"zerolinecolor\":\"white\",\"gridwidth\":2}},\"shapedefaults\":{\"line\":{\"color\":\"#2a3f5f\"}},\"annotationdefaults\":{\"arrowcolor\":\"#2a3f5f\",\"arrowhead\":0,\"arrowwidth\":1},\"geo\":{\"bgcolor\":\"white\",\"landcolor\":\"#E5ECF6\",\"subunitcolor\":\"white\",\"showland\":true,\"showlakes\":true,\"lakecolor\":\"white\"},\"title\":{\"x\":0.05},\"mapbox\":{\"style\":\"light\"}}}},                        {\"responsive\": true}                    ).then(function(){\n",
              "                            \n",
              "var gd = document.getElementById('68e5ad9d-3115-4ee0-823b-c7643f6ae758');\n",
              "var x = new MutationObserver(function (mutations, observer) {{\n",
              "        var display = window.getComputedStyle(gd).display;\n",
              "        if (!display || display === 'none') {{\n",
              "            console.log([gd, 'removed!']);\n",
              "            Plotly.purge(gd);\n",
              "            observer.disconnect();\n",
              "        }}\n",
              "}});\n",
              "\n",
              "// Listen for the removal of the full notebook cells\n",
              "var notebookContainer = gd.closest('#notebook-container');\n",
              "if (notebookContainer) {{\n",
              "    x.observe(notebookContainer, {childList: true});\n",
              "}}\n",
              "\n",
              "// Listen for the clearing of the current output cell\n",
              "var outputEl = gd.closest('.output');\n",
              "if (outputEl) {{\n",
              "    x.observe(outputEl, {childList: true});\n",
              "}}\n",
              "\n",
              "                        })                };                            </script>        </div>\n",
              "</body>\n",
              "</html>"
            ]
          },
          "metadata": {},
          "output_type": "display_data"
        },
        {
          "data": {
            "text/html": [
              "<html>\n",
              "<head><meta charset=\"utf-8\" /></head>\n",
              "<body>\n",
              "    <div>            <script src=\"https://cdnjs.cloudflare.com/ajax/libs/mathjax/2.7.5/MathJax.js?config=TeX-AMS-MML_SVG\"></script><script type=\"text/javascript\">if (window.MathJax && window.MathJax.Hub && window.MathJax.Hub.Config) {window.MathJax.Hub.Config({SVG: {font: \"STIX-Web\"}});}</script>                <script type=\"text/javascript\">window.PlotlyConfig = {MathJaxConfig: 'local'};</script>\n",
              "        <script charset=\"utf-8\" src=\"https://cdn.plot.ly/plotly-2.24.1.min.js\"></script>                <div id=\"1c9c6bfd-fe53-44c5-8eca-92b9a3a9a3eb\" class=\"plotly-graph-div\" style=\"height:525px; width:100%;\"></div>            <script type=\"text/javascript\">                                    window.PLOTLYENV=window.PLOTLYENV || {};                                    if (document.getElementById(\"1c9c6bfd-fe53-44c5-8eca-92b9a3a9a3eb\")) {                    Plotly.newPlot(                        \"1c9c6bfd-fe53-44c5-8eca-92b9a3a9a3eb\",                        [{\"dimensions\":[{\"label\":\"MAE\",\"range\":[51.429452918197924,91.91036619666112],\"values\":[52.84381830461911,59.18584277926279,56.500136858845124,55.034218324793976,60.11754464764189,62.99630238307651,73.30844434472006,63.83688346225726,68.70726958988585,67.66457870014709,74.51323290406509,51.50443408064422,54.08422870232623,53.77389576066091,76.82897236888154,69.42180944685524,91.74253909153231,63.878072345758284,68.17381360586269,54.348117635774294,91.91036619666112,53.78314979984825,52.40517087916785,53.228713534580514,51.876776339915764,57.69329001145794,55.89873379284545,58.03012868777053,51.429452918197924,63.308336810367635]},{\"label\":\"depth\",\"range\":[1,15],\"values\":[4,7,2,6,8,7,9,8,4,7,12,4,2,4,15,4,1,10,5,3,1,5,3,3,5,6,2,5,3,10]},{\"label\":\"iterations\",\"range\":[2000,10000],\"values\":[9000,10000,8500,7500,8000,5500,9000,7500,6000,5000,2500,10000,10000,10000,4000,7000,9000,6500,9000,4000,2000,10000,9500,9000,8000,8000,9500,8500,8000,7000]},{\"label\":\"learning_rate\",\"range\":[0.011748068302604914,0.47827093175188284],\"values\":[0.13100131645113774,0.13993963009677296,0.40276536693061205,0.06538142700016594,0.10851074265407631,0.476331203097697,0.47827093175188284,0.2808540990765836,0.33115196512532513,0.3809358970337837,0.18849794068266507,0.022562027073783797,0.0318254967368063,0.17997318665538437,0.014932632183316768,0.0949605288791346,0.22738090277098155,0.14419878298802896,0.06400551078273609,0.2157164657443694,0.281430849703203,0.1680433557147978,0.09824649875761726,0.10080371008959643,0.05307535143343353,0.05231952559298769,0.011748068302604914,0.078606354133904,0.05078515042769798,0.04274132575497215]},{\"label\":\"min_data_in_leaf\",\"range\":[120,993],\"values\":[463,259,745,671,482,125,333,144,120,478,951,728,682,871,572,353,798,589,993,398,594,864,871,799,691,689,887,801,754,538]},{\"label\":\"random_strength\",\"range\":[10.06509298072725,49.13698882758098],\"values\":[12.94205724425176,30.456669595064977,15.355500424655816,21.83024086026045,24.968755679476654,33.64931255651392,12.471545897100583,43.0719086406918,17.557333601837684,39.01105138796352,49.13698882758098,22.704954609276108,23.494323306196485,10.759618870829973,18.850741286578327,27.391859148973943,18.60340261625711,10.06509298072725,33.160206404094374,15.089158800829537,21.700942178633106,10.54184957595713,14.17088195551064,16.320747868983545,13.677225891693396,20.06494243056046,25.46822545565739,28.364953717038567,14.176793288653343,12.740777129206041]},{\"label\":\"reg_lambda\",\"range\":[0.2915588746776958,4.9918970902028015],\"values\":[4.886361816548906,4.793955999292637,0.2915588746776958,1.867028629757227,4.041651770227298,2.0189492779920277,0.533677354964092,3.774754829921999,4.264299346039889,0.4275022748701227,3.0856344307131374,1.9599988661043146,1.542329797809043,2.902399074771949,1.4161388570801001,4.9918970902028015,3.3667031773852125,2.6261477573100627,1.0612948009543546,2.402827572417298,3.583708689837614,2.7455685788460142,4.402918971717863,4.456590114329699,4.468892334560817,4.404148609137186,2.126457467155586,3.4913436188623344,3.8887691626560406,3.8783138153237204]},{\"label\":\"subsample\",\"range\":[0.5027125086801228,0.991273889963558],\"values\":[0.547751447599385,0.9781468646178463,0.7414219757802596,0.7338142787208605,0.9650035171005467,0.991273889963558,0.8564010859037072,0.7500907456906345,0.8815379927446858,0.5513056283424936,0.5072456853587304,0.6263687324495152,0.6015656898110253,0.6306649615391389,0.6461341554519385,0.6789979549807583,0.564086066264092,0.5027125086801228,0.6800024396857564,0.5773611969561845,0.8057804054338136,0.6128406047667218,0.6537178562984164,0.6890272327905754,0.5460794906442975,0.651734715860181,0.5953320520434399,0.7092505391311459,0.5249233420252732,0.539776386469468]}],\"labelangle\":30,\"labelside\":\"bottom\",\"line\":{\"color\":[52.84381830461911,59.18584277926279,56.500136858845124,55.034218324793976,60.11754464764189,62.99630238307651,73.30844434472006,63.83688346225726,68.70726958988585,67.66457870014709,74.51323290406509,51.50443408064422,54.08422870232623,53.77389576066091,76.82897236888154,69.42180944685524,91.74253909153231,63.878072345758284,68.17381360586269,54.348117635774294,91.91036619666112,53.78314979984825,52.40517087916785,53.228713534580514,51.876776339915764,57.69329001145794,55.89873379284545,58.03012868777053,51.429452918197924,63.308336810367635],\"colorbar\":{\"title\":{\"text\":\"MAE\"}},\"colorscale\":[[0.0,\"rgb(247,251,255)\"],[0.125,\"rgb(222,235,247)\"],[0.25,\"rgb(198,219,239)\"],[0.375,\"rgb(158,202,225)\"],[0.5,\"rgb(107,174,214)\"],[0.625,\"rgb(66,146,198)\"],[0.75,\"rgb(33,113,181)\"],[0.875,\"rgb(8,81,156)\"],[1.0,\"rgb(8,48,107)\"]],\"reversescale\":true,\"showscale\":true},\"type\":\"parcoords\"}],                        {\"title\":{\"text\":\"Parallel Coordinate Plot\"},\"template\":{\"data\":{\"histogram2dcontour\":[{\"type\":\"histogram2dcontour\",\"colorbar\":{\"outlinewidth\":0,\"ticks\":\"\"},\"colorscale\":[[0.0,\"#0d0887\"],[0.1111111111111111,\"#46039f\"],[0.2222222222222222,\"#7201a8\"],[0.3333333333333333,\"#9c179e\"],[0.4444444444444444,\"#bd3786\"],[0.5555555555555556,\"#d8576b\"],[0.6666666666666666,\"#ed7953\"],[0.7777777777777778,\"#fb9f3a\"],[0.8888888888888888,\"#fdca26\"],[1.0,\"#f0f921\"]]}],\"choropleth\":[{\"type\":\"choropleth\",\"colorbar\":{\"outlinewidth\":0,\"ticks\":\"\"}}],\"histogram2d\":[{\"type\":\"histogram2d\",\"colorbar\":{\"outlinewidth\":0,\"ticks\":\"\"},\"colorscale\":[[0.0,\"#0d0887\"],[0.1111111111111111,\"#46039f\"],[0.2222222222222222,\"#7201a8\"],[0.3333333333333333,\"#9c179e\"],[0.4444444444444444,\"#bd3786\"],[0.5555555555555556,\"#d8576b\"],[0.6666666666666666,\"#ed7953\"],[0.7777777777777778,\"#fb9f3a\"],[0.8888888888888888,\"#fdca26\"],[1.0,\"#f0f921\"]]}],\"heatmap\":[{\"type\":\"heatmap\",\"colorbar\":{\"outlinewidth\":0,\"ticks\":\"\"},\"colorscale\":[[0.0,\"#0d0887\"],[0.1111111111111111,\"#46039f\"],[0.2222222222222222,\"#7201a8\"],[0.3333333333333333,\"#9c179e\"],[0.4444444444444444,\"#bd3786\"],[0.5555555555555556,\"#d8576b\"],[0.6666666666666666,\"#ed7953\"],[0.7777777777777778,\"#fb9f3a\"],[0.8888888888888888,\"#fdca26\"],[1.0,\"#f0f921\"]]}],\"heatmapgl\":[{\"type\":\"heatmapgl\",\"colorbar\":{\"outlinewidth\":0,\"ticks\":\"\"},\"colorscale\":[[0.0,\"#0d0887\"],[0.1111111111111111,\"#46039f\"],[0.2222222222222222,\"#7201a8\"],[0.3333333333333333,\"#9c179e\"],[0.4444444444444444,\"#bd3786\"],[0.5555555555555556,\"#d8576b\"],[0.6666666666666666,\"#ed7953\"],[0.7777777777777778,\"#fb9f3a\"],[0.8888888888888888,\"#fdca26\"],[1.0,\"#f0f921\"]]}],\"contourcarpet\":[{\"type\":\"contourcarpet\",\"colorbar\":{\"outlinewidth\":0,\"ticks\":\"\"}}],\"contour\":[{\"type\":\"contour\",\"colorbar\":{\"outlinewidth\":0,\"ticks\":\"\"},\"colorscale\":[[0.0,\"#0d0887\"],[0.1111111111111111,\"#46039f\"],[0.2222222222222222,\"#7201a8\"],[0.3333333333333333,\"#9c179e\"],[0.4444444444444444,\"#bd3786\"],[0.5555555555555556,\"#d8576b\"],[0.6666666666666666,\"#ed7953\"],[0.7777777777777778,\"#fb9f3a\"],[0.8888888888888888,\"#fdca26\"],[1.0,\"#f0f921\"]]}],\"surface\":[{\"type\":\"surface\",\"colorbar\":{\"outlinewidth\":0,\"ticks\":\"\"},\"colorscale\":[[0.0,\"#0d0887\"],[0.1111111111111111,\"#46039f\"],[0.2222222222222222,\"#7201a8\"],[0.3333333333333333,\"#9c179e\"],[0.4444444444444444,\"#bd3786\"],[0.5555555555555556,\"#d8576b\"],[0.6666666666666666,\"#ed7953\"],[0.7777777777777778,\"#fb9f3a\"],[0.8888888888888888,\"#fdca26\"],[1.0,\"#f0f921\"]]}],\"mesh3d\":[{\"type\":\"mesh3d\",\"colorbar\":{\"outlinewidth\":0,\"ticks\":\"\"}}],\"scatter\":[{\"fillpattern\":{\"fillmode\":\"overlay\",\"size\":10,\"solidity\":0.2},\"type\":\"scatter\"}],\"parcoords\":[{\"type\":\"parcoords\",\"line\":{\"colorbar\":{\"outlinewidth\":0,\"ticks\":\"\"}}}],\"scatterpolargl\":[{\"type\":\"scatterpolargl\",\"marker\":{\"colorbar\":{\"outlinewidth\":0,\"ticks\":\"\"}}}],\"bar\":[{\"error_x\":{\"color\":\"#2a3f5f\"},\"error_y\":{\"color\":\"#2a3f5f\"},\"marker\":{\"line\":{\"color\":\"#E5ECF6\",\"width\":0.5},\"pattern\":{\"fillmode\":\"overlay\",\"size\":10,\"solidity\":0.2}},\"type\":\"bar\"}],\"scattergeo\":[{\"type\":\"scattergeo\",\"marker\":{\"colorbar\":{\"outlinewidth\":0,\"ticks\":\"\"}}}],\"scatterpolar\":[{\"type\":\"scatterpolar\",\"marker\":{\"colorbar\":{\"outlinewidth\":0,\"ticks\":\"\"}}}],\"histogram\":[{\"marker\":{\"pattern\":{\"fillmode\":\"overlay\",\"size\":10,\"solidity\":0.2}},\"type\":\"histogram\"}],\"scattergl\":[{\"type\":\"scattergl\",\"marker\":{\"colorbar\":{\"outlinewidth\":0,\"ticks\":\"\"}}}],\"scatter3d\":[{\"type\":\"scatter3d\",\"line\":{\"colorbar\":{\"outlinewidth\":0,\"ticks\":\"\"}},\"marker\":{\"colorbar\":{\"outlinewidth\":0,\"ticks\":\"\"}}}],\"scattermapbox\":[{\"type\":\"scattermapbox\",\"marker\":{\"colorbar\":{\"outlinewidth\":0,\"ticks\":\"\"}}}],\"scatterternary\":[{\"type\":\"scatterternary\",\"marker\":{\"colorbar\":{\"outlinewidth\":0,\"ticks\":\"\"}}}],\"scattercarpet\":[{\"type\":\"scattercarpet\",\"marker\":{\"colorbar\":{\"outlinewidth\":0,\"ticks\":\"\"}}}],\"carpet\":[{\"aaxis\":{\"endlinecolor\":\"#2a3f5f\",\"gridcolor\":\"white\",\"linecolor\":\"white\",\"minorgridcolor\":\"white\",\"startlinecolor\":\"#2a3f5f\"},\"baxis\":{\"endlinecolor\":\"#2a3f5f\",\"gridcolor\":\"white\",\"linecolor\":\"white\",\"minorgridcolor\":\"white\",\"startlinecolor\":\"#2a3f5f\"},\"type\":\"carpet\"}],\"table\":[{\"cells\":{\"fill\":{\"color\":\"#EBF0F8\"},\"line\":{\"color\":\"white\"}},\"header\":{\"fill\":{\"color\":\"#C8D4E3\"},\"line\":{\"color\":\"white\"}},\"type\":\"table\"}],\"barpolar\":[{\"marker\":{\"line\":{\"color\":\"#E5ECF6\",\"width\":0.5},\"pattern\":{\"fillmode\":\"overlay\",\"size\":10,\"solidity\":0.2}},\"type\":\"barpolar\"}],\"pie\":[{\"automargin\":true,\"type\":\"pie\"}]},\"layout\":{\"autotypenumbers\":\"strict\",\"colorway\":[\"#636efa\",\"#EF553B\",\"#00cc96\",\"#ab63fa\",\"#FFA15A\",\"#19d3f3\",\"#FF6692\",\"#B6E880\",\"#FF97FF\",\"#FECB52\"],\"font\":{\"color\":\"#2a3f5f\"},\"hovermode\":\"closest\",\"hoverlabel\":{\"align\":\"left\"},\"paper_bgcolor\":\"white\",\"plot_bgcolor\":\"#E5ECF6\",\"polar\":{\"bgcolor\":\"#E5ECF6\",\"angularaxis\":{\"gridcolor\":\"white\",\"linecolor\":\"white\",\"ticks\":\"\"},\"radialaxis\":{\"gridcolor\":\"white\",\"linecolor\":\"white\",\"ticks\":\"\"}},\"ternary\":{\"bgcolor\":\"#E5ECF6\",\"aaxis\":{\"gridcolor\":\"white\",\"linecolor\":\"white\",\"ticks\":\"\"},\"baxis\":{\"gridcolor\":\"white\",\"linecolor\":\"white\",\"ticks\":\"\"},\"caxis\":{\"gridcolor\":\"white\",\"linecolor\":\"white\",\"ticks\":\"\"}},\"coloraxis\":{\"colorbar\":{\"outlinewidth\":0,\"ticks\":\"\"}},\"colorscale\":{\"sequential\":[[0.0,\"#0d0887\"],[0.1111111111111111,\"#46039f\"],[0.2222222222222222,\"#7201a8\"],[0.3333333333333333,\"#9c179e\"],[0.4444444444444444,\"#bd3786\"],[0.5555555555555556,\"#d8576b\"],[0.6666666666666666,\"#ed7953\"],[0.7777777777777778,\"#fb9f3a\"],[0.8888888888888888,\"#fdca26\"],[1.0,\"#f0f921\"]],\"sequentialminus\":[[0.0,\"#0d0887\"],[0.1111111111111111,\"#46039f\"],[0.2222222222222222,\"#7201a8\"],[0.3333333333333333,\"#9c179e\"],[0.4444444444444444,\"#bd3786\"],[0.5555555555555556,\"#d8576b\"],[0.6666666666666666,\"#ed7953\"],[0.7777777777777778,\"#fb9f3a\"],[0.8888888888888888,\"#fdca26\"],[1.0,\"#f0f921\"]],\"diverging\":[[0,\"#8e0152\"],[0.1,\"#c51b7d\"],[0.2,\"#de77ae\"],[0.3,\"#f1b6da\"],[0.4,\"#fde0ef\"],[0.5,\"#f7f7f7\"],[0.6,\"#e6f5d0\"],[0.7,\"#b8e186\"],[0.8,\"#7fbc41\"],[0.9,\"#4d9221\"],[1,\"#276419\"]]},\"xaxis\":{\"gridcolor\":\"white\",\"linecolor\":\"white\",\"ticks\":\"\",\"title\":{\"standoff\":15},\"zerolinecolor\":\"white\",\"automargin\":true,\"zerolinewidth\":2},\"yaxis\":{\"gridcolor\":\"white\",\"linecolor\":\"white\",\"ticks\":\"\",\"title\":{\"standoff\":15},\"zerolinecolor\":\"white\",\"automargin\":true,\"zerolinewidth\":2},\"scene\":{\"xaxis\":{\"backgroundcolor\":\"#E5ECF6\",\"gridcolor\":\"white\",\"linecolor\":\"white\",\"showbackground\":true,\"ticks\":\"\",\"zerolinecolor\":\"white\",\"gridwidth\":2},\"yaxis\":{\"backgroundcolor\":\"#E5ECF6\",\"gridcolor\":\"white\",\"linecolor\":\"white\",\"showbackground\":true,\"ticks\":\"\",\"zerolinecolor\":\"white\",\"gridwidth\":2},\"zaxis\":{\"backgroundcolor\":\"#E5ECF6\",\"gridcolor\":\"white\",\"linecolor\":\"white\",\"showbackground\":true,\"ticks\":\"\",\"zerolinecolor\":\"white\",\"gridwidth\":2}},\"shapedefaults\":{\"line\":{\"color\":\"#2a3f5f\"}},\"annotationdefaults\":{\"arrowcolor\":\"#2a3f5f\",\"arrowhead\":0,\"arrowwidth\":1},\"geo\":{\"bgcolor\":\"white\",\"landcolor\":\"#E5ECF6\",\"subunitcolor\":\"white\",\"showland\":true,\"showlakes\":true,\"lakecolor\":\"white\"},\"title\":{\"x\":0.05},\"mapbox\":{\"style\":\"light\"}}}},                        {\"responsive\": true}                    ).then(function(){\n",
              "                            \n",
              "var gd = document.getElementById('1c9c6bfd-fe53-44c5-8eca-92b9a3a9a3eb');\n",
              "var x = new MutationObserver(function (mutations, observer) {{\n",
              "        var display = window.getComputedStyle(gd).display;\n",
              "        if (!display || display === 'none') {{\n",
              "            console.log([gd, 'removed!']);\n",
              "            Plotly.purge(gd);\n",
              "            observer.disconnect();\n",
              "        }}\n",
              "}});\n",
              "\n",
              "// Listen for the removal of the full notebook cells\n",
              "var notebookContainer = gd.closest('#notebook-container');\n",
              "if (notebookContainer) {{\n",
              "    x.observe(notebookContainer, {childList: true});\n",
              "}}\n",
              "\n",
              "// Listen for the clearing of the current output cell\n",
              "var outputEl = gd.closest('.output');\n",
              "if (outputEl) {{\n",
              "    x.observe(outputEl, {childList: true});\n",
              "}}\n",
              "\n",
              "                        })                };                            </script>        </div>\n",
              "</body>\n",
              "</html>"
            ]
          },
          "metadata": {},
          "output_type": "display_data"
        },
        {
          "data": {
            "text/html": [
              "<html>\n",
              "<head><meta charset=\"utf-8\" /></head>\n",
              "<body>\n",
              "    <div>            <script src=\"https://cdnjs.cloudflare.com/ajax/libs/mathjax/2.7.5/MathJax.js?config=TeX-AMS-MML_SVG\"></script><script type=\"text/javascript\">if (window.MathJax && window.MathJax.Hub && window.MathJax.Hub.Config) {window.MathJax.Hub.Config({SVG: {font: \"STIX-Web\"}});}</script>                <script type=\"text/javascript\">window.PlotlyConfig = {MathJaxConfig: 'local'};</script>\n",
              "        <script charset=\"utf-8\" src=\"https://cdn.plot.ly/plotly-2.24.1.min.js\"></script>                <div id=\"f9164113-a7b2-4d2b-bf2d-73d162e4e5e9\" class=\"plotly-graph-div\" style=\"height:525px; width:2100px;\"></div>            <script type=\"text/javascript\">                                    window.PLOTLYENV=window.PLOTLYENV || {};                                    if (document.getElementById(\"f9164113-a7b2-4d2b-bf2d-73d162e4e5e9\")) {                    Plotly.newPlot(                        \"f9164113-a7b2-4d2b-bf2d-73d162e4e5e9\",                        [{\"marker\":{\"color\":[0,1,2,3,4,5,6,7,8,9,10,11,12,13,14,15,16,17,18,19,20,21,22,23,24,25,26,27,28,29],\"colorbar\":{\"title\":{\"text\":\"Trial\"},\"x\":1.0,\"xpad\":40},\"colorscale\":[[0.0,\"rgb(247,251,255)\"],[0.125,\"rgb(222,235,247)\"],[0.25,\"rgb(198,219,239)\"],[0.375,\"rgb(158,202,225)\"],[0.5,\"rgb(107,174,214)\"],[0.625,\"rgb(66,146,198)\"],[0.75,\"rgb(33,113,181)\"],[0.875,\"rgb(8,81,156)\"],[1.0,\"rgb(8,48,107)\"]],\"line\":{\"color\":\"Grey\",\"width\":0.5},\"showscale\":true},\"mode\":\"markers\",\"name\":\"Feasible Trial\",\"showlegend\":false,\"x\":[4,7,2,6,8,7,9,8,4,7,12,4,2,4,15,4,1,10,5,3,1,5,3,3,5,6,2,5,3,10],\"y\":[52.84381830461911,59.18584277926279,56.500136858845124,55.034218324793976,60.11754464764189,62.99630238307651,73.30844434472006,63.83688346225726,68.70726958988585,67.66457870014709,74.51323290406509,51.50443408064422,54.08422870232623,53.77389576066091,76.82897236888154,69.42180944685524,91.74253909153231,63.878072345758284,68.17381360586269,54.348117635774294,91.91036619666112,53.78314979984825,52.40517087916785,53.228713534580514,51.876776339915764,57.69329001145794,55.89873379284545,58.03012868777053,51.429452918197924,63.308336810367635],\"type\":\"scatter\",\"xaxis\":\"x\",\"yaxis\":\"y\"},{\"marker\":{\"color\":[0,1,2,3,4,5,6,7,8,9,10,11,12,13,14,15,16,17,18,19,20,21,22,23,24,25,26,27,28,29],\"colorbar\":{\"title\":{\"text\":\"Trial\"},\"x\":1.0,\"xpad\":40},\"colorscale\":[[0.0,\"rgb(247,251,255)\"],[0.125,\"rgb(222,235,247)\"],[0.25,\"rgb(198,219,239)\"],[0.375,\"rgb(158,202,225)\"],[0.5,\"rgb(107,174,214)\"],[0.625,\"rgb(66,146,198)\"],[0.75,\"rgb(33,113,181)\"],[0.875,\"rgb(8,81,156)\"],[1.0,\"rgb(8,48,107)\"]],\"line\":{\"color\":\"Grey\",\"width\":0.5},\"showscale\":false},\"mode\":\"markers\",\"name\":\"Feasible Trial\",\"showlegend\":false,\"x\":[9000,10000,8500,7500,8000,5500,9000,7500,6000,5000,2500,10000,10000,10000,4000,7000,9000,6500,9000,4000,2000,10000,9500,9000,8000,8000,9500,8500,8000,7000],\"y\":[52.84381830461911,59.18584277926279,56.500136858845124,55.034218324793976,60.11754464764189,62.99630238307651,73.30844434472006,63.83688346225726,68.70726958988585,67.66457870014709,74.51323290406509,51.50443408064422,54.08422870232623,53.77389576066091,76.82897236888154,69.42180944685524,91.74253909153231,63.878072345758284,68.17381360586269,54.348117635774294,91.91036619666112,53.78314979984825,52.40517087916785,53.228713534580514,51.876776339915764,57.69329001145794,55.89873379284545,58.03012868777053,51.429452918197924,63.308336810367635],\"type\":\"scatter\",\"xaxis\":\"x2\",\"yaxis\":\"y2\"},{\"marker\":{\"color\":[0,1,2,3,4,5,6,7,8,9,10,11,12,13,14,15,16,17,18,19,20,21,22,23,24,25,26,27,28,29],\"colorbar\":{\"title\":{\"text\":\"Trial\"},\"x\":1.0,\"xpad\":40},\"colorscale\":[[0.0,\"rgb(247,251,255)\"],[0.125,\"rgb(222,235,247)\"],[0.25,\"rgb(198,219,239)\"],[0.375,\"rgb(158,202,225)\"],[0.5,\"rgb(107,174,214)\"],[0.625,\"rgb(66,146,198)\"],[0.75,\"rgb(33,113,181)\"],[0.875,\"rgb(8,81,156)\"],[1.0,\"rgb(8,48,107)\"]],\"line\":{\"color\":\"Grey\",\"width\":0.5},\"showscale\":false},\"mode\":\"markers\",\"name\":\"Feasible Trial\",\"showlegend\":false,\"x\":[0.13100131645113774,0.13993963009677296,0.40276536693061205,0.06538142700016594,0.10851074265407631,0.476331203097697,0.47827093175188284,0.2808540990765836,0.33115196512532513,0.3809358970337837,0.18849794068266507,0.022562027073783797,0.0318254967368063,0.17997318665538437,0.014932632183316768,0.0949605288791346,0.22738090277098155,0.14419878298802896,0.06400551078273609,0.2157164657443694,0.281430849703203,0.1680433557147978,0.09824649875761726,0.10080371008959643,0.05307535143343353,0.05231952559298769,0.011748068302604914,0.078606354133904,0.05078515042769798,0.04274132575497215],\"y\":[52.84381830461911,59.18584277926279,56.500136858845124,55.034218324793976,60.11754464764189,62.99630238307651,73.30844434472006,63.83688346225726,68.70726958988585,67.66457870014709,74.51323290406509,51.50443408064422,54.08422870232623,53.77389576066091,76.82897236888154,69.42180944685524,91.74253909153231,63.878072345758284,68.17381360586269,54.348117635774294,91.91036619666112,53.78314979984825,52.40517087916785,53.228713534580514,51.876776339915764,57.69329001145794,55.89873379284545,58.03012868777053,51.429452918197924,63.308336810367635],\"type\":\"scatter\",\"xaxis\":\"x3\",\"yaxis\":\"y3\"},{\"marker\":{\"color\":[0,1,2,3,4,5,6,7,8,9,10,11,12,13,14,15,16,17,18,19,20,21,22,23,24,25,26,27,28,29],\"colorbar\":{\"title\":{\"text\":\"Trial\"},\"x\":1.0,\"xpad\":40},\"colorscale\":[[0.0,\"rgb(247,251,255)\"],[0.125,\"rgb(222,235,247)\"],[0.25,\"rgb(198,219,239)\"],[0.375,\"rgb(158,202,225)\"],[0.5,\"rgb(107,174,214)\"],[0.625,\"rgb(66,146,198)\"],[0.75,\"rgb(33,113,181)\"],[0.875,\"rgb(8,81,156)\"],[1.0,\"rgb(8,48,107)\"]],\"line\":{\"color\":\"Grey\",\"width\":0.5},\"showscale\":false},\"mode\":\"markers\",\"name\":\"Feasible Trial\",\"showlegend\":false,\"x\":[463,259,745,671,482,125,333,144,120,478,951,728,682,871,572,353,798,589,993,398,594,864,871,799,691,689,887,801,754,538],\"y\":[52.84381830461911,59.18584277926279,56.500136858845124,55.034218324793976,60.11754464764189,62.99630238307651,73.30844434472006,63.83688346225726,68.70726958988585,67.66457870014709,74.51323290406509,51.50443408064422,54.08422870232623,53.77389576066091,76.82897236888154,69.42180944685524,91.74253909153231,63.878072345758284,68.17381360586269,54.348117635774294,91.91036619666112,53.78314979984825,52.40517087916785,53.228713534580514,51.876776339915764,57.69329001145794,55.89873379284545,58.03012868777053,51.429452918197924,63.308336810367635],\"type\":\"scatter\",\"xaxis\":\"x4\",\"yaxis\":\"y4\"},{\"marker\":{\"color\":[0,1,2,3,4,5,6,7,8,9,10,11,12,13,14,15,16,17,18,19,20,21,22,23,24,25,26,27,28,29],\"colorbar\":{\"title\":{\"text\":\"Trial\"},\"x\":1.0,\"xpad\":40},\"colorscale\":[[0.0,\"rgb(247,251,255)\"],[0.125,\"rgb(222,235,247)\"],[0.25,\"rgb(198,219,239)\"],[0.375,\"rgb(158,202,225)\"],[0.5,\"rgb(107,174,214)\"],[0.625,\"rgb(66,146,198)\"],[0.75,\"rgb(33,113,181)\"],[0.875,\"rgb(8,81,156)\"],[1.0,\"rgb(8,48,107)\"]],\"line\":{\"color\":\"Grey\",\"width\":0.5},\"showscale\":false},\"mode\":\"markers\",\"name\":\"Feasible Trial\",\"showlegend\":false,\"x\":[12.94205724425176,30.456669595064977,15.355500424655816,21.83024086026045,24.968755679476654,33.64931255651392,12.471545897100583,43.0719086406918,17.557333601837684,39.01105138796352,49.13698882758098,22.704954609276108,23.494323306196485,10.759618870829973,18.850741286578327,27.391859148973943,18.60340261625711,10.06509298072725,33.160206404094374,15.089158800829537,21.700942178633106,10.54184957595713,14.17088195551064,16.320747868983545,13.677225891693396,20.06494243056046,25.46822545565739,28.364953717038567,14.176793288653343,12.740777129206041],\"y\":[52.84381830461911,59.18584277926279,56.500136858845124,55.034218324793976,60.11754464764189,62.99630238307651,73.30844434472006,63.83688346225726,68.70726958988585,67.66457870014709,74.51323290406509,51.50443408064422,54.08422870232623,53.77389576066091,76.82897236888154,69.42180944685524,91.74253909153231,63.878072345758284,68.17381360586269,54.348117635774294,91.91036619666112,53.78314979984825,52.40517087916785,53.228713534580514,51.876776339915764,57.69329001145794,55.89873379284545,58.03012868777053,51.429452918197924,63.308336810367635],\"type\":\"scatter\",\"xaxis\":\"x5\",\"yaxis\":\"y5\"},{\"marker\":{\"color\":[0,1,2,3,4,5,6,7,8,9,10,11,12,13,14,15,16,17,18,19,20,21,22,23,24,25,26,27,28,29],\"colorbar\":{\"title\":{\"text\":\"Trial\"},\"x\":1.0,\"xpad\":40},\"colorscale\":[[0.0,\"rgb(247,251,255)\"],[0.125,\"rgb(222,235,247)\"],[0.25,\"rgb(198,219,239)\"],[0.375,\"rgb(158,202,225)\"],[0.5,\"rgb(107,174,214)\"],[0.625,\"rgb(66,146,198)\"],[0.75,\"rgb(33,113,181)\"],[0.875,\"rgb(8,81,156)\"],[1.0,\"rgb(8,48,107)\"]],\"line\":{\"color\":\"Grey\",\"width\":0.5},\"showscale\":false},\"mode\":\"markers\",\"name\":\"Feasible Trial\",\"showlegend\":false,\"x\":[4.886361816548906,4.793955999292637,0.2915588746776958,1.867028629757227,4.041651770227298,2.0189492779920277,0.533677354964092,3.774754829921999,4.264299346039889,0.4275022748701227,3.0856344307131374,1.9599988661043146,1.542329797809043,2.902399074771949,1.4161388570801001,4.9918970902028015,3.3667031773852125,2.6261477573100627,1.0612948009543546,2.402827572417298,3.583708689837614,2.7455685788460142,4.402918971717863,4.456590114329699,4.468892334560817,4.404148609137186,2.126457467155586,3.4913436188623344,3.8887691626560406,3.8783138153237204],\"y\":[52.84381830461911,59.18584277926279,56.500136858845124,55.034218324793976,60.11754464764189,62.99630238307651,73.30844434472006,63.83688346225726,68.70726958988585,67.66457870014709,74.51323290406509,51.50443408064422,54.08422870232623,53.77389576066091,76.82897236888154,69.42180944685524,91.74253909153231,63.878072345758284,68.17381360586269,54.348117635774294,91.91036619666112,53.78314979984825,52.40517087916785,53.228713534580514,51.876776339915764,57.69329001145794,55.89873379284545,58.03012868777053,51.429452918197924,63.308336810367635],\"type\":\"scatter\",\"xaxis\":\"x6\",\"yaxis\":\"y6\"},{\"marker\":{\"color\":[0,1,2,3,4,5,6,7,8,9,10,11,12,13,14,15,16,17,18,19,20,21,22,23,24,25,26,27,28,29],\"colorbar\":{\"title\":{\"text\":\"Trial\"},\"x\":1.0,\"xpad\":40},\"colorscale\":[[0.0,\"rgb(247,251,255)\"],[0.125,\"rgb(222,235,247)\"],[0.25,\"rgb(198,219,239)\"],[0.375,\"rgb(158,202,225)\"],[0.5,\"rgb(107,174,214)\"],[0.625,\"rgb(66,146,198)\"],[0.75,\"rgb(33,113,181)\"],[0.875,\"rgb(8,81,156)\"],[1.0,\"rgb(8,48,107)\"]],\"line\":{\"color\":\"Grey\",\"width\":0.5},\"showscale\":false},\"mode\":\"markers\",\"name\":\"Feasible Trial\",\"showlegend\":false,\"x\":[0.547751447599385,0.9781468646178463,0.7414219757802596,0.7338142787208605,0.9650035171005467,0.991273889963558,0.8564010859037072,0.7500907456906345,0.8815379927446858,0.5513056283424936,0.5072456853587304,0.6263687324495152,0.6015656898110253,0.6306649615391389,0.6461341554519385,0.6789979549807583,0.564086066264092,0.5027125086801228,0.6800024396857564,0.5773611969561845,0.8057804054338136,0.6128406047667218,0.6537178562984164,0.6890272327905754,0.5460794906442975,0.651734715860181,0.5953320520434399,0.7092505391311459,0.5249233420252732,0.539776386469468],\"y\":[52.84381830461911,59.18584277926279,56.500136858845124,55.034218324793976,60.11754464764189,62.99630238307651,73.30844434472006,63.83688346225726,68.70726958988585,67.66457870014709,74.51323290406509,51.50443408064422,54.08422870232623,53.77389576066091,76.82897236888154,69.42180944685524,91.74253909153231,63.878072345758284,68.17381360586269,54.348117635774294,91.91036619666112,53.78314979984825,52.40517087916785,53.228713534580514,51.876776339915764,57.69329001145794,55.89873379284545,58.03012868777053,51.429452918197924,63.308336810367635],\"type\":\"scatter\",\"xaxis\":\"x7\",\"yaxis\":\"y7\"}],                        {\"template\":{\"data\":{\"histogram2dcontour\":[{\"type\":\"histogram2dcontour\",\"colorbar\":{\"outlinewidth\":0,\"ticks\":\"\"},\"colorscale\":[[0.0,\"#0d0887\"],[0.1111111111111111,\"#46039f\"],[0.2222222222222222,\"#7201a8\"],[0.3333333333333333,\"#9c179e\"],[0.4444444444444444,\"#bd3786\"],[0.5555555555555556,\"#d8576b\"],[0.6666666666666666,\"#ed7953\"],[0.7777777777777778,\"#fb9f3a\"],[0.8888888888888888,\"#fdca26\"],[1.0,\"#f0f921\"]]}],\"choropleth\":[{\"type\":\"choropleth\",\"colorbar\":{\"outlinewidth\":0,\"ticks\":\"\"}}],\"histogram2d\":[{\"type\":\"histogram2d\",\"colorbar\":{\"outlinewidth\":0,\"ticks\":\"\"},\"colorscale\":[[0.0,\"#0d0887\"],[0.1111111111111111,\"#46039f\"],[0.2222222222222222,\"#7201a8\"],[0.3333333333333333,\"#9c179e\"],[0.4444444444444444,\"#bd3786\"],[0.5555555555555556,\"#d8576b\"],[0.6666666666666666,\"#ed7953\"],[0.7777777777777778,\"#fb9f3a\"],[0.8888888888888888,\"#fdca26\"],[1.0,\"#f0f921\"]]}],\"heatmap\":[{\"type\":\"heatmap\",\"colorbar\":{\"outlinewidth\":0,\"ticks\":\"\"},\"colorscale\":[[0.0,\"#0d0887\"],[0.1111111111111111,\"#46039f\"],[0.2222222222222222,\"#7201a8\"],[0.3333333333333333,\"#9c179e\"],[0.4444444444444444,\"#bd3786\"],[0.5555555555555556,\"#d8576b\"],[0.6666666666666666,\"#ed7953\"],[0.7777777777777778,\"#fb9f3a\"],[0.8888888888888888,\"#fdca26\"],[1.0,\"#f0f921\"]]}],\"heatmapgl\":[{\"type\":\"heatmapgl\",\"colorbar\":{\"outlinewidth\":0,\"ticks\":\"\"},\"colorscale\":[[0.0,\"#0d0887\"],[0.1111111111111111,\"#46039f\"],[0.2222222222222222,\"#7201a8\"],[0.3333333333333333,\"#9c179e\"],[0.4444444444444444,\"#bd3786\"],[0.5555555555555556,\"#d8576b\"],[0.6666666666666666,\"#ed7953\"],[0.7777777777777778,\"#fb9f3a\"],[0.8888888888888888,\"#fdca26\"],[1.0,\"#f0f921\"]]}],\"contourcarpet\":[{\"type\":\"contourcarpet\",\"colorbar\":{\"outlinewidth\":0,\"ticks\":\"\"}}],\"contour\":[{\"type\":\"contour\",\"colorbar\":{\"outlinewidth\":0,\"ticks\":\"\"},\"colorscale\":[[0.0,\"#0d0887\"],[0.1111111111111111,\"#46039f\"],[0.2222222222222222,\"#7201a8\"],[0.3333333333333333,\"#9c179e\"],[0.4444444444444444,\"#bd3786\"],[0.5555555555555556,\"#d8576b\"],[0.6666666666666666,\"#ed7953\"],[0.7777777777777778,\"#fb9f3a\"],[0.8888888888888888,\"#fdca26\"],[1.0,\"#f0f921\"]]}],\"surface\":[{\"type\":\"surface\",\"colorbar\":{\"outlinewidth\":0,\"ticks\":\"\"},\"colorscale\":[[0.0,\"#0d0887\"],[0.1111111111111111,\"#46039f\"],[0.2222222222222222,\"#7201a8\"],[0.3333333333333333,\"#9c179e\"],[0.4444444444444444,\"#bd3786\"],[0.5555555555555556,\"#d8576b\"],[0.6666666666666666,\"#ed7953\"],[0.7777777777777778,\"#fb9f3a\"],[0.8888888888888888,\"#fdca26\"],[1.0,\"#f0f921\"]]}],\"mesh3d\":[{\"type\":\"mesh3d\",\"colorbar\":{\"outlinewidth\":0,\"ticks\":\"\"}}],\"scatter\":[{\"fillpattern\":{\"fillmode\":\"overlay\",\"size\":10,\"solidity\":0.2},\"type\":\"scatter\"}],\"parcoords\":[{\"type\":\"parcoords\",\"line\":{\"colorbar\":{\"outlinewidth\":0,\"ticks\":\"\"}}}],\"scatterpolargl\":[{\"type\":\"scatterpolargl\",\"marker\":{\"colorbar\":{\"outlinewidth\":0,\"ticks\":\"\"}}}],\"bar\":[{\"error_x\":{\"color\":\"#2a3f5f\"},\"error_y\":{\"color\":\"#2a3f5f\"},\"marker\":{\"line\":{\"color\":\"#E5ECF6\",\"width\":0.5},\"pattern\":{\"fillmode\":\"overlay\",\"size\":10,\"solidity\":0.2}},\"type\":\"bar\"}],\"scattergeo\":[{\"type\":\"scattergeo\",\"marker\":{\"colorbar\":{\"outlinewidth\":0,\"ticks\":\"\"}}}],\"scatterpolar\":[{\"type\":\"scatterpolar\",\"marker\":{\"colorbar\":{\"outlinewidth\":0,\"ticks\":\"\"}}}],\"histogram\":[{\"marker\":{\"pattern\":{\"fillmode\":\"overlay\",\"size\":10,\"solidity\":0.2}},\"type\":\"histogram\"}],\"scattergl\":[{\"type\":\"scattergl\",\"marker\":{\"colorbar\":{\"outlinewidth\":0,\"ticks\":\"\"}}}],\"scatter3d\":[{\"type\":\"scatter3d\",\"line\":{\"colorbar\":{\"outlinewidth\":0,\"ticks\":\"\"}},\"marker\":{\"colorbar\":{\"outlinewidth\":0,\"ticks\":\"\"}}}],\"scattermapbox\":[{\"type\":\"scattermapbox\",\"marker\":{\"colorbar\":{\"outlinewidth\":0,\"ticks\":\"\"}}}],\"scatterternary\":[{\"type\":\"scatterternary\",\"marker\":{\"colorbar\":{\"outlinewidth\":0,\"ticks\":\"\"}}}],\"scattercarpet\":[{\"type\":\"scattercarpet\",\"marker\":{\"colorbar\":{\"outlinewidth\":0,\"ticks\":\"\"}}}],\"carpet\":[{\"aaxis\":{\"endlinecolor\":\"#2a3f5f\",\"gridcolor\":\"white\",\"linecolor\":\"white\",\"minorgridcolor\":\"white\",\"startlinecolor\":\"#2a3f5f\"},\"baxis\":{\"endlinecolor\":\"#2a3f5f\",\"gridcolor\":\"white\",\"linecolor\":\"white\",\"minorgridcolor\":\"white\",\"startlinecolor\":\"#2a3f5f\"},\"type\":\"carpet\"}],\"table\":[{\"cells\":{\"fill\":{\"color\":\"#EBF0F8\"},\"line\":{\"color\":\"white\"}},\"header\":{\"fill\":{\"color\":\"#C8D4E3\"},\"line\":{\"color\":\"white\"}},\"type\":\"table\"}],\"barpolar\":[{\"marker\":{\"line\":{\"color\":\"#E5ECF6\",\"width\":0.5},\"pattern\":{\"fillmode\":\"overlay\",\"size\":10,\"solidity\":0.2}},\"type\":\"barpolar\"}],\"pie\":[{\"automargin\":true,\"type\":\"pie\"}]},\"layout\":{\"autotypenumbers\":\"strict\",\"colorway\":[\"#636efa\",\"#EF553B\",\"#00cc96\",\"#ab63fa\",\"#FFA15A\",\"#19d3f3\",\"#FF6692\",\"#B6E880\",\"#FF97FF\",\"#FECB52\"],\"font\":{\"color\":\"#2a3f5f\"},\"hovermode\":\"closest\",\"hoverlabel\":{\"align\":\"left\"},\"paper_bgcolor\":\"white\",\"plot_bgcolor\":\"#E5ECF6\",\"polar\":{\"bgcolor\":\"#E5ECF6\",\"angularaxis\":{\"gridcolor\":\"white\",\"linecolor\":\"white\",\"ticks\":\"\"},\"radialaxis\":{\"gridcolor\":\"white\",\"linecolor\":\"white\",\"ticks\":\"\"}},\"ternary\":{\"bgcolor\":\"#E5ECF6\",\"aaxis\":{\"gridcolor\":\"white\",\"linecolor\":\"white\",\"ticks\":\"\"},\"baxis\":{\"gridcolor\":\"white\",\"linecolor\":\"white\",\"ticks\":\"\"},\"caxis\":{\"gridcolor\":\"white\",\"linecolor\":\"white\",\"ticks\":\"\"}},\"coloraxis\":{\"colorbar\":{\"outlinewidth\":0,\"ticks\":\"\"}},\"colorscale\":{\"sequential\":[[0.0,\"#0d0887\"],[0.1111111111111111,\"#46039f\"],[0.2222222222222222,\"#7201a8\"],[0.3333333333333333,\"#9c179e\"],[0.4444444444444444,\"#bd3786\"],[0.5555555555555556,\"#d8576b\"],[0.6666666666666666,\"#ed7953\"],[0.7777777777777778,\"#fb9f3a\"],[0.8888888888888888,\"#fdca26\"],[1.0,\"#f0f921\"]],\"sequentialminus\":[[0.0,\"#0d0887\"],[0.1111111111111111,\"#46039f\"],[0.2222222222222222,\"#7201a8\"],[0.3333333333333333,\"#9c179e\"],[0.4444444444444444,\"#bd3786\"],[0.5555555555555556,\"#d8576b\"],[0.6666666666666666,\"#ed7953\"],[0.7777777777777778,\"#fb9f3a\"],[0.8888888888888888,\"#fdca26\"],[1.0,\"#f0f921\"]],\"diverging\":[[0,\"#8e0152\"],[0.1,\"#c51b7d\"],[0.2,\"#de77ae\"],[0.3,\"#f1b6da\"],[0.4,\"#fde0ef\"],[0.5,\"#f7f7f7\"],[0.6,\"#e6f5d0\"],[0.7,\"#b8e186\"],[0.8,\"#7fbc41\"],[0.9,\"#4d9221\"],[1,\"#276419\"]]},\"xaxis\":{\"gridcolor\":\"white\",\"linecolor\":\"white\",\"ticks\":\"\",\"title\":{\"standoff\":15},\"zerolinecolor\":\"white\",\"automargin\":true,\"zerolinewidth\":2},\"yaxis\":{\"gridcolor\":\"white\",\"linecolor\":\"white\",\"ticks\":\"\",\"title\":{\"standoff\":15},\"zerolinecolor\":\"white\",\"automargin\":true,\"zerolinewidth\":2},\"scene\":{\"xaxis\":{\"backgroundcolor\":\"#E5ECF6\",\"gridcolor\":\"white\",\"linecolor\":\"white\",\"showbackground\":true,\"ticks\":\"\",\"zerolinecolor\":\"white\",\"gridwidth\":2},\"yaxis\":{\"backgroundcolor\":\"#E5ECF6\",\"gridcolor\":\"white\",\"linecolor\":\"white\",\"showbackground\":true,\"ticks\":\"\",\"zerolinecolor\":\"white\",\"gridwidth\":2},\"zaxis\":{\"backgroundcolor\":\"#E5ECF6\",\"gridcolor\":\"white\",\"linecolor\":\"white\",\"showbackground\":true,\"ticks\":\"\",\"zerolinecolor\":\"white\",\"gridwidth\":2}},\"shapedefaults\":{\"line\":{\"color\":\"#2a3f5f\"}},\"annotationdefaults\":{\"arrowcolor\":\"#2a3f5f\",\"arrowhead\":0,\"arrowwidth\":1},\"geo\":{\"bgcolor\":\"white\",\"landcolor\":\"#E5ECF6\",\"subunitcolor\":\"white\",\"showland\":true,\"showlakes\":true,\"lakecolor\":\"white\"},\"title\":{\"x\":0.05},\"mapbox\":{\"style\":\"light\"}}},\"xaxis\":{\"anchor\":\"y\",\"domain\":[0.0,0.1183673469387755],\"title\":{\"text\":\"depth\"}},\"yaxis\":{\"anchor\":\"x\",\"domain\":[0.0,1.0],\"title\":{\"text\":\"MAE\"}},\"xaxis2\":{\"anchor\":\"y2\",\"domain\":[0.14693877551020407,0.26530612244897955],\"title\":{\"text\":\"iterations\"}},\"yaxis2\":{\"anchor\":\"x2\",\"domain\":[0.0,1.0],\"matches\":\"y\",\"showticklabels\":false},\"xaxis3\":{\"anchor\":\"y3\",\"domain\":[0.29387755102040813,0.4122448979591836],\"title\":{\"text\":\"learning_rate\"}},\"yaxis3\":{\"anchor\":\"x3\",\"domain\":[0.0,1.0],\"matches\":\"y\",\"showticklabels\":false},\"xaxis4\":{\"anchor\":\"y4\",\"domain\":[0.4408163265306122,0.5591836734693877],\"title\":{\"text\":\"min_data_in_leaf\"}},\"yaxis4\":{\"anchor\":\"x4\",\"domain\":[0.0,1.0],\"matches\":\"y\",\"showticklabels\":false},\"xaxis5\":{\"anchor\":\"y5\",\"domain\":[0.5877551020408163,0.7061224489795918],\"title\":{\"text\":\"random_strength\"}},\"yaxis5\":{\"anchor\":\"x5\",\"domain\":[0.0,1.0],\"matches\":\"y\",\"showticklabels\":false},\"xaxis6\":{\"anchor\":\"y6\",\"domain\":[0.7346938775510204,0.8530612244897959],\"title\":{\"text\":\"reg_lambda\"}},\"yaxis6\":{\"anchor\":\"x6\",\"domain\":[0.0,1.0],\"matches\":\"y\",\"showticklabels\":false},\"xaxis7\":{\"anchor\":\"y7\",\"domain\":[0.8816326530612244,0.9999999999999999],\"title\":{\"text\":\"subsample\"}},\"yaxis7\":{\"anchor\":\"x7\",\"domain\":[0.0,1.0],\"matches\":\"y\",\"showticklabels\":false},\"title\":{\"text\":\"Slice Plot\"},\"width\":2100},                        {\"responsive\": true}                    ).then(function(){\n",
              "                            \n",
              "var gd = document.getElementById('f9164113-a7b2-4d2b-bf2d-73d162e4e5e9');\n",
              "var x = new MutationObserver(function (mutations, observer) {{\n",
              "        var display = window.getComputedStyle(gd).display;\n",
              "        if (!display || display === 'none') {{\n",
              "            console.log([gd, 'removed!']);\n",
              "            Plotly.purge(gd);\n",
              "            observer.disconnect();\n",
              "        }}\n",
              "}});\n",
              "\n",
              "// Listen for the removal of the full notebook cells\n",
              "var notebookContainer = gd.closest('#notebook-container');\n",
              "if (notebookContainer) {{\n",
              "    x.observe(notebookContainer, {childList: true});\n",
              "}}\n",
              "\n",
              "// Listen for the clearing of the current output cell\n",
              "var outputEl = gd.closest('.output');\n",
              "if (outputEl) {{\n",
              "    x.observe(outputEl, {childList: true});\n",
              "}}\n",
              "\n",
              "                        })                };                            </script>        </div>\n",
              "</body>\n",
              "</html>"
            ]
          },
          "metadata": {},
          "output_type": "display_data"
        },
        {
          "data": {
            "text/html": [
              "<html>\n",
              "<head><meta charset=\"utf-8\" /></head>\n",
              "<body>\n",
              "    <div>            <script src=\"https://cdnjs.cloudflare.com/ajax/libs/mathjax/2.7.5/MathJax.js?config=TeX-AMS-MML_SVG\"></script><script type=\"text/javascript\">if (window.MathJax && window.MathJax.Hub && window.MathJax.Hub.Config) {window.MathJax.Hub.Config({SVG: {font: \"STIX-Web\"}});}</script>                <script type=\"text/javascript\">window.PlotlyConfig = {MathJaxConfig: 'local'};</script>\n",
              "        <script charset=\"utf-8\" src=\"https://cdn.plot.ly/plotly-2.24.1.min.js\"></script>                <div id=\"0b7f91e9-a6f1-46cd-8fdf-e21c56d7b8fb\" class=\"plotly-graph-div\" style=\"height:525px; width:100%;\"></div>            <script type=\"text/javascript\">                                    window.PLOTLYENV=window.PLOTLYENV || {};                                    if (document.getElementById(\"0b7f91e9-a6f1-46cd-8fdf-e21c56d7b8fb\")) {                    Plotly.newPlot(                        \"0b7f91e9-a6f1-46cd-8fdf-e21c56d7b8fb\",                        [{\"cliponaxis\":false,\"hovertemplate\":[\"subsample (FloatDistribution): 0.022398645112890136\\u003cextra\\u003e\\u003c\\u002fextra\\u003e\",\"learning_rate (FloatDistribution): 0.03048641812016848\\u003cextra\\u003e\\u003c\\u002fextra\\u003e\",\"random_strength (FloatDistribution): 0.04013434458601838\\u003cextra\\u003e\\u003c\\u002fextra\\u003e\",\"reg_lambda (FloatDistribution): 0.08225533374465363\\u003cextra\\u003e\\u003c\\u002fextra\\u003e\",\"min_data_in_leaf (IntDistribution): 0.0954365688501022\\u003cextra\\u003e\\u003c\\u002fextra\\u003e\",\"iterations (IntDistribution): 0.2591616971721052\\u003cextra\\u003e\\u003c\\u002fextra\\u003e\",\"depth (IntDistribution): 0.4701269924140619\\u003cextra\\u003e\\u003c\\u002fextra\\u003e\"],\"name\":\"MAE\",\"orientation\":\"h\",\"text\":[\"0.02\",\"0.03\",\"0.04\",\"0.08\",\"0.10\",\"0.26\",\"0.47\"],\"textposition\":\"outside\",\"x\":[0.022398645112890136,0.03048641812016848,0.04013434458601838,0.08225533374465363,0.0954365688501022,0.2591616971721052,0.4701269924140619],\"y\":[\"subsample\",\"learning_rate\",\"random_strength\",\"reg_lambda\",\"min_data_in_leaf\",\"iterations\",\"depth\"],\"type\":\"bar\"}],                        {\"title\":{\"text\":\"Hyperparameter Importances\"},\"xaxis\":{\"title\":{\"text\":\"Hyperparameter Importance\"}},\"yaxis\":{\"title\":{\"text\":\"Hyperparameter\"}},\"template\":{\"data\":{\"histogram2dcontour\":[{\"type\":\"histogram2dcontour\",\"colorbar\":{\"outlinewidth\":0,\"ticks\":\"\"},\"colorscale\":[[0.0,\"#0d0887\"],[0.1111111111111111,\"#46039f\"],[0.2222222222222222,\"#7201a8\"],[0.3333333333333333,\"#9c179e\"],[0.4444444444444444,\"#bd3786\"],[0.5555555555555556,\"#d8576b\"],[0.6666666666666666,\"#ed7953\"],[0.7777777777777778,\"#fb9f3a\"],[0.8888888888888888,\"#fdca26\"],[1.0,\"#f0f921\"]]}],\"choropleth\":[{\"type\":\"choropleth\",\"colorbar\":{\"outlinewidth\":0,\"ticks\":\"\"}}],\"histogram2d\":[{\"type\":\"histogram2d\",\"colorbar\":{\"outlinewidth\":0,\"ticks\":\"\"},\"colorscale\":[[0.0,\"#0d0887\"],[0.1111111111111111,\"#46039f\"],[0.2222222222222222,\"#7201a8\"],[0.3333333333333333,\"#9c179e\"],[0.4444444444444444,\"#bd3786\"],[0.5555555555555556,\"#d8576b\"],[0.6666666666666666,\"#ed7953\"],[0.7777777777777778,\"#fb9f3a\"],[0.8888888888888888,\"#fdca26\"],[1.0,\"#f0f921\"]]}],\"heatmap\":[{\"type\":\"heatmap\",\"colorbar\":{\"outlinewidth\":0,\"ticks\":\"\"},\"colorscale\":[[0.0,\"#0d0887\"],[0.1111111111111111,\"#46039f\"],[0.2222222222222222,\"#7201a8\"],[0.3333333333333333,\"#9c179e\"],[0.4444444444444444,\"#bd3786\"],[0.5555555555555556,\"#d8576b\"],[0.6666666666666666,\"#ed7953\"],[0.7777777777777778,\"#fb9f3a\"],[0.8888888888888888,\"#fdca26\"],[1.0,\"#f0f921\"]]}],\"heatmapgl\":[{\"type\":\"heatmapgl\",\"colorbar\":{\"outlinewidth\":0,\"ticks\":\"\"},\"colorscale\":[[0.0,\"#0d0887\"],[0.1111111111111111,\"#46039f\"],[0.2222222222222222,\"#7201a8\"],[0.3333333333333333,\"#9c179e\"],[0.4444444444444444,\"#bd3786\"],[0.5555555555555556,\"#d8576b\"],[0.6666666666666666,\"#ed7953\"],[0.7777777777777778,\"#fb9f3a\"],[0.8888888888888888,\"#fdca26\"],[1.0,\"#f0f921\"]]}],\"contourcarpet\":[{\"type\":\"contourcarpet\",\"colorbar\":{\"outlinewidth\":0,\"ticks\":\"\"}}],\"contour\":[{\"type\":\"contour\",\"colorbar\":{\"outlinewidth\":0,\"ticks\":\"\"},\"colorscale\":[[0.0,\"#0d0887\"],[0.1111111111111111,\"#46039f\"],[0.2222222222222222,\"#7201a8\"],[0.3333333333333333,\"#9c179e\"],[0.4444444444444444,\"#bd3786\"],[0.5555555555555556,\"#d8576b\"],[0.6666666666666666,\"#ed7953\"],[0.7777777777777778,\"#fb9f3a\"],[0.8888888888888888,\"#fdca26\"],[1.0,\"#f0f921\"]]}],\"surface\":[{\"type\":\"surface\",\"colorbar\":{\"outlinewidth\":0,\"ticks\":\"\"},\"colorscale\":[[0.0,\"#0d0887\"],[0.1111111111111111,\"#46039f\"],[0.2222222222222222,\"#7201a8\"],[0.3333333333333333,\"#9c179e\"],[0.4444444444444444,\"#bd3786\"],[0.5555555555555556,\"#d8576b\"],[0.6666666666666666,\"#ed7953\"],[0.7777777777777778,\"#fb9f3a\"],[0.8888888888888888,\"#fdca26\"],[1.0,\"#f0f921\"]]}],\"mesh3d\":[{\"type\":\"mesh3d\",\"colorbar\":{\"outlinewidth\":0,\"ticks\":\"\"}}],\"scatter\":[{\"fillpattern\":{\"fillmode\":\"overlay\",\"size\":10,\"solidity\":0.2},\"type\":\"scatter\"}],\"parcoords\":[{\"type\":\"parcoords\",\"line\":{\"colorbar\":{\"outlinewidth\":0,\"ticks\":\"\"}}}],\"scatterpolargl\":[{\"type\":\"scatterpolargl\",\"marker\":{\"colorbar\":{\"outlinewidth\":0,\"ticks\":\"\"}}}],\"bar\":[{\"error_x\":{\"color\":\"#2a3f5f\"},\"error_y\":{\"color\":\"#2a3f5f\"},\"marker\":{\"line\":{\"color\":\"#E5ECF6\",\"width\":0.5},\"pattern\":{\"fillmode\":\"overlay\",\"size\":10,\"solidity\":0.2}},\"type\":\"bar\"}],\"scattergeo\":[{\"type\":\"scattergeo\",\"marker\":{\"colorbar\":{\"outlinewidth\":0,\"ticks\":\"\"}}}],\"scatterpolar\":[{\"type\":\"scatterpolar\",\"marker\":{\"colorbar\":{\"outlinewidth\":0,\"ticks\":\"\"}}}],\"histogram\":[{\"marker\":{\"pattern\":{\"fillmode\":\"overlay\",\"size\":10,\"solidity\":0.2}},\"type\":\"histogram\"}],\"scattergl\":[{\"type\":\"scattergl\",\"marker\":{\"colorbar\":{\"outlinewidth\":0,\"ticks\":\"\"}}}],\"scatter3d\":[{\"type\":\"scatter3d\",\"line\":{\"colorbar\":{\"outlinewidth\":0,\"ticks\":\"\"}},\"marker\":{\"colorbar\":{\"outlinewidth\":0,\"ticks\":\"\"}}}],\"scattermapbox\":[{\"type\":\"scattermapbox\",\"marker\":{\"colorbar\":{\"outlinewidth\":0,\"ticks\":\"\"}}}],\"scatterternary\":[{\"type\":\"scatterternary\",\"marker\":{\"colorbar\":{\"outlinewidth\":0,\"ticks\":\"\"}}}],\"scattercarpet\":[{\"type\":\"scattercarpet\",\"marker\":{\"colorbar\":{\"outlinewidth\":0,\"ticks\":\"\"}}}],\"carpet\":[{\"aaxis\":{\"endlinecolor\":\"#2a3f5f\",\"gridcolor\":\"white\",\"linecolor\":\"white\",\"minorgridcolor\":\"white\",\"startlinecolor\":\"#2a3f5f\"},\"baxis\":{\"endlinecolor\":\"#2a3f5f\",\"gridcolor\":\"white\",\"linecolor\":\"white\",\"minorgridcolor\":\"white\",\"startlinecolor\":\"#2a3f5f\"},\"type\":\"carpet\"}],\"table\":[{\"cells\":{\"fill\":{\"color\":\"#EBF0F8\"},\"line\":{\"color\":\"white\"}},\"header\":{\"fill\":{\"color\":\"#C8D4E3\"},\"line\":{\"color\":\"white\"}},\"type\":\"table\"}],\"barpolar\":[{\"marker\":{\"line\":{\"color\":\"#E5ECF6\",\"width\":0.5},\"pattern\":{\"fillmode\":\"overlay\",\"size\":10,\"solidity\":0.2}},\"type\":\"barpolar\"}],\"pie\":[{\"automargin\":true,\"type\":\"pie\"}]},\"layout\":{\"autotypenumbers\":\"strict\",\"colorway\":[\"#636efa\",\"#EF553B\",\"#00cc96\",\"#ab63fa\",\"#FFA15A\",\"#19d3f3\",\"#FF6692\",\"#B6E880\",\"#FF97FF\",\"#FECB52\"],\"font\":{\"color\":\"#2a3f5f\"},\"hovermode\":\"closest\",\"hoverlabel\":{\"align\":\"left\"},\"paper_bgcolor\":\"white\",\"plot_bgcolor\":\"#E5ECF6\",\"polar\":{\"bgcolor\":\"#E5ECF6\",\"angularaxis\":{\"gridcolor\":\"white\",\"linecolor\":\"white\",\"ticks\":\"\"},\"radialaxis\":{\"gridcolor\":\"white\",\"linecolor\":\"white\",\"ticks\":\"\"}},\"ternary\":{\"bgcolor\":\"#E5ECF6\",\"aaxis\":{\"gridcolor\":\"white\",\"linecolor\":\"white\",\"ticks\":\"\"},\"baxis\":{\"gridcolor\":\"white\",\"linecolor\":\"white\",\"ticks\":\"\"},\"caxis\":{\"gridcolor\":\"white\",\"linecolor\":\"white\",\"ticks\":\"\"}},\"coloraxis\":{\"colorbar\":{\"outlinewidth\":0,\"ticks\":\"\"}},\"colorscale\":{\"sequential\":[[0.0,\"#0d0887\"],[0.1111111111111111,\"#46039f\"],[0.2222222222222222,\"#7201a8\"],[0.3333333333333333,\"#9c179e\"],[0.4444444444444444,\"#bd3786\"],[0.5555555555555556,\"#d8576b\"],[0.6666666666666666,\"#ed7953\"],[0.7777777777777778,\"#fb9f3a\"],[0.8888888888888888,\"#fdca26\"],[1.0,\"#f0f921\"]],\"sequentialminus\":[[0.0,\"#0d0887\"],[0.1111111111111111,\"#46039f\"],[0.2222222222222222,\"#7201a8\"],[0.3333333333333333,\"#9c179e\"],[0.4444444444444444,\"#bd3786\"],[0.5555555555555556,\"#d8576b\"],[0.6666666666666666,\"#ed7953\"],[0.7777777777777778,\"#fb9f3a\"],[0.8888888888888888,\"#fdca26\"],[1.0,\"#f0f921\"]],\"diverging\":[[0,\"#8e0152\"],[0.1,\"#c51b7d\"],[0.2,\"#de77ae\"],[0.3,\"#f1b6da\"],[0.4,\"#fde0ef\"],[0.5,\"#f7f7f7\"],[0.6,\"#e6f5d0\"],[0.7,\"#b8e186\"],[0.8,\"#7fbc41\"],[0.9,\"#4d9221\"],[1,\"#276419\"]]},\"xaxis\":{\"gridcolor\":\"white\",\"linecolor\":\"white\",\"ticks\":\"\",\"title\":{\"standoff\":15},\"zerolinecolor\":\"white\",\"automargin\":true,\"zerolinewidth\":2},\"yaxis\":{\"gridcolor\":\"white\",\"linecolor\":\"white\",\"ticks\":\"\",\"title\":{\"standoff\":15},\"zerolinecolor\":\"white\",\"automargin\":true,\"zerolinewidth\":2},\"scene\":{\"xaxis\":{\"backgroundcolor\":\"#E5ECF6\",\"gridcolor\":\"white\",\"linecolor\":\"white\",\"showbackground\":true,\"ticks\":\"\",\"zerolinecolor\":\"white\",\"gridwidth\":2},\"yaxis\":{\"backgroundcolor\":\"#E5ECF6\",\"gridcolor\":\"white\",\"linecolor\":\"white\",\"showbackground\":true,\"ticks\":\"\",\"zerolinecolor\":\"white\",\"gridwidth\":2},\"zaxis\":{\"backgroundcolor\":\"#E5ECF6\",\"gridcolor\":\"white\",\"linecolor\":\"white\",\"showbackground\":true,\"ticks\":\"\",\"zerolinecolor\":\"white\",\"gridwidth\":2}},\"shapedefaults\":{\"line\":{\"color\":\"#2a3f5f\"}},\"annotationdefaults\":{\"arrowcolor\":\"#2a3f5f\",\"arrowhead\":0,\"arrowwidth\":1},\"geo\":{\"bgcolor\":\"white\",\"landcolor\":\"#E5ECF6\",\"subunitcolor\":\"white\",\"showland\":true,\"showlakes\":true,\"lakecolor\":\"white\"},\"title\":{\"x\":0.05},\"mapbox\":{\"style\":\"light\"}}}},                        {\"responsive\": true}                    ).then(function(){\n",
              "                            \n",
              "var gd = document.getElementById('0b7f91e9-a6f1-46cd-8fdf-e21c56d7b8fb');\n",
              "var x = new MutationObserver(function (mutations, observer) {{\n",
              "        var display = window.getComputedStyle(gd).display;\n",
              "        if (!display || display === 'none') {{\n",
              "            console.log([gd, 'removed!']);\n",
              "            Plotly.purge(gd);\n",
              "            observer.disconnect();\n",
              "        }}\n",
              "}});\n",
              "\n",
              "// Listen for the removal of the full notebook cells\n",
              "var notebookContainer = gd.closest('#notebook-container');\n",
              "if (notebookContainer) {{\n",
              "    x.observe(notebookContainer, {childList: true});\n",
              "}}\n",
              "\n",
              "// Listen for the clearing of the current output cell\n",
              "var outputEl = gd.closest('.output');\n",
              "if (outputEl) {{\n",
              "    x.observe(outputEl, {childList: true});\n",
              "}}\n",
              "\n",
              "                        })                };                            </script>        </div>\n",
              "</body>\n",
              "</html>"
            ]
          },
          "metadata": {},
          "output_type": "display_data"
        },
        {
          "data": {
            "text/html": [
              "<html>\n",
              "<head><meta charset=\"utf-8\" /></head>\n",
              "<body>\n",
              "    <div>            <script src=\"https://cdnjs.cloudflare.com/ajax/libs/mathjax/2.7.5/MathJax.js?config=TeX-AMS-MML_SVG\"></script><script type=\"text/javascript\">if (window.MathJax && window.MathJax.Hub && window.MathJax.Hub.Config) {window.MathJax.Hub.Config({SVG: {font: \"STIX-Web\"}});}</script>                <script type=\"text/javascript\">window.PlotlyConfig = {MathJaxConfig: 'local'};</script>\n",
              "        <script charset=\"utf-8\" src=\"https://cdn.plot.ly/plotly-2.24.1.min.js\"></script>                <div id=\"3307e247-0573-4408-a87e-e5e9483ee8ff\" class=\"plotly-graph-div\" style=\"height:525px; width:100%;\"></div>            <script type=\"text/javascript\">                                    window.PLOTLYENV=window.PLOTLYENV || {};                                    if (document.getElementById(\"3307e247-0573-4408-a87e-e5e9483ee8ff\")) {                    Plotly.newPlot(                        \"3307e247-0573-4408-a87e-e5e9483ee8ff\",                        [{\"mode\":\"lines\",\"name\":\"Production_model_Catboost\",\"x\":[51.429452918197924,51.83835103212179,52.24724914604567,52.656147259969536,53.065045373893405,53.47394348781728,53.88284160174115,54.29173971566502,54.70063782958889,55.10953594351276,55.51843405743663,55.927332171360504,56.33623028528437,56.74512839920824,57.15402651313211,57.562924627055985,57.97182274097985,58.38072085490373,58.7896189688276,59.198517082751465,59.60741519667533,60.01631331059921,60.42521142452308,60.834109538446945,61.24300765237082,61.65190576629469,62.06080388021856,62.46970199414243,62.8786001080663,63.28749822199017,63.696396335914045,64.10529444983791,64.51419256376178,64.92309067768565,65.33198879160952,65.7408869055334,66.14978501945727,66.55868313338114,66.967581247305,67.37647936122887,67.78537747515276,68.19427558907663,68.6031737030005,69.01207181692436,69.42096993084823,69.8298680447721,70.23876615869597,70.64766427261983,71.05656238654372,71.46546050046759,71.87435861439145,72.28325672831532,72.69215484223919,73.10105295616307,73.50995107008694,73.91884918401081,74.32774729793468,74.73664541185855,75.14554352578241,75.55444163970628,75.96333975363015,76.37223786755403,76.7811359814779,77.19003409540177,77.59893220932564,78.00783032324952,78.41672843717339,78.82562655109726,79.23452466502113,79.643422778945,80.05232089286886,80.46121900679273,80.8701171207166,81.27901523464048,81.68791334856435,82.09681146248822,82.50570957641209,82.91460769033596,83.32350580425984,83.7324039181837,84.14130203210757,84.55020014603144,84.95909825995531,85.36799637387918,85.77689448780305,86.18579260172692,86.5946907156508,87.00358882957467,87.41248694349854,87.82138505742242,88.23028317134629,88.63918128527015,89.04807939919402,89.45697751311789,89.86587562704176,90.27477374096563,90.6836718548895,91.09256996881336,91.50146808273723,91.91036619666112],\"y\":[0.03333333333333333,0.06666666666666667,0.1,0.13333333333333333,0.16666666666666666,0.2,0.26666666666666666,0.3,0.3333333333333333,0.36666666666666664,0.36666666666666664,0.4,0.4,0.43333333333333335,0.43333333333333335,0.43333333333333335,0.4666666666666667,0.5,0.5,0.5333333333333333,0.5333333333333333,0.5333333333333333,0.5666666666666667,0.5666666666666667,0.5666666666666667,0.5666666666666667,0.5666666666666667,0.5666666666666667,0.5666666666666667,0.6,0.6333333333333333,0.7,0.7,0.7,0.7,0.7,0.7,0.7,0.7,0.7,0.7333333333333333,0.7666666666666667,0.7666666666666667,0.8,0.8,0.8333333333333334,0.8333333333333334,0.8333333333333334,0.8333333333333334,0.8333333333333334,0.8333333333333334,0.8333333333333334,0.8333333333333334,0.8333333333333334,0.8666666666666667,0.8666666666666667,0.8666666666666667,0.9,0.9,0.9,0.9,0.9,0.9,0.9333333333333333,0.9333333333333333,0.9333333333333333,0.9333333333333333,0.9333333333333333,0.9333333333333333,0.9333333333333333,0.9333333333333333,0.9333333333333333,0.9333333333333333,0.9333333333333333,0.9333333333333333,0.9333333333333333,0.9333333333333333,0.9333333333333333,0.9333333333333333,0.9333333333333333,0.9333333333333333,0.9333333333333333,0.9333333333333333,0.9333333333333333,0.9333333333333333,0.9333333333333333,0.9333333333333333,0.9333333333333333,0.9333333333333333,0.9333333333333333,0.9333333333333333,0.9333333333333333,0.9333333333333333,0.9333333333333333,0.9333333333333333,0.9333333333333333,0.9333333333333333,0.9333333333333333,0.9333333333333333,1.0],\"type\":\"scatter\"}],                        {\"title\":{\"text\":\"Empirical Distribution Function Plot\"},\"xaxis\":{\"title\":{\"text\":\"MAE\"}},\"yaxis\":{\"title\":{\"text\":\"Cumulative Probability\"},\"range\":[0,1]},\"template\":{\"data\":{\"histogram2dcontour\":[{\"type\":\"histogram2dcontour\",\"colorbar\":{\"outlinewidth\":0,\"ticks\":\"\"},\"colorscale\":[[0.0,\"#0d0887\"],[0.1111111111111111,\"#46039f\"],[0.2222222222222222,\"#7201a8\"],[0.3333333333333333,\"#9c179e\"],[0.4444444444444444,\"#bd3786\"],[0.5555555555555556,\"#d8576b\"],[0.6666666666666666,\"#ed7953\"],[0.7777777777777778,\"#fb9f3a\"],[0.8888888888888888,\"#fdca26\"],[1.0,\"#f0f921\"]]}],\"choropleth\":[{\"type\":\"choropleth\",\"colorbar\":{\"outlinewidth\":0,\"ticks\":\"\"}}],\"histogram2d\":[{\"type\":\"histogram2d\",\"colorbar\":{\"outlinewidth\":0,\"ticks\":\"\"},\"colorscale\":[[0.0,\"#0d0887\"],[0.1111111111111111,\"#46039f\"],[0.2222222222222222,\"#7201a8\"],[0.3333333333333333,\"#9c179e\"],[0.4444444444444444,\"#bd3786\"],[0.5555555555555556,\"#d8576b\"],[0.6666666666666666,\"#ed7953\"],[0.7777777777777778,\"#fb9f3a\"],[0.8888888888888888,\"#fdca26\"],[1.0,\"#f0f921\"]]}],\"heatmap\":[{\"type\":\"heatmap\",\"colorbar\":{\"outlinewidth\":0,\"ticks\":\"\"},\"colorscale\":[[0.0,\"#0d0887\"],[0.1111111111111111,\"#46039f\"],[0.2222222222222222,\"#7201a8\"],[0.3333333333333333,\"#9c179e\"],[0.4444444444444444,\"#bd3786\"],[0.5555555555555556,\"#d8576b\"],[0.6666666666666666,\"#ed7953\"],[0.7777777777777778,\"#fb9f3a\"],[0.8888888888888888,\"#fdca26\"],[1.0,\"#f0f921\"]]}],\"heatmapgl\":[{\"type\":\"heatmapgl\",\"colorbar\":{\"outlinewidth\":0,\"ticks\":\"\"},\"colorscale\":[[0.0,\"#0d0887\"],[0.1111111111111111,\"#46039f\"],[0.2222222222222222,\"#7201a8\"],[0.3333333333333333,\"#9c179e\"],[0.4444444444444444,\"#bd3786\"],[0.5555555555555556,\"#d8576b\"],[0.6666666666666666,\"#ed7953\"],[0.7777777777777778,\"#fb9f3a\"],[0.8888888888888888,\"#fdca26\"],[1.0,\"#f0f921\"]]}],\"contourcarpet\":[{\"type\":\"contourcarpet\",\"colorbar\":{\"outlinewidth\":0,\"ticks\":\"\"}}],\"contour\":[{\"type\":\"contour\",\"colorbar\":{\"outlinewidth\":0,\"ticks\":\"\"},\"colorscale\":[[0.0,\"#0d0887\"],[0.1111111111111111,\"#46039f\"],[0.2222222222222222,\"#7201a8\"],[0.3333333333333333,\"#9c179e\"],[0.4444444444444444,\"#bd3786\"],[0.5555555555555556,\"#d8576b\"],[0.6666666666666666,\"#ed7953\"],[0.7777777777777778,\"#fb9f3a\"],[0.8888888888888888,\"#fdca26\"],[1.0,\"#f0f921\"]]}],\"surface\":[{\"type\":\"surface\",\"colorbar\":{\"outlinewidth\":0,\"ticks\":\"\"},\"colorscale\":[[0.0,\"#0d0887\"],[0.1111111111111111,\"#46039f\"],[0.2222222222222222,\"#7201a8\"],[0.3333333333333333,\"#9c179e\"],[0.4444444444444444,\"#bd3786\"],[0.5555555555555556,\"#d8576b\"],[0.6666666666666666,\"#ed7953\"],[0.7777777777777778,\"#fb9f3a\"],[0.8888888888888888,\"#fdca26\"],[1.0,\"#f0f921\"]]}],\"mesh3d\":[{\"type\":\"mesh3d\",\"colorbar\":{\"outlinewidth\":0,\"ticks\":\"\"}}],\"scatter\":[{\"fillpattern\":{\"fillmode\":\"overlay\",\"size\":10,\"solidity\":0.2},\"type\":\"scatter\"}],\"parcoords\":[{\"type\":\"parcoords\",\"line\":{\"colorbar\":{\"outlinewidth\":0,\"ticks\":\"\"}}}],\"scatterpolargl\":[{\"type\":\"scatterpolargl\",\"marker\":{\"colorbar\":{\"outlinewidth\":0,\"ticks\":\"\"}}}],\"bar\":[{\"error_x\":{\"color\":\"#2a3f5f\"},\"error_y\":{\"color\":\"#2a3f5f\"},\"marker\":{\"line\":{\"color\":\"#E5ECF6\",\"width\":0.5},\"pattern\":{\"fillmode\":\"overlay\",\"size\":10,\"solidity\":0.2}},\"type\":\"bar\"}],\"scattergeo\":[{\"type\":\"scattergeo\",\"marker\":{\"colorbar\":{\"outlinewidth\":0,\"ticks\":\"\"}}}],\"scatterpolar\":[{\"type\":\"scatterpolar\",\"marker\":{\"colorbar\":{\"outlinewidth\":0,\"ticks\":\"\"}}}],\"histogram\":[{\"marker\":{\"pattern\":{\"fillmode\":\"overlay\",\"size\":10,\"solidity\":0.2}},\"type\":\"histogram\"}],\"scattergl\":[{\"type\":\"scattergl\",\"marker\":{\"colorbar\":{\"outlinewidth\":0,\"ticks\":\"\"}}}],\"scatter3d\":[{\"type\":\"scatter3d\",\"line\":{\"colorbar\":{\"outlinewidth\":0,\"ticks\":\"\"}},\"marker\":{\"colorbar\":{\"outlinewidth\":0,\"ticks\":\"\"}}}],\"scattermapbox\":[{\"type\":\"scattermapbox\",\"marker\":{\"colorbar\":{\"outlinewidth\":0,\"ticks\":\"\"}}}],\"scatterternary\":[{\"type\":\"scatterternary\",\"marker\":{\"colorbar\":{\"outlinewidth\":0,\"ticks\":\"\"}}}],\"scattercarpet\":[{\"type\":\"scattercarpet\",\"marker\":{\"colorbar\":{\"outlinewidth\":0,\"ticks\":\"\"}}}],\"carpet\":[{\"aaxis\":{\"endlinecolor\":\"#2a3f5f\",\"gridcolor\":\"white\",\"linecolor\":\"white\",\"minorgridcolor\":\"white\",\"startlinecolor\":\"#2a3f5f\"},\"baxis\":{\"endlinecolor\":\"#2a3f5f\",\"gridcolor\":\"white\",\"linecolor\":\"white\",\"minorgridcolor\":\"white\",\"startlinecolor\":\"#2a3f5f\"},\"type\":\"carpet\"}],\"table\":[{\"cells\":{\"fill\":{\"color\":\"#EBF0F8\"},\"line\":{\"color\":\"white\"}},\"header\":{\"fill\":{\"color\":\"#C8D4E3\"},\"line\":{\"color\":\"white\"}},\"type\":\"table\"}],\"barpolar\":[{\"marker\":{\"line\":{\"color\":\"#E5ECF6\",\"width\":0.5},\"pattern\":{\"fillmode\":\"overlay\",\"size\":10,\"solidity\":0.2}},\"type\":\"barpolar\"}],\"pie\":[{\"automargin\":true,\"type\":\"pie\"}]},\"layout\":{\"autotypenumbers\":\"strict\",\"colorway\":[\"#636efa\",\"#EF553B\",\"#00cc96\",\"#ab63fa\",\"#FFA15A\",\"#19d3f3\",\"#FF6692\",\"#B6E880\",\"#FF97FF\",\"#FECB52\"],\"font\":{\"color\":\"#2a3f5f\"},\"hovermode\":\"closest\",\"hoverlabel\":{\"align\":\"left\"},\"paper_bgcolor\":\"white\",\"plot_bgcolor\":\"#E5ECF6\",\"polar\":{\"bgcolor\":\"#E5ECF6\",\"angularaxis\":{\"gridcolor\":\"white\",\"linecolor\":\"white\",\"ticks\":\"\"},\"radialaxis\":{\"gridcolor\":\"white\",\"linecolor\":\"white\",\"ticks\":\"\"}},\"ternary\":{\"bgcolor\":\"#E5ECF6\",\"aaxis\":{\"gridcolor\":\"white\",\"linecolor\":\"white\",\"ticks\":\"\"},\"baxis\":{\"gridcolor\":\"white\",\"linecolor\":\"white\",\"ticks\":\"\"},\"caxis\":{\"gridcolor\":\"white\",\"linecolor\":\"white\",\"ticks\":\"\"}},\"coloraxis\":{\"colorbar\":{\"outlinewidth\":0,\"ticks\":\"\"}},\"colorscale\":{\"sequential\":[[0.0,\"#0d0887\"],[0.1111111111111111,\"#46039f\"],[0.2222222222222222,\"#7201a8\"],[0.3333333333333333,\"#9c179e\"],[0.4444444444444444,\"#bd3786\"],[0.5555555555555556,\"#d8576b\"],[0.6666666666666666,\"#ed7953\"],[0.7777777777777778,\"#fb9f3a\"],[0.8888888888888888,\"#fdca26\"],[1.0,\"#f0f921\"]],\"sequentialminus\":[[0.0,\"#0d0887\"],[0.1111111111111111,\"#46039f\"],[0.2222222222222222,\"#7201a8\"],[0.3333333333333333,\"#9c179e\"],[0.4444444444444444,\"#bd3786\"],[0.5555555555555556,\"#d8576b\"],[0.6666666666666666,\"#ed7953\"],[0.7777777777777778,\"#fb9f3a\"],[0.8888888888888888,\"#fdca26\"],[1.0,\"#f0f921\"]],\"diverging\":[[0,\"#8e0152\"],[0.1,\"#c51b7d\"],[0.2,\"#de77ae\"],[0.3,\"#f1b6da\"],[0.4,\"#fde0ef\"],[0.5,\"#f7f7f7\"],[0.6,\"#e6f5d0\"],[0.7,\"#b8e186\"],[0.8,\"#7fbc41\"],[0.9,\"#4d9221\"],[1,\"#276419\"]]},\"xaxis\":{\"gridcolor\":\"white\",\"linecolor\":\"white\",\"ticks\":\"\",\"title\":{\"standoff\":15},\"zerolinecolor\":\"white\",\"automargin\":true,\"zerolinewidth\":2},\"yaxis\":{\"gridcolor\":\"white\",\"linecolor\":\"white\",\"ticks\":\"\",\"title\":{\"standoff\":15},\"zerolinecolor\":\"white\",\"automargin\":true,\"zerolinewidth\":2},\"scene\":{\"xaxis\":{\"backgroundcolor\":\"#E5ECF6\",\"gridcolor\":\"white\",\"linecolor\":\"white\",\"showbackground\":true,\"ticks\":\"\",\"zerolinecolor\":\"white\",\"gridwidth\":2},\"yaxis\":{\"backgroundcolor\":\"#E5ECF6\",\"gridcolor\":\"white\",\"linecolor\":\"white\",\"showbackground\":true,\"ticks\":\"\",\"zerolinecolor\":\"white\",\"gridwidth\":2},\"zaxis\":{\"backgroundcolor\":\"#E5ECF6\",\"gridcolor\":\"white\",\"linecolor\":\"white\",\"showbackground\":true,\"ticks\":\"\",\"zerolinecolor\":\"white\",\"gridwidth\":2}},\"shapedefaults\":{\"line\":{\"color\":\"#2a3f5f\"}},\"annotationdefaults\":{\"arrowcolor\":\"#2a3f5f\",\"arrowhead\":0,\"arrowwidth\":1},\"geo\":{\"bgcolor\":\"white\",\"landcolor\":\"#E5ECF6\",\"subunitcolor\":\"white\",\"showland\":true,\"showlakes\":true,\"lakecolor\":\"white\"},\"title\":{\"x\":0.05},\"mapbox\":{\"style\":\"light\"}}}},                        {\"responsive\": true}                    ).then(function(){\n",
              "                            \n",
              "var gd = document.getElementById('3307e247-0573-4408-a87e-e5e9483ee8ff');\n",
              "var x = new MutationObserver(function (mutations, observer) {{\n",
              "        var display = window.getComputedStyle(gd).display;\n",
              "        if (!display || display === 'none') {{\n",
              "            console.log([gd, 'removed!']);\n",
              "            Plotly.purge(gd);\n",
              "            observer.disconnect();\n",
              "        }}\n",
              "}});\n",
              "\n",
              "// Listen for the removal of the full notebook cells\n",
              "var notebookContainer = gd.closest('#notebook-container');\n",
              "if (notebookContainer) {{\n",
              "    x.observe(notebookContainer, {childList: true});\n",
              "}}\n",
              "\n",
              "// Listen for the clearing of the current output cell\n",
              "var outputEl = gd.closest('.output');\n",
              "if (outputEl) {{\n",
              "    x.observe(outputEl, {childList: true});\n",
              "}}\n",
              "\n",
              "                        })                };                            </script>        </div>\n",
              "</body>\n",
              "</html>"
            ]
          },
          "metadata": {},
          "output_type": "display_data"
        },
        {
          "name": "stdout",
          "output_type": "stream",
          "text": [
            "\tBest value (MAE): 51.42945\n",
            "\tBest params Production_model_Catboost:\n",
            "\t\titerations: 8000\n",
            "\t\tlearning_rate: 0.05078515042769798\n",
            "\t\tdepth: 3\n",
            "\t\trandom_strength: 14.176793288653343\n",
            "\t\tsubsample: 0.5249233420252732\n",
            "\t\tmin_data_in_leaf: 754\n",
            "\t\treg_lambda: 3.8887691626560406\n"
          ]
        }
      ],
      "source": [
        "Hyperparameter_study_visualization(study = study_production,target_name=\"MAE\",study_name=\"Production_model_Catboost\")"
      ]
    },
    {
      "cell_type": "markdown",
      "metadata": {
        "id": "sqXDzMQhonOH"
      },
      "source": [
        "## Consumption_48h_diif_model_Catboost"
      ]
    },
    {
      "cell_type": "code",
      "execution_count": null,
      "metadata": {
        "colab": {
          "base_uri": "https://localhost:8080/"
        },
        "id": "CIT-Lz2NLQdp",
        "outputId": "09dc26e6-cc34-42a5-98fa-e41d8a549d5c"
      },
      "outputs": [
        {
          "name": "stderr",
          "output_type": "stream",
          "text": [
            "[I 2024-01-25 07:28:18,552] A new study created in memory with name: Consumption_48h_diif_model_Catboost\n",
            "[I 2024-01-25 07:29:14,947] Trial 0 finished with value: 60.85326948930696 and parameters: {'iterations': 2500, 'learning_rate': 0.07025670457566684, 'depth': 7, 'random_strength': 48.60503106383933, 'subsample': 0.5163295285540281, 'min_data_in_leaf': 176, 'reg_lambda': 1.4379244941221576}. Best is trial 0 with value: 60.85326948930696.\n",
            "[I 2024-01-25 08:12:42,858] Trial 1 finished with value: 68.20807624489647 and parameters: {'iterations': 6500, 'learning_rate': 0.1727322601503304, 'depth': 15, 'random_strength': 33.21424656944389, 'subsample': 0.7550934084773187, 'min_data_in_leaf': 658, 'reg_lambda': 4.9504333536576235}. Best is trial 0 with value: 60.85326948930696.\n",
            "[I 2024-01-25 08:14:15,637] Trial 2 finished with value: 67.18466645781865 and parameters: {'iterations': 8000, 'learning_rate': 0.4172506439258091, 'depth': 4, 'random_strength': 11.04573017451644, 'subsample': 0.8696697641062185, 'min_data_in_leaf': 306, 'reg_lambda': 4.721312118109984}. Best is trial 0 with value: 60.85326948930696.\n",
            "[I 2024-01-25 08:57:36,206] Trial 3 finished with value: 62.772772717180246 and parameters: {'iterations': 6500, 'learning_rate': 0.04516880886457119, 'depth': 15, 'random_strength': 25.530755093039424, 'subsample': 0.879228528112385, 'min_data_in_leaf': 10, 'reg_lambda': 2.1998615082707533}. Best is trial 0 with value: 60.85326948930696.\n",
            "[I 2024-01-25 09:00:27,846] Trial 4 finished with value: 60.30661750294687 and parameters: {'iterations': 8000, 'learning_rate': 0.11759812530174875, 'depth': 7, 'random_strength': 43.59432725801986, 'subsample': 0.8480623951313192, 'min_data_in_leaf': 546, 'reg_lambda': 4.947785025351073}. Best is trial 4 with value: 60.30661750294687.\n",
            "[I 2024-01-25 09:08:30,340] Trial 5 finished with value: 62.02995217449699 and parameters: {'iterations': 6000, 'learning_rate': 0.07164133131433938, 'depth': 12, 'random_strength': 49.823049670089475, 'subsample': 0.7252272748769266, 'min_data_in_leaf': 152, 'reg_lambda': 4.935727275928628}. Best is trial 4 with value: 60.30661750294687.\n",
            "[I 2024-01-25 09:11:07,013] Trial 6 finished with value: 67.14907390451181 and parameters: {'iterations': 5000, 'learning_rate': 0.3451959301347218, 'depth': 9, 'random_strength': 14.70275188458816, 'subsample': 0.6740168376964286, 'min_data_in_leaf': 494, 'reg_lambda': 1.7286184527235546}. Best is trial 4 with value: 60.30661750294687.\n",
            "[I 2024-01-25 09:11:46,479] Trial 7 finished with value: 65.4923470674927 and parameters: {'iterations': 2000, 'learning_rate': 0.019047003886362636, 'depth': 6, 'random_strength': 14.128894431429107, 'subsample': 0.9554520269953386, 'min_data_in_leaf': 303, 'reg_lambda': 3.2599185904504844}. Best is trial 4 with value: 60.30661750294687.\n",
            "[I 2024-01-25 09:28:13,984] Trial 8 finished with value: 71.55577019438203 and parameters: {'iterations': 4500, 'learning_rate': 0.24990818767168774, 'depth': 14, 'random_strength': 14.518650737063052, 'subsample': 0.9827056546001118, 'min_data_in_leaf': 948, 'reg_lambda': 0.866984303345825}. Best is trial 4 with value: 60.30661750294687.\n",
            "[I 2024-01-25 09:29:01,329] Trial 9 finished with value: 73.94592777104373 and parameters: {'iterations': 7500, 'learning_rate': 0.2372878448947537, 'depth': 2, 'random_strength': 43.043297111211906, 'subsample': 0.6662252128376633, 'min_data_in_leaf': 506, 'reg_lambda': 0.9433719411921735}. Best is trial 4 with value: 60.30661750294687.\n",
            "[I 2024-01-25 09:35:47,919] Trial 10 finished with value: 62.220157251439524 and parameters: {'iterations': 10000, 'learning_rate': 0.15375518790264633, 'depth': 10, 'random_strength': 36.45612189039682, 'subsample': 0.8155199357404586, 'min_data_in_leaf': 829, 'reg_lambda': 3.441507193614058}. Best is trial 4 with value: 60.30661750294687.\n",
            "[I 2024-01-25 09:36:26,400] Trial 11 finished with value: 64.54307569561743 and parameters: {'iterations': 2000, 'learning_rate': 0.12195635006884005, 'depth': 6, 'random_strength': 49.777110633258026, 'subsample': 0.5212355308605938, 'min_data_in_leaf': 571, 'reg_lambda': 3.4107479439490365}. Best is trial 4 with value: 60.30661750294687.\n",
            "[I 2024-01-25 09:39:16,028] Trial 12 finished with value: 61.80536858722123 and parameters: {'iterations': 9500, 'learning_rate': 0.11227709258070273, 'depth': 6, 'random_strength': 42.71563666808705, 'subsample': 0.5346156988224361, 'min_data_in_leaf': 337, 'reg_lambda': 1.6301386249879153}. Best is trial 4 with value: 60.30661750294687.\n",
            "[I 2024-01-25 09:40:47,145] Trial 13 finished with value: 65.51714185786011 and parameters: {'iterations': 3500, 'learning_rate': 0.2023176032533856, 'depth': 8, 'random_strength': 41.369691129164906, 'subsample': 0.6150442937396765, 'min_data_in_leaf': 674, 'reg_lambda': 0.2213760796019475}. Best is trial 4 with value: 60.30661750294687.\n",
            "[I 2024-01-25 09:41:19,905] Trial 14 finished with value: 113.22939751379845 and parameters: {'iterations': 9000, 'learning_rate': 0.3129016228912011, 'depth': 1, 'random_strength': 26.110807294275077, 'subsample': 0.7959829305090627, 'min_data_in_leaf': 49, 'reg_lambda': 2.756964139380688}. Best is trial 4 with value: 60.30661750294687.\n",
            "[I 2024-01-25 09:41:57,613] Trial 15 finished with value: 62.71013607282669 and parameters: {'iterations': 3000, 'learning_rate': 0.08662491321584387, 'depth': 4, 'random_strength': 45.117404956114896, 'subsample': 0.8942833451062809, 'min_data_in_leaf': 408, 'reg_lambda': 3.7898937246282243}. Best is trial 4 with value: 60.30661750294687.\n",
            "[I 2024-01-25 09:49:47,440] Trial 16 finished with value: 59.2568457457461 and parameters: {'iterations': 8500, 'learning_rate': 0.020594819258376487, 'depth': 11, 'random_strength': 37.10814912773438, 'subsample': 0.5854179174607782, 'min_data_in_leaf': 195, 'reg_lambda': 2.5190248333550493}. Best is trial 16 with value: 59.2568457457461.\n",
            "[I 2024-01-25 09:57:32,985] Trial 17 finished with value: 58.83739224857024 and parameters: {'iterations': 8500, 'learning_rate': 0.02371940276244394, 'depth': 11, 'random_strength': 37.39930300171451, 'subsample': 0.5965149747466122, 'min_data_in_leaf': 752, 'reg_lambda': 2.5510221968277977}. Best is trial 17 with value: 58.83739224857024.\n",
            "[I 2024-01-25 10:08:56,049] Trial 18 finished with value: 81.28777344890833 and parameters: {'iterations': 8500, 'learning_rate': 0.4875945242095062, 'depth': 12, 'random_strength': 34.854770683489434, 'subsample': 0.5917910682544335, 'min_data_in_leaf': 800, 'reg_lambda': 2.5968623285232657}. Best is trial 17 with value: 58.83739224857024.\n",
            "[I 2024-01-25 10:15:21,584] Trial 19 finished with value: 58.95858244919207 and parameters: {'iterations': 7000, 'learning_rate': 0.031776380459022105, 'depth': 11, 'random_strength': 28.26632187795207, 'subsample': 0.6044814069126216, 'min_data_in_leaf': 785, 'reg_lambda': 4.036805496343391}. Best is trial 17 with value: 58.83739224857024.\n",
            "[I 2024-01-25 10:24:44,301] Trial 20 finished with value: 66.07396257671627 and parameters: {'iterations': 7000, 'learning_rate': 0.1737093311170265, 'depth': 12, 'random_strength': 22.33040653435201, 'subsample': 0.6601756185140182, 'min_data_in_leaf': 950, 'reg_lambda': 4.12377547252909}. Best is trial 17 with value: 58.83739224857024.\n",
            "[I 2024-01-25 10:30:50,176] Trial 21 finished with value: 58.380452555608336 and parameters: {'iterations': 9000, 'learning_rate': 0.016862985221162422, 'depth': 10, 'random_strength': 29.84529179985335, 'subsample': 0.5799090266204205, 'min_data_in_leaf': 790, 'reg_lambda': 2.9400782862345847}. Best is trial 21 with value: 58.380452555608336.\n",
            "[I 2024-01-25 10:37:35,267] Trial 22 finished with value: 58.668131069676356 and parameters: {'iterations': 10000, 'learning_rate': 0.034264752978504884, 'depth': 10, 'random_strength': 30.983565961996668, 'subsample': 0.5670566464570769, 'min_data_in_leaf': 807, 'reg_lambda': 4.297414311035129}. Best is trial 21 with value: 58.380452555608336.\n",
            "[I 2024-01-25 10:42:54,357] Trial 23 finished with value: 58.55956850507941 and parameters: {'iterations': 10000, 'learning_rate': 0.014891398032248485, 'depth': 9, 'random_strength': 31.17153589748329, 'subsample': 0.5608690319524061, 'min_data_in_leaf': 702, 'reg_lambda': 3.0744505215800095}. Best is trial 21 with value: 58.380452555608336.\n",
            "[I 2024-01-25 10:49:38,823] Trial 24 finished with value: 60.1686624099793 and parameters: {'iterations': 10000, 'learning_rate': 0.0906162476923518, 'depth': 10, 'random_strength': 32.092333391494925, 'subsample': 0.5394978135697726, 'min_data_in_leaf': 878, 'reg_lambda': 4.411590058330517}. Best is trial 21 with value: 58.380452555608336.\n",
            "[I 2024-01-25 10:54:39,244] Trial 25 finished with value: 58.57429595378685 and parameters: {'iterations': 9500, 'learning_rate': 0.04677642937023066, 'depth': 9, 'random_strength': 20.95302716645734, 'subsample': 0.5631318864804641, 'min_data_in_leaf': 700, 'reg_lambda': 3.0478202608722804}. Best is trial 21 with value: 58.380452555608336.\n",
            "[I 2024-01-25 10:58:28,529] Trial 26 finished with value: 66.2073448584839 and parameters: {'iterations': 9000, 'learning_rate': 0.3141643688035826, 'depth': 8, 'random_strength': 22.237536856455396, 'subsample': 0.6381532929542277, 'min_data_in_leaf': 677, 'reg_lambda': 3.0582560270938024}. Best is trial 21 with value: 58.380452555608336.\n",
            "[I 2024-01-25 11:18:50,047] Trial 27 finished with value: 61.34089485918729 and parameters: {'iterations': 9500, 'learning_rate': 0.06477733009791174, 'depth': 13, 'random_strength': 19.462196500126026, 'subsample': 0.7068935554008973, 'min_data_in_leaf': 615, 'reg_lambda': 2.207292389208074}. Best is trial 21 with value: 58.380452555608336.\n",
            "[I 2024-01-25 11:23:46,869] Trial 28 finished with value: 61.96563359464775 and parameters: {'iterations': 9500, 'learning_rate': 0.1449575867882778, 'depth': 9, 'random_strength': 28.057514588791207, 'subsample': 0.5021994564469707, 'min_data_in_leaf': 735, 'reg_lambda': 2.9418100790024027}. Best is trial 21 with value: 58.380452555608336.\n",
            "[I 2024-01-25 11:28:29,508] Trial 29 finished with value: 58.81941576607545 and parameters: {'iterations': 9000, 'learning_rate': 0.06428637422551338, 'depth': 9, 'random_strength': 19.145369411253974, 'subsample': 0.5547985371611424, 'min_data_in_leaf': 878, 'reg_lambda': 2.034953304242239}. Best is trial 21 with value: 58.380452555608336.\n"
          ]
        }
      ],
      "source": [
        "study_consumption_48h_diif = Hyperparameter_study(mask=consumption, study_name=\"Consumption_48h_diif_model_Catboost\", is_diff=1 , n_trials=n_trials)"
      ]
    },
    {
      "cell_type": "code",
      "execution_count": null,
      "metadata": {
        "colab": {
          "base_uri": "https://localhost:8080/",
          "height": 1000
        },
        "id": "vK6RGUWbM9fc",
        "outputId": "96ade6bf-72c0-48eb-c908-9ac273a39f58"
      },
      "outputs": [
        {
          "data": {
            "text/html": [
              "<html>\n",
              "<head><meta charset=\"utf-8\" /></head>\n",
              "<body>\n",
              "    <div>            <script src=\"https://cdnjs.cloudflare.com/ajax/libs/mathjax/2.7.5/MathJax.js?config=TeX-AMS-MML_SVG\"></script><script type=\"text/javascript\">if (window.MathJax && window.MathJax.Hub && window.MathJax.Hub.Config) {window.MathJax.Hub.Config({SVG: {font: \"STIX-Web\"}});}</script>                <script type=\"text/javascript\">window.PlotlyConfig = {MathJaxConfig: 'local'};</script>\n",
              "        <script charset=\"utf-8\" src=\"https://cdn.plot.ly/plotly-2.24.1.min.js\"></script>                <div id=\"c8fecec3-b297-4e15-8fa8-0b34e8d61824\" class=\"plotly-graph-div\" style=\"height:525px; width:100%;\"></div>            <script type=\"text/javascript\">                                    window.PLOTLYENV=window.PLOTLYENV || {};                                    if (document.getElementById(\"c8fecec3-b297-4e15-8fa8-0b34e8d61824\")) {                    Plotly.newPlot(                        \"c8fecec3-b297-4e15-8fa8-0b34e8d61824\",                        [{\"mode\":\"markers\",\"name\":\"MAE\",\"x\":[0,1,2,3,4,5,6,7,8,9,10,11,12,13,14,15,16,17,18,19,20,21,22,23,24,25,26,27,28,29],\"y\":[60.85326948930696,68.20807624489647,67.18466645781865,62.772772717180246,60.30661750294687,62.02995217449699,67.14907390451181,65.4923470674927,71.55577019438203,73.94592777104373,62.220157251439524,64.54307569561743,61.80536858722123,65.51714185786011,113.22939751379845,62.71013607282669,59.2568457457461,58.83739224857024,81.28777344890833,58.95858244919207,66.07396257671627,58.380452555608336,58.668131069676356,58.55956850507941,60.1686624099793,58.57429595378685,66.2073448584839,61.34089485918729,61.96563359464775,58.81941576607545],\"type\":\"scatter\"},{\"mode\":\"lines\",\"name\":\"Best Value\",\"x\":[0,1,2,3,4,5,6,7,8,9,10,11,12,13,14,15,16,17,18,19,20,21,22,23,24,25,26,27,28,29],\"y\":[60.85326948930696,60.85326948930696,60.85326948930696,60.85326948930696,60.30661750294687,60.30661750294687,60.30661750294687,60.30661750294687,60.30661750294687,60.30661750294687,60.30661750294687,60.30661750294687,60.30661750294687,60.30661750294687,60.30661750294687,60.30661750294687,59.2568457457461,58.83739224857024,58.83739224857024,58.83739224857024,58.83739224857024,58.380452555608336,58.380452555608336,58.380452555608336,58.380452555608336,58.380452555608336,58.380452555608336,58.380452555608336,58.380452555608336,58.380452555608336],\"type\":\"scatter\"},{\"marker\":{\"color\":\"#cccccc\"},\"mode\":\"markers\",\"name\":\"Infeasible Trial\",\"showlegend\":false,\"x\":[],\"y\":[],\"type\":\"scatter\"}],                        {\"title\":{\"text\":\"Optimization History Plot\"},\"xaxis\":{\"title\":{\"text\":\"Trial\"}},\"yaxis\":{\"title\":{\"text\":\"MAE\"}},\"template\":{\"data\":{\"histogram2dcontour\":[{\"type\":\"histogram2dcontour\",\"colorbar\":{\"outlinewidth\":0,\"ticks\":\"\"},\"colorscale\":[[0.0,\"#0d0887\"],[0.1111111111111111,\"#46039f\"],[0.2222222222222222,\"#7201a8\"],[0.3333333333333333,\"#9c179e\"],[0.4444444444444444,\"#bd3786\"],[0.5555555555555556,\"#d8576b\"],[0.6666666666666666,\"#ed7953\"],[0.7777777777777778,\"#fb9f3a\"],[0.8888888888888888,\"#fdca26\"],[1.0,\"#f0f921\"]]}],\"choropleth\":[{\"type\":\"choropleth\",\"colorbar\":{\"outlinewidth\":0,\"ticks\":\"\"}}],\"histogram2d\":[{\"type\":\"histogram2d\",\"colorbar\":{\"outlinewidth\":0,\"ticks\":\"\"},\"colorscale\":[[0.0,\"#0d0887\"],[0.1111111111111111,\"#46039f\"],[0.2222222222222222,\"#7201a8\"],[0.3333333333333333,\"#9c179e\"],[0.4444444444444444,\"#bd3786\"],[0.5555555555555556,\"#d8576b\"],[0.6666666666666666,\"#ed7953\"],[0.7777777777777778,\"#fb9f3a\"],[0.8888888888888888,\"#fdca26\"],[1.0,\"#f0f921\"]]}],\"heatmap\":[{\"type\":\"heatmap\",\"colorbar\":{\"outlinewidth\":0,\"ticks\":\"\"},\"colorscale\":[[0.0,\"#0d0887\"],[0.1111111111111111,\"#46039f\"],[0.2222222222222222,\"#7201a8\"],[0.3333333333333333,\"#9c179e\"],[0.4444444444444444,\"#bd3786\"],[0.5555555555555556,\"#d8576b\"],[0.6666666666666666,\"#ed7953\"],[0.7777777777777778,\"#fb9f3a\"],[0.8888888888888888,\"#fdca26\"],[1.0,\"#f0f921\"]]}],\"heatmapgl\":[{\"type\":\"heatmapgl\",\"colorbar\":{\"outlinewidth\":0,\"ticks\":\"\"},\"colorscale\":[[0.0,\"#0d0887\"],[0.1111111111111111,\"#46039f\"],[0.2222222222222222,\"#7201a8\"],[0.3333333333333333,\"#9c179e\"],[0.4444444444444444,\"#bd3786\"],[0.5555555555555556,\"#d8576b\"],[0.6666666666666666,\"#ed7953\"],[0.7777777777777778,\"#fb9f3a\"],[0.8888888888888888,\"#fdca26\"],[1.0,\"#f0f921\"]]}],\"contourcarpet\":[{\"type\":\"contourcarpet\",\"colorbar\":{\"outlinewidth\":0,\"ticks\":\"\"}}],\"contour\":[{\"type\":\"contour\",\"colorbar\":{\"outlinewidth\":0,\"ticks\":\"\"},\"colorscale\":[[0.0,\"#0d0887\"],[0.1111111111111111,\"#46039f\"],[0.2222222222222222,\"#7201a8\"],[0.3333333333333333,\"#9c179e\"],[0.4444444444444444,\"#bd3786\"],[0.5555555555555556,\"#d8576b\"],[0.6666666666666666,\"#ed7953\"],[0.7777777777777778,\"#fb9f3a\"],[0.8888888888888888,\"#fdca26\"],[1.0,\"#f0f921\"]]}],\"surface\":[{\"type\":\"surface\",\"colorbar\":{\"outlinewidth\":0,\"ticks\":\"\"},\"colorscale\":[[0.0,\"#0d0887\"],[0.1111111111111111,\"#46039f\"],[0.2222222222222222,\"#7201a8\"],[0.3333333333333333,\"#9c179e\"],[0.4444444444444444,\"#bd3786\"],[0.5555555555555556,\"#d8576b\"],[0.6666666666666666,\"#ed7953\"],[0.7777777777777778,\"#fb9f3a\"],[0.8888888888888888,\"#fdca26\"],[1.0,\"#f0f921\"]]}],\"mesh3d\":[{\"type\":\"mesh3d\",\"colorbar\":{\"outlinewidth\":0,\"ticks\":\"\"}}],\"scatter\":[{\"fillpattern\":{\"fillmode\":\"overlay\",\"size\":10,\"solidity\":0.2},\"type\":\"scatter\"}],\"parcoords\":[{\"type\":\"parcoords\",\"line\":{\"colorbar\":{\"outlinewidth\":0,\"ticks\":\"\"}}}],\"scatterpolargl\":[{\"type\":\"scatterpolargl\",\"marker\":{\"colorbar\":{\"outlinewidth\":0,\"ticks\":\"\"}}}],\"bar\":[{\"error_x\":{\"color\":\"#2a3f5f\"},\"error_y\":{\"color\":\"#2a3f5f\"},\"marker\":{\"line\":{\"color\":\"#E5ECF6\",\"width\":0.5},\"pattern\":{\"fillmode\":\"overlay\",\"size\":10,\"solidity\":0.2}},\"type\":\"bar\"}],\"scattergeo\":[{\"type\":\"scattergeo\",\"marker\":{\"colorbar\":{\"outlinewidth\":0,\"ticks\":\"\"}}}],\"scatterpolar\":[{\"type\":\"scatterpolar\",\"marker\":{\"colorbar\":{\"outlinewidth\":0,\"ticks\":\"\"}}}],\"histogram\":[{\"marker\":{\"pattern\":{\"fillmode\":\"overlay\",\"size\":10,\"solidity\":0.2}},\"type\":\"histogram\"}],\"scattergl\":[{\"type\":\"scattergl\",\"marker\":{\"colorbar\":{\"outlinewidth\":0,\"ticks\":\"\"}}}],\"scatter3d\":[{\"type\":\"scatter3d\",\"line\":{\"colorbar\":{\"outlinewidth\":0,\"ticks\":\"\"}},\"marker\":{\"colorbar\":{\"outlinewidth\":0,\"ticks\":\"\"}}}],\"scattermapbox\":[{\"type\":\"scattermapbox\",\"marker\":{\"colorbar\":{\"outlinewidth\":0,\"ticks\":\"\"}}}],\"scatterternary\":[{\"type\":\"scatterternary\",\"marker\":{\"colorbar\":{\"outlinewidth\":0,\"ticks\":\"\"}}}],\"scattercarpet\":[{\"type\":\"scattercarpet\",\"marker\":{\"colorbar\":{\"outlinewidth\":0,\"ticks\":\"\"}}}],\"carpet\":[{\"aaxis\":{\"endlinecolor\":\"#2a3f5f\",\"gridcolor\":\"white\",\"linecolor\":\"white\",\"minorgridcolor\":\"white\",\"startlinecolor\":\"#2a3f5f\"},\"baxis\":{\"endlinecolor\":\"#2a3f5f\",\"gridcolor\":\"white\",\"linecolor\":\"white\",\"minorgridcolor\":\"white\",\"startlinecolor\":\"#2a3f5f\"},\"type\":\"carpet\"}],\"table\":[{\"cells\":{\"fill\":{\"color\":\"#EBF0F8\"},\"line\":{\"color\":\"white\"}},\"header\":{\"fill\":{\"color\":\"#C8D4E3\"},\"line\":{\"color\":\"white\"}},\"type\":\"table\"}],\"barpolar\":[{\"marker\":{\"line\":{\"color\":\"#E5ECF6\",\"width\":0.5},\"pattern\":{\"fillmode\":\"overlay\",\"size\":10,\"solidity\":0.2}},\"type\":\"barpolar\"}],\"pie\":[{\"automargin\":true,\"type\":\"pie\"}]},\"layout\":{\"autotypenumbers\":\"strict\",\"colorway\":[\"#636efa\",\"#EF553B\",\"#00cc96\",\"#ab63fa\",\"#FFA15A\",\"#19d3f3\",\"#FF6692\",\"#B6E880\",\"#FF97FF\",\"#FECB52\"],\"font\":{\"color\":\"#2a3f5f\"},\"hovermode\":\"closest\",\"hoverlabel\":{\"align\":\"left\"},\"paper_bgcolor\":\"white\",\"plot_bgcolor\":\"#E5ECF6\",\"polar\":{\"bgcolor\":\"#E5ECF6\",\"angularaxis\":{\"gridcolor\":\"white\",\"linecolor\":\"white\",\"ticks\":\"\"},\"radialaxis\":{\"gridcolor\":\"white\",\"linecolor\":\"white\",\"ticks\":\"\"}},\"ternary\":{\"bgcolor\":\"#E5ECF6\",\"aaxis\":{\"gridcolor\":\"white\",\"linecolor\":\"white\",\"ticks\":\"\"},\"baxis\":{\"gridcolor\":\"white\",\"linecolor\":\"white\",\"ticks\":\"\"},\"caxis\":{\"gridcolor\":\"white\",\"linecolor\":\"white\",\"ticks\":\"\"}},\"coloraxis\":{\"colorbar\":{\"outlinewidth\":0,\"ticks\":\"\"}},\"colorscale\":{\"sequential\":[[0.0,\"#0d0887\"],[0.1111111111111111,\"#46039f\"],[0.2222222222222222,\"#7201a8\"],[0.3333333333333333,\"#9c179e\"],[0.4444444444444444,\"#bd3786\"],[0.5555555555555556,\"#d8576b\"],[0.6666666666666666,\"#ed7953\"],[0.7777777777777778,\"#fb9f3a\"],[0.8888888888888888,\"#fdca26\"],[1.0,\"#f0f921\"]],\"sequentialminus\":[[0.0,\"#0d0887\"],[0.1111111111111111,\"#46039f\"],[0.2222222222222222,\"#7201a8\"],[0.3333333333333333,\"#9c179e\"],[0.4444444444444444,\"#bd3786\"],[0.5555555555555556,\"#d8576b\"],[0.6666666666666666,\"#ed7953\"],[0.7777777777777778,\"#fb9f3a\"],[0.8888888888888888,\"#fdca26\"],[1.0,\"#f0f921\"]],\"diverging\":[[0,\"#8e0152\"],[0.1,\"#c51b7d\"],[0.2,\"#de77ae\"],[0.3,\"#f1b6da\"],[0.4,\"#fde0ef\"],[0.5,\"#f7f7f7\"],[0.6,\"#e6f5d0\"],[0.7,\"#b8e186\"],[0.8,\"#7fbc41\"],[0.9,\"#4d9221\"],[1,\"#276419\"]]},\"xaxis\":{\"gridcolor\":\"white\",\"linecolor\":\"white\",\"ticks\":\"\",\"title\":{\"standoff\":15},\"zerolinecolor\":\"white\",\"automargin\":true,\"zerolinewidth\":2},\"yaxis\":{\"gridcolor\":\"white\",\"linecolor\":\"white\",\"ticks\":\"\",\"title\":{\"standoff\":15},\"zerolinecolor\":\"white\",\"automargin\":true,\"zerolinewidth\":2},\"scene\":{\"xaxis\":{\"backgroundcolor\":\"#E5ECF6\",\"gridcolor\":\"white\",\"linecolor\":\"white\",\"showbackground\":true,\"ticks\":\"\",\"zerolinecolor\":\"white\",\"gridwidth\":2},\"yaxis\":{\"backgroundcolor\":\"#E5ECF6\",\"gridcolor\":\"white\",\"linecolor\":\"white\",\"showbackground\":true,\"ticks\":\"\",\"zerolinecolor\":\"white\",\"gridwidth\":2},\"zaxis\":{\"backgroundcolor\":\"#E5ECF6\",\"gridcolor\":\"white\",\"linecolor\":\"white\",\"showbackground\":true,\"ticks\":\"\",\"zerolinecolor\":\"white\",\"gridwidth\":2}},\"shapedefaults\":{\"line\":{\"color\":\"#2a3f5f\"}},\"annotationdefaults\":{\"arrowcolor\":\"#2a3f5f\",\"arrowhead\":0,\"arrowwidth\":1},\"geo\":{\"bgcolor\":\"white\",\"landcolor\":\"#E5ECF6\",\"subunitcolor\":\"white\",\"showland\":true,\"showlakes\":true,\"lakecolor\":\"white\"},\"title\":{\"x\":0.05},\"mapbox\":{\"style\":\"light\"}}}},                        {\"responsive\": true}                    ).then(function(){\n",
              "                            \n",
              "var gd = document.getElementById('c8fecec3-b297-4e15-8fa8-0b34e8d61824');\n",
              "var x = new MutationObserver(function (mutations, observer) {{\n",
              "        var display = window.getComputedStyle(gd).display;\n",
              "        if (!display || display === 'none') {{\n",
              "            console.log([gd, 'removed!']);\n",
              "            Plotly.purge(gd);\n",
              "            observer.disconnect();\n",
              "        }}\n",
              "}});\n",
              "\n",
              "// Listen for the removal of the full notebook cells\n",
              "var notebookContainer = gd.closest('#notebook-container');\n",
              "if (notebookContainer) {{\n",
              "    x.observe(notebookContainer, {childList: true});\n",
              "}}\n",
              "\n",
              "// Listen for the clearing of the current output cell\n",
              "var outputEl = gd.closest('.output');\n",
              "if (outputEl) {{\n",
              "    x.observe(outputEl, {childList: true});\n",
              "}}\n",
              "\n",
              "                        })                };                            </script>        </div>\n",
              "</body>\n",
              "</html>"
            ]
          },
          "metadata": {},
          "output_type": "display_data"
        },
        {
          "data": {
            "text/html": [
              "<html>\n",
              "<head><meta charset=\"utf-8\" /></head>\n",
              "<body>\n",
              "    <div>            <script src=\"https://cdnjs.cloudflare.com/ajax/libs/mathjax/2.7.5/MathJax.js?config=TeX-AMS-MML_SVG\"></script><script type=\"text/javascript\">if (window.MathJax && window.MathJax.Hub && window.MathJax.Hub.Config) {window.MathJax.Hub.Config({SVG: {font: \"STIX-Web\"}});}</script>                <script type=\"text/javascript\">window.PlotlyConfig = {MathJaxConfig: 'local'};</script>\n",
              "        <script charset=\"utf-8\" src=\"https://cdn.plot.ly/plotly-2.24.1.min.js\"></script>                <div id=\"0d506f98-bb99-4c8c-9799-58b5864c0efd\" class=\"plotly-graph-div\" style=\"height:525px; width:100%;\"></div>            <script type=\"text/javascript\">                                    window.PLOTLYENV=window.PLOTLYENV || {};                                    if (document.getElementById(\"0d506f98-bb99-4c8c-9799-58b5864c0efd\")) {                    Plotly.newPlot(                        \"0d506f98-bb99-4c8c-9799-58b5864c0efd\",                        [{\"dimensions\":[{\"label\":\"MAE\",\"range\":[58.380452555608336,113.22939751379845],\"values\":[60.85326948930696,68.20807624489647,67.18466645781865,62.772772717180246,60.30661750294687,62.02995217449699,67.14907390451181,65.4923470674927,71.55577019438203,73.94592777104373,62.220157251439524,64.54307569561743,61.80536858722123,65.51714185786011,113.22939751379845,62.71013607282669,59.2568457457461,58.83739224857024,81.28777344890833,58.95858244919207,66.07396257671627,58.380452555608336,58.668131069676356,58.55956850507941,60.1686624099793,58.57429595378685,66.2073448584839,61.34089485918729,61.96563359464775,58.81941576607545]},{\"label\":\"depth\",\"range\":[1,15],\"values\":[7,15,4,15,7,12,9,6,14,2,10,6,6,8,1,4,11,11,12,11,12,10,10,9,10,9,8,13,9,9]},{\"label\":\"iterations\",\"range\":[2000,10000],\"values\":[2500,6500,8000,6500,8000,6000,5000,2000,4500,7500,10000,2000,9500,3500,9000,3000,8500,8500,8500,7000,7000,9000,10000,10000,10000,9500,9000,9500,9500,9000]},{\"label\":\"learning_rate\",\"range\":[0.014891398032248485,0.4875945242095062],\"values\":[0.07025670457566684,0.1727322601503304,0.4172506439258091,0.04516880886457119,0.11759812530174875,0.07164133131433938,0.3451959301347218,0.019047003886362636,0.24990818767168774,0.2372878448947537,0.15375518790264633,0.12195635006884005,0.11227709258070273,0.2023176032533856,0.3129016228912011,0.08662491321584387,0.020594819258376487,0.02371940276244394,0.4875945242095062,0.031776380459022105,0.1737093311170265,0.016862985221162422,0.034264752978504884,0.014891398032248485,0.0906162476923518,0.04677642937023066,0.3141643688035826,0.06477733009791174,0.1449575867882778,0.06428637422551338]},{\"label\":\"min_data_in_leaf\",\"range\":[10,950],\"values\":[176,658,306,10,546,152,494,303,948,506,829,571,337,674,49,408,195,752,800,785,950,790,807,702,878,700,677,615,735,878]},{\"label\":\"random_strength\",\"range\":[11.04573017451644,49.823049670089475],\"values\":[48.60503106383933,33.21424656944389,11.04573017451644,25.530755093039424,43.59432725801986,49.823049670089475,14.70275188458816,14.128894431429107,14.518650737063052,43.043297111211906,36.45612189039682,49.777110633258026,42.71563666808705,41.369691129164906,26.110807294275077,45.117404956114896,37.10814912773438,37.39930300171451,34.854770683489434,28.26632187795207,22.33040653435201,29.84529179985335,30.983565961996668,31.17153589748329,32.092333391494925,20.95302716645734,22.237536856455396,19.462196500126026,28.057514588791207,19.145369411253974]},{\"label\":\"reg_lambda\",\"range\":[0.2213760796019475,4.9504333536576235],\"values\":[1.4379244941221576,4.9504333536576235,4.721312118109984,2.1998615082707533,4.947785025351073,4.935727275928628,1.7286184527235546,3.2599185904504844,0.866984303345825,0.9433719411921735,3.441507193614058,3.4107479439490365,1.6301386249879153,0.2213760796019475,2.756964139380688,3.7898937246282243,2.5190248333550493,2.5510221968277977,2.5968623285232657,4.036805496343391,4.12377547252909,2.9400782862345847,4.297414311035129,3.0744505215800095,4.411590058330517,3.0478202608722804,3.0582560270938024,2.207292389208074,2.9418100790024027,2.034953304242239]},{\"label\":\"subsample\",\"range\":[0.5021994564469707,0.9827056546001118],\"values\":[0.5163295285540281,0.7550934084773187,0.8696697641062185,0.879228528112385,0.8480623951313192,0.7252272748769266,0.6740168376964286,0.9554520269953386,0.9827056546001118,0.6662252128376633,0.8155199357404586,0.5212355308605938,0.5346156988224361,0.6150442937396765,0.7959829305090627,0.8942833451062809,0.5854179174607782,0.5965149747466122,0.5917910682544335,0.6044814069126216,0.6601756185140182,0.5799090266204205,0.5670566464570769,0.5608690319524061,0.5394978135697726,0.5631318864804641,0.6381532929542277,0.7068935554008973,0.5021994564469707,0.5547985371611424]}],\"labelangle\":30,\"labelside\":\"bottom\",\"line\":{\"color\":[60.85326948930696,68.20807624489647,67.18466645781865,62.772772717180246,60.30661750294687,62.02995217449699,67.14907390451181,65.4923470674927,71.55577019438203,73.94592777104373,62.220157251439524,64.54307569561743,61.80536858722123,65.51714185786011,113.22939751379845,62.71013607282669,59.2568457457461,58.83739224857024,81.28777344890833,58.95858244919207,66.07396257671627,58.380452555608336,58.668131069676356,58.55956850507941,60.1686624099793,58.57429595378685,66.2073448584839,61.34089485918729,61.96563359464775,58.81941576607545],\"colorbar\":{\"title\":{\"text\":\"MAE\"}},\"colorscale\":[[0.0,\"rgb(247,251,255)\"],[0.125,\"rgb(222,235,247)\"],[0.25,\"rgb(198,219,239)\"],[0.375,\"rgb(158,202,225)\"],[0.5,\"rgb(107,174,214)\"],[0.625,\"rgb(66,146,198)\"],[0.75,\"rgb(33,113,181)\"],[0.875,\"rgb(8,81,156)\"],[1.0,\"rgb(8,48,107)\"]],\"reversescale\":true,\"showscale\":true},\"type\":\"parcoords\"}],                        {\"title\":{\"text\":\"Parallel Coordinate Plot\"},\"template\":{\"data\":{\"histogram2dcontour\":[{\"type\":\"histogram2dcontour\",\"colorbar\":{\"outlinewidth\":0,\"ticks\":\"\"},\"colorscale\":[[0.0,\"#0d0887\"],[0.1111111111111111,\"#46039f\"],[0.2222222222222222,\"#7201a8\"],[0.3333333333333333,\"#9c179e\"],[0.4444444444444444,\"#bd3786\"],[0.5555555555555556,\"#d8576b\"],[0.6666666666666666,\"#ed7953\"],[0.7777777777777778,\"#fb9f3a\"],[0.8888888888888888,\"#fdca26\"],[1.0,\"#f0f921\"]]}],\"choropleth\":[{\"type\":\"choropleth\",\"colorbar\":{\"outlinewidth\":0,\"ticks\":\"\"}}],\"histogram2d\":[{\"type\":\"histogram2d\",\"colorbar\":{\"outlinewidth\":0,\"ticks\":\"\"},\"colorscale\":[[0.0,\"#0d0887\"],[0.1111111111111111,\"#46039f\"],[0.2222222222222222,\"#7201a8\"],[0.3333333333333333,\"#9c179e\"],[0.4444444444444444,\"#bd3786\"],[0.5555555555555556,\"#d8576b\"],[0.6666666666666666,\"#ed7953\"],[0.7777777777777778,\"#fb9f3a\"],[0.8888888888888888,\"#fdca26\"],[1.0,\"#f0f921\"]]}],\"heatmap\":[{\"type\":\"heatmap\",\"colorbar\":{\"outlinewidth\":0,\"ticks\":\"\"},\"colorscale\":[[0.0,\"#0d0887\"],[0.1111111111111111,\"#46039f\"],[0.2222222222222222,\"#7201a8\"],[0.3333333333333333,\"#9c179e\"],[0.4444444444444444,\"#bd3786\"],[0.5555555555555556,\"#d8576b\"],[0.6666666666666666,\"#ed7953\"],[0.7777777777777778,\"#fb9f3a\"],[0.8888888888888888,\"#fdca26\"],[1.0,\"#f0f921\"]]}],\"heatmapgl\":[{\"type\":\"heatmapgl\",\"colorbar\":{\"outlinewidth\":0,\"ticks\":\"\"},\"colorscale\":[[0.0,\"#0d0887\"],[0.1111111111111111,\"#46039f\"],[0.2222222222222222,\"#7201a8\"],[0.3333333333333333,\"#9c179e\"],[0.4444444444444444,\"#bd3786\"],[0.5555555555555556,\"#d8576b\"],[0.6666666666666666,\"#ed7953\"],[0.7777777777777778,\"#fb9f3a\"],[0.8888888888888888,\"#fdca26\"],[1.0,\"#f0f921\"]]}],\"contourcarpet\":[{\"type\":\"contourcarpet\",\"colorbar\":{\"outlinewidth\":0,\"ticks\":\"\"}}],\"contour\":[{\"type\":\"contour\",\"colorbar\":{\"outlinewidth\":0,\"ticks\":\"\"},\"colorscale\":[[0.0,\"#0d0887\"],[0.1111111111111111,\"#46039f\"],[0.2222222222222222,\"#7201a8\"],[0.3333333333333333,\"#9c179e\"],[0.4444444444444444,\"#bd3786\"],[0.5555555555555556,\"#d8576b\"],[0.6666666666666666,\"#ed7953\"],[0.7777777777777778,\"#fb9f3a\"],[0.8888888888888888,\"#fdca26\"],[1.0,\"#f0f921\"]]}],\"surface\":[{\"type\":\"surface\",\"colorbar\":{\"outlinewidth\":0,\"ticks\":\"\"},\"colorscale\":[[0.0,\"#0d0887\"],[0.1111111111111111,\"#46039f\"],[0.2222222222222222,\"#7201a8\"],[0.3333333333333333,\"#9c179e\"],[0.4444444444444444,\"#bd3786\"],[0.5555555555555556,\"#d8576b\"],[0.6666666666666666,\"#ed7953\"],[0.7777777777777778,\"#fb9f3a\"],[0.8888888888888888,\"#fdca26\"],[1.0,\"#f0f921\"]]}],\"mesh3d\":[{\"type\":\"mesh3d\",\"colorbar\":{\"outlinewidth\":0,\"ticks\":\"\"}}],\"scatter\":[{\"fillpattern\":{\"fillmode\":\"overlay\",\"size\":10,\"solidity\":0.2},\"type\":\"scatter\"}],\"parcoords\":[{\"type\":\"parcoords\",\"line\":{\"colorbar\":{\"outlinewidth\":0,\"ticks\":\"\"}}}],\"scatterpolargl\":[{\"type\":\"scatterpolargl\",\"marker\":{\"colorbar\":{\"outlinewidth\":0,\"ticks\":\"\"}}}],\"bar\":[{\"error_x\":{\"color\":\"#2a3f5f\"},\"error_y\":{\"color\":\"#2a3f5f\"},\"marker\":{\"line\":{\"color\":\"#E5ECF6\",\"width\":0.5},\"pattern\":{\"fillmode\":\"overlay\",\"size\":10,\"solidity\":0.2}},\"type\":\"bar\"}],\"scattergeo\":[{\"type\":\"scattergeo\",\"marker\":{\"colorbar\":{\"outlinewidth\":0,\"ticks\":\"\"}}}],\"scatterpolar\":[{\"type\":\"scatterpolar\",\"marker\":{\"colorbar\":{\"outlinewidth\":0,\"ticks\":\"\"}}}],\"histogram\":[{\"marker\":{\"pattern\":{\"fillmode\":\"overlay\",\"size\":10,\"solidity\":0.2}},\"type\":\"histogram\"}],\"scattergl\":[{\"type\":\"scattergl\",\"marker\":{\"colorbar\":{\"outlinewidth\":0,\"ticks\":\"\"}}}],\"scatter3d\":[{\"type\":\"scatter3d\",\"line\":{\"colorbar\":{\"outlinewidth\":0,\"ticks\":\"\"}},\"marker\":{\"colorbar\":{\"outlinewidth\":0,\"ticks\":\"\"}}}],\"scattermapbox\":[{\"type\":\"scattermapbox\",\"marker\":{\"colorbar\":{\"outlinewidth\":0,\"ticks\":\"\"}}}],\"scatterternary\":[{\"type\":\"scatterternary\",\"marker\":{\"colorbar\":{\"outlinewidth\":0,\"ticks\":\"\"}}}],\"scattercarpet\":[{\"type\":\"scattercarpet\",\"marker\":{\"colorbar\":{\"outlinewidth\":0,\"ticks\":\"\"}}}],\"carpet\":[{\"aaxis\":{\"endlinecolor\":\"#2a3f5f\",\"gridcolor\":\"white\",\"linecolor\":\"white\",\"minorgridcolor\":\"white\",\"startlinecolor\":\"#2a3f5f\"},\"baxis\":{\"endlinecolor\":\"#2a3f5f\",\"gridcolor\":\"white\",\"linecolor\":\"white\",\"minorgridcolor\":\"white\",\"startlinecolor\":\"#2a3f5f\"},\"type\":\"carpet\"}],\"table\":[{\"cells\":{\"fill\":{\"color\":\"#EBF0F8\"},\"line\":{\"color\":\"white\"}},\"header\":{\"fill\":{\"color\":\"#C8D4E3\"},\"line\":{\"color\":\"white\"}},\"type\":\"table\"}],\"barpolar\":[{\"marker\":{\"line\":{\"color\":\"#E5ECF6\",\"width\":0.5},\"pattern\":{\"fillmode\":\"overlay\",\"size\":10,\"solidity\":0.2}},\"type\":\"barpolar\"}],\"pie\":[{\"automargin\":true,\"type\":\"pie\"}]},\"layout\":{\"autotypenumbers\":\"strict\",\"colorway\":[\"#636efa\",\"#EF553B\",\"#00cc96\",\"#ab63fa\",\"#FFA15A\",\"#19d3f3\",\"#FF6692\",\"#B6E880\",\"#FF97FF\",\"#FECB52\"],\"font\":{\"color\":\"#2a3f5f\"},\"hovermode\":\"closest\",\"hoverlabel\":{\"align\":\"left\"},\"paper_bgcolor\":\"white\",\"plot_bgcolor\":\"#E5ECF6\",\"polar\":{\"bgcolor\":\"#E5ECF6\",\"angularaxis\":{\"gridcolor\":\"white\",\"linecolor\":\"white\",\"ticks\":\"\"},\"radialaxis\":{\"gridcolor\":\"white\",\"linecolor\":\"white\",\"ticks\":\"\"}},\"ternary\":{\"bgcolor\":\"#E5ECF6\",\"aaxis\":{\"gridcolor\":\"white\",\"linecolor\":\"white\",\"ticks\":\"\"},\"baxis\":{\"gridcolor\":\"white\",\"linecolor\":\"white\",\"ticks\":\"\"},\"caxis\":{\"gridcolor\":\"white\",\"linecolor\":\"white\",\"ticks\":\"\"}},\"coloraxis\":{\"colorbar\":{\"outlinewidth\":0,\"ticks\":\"\"}},\"colorscale\":{\"sequential\":[[0.0,\"#0d0887\"],[0.1111111111111111,\"#46039f\"],[0.2222222222222222,\"#7201a8\"],[0.3333333333333333,\"#9c179e\"],[0.4444444444444444,\"#bd3786\"],[0.5555555555555556,\"#d8576b\"],[0.6666666666666666,\"#ed7953\"],[0.7777777777777778,\"#fb9f3a\"],[0.8888888888888888,\"#fdca26\"],[1.0,\"#f0f921\"]],\"sequentialminus\":[[0.0,\"#0d0887\"],[0.1111111111111111,\"#46039f\"],[0.2222222222222222,\"#7201a8\"],[0.3333333333333333,\"#9c179e\"],[0.4444444444444444,\"#bd3786\"],[0.5555555555555556,\"#d8576b\"],[0.6666666666666666,\"#ed7953\"],[0.7777777777777778,\"#fb9f3a\"],[0.8888888888888888,\"#fdca26\"],[1.0,\"#f0f921\"]],\"diverging\":[[0,\"#8e0152\"],[0.1,\"#c51b7d\"],[0.2,\"#de77ae\"],[0.3,\"#f1b6da\"],[0.4,\"#fde0ef\"],[0.5,\"#f7f7f7\"],[0.6,\"#e6f5d0\"],[0.7,\"#b8e186\"],[0.8,\"#7fbc41\"],[0.9,\"#4d9221\"],[1,\"#276419\"]]},\"xaxis\":{\"gridcolor\":\"white\",\"linecolor\":\"white\",\"ticks\":\"\",\"title\":{\"standoff\":15},\"zerolinecolor\":\"white\",\"automargin\":true,\"zerolinewidth\":2},\"yaxis\":{\"gridcolor\":\"white\",\"linecolor\":\"white\",\"ticks\":\"\",\"title\":{\"standoff\":15},\"zerolinecolor\":\"white\",\"automargin\":true,\"zerolinewidth\":2},\"scene\":{\"xaxis\":{\"backgroundcolor\":\"#E5ECF6\",\"gridcolor\":\"white\",\"linecolor\":\"white\",\"showbackground\":true,\"ticks\":\"\",\"zerolinecolor\":\"white\",\"gridwidth\":2},\"yaxis\":{\"backgroundcolor\":\"#E5ECF6\",\"gridcolor\":\"white\",\"linecolor\":\"white\",\"showbackground\":true,\"ticks\":\"\",\"zerolinecolor\":\"white\",\"gridwidth\":2},\"zaxis\":{\"backgroundcolor\":\"#E5ECF6\",\"gridcolor\":\"white\",\"linecolor\":\"white\",\"showbackground\":true,\"ticks\":\"\",\"zerolinecolor\":\"white\",\"gridwidth\":2}},\"shapedefaults\":{\"line\":{\"color\":\"#2a3f5f\"}},\"annotationdefaults\":{\"arrowcolor\":\"#2a3f5f\",\"arrowhead\":0,\"arrowwidth\":1},\"geo\":{\"bgcolor\":\"white\",\"landcolor\":\"#E5ECF6\",\"subunitcolor\":\"white\",\"showland\":true,\"showlakes\":true,\"lakecolor\":\"white\"},\"title\":{\"x\":0.05},\"mapbox\":{\"style\":\"light\"}}}},                        {\"responsive\": true}                    ).then(function(){\n",
              "                            \n",
              "var gd = document.getElementById('0d506f98-bb99-4c8c-9799-58b5864c0efd');\n",
              "var x = new MutationObserver(function (mutations, observer) {{\n",
              "        var display = window.getComputedStyle(gd).display;\n",
              "        if (!display || display === 'none') {{\n",
              "            console.log([gd, 'removed!']);\n",
              "            Plotly.purge(gd);\n",
              "            observer.disconnect();\n",
              "        }}\n",
              "}});\n",
              "\n",
              "// Listen for the removal of the full notebook cells\n",
              "var notebookContainer = gd.closest('#notebook-container');\n",
              "if (notebookContainer) {{\n",
              "    x.observe(notebookContainer, {childList: true});\n",
              "}}\n",
              "\n",
              "// Listen for the clearing of the current output cell\n",
              "var outputEl = gd.closest('.output');\n",
              "if (outputEl) {{\n",
              "    x.observe(outputEl, {childList: true});\n",
              "}}\n",
              "\n",
              "                        })                };                            </script>        </div>\n",
              "</body>\n",
              "</html>"
            ]
          },
          "metadata": {},
          "output_type": "display_data"
        },
        {
          "data": {
            "text/html": [
              "<html>\n",
              "<head><meta charset=\"utf-8\" /></head>\n",
              "<body>\n",
              "    <div>            <script src=\"https://cdnjs.cloudflare.com/ajax/libs/mathjax/2.7.5/MathJax.js?config=TeX-AMS-MML_SVG\"></script><script type=\"text/javascript\">if (window.MathJax && window.MathJax.Hub && window.MathJax.Hub.Config) {window.MathJax.Hub.Config({SVG: {font: \"STIX-Web\"}});}</script>                <script type=\"text/javascript\">window.PlotlyConfig = {MathJaxConfig: 'local'};</script>\n",
              "        <script charset=\"utf-8\" src=\"https://cdn.plot.ly/plotly-2.24.1.min.js\"></script>                <div id=\"dc66dcf7-6ed9-453a-a3fe-41eef99b95c5\" class=\"plotly-graph-div\" style=\"height:525px; width:2100px;\"></div>            <script type=\"text/javascript\">                                    window.PLOTLYENV=window.PLOTLYENV || {};                                    if (document.getElementById(\"dc66dcf7-6ed9-453a-a3fe-41eef99b95c5\")) {                    Plotly.newPlot(                        \"dc66dcf7-6ed9-453a-a3fe-41eef99b95c5\",                        [{\"marker\":{\"color\":[0,1,2,3,4,5,6,7,8,9,10,11,12,13,14,15,16,17,18,19,20,21,22,23,24,25,26,27,28,29],\"colorbar\":{\"title\":{\"text\":\"Trial\"},\"x\":1.0,\"xpad\":40},\"colorscale\":[[0.0,\"rgb(247,251,255)\"],[0.125,\"rgb(222,235,247)\"],[0.25,\"rgb(198,219,239)\"],[0.375,\"rgb(158,202,225)\"],[0.5,\"rgb(107,174,214)\"],[0.625,\"rgb(66,146,198)\"],[0.75,\"rgb(33,113,181)\"],[0.875,\"rgb(8,81,156)\"],[1.0,\"rgb(8,48,107)\"]],\"line\":{\"color\":\"Grey\",\"width\":0.5},\"showscale\":true},\"mode\":\"markers\",\"name\":\"Feasible Trial\",\"showlegend\":false,\"x\":[7,15,4,15,7,12,9,6,14,2,10,6,6,8,1,4,11,11,12,11,12,10,10,9,10,9,8,13,9,9],\"y\":[60.85326948930696,68.20807624489647,67.18466645781865,62.772772717180246,60.30661750294687,62.02995217449699,67.14907390451181,65.4923470674927,71.55577019438203,73.94592777104373,62.220157251439524,64.54307569561743,61.80536858722123,65.51714185786011,113.22939751379845,62.71013607282669,59.2568457457461,58.83739224857024,81.28777344890833,58.95858244919207,66.07396257671627,58.380452555608336,58.668131069676356,58.55956850507941,60.1686624099793,58.57429595378685,66.2073448584839,61.34089485918729,61.96563359464775,58.81941576607545],\"type\":\"scatter\",\"xaxis\":\"x\",\"yaxis\":\"y\"},{\"marker\":{\"color\":[0,1,2,3,4,5,6,7,8,9,10,11,12,13,14,15,16,17,18,19,20,21,22,23,24,25,26,27,28,29],\"colorbar\":{\"title\":{\"text\":\"Trial\"},\"x\":1.0,\"xpad\":40},\"colorscale\":[[0.0,\"rgb(247,251,255)\"],[0.125,\"rgb(222,235,247)\"],[0.25,\"rgb(198,219,239)\"],[0.375,\"rgb(158,202,225)\"],[0.5,\"rgb(107,174,214)\"],[0.625,\"rgb(66,146,198)\"],[0.75,\"rgb(33,113,181)\"],[0.875,\"rgb(8,81,156)\"],[1.0,\"rgb(8,48,107)\"]],\"line\":{\"color\":\"Grey\",\"width\":0.5},\"showscale\":false},\"mode\":\"markers\",\"name\":\"Feasible Trial\",\"showlegend\":false,\"x\":[2500,6500,8000,6500,8000,6000,5000,2000,4500,7500,10000,2000,9500,3500,9000,3000,8500,8500,8500,7000,7000,9000,10000,10000,10000,9500,9000,9500,9500,9000],\"y\":[60.85326948930696,68.20807624489647,67.18466645781865,62.772772717180246,60.30661750294687,62.02995217449699,67.14907390451181,65.4923470674927,71.55577019438203,73.94592777104373,62.220157251439524,64.54307569561743,61.80536858722123,65.51714185786011,113.22939751379845,62.71013607282669,59.2568457457461,58.83739224857024,81.28777344890833,58.95858244919207,66.07396257671627,58.380452555608336,58.668131069676356,58.55956850507941,60.1686624099793,58.57429595378685,66.2073448584839,61.34089485918729,61.96563359464775,58.81941576607545],\"type\":\"scatter\",\"xaxis\":\"x2\",\"yaxis\":\"y2\"},{\"marker\":{\"color\":[0,1,2,3,4,5,6,7,8,9,10,11,12,13,14,15,16,17,18,19,20,21,22,23,24,25,26,27,28,29],\"colorbar\":{\"title\":{\"text\":\"Trial\"},\"x\":1.0,\"xpad\":40},\"colorscale\":[[0.0,\"rgb(247,251,255)\"],[0.125,\"rgb(222,235,247)\"],[0.25,\"rgb(198,219,239)\"],[0.375,\"rgb(158,202,225)\"],[0.5,\"rgb(107,174,214)\"],[0.625,\"rgb(66,146,198)\"],[0.75,\"rgb(33,113,181)\"],[0.875,\"rgb(8,81,156)\"],[1.0,\"rgb(8,48,107)\"]],\"line\":{\"color\":\"Grey\",\"width\":0.5},\"showscale\":false},\"mode\":\"markers\",\"name\":\"Feasible Trial\",\"showlegend\":false,\"x\":[0.07025670457566684,0.1727322601503304,0.4172506439258091,0.04516880886457119,0.11759812530174875,0.07164133131433938,0.3451959301347218,0.019047003886362636,0.24990818767168774,0.2372878448947537,0.15375518790264633,0.12195635006884005,0.11227709258070273,0.2023176032533856,0.3129016228912011,0.08662491321584387,0.020594819258376487,0.02371940276244394,0.4875945242095062,0.031776380459022105,0.1737093311170265,0.016862985221162422,0.034264752978504884,0.014891398032248485,0.0906162476923518,0.04677642937023066,0.3141643688035826,0.06477733009791174,0.1449575867882778,0.06428637422551338],\"y\":[60.85326948930696,68.20807624489647,67.18466645781865,62.772772717180246,60.30661750294687,62.02995217449699,67.14907390451181,65.4923470674927,71.55577019438203,73.94592777104373,62.220157251439524,64.54307569561743,61.80536858722123,65.51714185786011,113.22939751379845,62.71013607282669,59.2568457457461,58.83739224857024,81.28777344890833,58.95858244919207,66.07396257671627,58.380452555608336,58.668131069676356,58.55956850507941,60.1686624099793,58.57429595378685,66.2073448584839,61.34089485918729,61.96563359464775,58.81941576607545],\"type\":\"scatter\",\"xaxis\":\"x3\",\"yaxis\":\"y3\"},{\"marker\":{\"color\":[0,1,2,3,4,5,6,7,8,9,10,11,12,13,14,15,16,17,18,19,20,21,22,23,24,25,26,27,28,29],\"colorbar\":{\"title\":{\"text\":\"Trial\"},\"x\":1.0,\"xpad\":40},\"colorscale\":[[0.0,\"rgb(247,251,255)\"],[0.125,\"rgb(222,235,247)\"],[0.25,\"rgb(198,219,239)\"],[0.375,\"rgb(158,202,225)\"],[0.5,\"rgb(107,174,214)\"],[0.625,\"rgb(66,146,198)\"],[0.75,\"rgb(33,113,181)\"],[0.875,\"rgb(8,81,156)\"],[1.0,\"rgb(8,48,107)\"]],\"line\":{\"color\":\"Grey\",\"width\":0.5},\"showscale\":false},\"mode\":\"markers\",\"name\":\"Feasible Trial\",\"showlegend\":false,\"x\":[176,658,306,10,546,152,494,303,948,506,829,571,337,674,49,408,195,752,800,785,950,790,807,702,878,700,677,615,735,878],\"y\":[60.85326948930696,68.20807624489647,67.18466645781865,62.772772717180246,60.30661750294687,62.02995217449699,67.14907390451181,65.4923470674927,71.55577019438203,73.94592777104373,62.220157251439524,64.54307569561743,61.80536858722123,65.51714185786011,113.22939751379845,62.71013607282669,59.2568457457461,58.83739224857024,81.28777344890833,58.95858244919207,66.07396257671627,58.380452555608336,58.668131069676356,58.55956850507941,60.1686624099793,58.57429595378685,66.2073448584839,61.34089485918729,61.96563359464775,58.81941576607545],\"type\":\"scatter\",\"xaxis\":\"x4\",\"yaxis\":\"y4\"},{\"marker\":{\"color\":[0,1,2,3,4,5,6,7,8,9,10,11,12,13,14,15,16,17,18,19,20,21,22,23,24,25,26,27,28,29],\"colorbar\":{\"title\":{\"text\":\"Trial\"},\"x\":1.0,\"xpad\":40},\"colorscale\":[[0.0,\"rgb(247,251,255)\"],[0.125,\"rgb(222,235,247)\"],[0.25,\"rgb(198,219,239)\"],[0.375,\"rgb(158,202,225)\"],[0.5,\"rgb(107,174,214)\"],[0.625,\"rgb(66,146,198)\"],[0.75,\"rgb(33,113,181)\"],[0.875,\"rgb(8,81,156)\"],[1.0,\"rgb(8,48,107)\"]],\"line\":{\"color\":\"Grey\",\"width\":0.5},\"showscale\":false},\"mode\":\"markers\",\"name\":\"Feasible Trial\",\"showlegend\":false,\"x\":[48.60503106383933,33.21424656944389,11.04573017451644,25.530755093039424,43.59432725801986,49.823049670089475,14.70275188458816,14.128894431429107,14.518650737063052,43.043297111211906,36.45612189039682,49.777110633258026,42.71563666808705,41.369691129164906,26.110807294275077,45.117404956114896,37.10814912773438,37.39930300171451,34.854770683489434,28.26632187795207,22.33040653435201,29.84529179985335,30.983565961996668,31.17153589748329,32.092333391494925,20.95302716645734,22.237536856455396,19.462196500126026,28.057514588791207,19.145369411253974],\"y\":[60.85326948930696,68.20807624489647,67.18466645781865,62.772772717180246,60.30661750294687,62.02995217449699,67.14907390451181,65.4923470674927,71.55577019438203,73.94592777104373,62.220157251439524,64.54307569561743,61.80536858722123,65.51714185786011,113.22939751379845,62.71013607282669,59.2568457457461,58.83739224857024,81.28777344890833,58.95858244919207,66.07396257671627,58.380452555608336,58.668131069676356,58.55956850507941,60.1686624099793,58.57429595378685,66.2073448584839,61.34089485918729,61.96563359464775,58.81941576607545],\"type\":\"scatter\",\"xaxis\":\"x5\",\"yaxis\":\"y5\"},{\"marker\":{\"color\":[0,1,2,3,4,5,6,7,8,9,10,11,12,13,14,15,16,17,18,19,20,21,22,23,24,25,26,27,28,29],\"colorbar\":{\"title\":{\"text\":\"Trial\"},\"x\":1.0,\"xpad\":40},\"colorscale\":[[0.0,\"rgb(247,251,255)\"],[0.125,\"rgb(222,235,247)\"],[0.25,\"rgb(198,219,239)\"],[0.375,\"rgb(158,202,225)\"],[0.5,\"rgb(107,174,214)\"],[0.625,\"rgb(66,146,198)\"],[0.75,\"rgb(33,113,181)\"],[0.875,\"rgb(8,81,156)\"],[1.0,\"rgb(8,48,107)\"]],\"line\":{\"color\":\"Grey\",\"width\":0.5},\"showscale\":false},\"mode\":\"markers\",\"name\":\"Feasible Trial\",\"showlegend\":false,\"x\":[1.4379244941221576,4.9504333536576235,4.721312118109984,2.1998615082707533,4.947785025351073,4.935727275928628,1.7286184527235546,3.2599185904504844,0.866984303345825,0.9433719411921735,3.441507193614058,3.4107479439490365,1.6301386249879153,0.2213760796019475,2.756964139380688,3.7898937246282243,2.5190248333550493,2.5510221968277977,2.5968623285232657,4.036805496343391,4.12377547252909,2.9400782862345847,4.297414311035129,3.0744505215800095,4.411590058330517,3.0478202608722804,3.0582560270938024,2.207292389208074,2.9418100790024027,2.034953304242239],\"y\":[60.85326948930696,68.20807624489647,67.18466645781865,62.772772717180246,60.30661750294687,62.02995217449699,67.14907390451181,65.4923470674927,71.55577019438203,73.94592777104373,62.220157251439524,64.54307569561743,61.80536858722123,65.51714185786011,113.22939751379845,62.71013607282669,59.2568457457461,58.83739224857024,81.28777344890833,58.95858244919207,66.07396257671627,58.380452555608336,58.668131069676356,58.55956850507941,60.1686624099793,58.57429595378685,66.2073448584839,61.34089485918729,61.96563359464775,58.81941576607545],\"type\":\"scatter\",\"xaxis\":\"x6\",\"yaxis\":\"y6\"},{\"marker\":{\"color\":[0,1,2,3,4,5,6,7,8,9,10,11,12,13,14,15,16,17,18,19,20,21,22,23,24,25,26,27,28,29],\"colorbar\":{\"title\":{\"text\":\"Trial\"},\"x\":1.0,\"xpad\":40},\"colorscale\":[[0.0,\"rgb(247,251,255)\"],[0.125,\"rgb(222,235,247)\"],[0.25,\"rgb(198,219,239)\"],[0.375,\"rgb(158,202,225)\"],[0.5,\"rgb(107,174,214)\"],[0.625,\"rgb(66,146,198)\"],[0.75,\"rgb(33,113,181)\"],[0.875,\"rgb(8,81,156)\"],[1.0,\"rgb(8,48,107)\"]],\"line\":{\"color\":\"Grey\",\"width\":0.5},\"showscale\":false},\"mode\":\"markers\",\"name\":\"Feasible Trial\",\"showlegend\":false,\"x\":[0.5163295285540281,0.7550934084773187,0.8696697641062185,0.879228528112385,0.8480623951313192,0.7252272748769266,0.6740168376964286,0.9554520269953386,0.9827056546001118,0.6662252128376633,0.8155199357404586,0.5212355308605938,0.5346156988224361,0.6150442937396765,0.7959829305090627,0.8942833451062809,0.5854179174607782,0.5965149747466122,0.5917910682544335,0.6044814069126216,0.6601756185140182,0.5799090266204205,0.5670566464570769,0.5608690319524061,0.5394978135697726,0.5631318864804641,0.6381532929542277,0.7068935554008973,0.5021994564469707,0.5547985371611424],\"y\":[60.85326948930696,68.20807624489647,67.18466645781865,62.772772717180246,60.30661750294687,62.02995217449699,67.14907390451181,65.4923470674927,71.55577019438203,73.94592777104373,62.220157251439524,64.54307569561743,61.80536858722123,65.51714185786011,113.22939751379845,62.71013607282669,59.2568457457461,58.83739224857024,81.28777344890833,58.95858244919207,66.07396257671627,58.380452555608336,58.668131069676356,58.55956850507941,60.1686624099793,58.57429595378685,66.2073448584839,61.34089485918729,61.96563359464775,58.81941576607545],\"type\":\"scatter\",\"xaxis\":\"x7\",\"yaxis\":\"y7\"}],                        {\"template\":{\"data\":{\"histogram2dcontour\":[{\"type\":\"histogram2dcontour\",\"colorbar\":{\"outlinewidth\":0,\"ticks\":\"\"},\"colorscale\":[[0.0,\"#0d0887\"],[0.1111111111111111,\"#46039f\"],[0.2222222222222222,\"#7201a8\"],[0.3333333333333333,\"#9c179e\"],[0.4444444444444444,\"#bd3786\"],[0.5555555555555556,\"#d8576b\"],[0.6666666666666666,\"#ed7953\"],[0.7777777777777778,\"#fb9f3a\"],[0.8888888888888888,\"#fdca26\"],[1.0,\"#f0f921\"]]}],\"choropleth\":[{\"type\":\"choropleth\",\"colorbar\":{\"outlinewidth\":0,\"ticks\":\"\"}}],\"histogram2d\":[{\"type\":\"histogram2d\",\"colorbar\":{\"outlinewidth\":0,\"ticks\":\"\"},\"colorscale\":[[0.0,\"#0d0887\"],[0.1111111111111111,\"#46039f\"],[0.2222222222222222,\"#7201a8\"],[0.3333333333333333,\"#9c179e\"],[0.4444444444444444,\"#bd3786\"],[0.5555555555555556,\"#d8576b\"],[0.6666666666666666,\"#ed7953\"],[0.7777777777777778,\"#fb9f3a\"],[0.8888888888888888,\"#fdca26\"],[1.0,\"#f0f921\"]]}],\"heatmap\":[{\"type\":\"heatmap\",\"colorbar\":{\"outlinewidth\":0,\"ticks\":\"\"},\"colorscale\":[[0.0,\"#0d0887\"],[0.1111111111111111,\"#46039f\"],[0.2222222222222222,\"#7201a8\"],[0.3333333333333333,\"#9c179e\"],[0.4444444444444444,\"#bd3786\"],[0.5555555555555556,\"#d8576b\"],[0.6666666666666666,\"#ed7953\"],[0.7777777777777778,\"#fb9f3a\"],[0.8888888888888888,\"#fdca26\"],[1.0,\"#f0f921\"]]}],\"heatmapgl\":[{\"type\":\"heatmapgl\",\"colorbar\":{\"outlinewidth\":0,\"ticks\":\"\"},\"colorscale\":[[0.0,\"#0d0887\"],[0.1111111111111111,\"#46039f\"],[0.2222222222222222,\"#7201a8\"],[0.3333333333333333,\"#9c179e\"],[0.4444444444444444,\"#bd3786\"],[0.5555555555555556,\"#d8576b\"],[0.6666666666666666,\"#ed7953\"],[0.7777777777777778,\"#fb9f3a\"],[0.8888888888888888,\"#fdca26\"],[1.0,\"#f0f921\"]]}],\"contourcarpet\":[{\"type\":\"contourcarpet\",\"colorbar\":{\"outlinewidth\":0,\"ticks\":\"\"}}],\"contour\":[{\"type\":\"contour\",\"colorbar\":{\"outlinewidth\":0,\"ticks\":\"\"},\"colorscale\":[[0.0,\"#0d0887\"],[0.1111111111111111,\"#46039f\"],[0.2222222222222222,\"#7201a8\"],[0.3333333333333333,\"#9c179e\"],[0.4444444444444444,\"#bd3786\"],[0.5555555555555556,\"#d8576b\"],[0.6666666666666666,\"#ed7953\"],[0.7777777777777778,\"#fb9f3a\"],[0.8888888888888888,\"#fdca26\"],[1.0,\"#f0f921\"]]}],\"surface\":[{\"type\":\"surface\",\"colorbar\":{\"outlinewidth\":0,\"ticks\":\"\"},\"colorscale\":[[0.0,\"#0d0887\"],[0.1111111111111111,\"#46039f\"],[0.2222222222222222,\"#7201a8\"],[0.3333333333333333,\"#9c179e\"],[0.4444444444444444,\"#bd3786\"],[0.5555555555555556,\"#d8576b\"],[0.6666666666666666,\"#ed7953\"],[0.7777777777777778,\"#fb9f3a\"],[0.8888888888888888,\"#fdca26\"],[1.0,\"#f0f921\"]]}],\"mesh3d\":[{\"type\":\"mesh3d\",\"colorbar\":{\"outlinewidth\":0,\"ticks\":\"\"}}],\"scatter\":[{\"fillpattern\":{\"fillmode\":\"overlay\",\"size\":10,\"solidity\":0.2},\"type\":\"scatter\"}],\"parcoords\":[{\"type\":\"parcoords\",\"line\":{\"colorbar\":{\"outlinewidth\":0,\"ticks\":\"\"}}}],\"scatterpolargl\":[{\"type\":\"scatterpolargl\",\"marker\":{\"colorbar\":{\"outlinewidth\":0,\"ticks\":\"\"}}}],\"bar\":[{\"error_x\":{\"color\":\"#2a3f5f\"},\"error_y\":{\"color\":\"#2a3f5f\"},\"marker\":{\"line\":{\"color\":\"#E5ECF6\",\"width\":0.5},\"pattern\":{\"fillmode\":\"overlay\",\"size\":10,\"solidity\":0.2}},\"type\":\"bar\"}],\"scattergeo\":[{\"type\":\"scattergeo\",\"marker\":{\"colorbar\":{\"outlinewidth\":0,\"ticks\":\"\"}}}],\"scatterpolar\":[{\"type\":\"scatterpolar\",\"marker\":{\"colorbar\":{\"outlinewidth\":0,\"ticks\":\"\"}}}],\"histogram\":[{\"marker\":{\"pattern\":{\"fillmode\":\"overlay\",\"size\":10,\"solidity\":0.2}},\"type\":\"histogram\"}],\"scattergl\":[{\"type\":\"scattergl\",\"marker\":{\"colorbar\":{\"outlinewidth\":0,\"ticks\":\"\"}}}],\"scatter3d\":[{\"type\":\"scatter3d\",\"line\":{\"colorbar\":{\"outlinewidth\":0,\"ticks\":\"\"}},\"marker\":{\"colorbar\":{\"outlinewidth\":0,\"ticks\":\"\"}}}],\"scattermapbox\":[{\"type\":\"scattermapbox\",\"marker\":{\"colorbar\":{\"outlinewidth\":0,\"ticks\":\"\"}}}],\"scatterternary\":[{\"type\":\"scatterternary\",\"marker\":{\"colorbar\":{\"outlinewidth\":0,\"ticks\":\"\"}}}],\"scattercarpet\":[{\"type\":\"scattercarpet\",\"marker\":{\"colorbar\":{\"outlinewidth\":0,\"ticks\":\"\"}}}],\"carpet\":[{\"aaxis\":{\"endlinecolor\":\"#2a3f5f\",\"gridcolor\":\"white\",\"linecolor\":\"white\",\"minorgridcolor\":\"white\",\"startlinecolor\":\"#2a3f5f\"},\"baxis\":{\"endlinecolor\":\"#2a3f5f\",\"gridcolor\":\"white\",\"linecolor\":\"white\",\"minorgridcolor\":\"white\",\"startlinecolor\":\"#2a3f5f\"},\"type\":\"carpet\"}],\"table\":[{\"cells\":{\"fill\":{\"color\":\"#EBF0F8\"},\"line\":{\"color\":\"white\"}},\"header\":{\"fill\":{\"color\":\"#C8D4E3\"},\"line\":{\"color\":\"white\"}},\"type\":\"table\"}],\"barpolar\":[{\"marker\":{\"line\":{\"color\":\"#E5ECF6\",\"width\":0.5},\"pattern\":{\"fillmode\":\"overlay\",\"size\":10,\"solidity\":0.2}},\"type\":\"barpolar\"}],\"pie\":[{\"automargin\":true,\"type\":\"pie\"}]},\"layout\":{\"autotypenumbers\":\"strict\",\"colorway\":[\"#636efa\",\"#EF553B\",\"#00cc96\",\"#ab63fa\",\"#FFA15A\",\"#19d3f3\",\"#FF6692\",\"#B6E880\",\"#FF97FF\",\"#FECB52\"],\"font\":{\"color\":\"#2a3f5f\"},\"hovermode\":\"closest\",\"hoverlabel\":{\"align\":\"left\"},\"paper_bgcolor\":\"white\",\"plot_bgcolor\":\"#E5ECF6\",\"polar\":{\"bgcolor\":\"#E5ECF6\",\"angularaxis\":{\"gridcolor\":\"white\",\"linecolor\":\"white\",\"ticks\":\"\"},\"radialaxis\":{\"gridcolor\":\"white\",\"linecolor\":\"white\",\"ticks\":\"\"}},\"ternary\":{\"bgcolor\":\"#E5ECF6\",\"aaxis\":{\"gridcolor\":\"white\",\"linecolor\":\"white\",\"ticks\":\"\"},\"baxis\":{\"gridcolor\":\"white\",\"linecolor\":\"white\",\"ticks\":\"\"},\"caxis\":{\"gridcolor\":\"white\",\"linecolor\":\"white\",\"ticks\":\"\"}},\"coloraxis\":{\"colorbar\":{\"outlinewidth\":0,\"ticks\":\"\"}},\"colorscale\":{\"sequential\":[[0.0,\"#0d0887\"],[0.1111111111111111,\"#46039f\"],[0.2222222222222222,\"#7201a8\"],[0.3333333333333333,\"#9c179e\"],[0.4444444444444444,\"#bd3786\"],[0.5555555555555556,\"#d8576b\"],[0.6666666666666666,\"#ed7953\"],[0.7777777777777778,\"#fb9f3a\"],[0.8888888888888888,\"#fdca26\"],[1.0,\"#f0f921\"]],\"sequentialminus\":[[0.0,\"#0d0887\"],[0.1111111111111111,\"#46039f\"],[0.2222222222222222,\"#7201a8\"],[0.3333333333333333,\"#9c179e\"],[0.4444444444444444,\"#bd3786\"],[0.5555555555555556,\"#d8576b\"],[0.6666666666666666,\"#ed7953\"],[0.7777777777777778,\"#fb9f3a\"],[0.8888888888888888,\"#fdca26\"],[1.0,\"#f0f921\"]],\"diverging\":[[0,\"#8e0152\"],[0.1,\"#c51b7d\"],[0.2,\"#de77ae\"],[0.3,\"#f1b6da\"],[0.4,\"#fde0ef\"],[0.5,\"#f7f7f7\"],[0.6,\"#e6f5d0\"],[0.7,\"#b8e186\"],[0.8,\"#7fbc41\"],[0.9,\"#4d9221\"],[1,\"#276419\"]]},\"xaxis\":{\"gridcolor\":\"white\",\"linecolor\":\"white\",\"ticks\":\"\",\"title\":{\"standoff\":15},\"zerolinecolor\":\"white\",\"automargin\":true,\"zerolinewidth\":2},\"yaxis\":{\"gridcolor\":\"white\",\"linecolor\":\"white\",\"ticks\":\"\",\"title\":{\"standoff\":15},\"zerolinecolor\":\"white\",\"automargin\":true,\"zerolinewidth\":2},\"scene\":{\"xaxis\":{\"backgroundcolor\":\"#E5ECF6\",\"gridcolor\":\"white\",\"linecolor\":\"white\",\"showbackground\":true,\"ticks\":\"\",\"zerolinecolor\":\"white\",\"gridwidth\":2},\"yaxis\":{\"backgroundcolor\":\"#E5ECF6\",\"gridcolor\":\"white\",\"linecolor\":\"white\",\"showbackground\":true,\"ticks\":\"\",\"zerolinecolor\":\"white\",\"gridwidth\":2},\"zaxis\":{\"backgroundcolor\":\"#E5ECF6\",\"gridcolor\":\"white\",\"linecolor\":\"white\",\"showbackground\":true,\"ticks\":\"\",\"zerolinecolor\":\"white\",\"gridwidth\":2}},\"shapedefaults\":{\"line\":{\"color\":\"#2a3f5f\"}},\"annotationdefaults\":{\"arrowcolor\":\"#2a3f5f\",\"arrowhead\":0,\"arrowwidth\":1},\"geo\":{\"bgcolor\":\"white\",\"landcolor\":\"#E5ECF6\",\"subunitcolor\":\"white\",\"showland\":true,\"showlakes\":true,\"lakecolor\":\"white\"},\"title\":{\"x\":0.05},\"mapbox\":{\"style\":\"light\"}}},\"xaxis\":{\"anchor\":\"y\",\"domain\":[0.0,0.1183673469387755],\"title\":{\"text\":\"depth\"}},\"yaxis\":{\"anchor\":\"x\",\"domain\":[0.0,1.0],\"title\":{\"text\":\"MAE\"}},\"xaxis2\":{\"anchor\":\"y2\",\"domain\":[0.14693877551020407,0.26530612244897955],\"title\":{\"text\":\"iterations\"}},\"yaxis2\":{\"anchor\":\"x2\",\"domain\":[0.0,1.0],\"matches\":\"y\",\"showticklabels\":false},\"xaxis3\":{\"anchor\":\"y3\",\"domain\":[0.29387755102040813,0.4122448979591836],\"title\":{\"text\":\"learning_rate\"}},\"yaxis3\":{\"anchor\":\"x3\",\"domain\":[0.0,1.0],\"matches\":\"y\",\"showticklabels\":false},\"xaxis4\":{\"anchor\":\"y4\",\"domain\":[0.4408163265306122,0.5591836734693877],\"title\":{\"text\":\"min_data_in_leaf\"}},\"yaxis4\":{\"anchor\":\"x4\",\"domain\":[0.0,1.0],\"matches\":\"y\",\"showticklabels\":false},\"xaxis5\":{\"anchor\":\"y5\",\"domain\":[0.5877551020408163,0.7061224489795918],\"title\":{\"text\":\"random_strength\"}},\"yaxis5\":{\"anchor\":\"x5\",\"domain\":[0.0,1.0],\"matches\":\"y\",\"showticklabels\":false},\"xaxis6\":{\"anchor\":\"y6\",\"domain\":[0.7346938775510204,0.8530612244897959],\"title\":{\"text\":\"reg_lambda\"}},\"yaxis6\":{\"anchor\":\"x6\",\"domain\":[0.0,1.0],\"matches\":\"y\",\"showticklabels\":false},\"xaxis7\":{\"anchor\":\"y7\",\"domain\":[0.8816326530612244,0.9999999999999999],\"title\":{\"text\":\"subsample\"}},\"yaxis7\":{\"anchor\":\"x7\",\"domain\":[0.0,1.0],\"matches\":\"y\",\"showticklabels\":false},\"title\":{\"text\":\"Slice Plot\"},\"width\":2100},                        {\"responsive\": true}                    ).then(function(){\n",
              "                            \n",
              "var gd = document.getElementById('dc66dcf7-6ed9-453a-a3fe-41eef99b95c5');\n",
              "var x = new MutationObserver(function (mutations, observer) {{\n",
              "        var display = window.getComputedStyle(gd).display;\n",
              "        if (!display || display === 'none') {{\n",
              "            console.log([gd, 'removed!']);\n",
              "            Plotly.purge(gd);\n",
              "            observer.disconnect();\n",
              "        }}\n",
              "}});\n",
              "\n",
              "// Listen for the removal of the full notebook cells\n",
              "var notebookContainer = gd.closest('#notebook-container');\n",
              "if (notebookContainer) {{\n",
              "    x.observe(notebookContainer, {childList: true});\n",
              "}}\n",
              "\n",
              "// Listen for the clearing of the current output cell\n",
              "var outputEl = gd.closest('.output');\n",
              "if (outputEl) {{\n",
              "    x.observe(outputEl, {childList: true});\n",
              "}}\n",
              "\n",
              "                        })                };                            </script>        </div>\n",
              "</body>\n",
              "</html>"
            ]
          },
          "metadata": {},
          "output_type": "display_data"
        },
        {
          "data": {
            "text/html": [
              "<html>\n",
              "<head><meta charset=\"utf-8\" /></head>\n",
              "<body>\n",
              "    <div>            <script src=\"https://cdnjs.cloudflare.com/ajax/libs/mathjax/2.7.5/MathJax.js?config=TeX-AMS-MML_SVG\"></script><script type=\"text/javascript\">if (window.MathJax && window.MathJax.Hub && window.MathJax.Hub.Config) {window.MathJax.Hub.Config({SVG: {font: \"STIX-Web\"}});}</script>                <script type=\"text/javascript\">window.PlotlyConfig = {MathJaxConfig: 'local'};</script>\n",
              "        <script charset=\"utf-8\" src=\"https://cdn.plot.ly/plotly-2.24.1.min.js\"></script>                <div id=\"628f11bb-3dbf-462f-9c4e-d0a635eb5219\" class=\"plotly-graph-div\" style=\"height:525px; width:100%;\"></div>            <script type=\"text/javascript\">                                    window.PLOTLYENV=window.PLOTLYENV || {};                                    if (document.getElementById(\"628f11bb-3dbf-462f-9c4e-d0a635eb5219\")) {                    Plotly.newPlot(                        \"628f11bb-3dbf-462f-9c4e-d0a635eb5219\",                        [{\"cliponaxis\":false,\"hovertemplate\":[\"iterations (IntDistribution): 0.008734084356525893\\u003cextra\\u003e\\u003c\\u002fextra\\u003e\",\"reg_lambda (FloatDistribution): 0.011801367938746797\\u003cextra\\u003e\\u003c\\u002fextra\\u003e\",\"random_strength (FloatDistribution): 0.02009934937095781\\u003cextra\\u003e\\u003c\\u002fextra\\u003e\",\"subsample (FloatDistribution): 0.060325147117196234\\u003cextra\\u003e\\u003c\\u002fextra\\u003e\",\"min_data_in_leaf (IntDistribution): 0.144194479429129\\u003cextra\\u003e\\u003c\\u002fextra\\u003e\",\"learning_rate (FloatDistribution): 0.3290174926861214\\u003cextra\\u003e\\u003c\\u002fextra\\u003e\",\"depth (IntDistribution): 0.42582807910132286\\u003cextra\\u003e\\u003c\\u002fextra\\u003e\"],\"name\":\"MAE\",\"orientation\":\"h\",\"text\":[\"\\u003c0.01\",\"0.01\",\"0.02\",\"0.06\",\"0.14\",\"0.33\",\"0.43\"],\"textposition\":\"outside\",\"x\":[0.008734084356525893,0.011801367938746797,0.02009934937095781,0.060325147117196234,0.144194479429129,0.3290174926861214,0.42582807910132286],\"y\":[\"iterations\",\"reg_lambda\",\"random_strength\",\"subsample\",\"min_data_in_leaf\",\"learning_rate\",\"depth\"],\"type\":\"bar\"}],                        {\"title\":{\"text\":\"Hyperparameter Importances\"},\"xaxis\":{\"title\":{\"text\":\"Hyperparameter Importance\"}},\"yaxis\":{\"title\":{\"text\":\"Hyperparameter\"}},\"template\":{\"data\":{\"histogram2dcontour\":[{\"type\":\"histogram2dcontour\",\"colorbar\":{\"outlinewidth\":0,\"ticks\":\"\"},\"colorscale\":[[0.0,\"#0d0887\"],[0.1111111111111111,\"#46039f\"],[0.2222222222222222,\"#7201a8\"],[0.3333333333333333,\"#9c179e\"],[0.4444444444444444,\"#bd3786\"],[0.5555555555555556,\"#d8576b\"],[0.6666666666666666,\"#ed7953\"],[0.7777777777777778,\"#fb9f3a\"],[0.8888888888888888,\"#fdca26\"],[1.0,\"#f0f921\"]]}],\"choropleth\":[{\"type\":\"choropleth\",\"colorbar\":{\"outlinewidth\":0,\"ticks\":\"\"}}],\"histogram2d\":[{\"type\":\"histogram2d\",\"colorbar\":{\"outlinewidth\":0,\"ticks\":\"\"},\"colorscale\":[[0.0,\"#0d0887\"],[0.1111111111111111,\"#46039f\"],[0.2222222222222222,\"#7201a8\"],[0.3333333333333333,\"#9c179e\"],[0.4444444444444444,\"#bd3786\"],[0.5555555555555556,\"#d8576b\"],[0.6666666666666666,\"#ed7953\"],[0.7777777777777778,\"#fb9f3a\"],[0.8888888888888888,\"#fdca26\"],[1.0,\"#f0f921\"]]}],\"heatmap\":[{\"type\":\"heatmap\",\"colorbar\":{\"outlinewidth\":0,\"ticks\":\"\"},\"colorscale\":[[0.0,\"#0d0887\"],[0.1111111111111111,\"#46039f\"],[0.2222222222222222,\"#7201a8\"],[0.3333333333333333,\"#9c179e\"],[0.4444444444444444,\"#bd3786\"],[0.5555555555555556,\"#d8576b\"],[0.6666666666666666,\"#ed7953\"],[0.7777777777777778,\"#fb9f3a\"],[0.8888888888888888,\"#fdca26\"],[1.0,\"#f0f921\"]]}],\"heatmapgl\":[{\"type\":\"heatmapgl\",\"colorbar\":{\"outlinewidth\":0,\"ticks\":\"\"},\"colorscale\":[[0.0,\"#0d0887\"],[0.1111111111111111,\"#46039f\"],[0.2222222222222222,\"#7201a8\"],[0.3333333333333333,\"#9c179e\"],[0.4444444444444444,\"#bd3786\"],[0.5555555555555556,\"#d8576b\"],[0.6666666666666666,\"#ed7953\"],[0.7777777777777778,\"#fb9f3a\"],[0.8888888888888888,\"#fdca26\"],[1.0,\"#f0f921\"]]}],\"contourcarpet\":[{\"type\":\"contourcarpet\",\"colorbar\":{\"outlinewidth\":0,\"ticks\":\"\"}}],\"contour\":[{\"type\":\"contour\",\"colorbar\":{\"outlinewidth\":0,\"ticks\":\"\"},\"colorscale\":[[0.0,\"#0d0887\"],[0.1111111111111111,\"#46039f\"],[0.2222222222222222,\"#7201a8\"],[0.3333333333333333,\"#9c179e\"],[0.4444444444444444,\"#bd3786\"],[0.5555555555555556,\"#d8576b\"],[0.6666666666666666,\"#ed7953\"],[0.7777777777777778,\"#fb9f3a\"],[0.8888888888888888,\"#fdca26\"],[1.0,\"#f0f921\"]]}],\"surface\":[{\"type\":\"surface\",\"colorbar\":{\"outlinewidth\":0,\"ticks\":\"\"},\"colorscale\":[[0.0,\"#0d0887\"],[0.1111111111111111,\"#46039f\"],[0.2222222222222222,\"#7201a8\"],[0.3333333333333333,\"#9c179e\"],[0.4444444444444444,\"#bd3786\"],[0.5555555555555556,\"#d8576b\"],[0.6666666666666666,\"#ed7953\"],[0.7777777777777778,\"#fb9f3a\"],[0.8888888888888888,\"#fdca26\"],[1.0,\"#f0f921\"]]}],\"mesh3d\":[{\"type\":\"mesh3d\",\"colorbar\":{\"outlinewidth\":0,\"ticks\":\"\"}}],\"scatter\":[{\"fillpattern\":{\"fillmode\":\"overlay\",\"size\":10,\"solidity\":0.2},\"type\":\"scatter\"}],\"parcoords\":[{\"type\":\"parcoords\",\"line\":{\"colorbar\":{\"outlinewidth\":0,\"ticks\":\"\"}}}],\"scatterpolargl\":[{\"type\":\"scatterpolargl\",\"marker\":{\"colorbar\":{\"outlinewidth\":0,\"ticks\":\"\"}}}],\"bar\":[{\"error_x\":{\"color\":\"#2a3f5f\"},\"error_y\":{\"color\":\"#2a3f5f\"},\"marker\":{\"line\":{\"color\":\"#E5ECF6\",\"width\":0.5},\"pattern\":{\"fillmode\":\"overlay\",\"size\":10,\"solidity\":0.2}},\"type\":\"bar\"}],\"scattergeo\":[{\"type\":\"scattergeo\",\"marker\":{\"colorbar\":{\"outlinewidth\":0,\"ticks\":\"\"}}}],\"scatterpolar\":[{\"type\":\"scatterpolar\",\"marker\":{\"colorbar\":{\"outlinewidth\":0,\"ticks\":\"\"}}}],\"histogram\":[{\"marker\":{\"pattern\":{\"fillmode\":\"overlay\",\"size\":10,\"solidity\":0.2}},\"type\":\"histogram\"}],\"scattergl\":[{\"type\":\"scattergl\",\"marker\":{\"colorbar\":{\"outlinewidth\":0,\"ticks\":\"\"}}}],\"scatter3d\":[{\"type\":\"scatter3d\",\"line\":{\"colorbar\":{\"outlinewidth\":0,\"ticks\":\"\"}},\"marker\":{\"colorbar\":{\"outlinewidth\":0,\"ticks\":\"\"}}}],\"scattermapbox\":[{\"type\":\"scattermapbox\",\"marker\":{\"colorbar\":{\"outlinewidth\":0,\"ticks\":\"\"}}}],\"scatterternary\":[{\"type\":\"scatterternary\",\"marker\":{\"colorbar\":{\"outlinewidth\":0,\"ticks\":\"\"}}}],\"scattercarpet\":[{\"type\":\"scattercarpet\",\"marker\":{\"colorbar\":{\"outlinewidth\":0,\"ticks\":\"\"}}}],\"carpet\":[{\"aaxis\":{\"endlinecolor\":\"#2a3f5f\",\"gridcolor\":\"white\",\"linecolor\":\"white\",\"minorgridcolor\":\"white\",\"startlinecolor\":\"#2a3f5f\"},\"baxis\":{\"endlinecolor\":\"#2a3f5f\",\"gridcolor\":\"white\",\"linecolor\":\"white\",\"minorgridcolor\":\"white\",\"startlinecolor\":\"#2a3f5f\"},\"type\":\"carpet\"}],\"table\":[{\"cells\":{\"fill\":{\"color\":\"#EBF0F8\"},\"line\":{\"color\":\"white\"}},\"header\":{\"fill\":{\"color\":\"#C8D4E3\"},\"line\":{\"color\":\"white\"}},\"type\":\"table\"}],\"barpolar\":[{\"marker\":{\"line\":{\"color\":\"#E5ECF6\",\"width\":0.5},\"pattern\":{\"fillmode\":\"overlay\",\"size\":10,\"solidity\":0.2}},\"type\":\"barpolar\"}],\"pie\":[{\"automargin\":true,\"type\":\"pie\"}]},\"layout\":{\"autotypenumbers\":\"strict\",\"colorway\":[\"#636efa\",\"#EF553B\",\"#00cc96\",\"#ab63fa\",\"#FFA15A\",\"#19d3f3\",\"#FF6692\",\"#B6E880\",\"#FF97FF\",\"#FECB52\"],\"font\":{\"color\":\"#2a3f5f\"},\"hovermode\":\"closest\",\"hoverlabel\":{\"align\":\"left\"},\"paper_bgcolor\":\"white\",\"plot_bgcolor\":\"#E5ECF6\",\"polar\":{\"bgcolor\":\"#E5ECF6\",\"angularaxis\":{\"gridcolor\":\"white\",\"linecolor\":\"white\",\"ticks\":\"\"},\"radialaxis\":{\"gridcolor\":\"white\",\"linecolor\":\"white\",\"ticks\":\"\"}},\"ternary\":{\"bgcolor\":\"#E5ECF6\",\"aaxis\":{\"gridcolor\":\"white\",\"linecolor\":\"white\",\"ticks\":\"\"},\"baxis\":{\"gridcolor\":\"white\",\"linecolor\":\"white\",\"ticks\":\"\"},\"caxis\":{\"gridcolor\":\"white\",\"linecolor\":\"white\",\"ticks\":\"\"}},\"coloraxis\":{\"colorbar\":{\"outlinewidth\":0,\"ticks\":\"\"}},\"colorscale\":{\"sequential\":[[0.0,\"#0d0887\"],[0.1111111111111111,\"#46039f\"],[0.2222222222222222,\"#7201a8\"],[0.3333333333333333,\"#9c179e\"],[0.4444444444444444,\"#bd3786\"],[0.5555555555555556,\"#d8576b\"],[0.6666666666666666,\"#ed7953\"],[0.7777777777777778,\"#fb9f3a\"],[0.8888888888888888,\"#fdca26\"],[1.0,\"#f0f921\"]],\"sequentialminus\":[[0.0,\"#0d0887\"],[0.1111111111111111,\"#46039f\"],[0.2222222222222222,\"#7201a8\"],[0.3333333333333333,\"#9c179e\"],[0.4444444444444444,\"#bd3786\"],[0.5555555555555556,\"#d8576b\"],[0.6666666666666666,\"#ed7953\"],[0.7777777777777778,\"#fb9f3a\"],[0.8888888888888888,\"#fdca26\"],[1.0,\"#f0f921\"]],\"diverging\":[[0,\"#8e0152\"],[0.1,\"#c51b7d\"],[0.2,\"#de77ae\"],[0.3,\"#f1b6da\"],[0.4,\"#fde0ef\"],[0.5,\"#f7f7f7\"],[0.6,\"#e6f5d0\"],[0.7,\"#b8e186\"],[0.8,\"#7fbc41\"],[0.9,\"#4d9221\"],[1,\"#276419\"]]},\"xaxis\":{\"gridcolor\":\"white\",\"linecolor\":\"white\",\"ticks\":\"\",\"title\":{\"standoff\":15},\"zerolinecolor\":\"white\",\"automargin\":true,\"zerolinewidth\":2},\"yaxis\":{\"gridcolor\":\"white\",\"linecolor\":\"white\",\"ticks\":\"\",\"title\":{\"standoff\":15},\"zerolinecolor\":\"white\",\"automargin\":true,\"zerolinewidth\":2},\"scene\":{\"xaxis\":{\"backgroundcolor\":\"#E5ECF6\",\"gridcolor\":\"white\",\"linecolor\":\"white\",\"showbackground\":true,\"ticks\":\"\",\"zerolinecolor\":\"white\",\"gridwidth\":2},\"yaxis\":{\"backgroundcolor\":\"#E5ECF6\",\"gridcolor\":\"white\",\"linecolor\":\"white\",\"showbackground\":true,\"ticks\":\"\",\"zerolinecolor\":\"white\",\"gridwidth\":2},\"zaxis\":{\"backgroundcolor\":\"#E5ECF6\",\"gridcolor\":\"white\",\"linecolor\":\"white\",\"showbackground\":true,\"ticks\":\"\",\"zerolinecolor\":\"white\",\"gridwidth\":2}},\"shapedefaults\":{\"line\":{\"color\":\"#2a3f5f\"}},\"annotationdefaults\":{\"arrowcolor\":\"#2a3f5f\",\"arrowhead\":0,\"arrowwidth\":1},\"geo\":{\"bgcolor\":\"white\",\"landcolor\":\"#E5ECF6\",\"subunitcolor\":\"white\",\"showland\":true,\"showlakes\":true,\"lakecolor\":\"white\"},\"title\":{\"x\":0.05},\"mapbox\":{\"style\":\"light\"}}}},                        {\"responsive\": true}                    ).then(function(){\n",
              "                            \n",
              "var gd = document.getElementById('628f11bb-3dbf-462f-9c4e-d0a635eb5219');\n",
              "var x = new MutationObserver(function (mutations, observer) {{\n",
              "        var display = window.getComputedStyle(gd).display;\n",
              "        if (!display || display === 'none') {{\n",
              "            console.log([gd, 'removed!']);\n",
              "            Plotly.purge(gd);\n",
              "            observer.disconnect();\n",
              "        }}\n",
              "}});\n",
              "\n",
              "// Listen for the removal of the full notebook cells\n",
              "var notebookContainer = gd.closest('#notebook-container');\n",
              "if (notebookContainer) {{\n",
              "    x.observe(notebookContainer, {childList: true});\n",
              "}}\n",
              "\n",
              "// Listen for the clearing of the current output cell\n",
              "var outputEl = gd.closest('.output');\n",
              "if (outputEl) {{\n",
              "    x.observe(outputEl, {childList: true});\n",
              "}}\n",
              "\n",
              "                        })                };                            </script>        </div>\n",
              "</body>\n",
              "</html>"
            ]
          },
          "metadata": {},
          "output_type": "display_data"
        },
        {
          "data": {
            "text/html": [
              "<html>\n",
              "<head><meta charset=\"utf-8\" /></head>\n",
              "<body>\n",
              "    <div>            <script src=\"https://cdnjs.cloudflare.com/ajax/libs/mathjax/2.7.5/MathJax.js?config=TeX-AMS-MML_SVG\"></script><script type=\"text/javascript\">if (window.MathJax && window.MathJax.Hub && window.MathJax.Hub.Config) {window.MathJax.Hub.Config({SVG: {font: \"STIX-Web\"}});}</script>                <script type=\"text/javascript\">window.PlotlyConfig = {MathJaxConfig: 'local'};</script>\n",
              "        <script charset=\"utf-8\" src=\"https://cdn.plot.ly/plotly-2.24.1.min.js\"></script>                <div id=\"f86c0222-4bfb-48bc-a352-d09c0429c9b0\" class=\"plotly-graph-div\" style=\"height:525px; width:100%;\"></div>            <script type=\"text/javascript\">                                    window.PLOTLYENV=window.PLOTLYENV || {};                                    if (document.getElementById(\"f86c0222-4bfb-48bc-a352-d09c0429c9b0\")) {                    Plotly.newPlot(                        \"f86c0222-4bfb-48bc-a352-d09c0429c9b0\",                        [{\"mode\":\"lines\",\"name\":\"Consumption_48h_diif_model_Catboost\",\"x\":[58.380452555608336,58.93448230266076,59.48851204971319,60.04254179676561,60.59657154381804,61.15060129087046,61.70463103792289,62.25866078497531,62.81269053202774,63.36672027908016,63.92075002613259,64.47477977318502,65.02880952023744,65.58283926728987,66.1368690143423,66.69089876139472,67.24492850844715,67.79895825549957,68.352988002552,68.90701774960442,69.46104749665685,70.01507724370927,70.5691069907617,71.12313673781412,71.67716648486655,72.23119623191897,72.7852259789714,73.33925572602382,73.89328547307625,74.44731522012867,75.0013449671811,75.55537471423352,76.10940446128595,76.66343420833837,77.2174639553908,77.77149370244322,78.32552344949565,78.87955319654807,79.4335829436005,79.98761269065292,80.54164243770535,81.09567218475777,81.6497019318102,82.20373167886262,82.75776142591505,83.31179117296747,83.8658209200199,84.41985066707232,84.97388041412475,85.52791016117718,86.0819399082296,86.63596965528203,87.18999940233445,87.74402914938688,88.2980588964393,88.85208864349173,89.40611839054415,89.96014813759658,90.514177884649,91.06820763170143,91.62223737875385,92.17626712580628,92.7302968728587,93.28432661991113,93.83835636696355,94.39238611401598,94.9464158610684,95.50044560812083,96.05447535517325,96.60850510222568,97.1625348492781,97.71656459633053,98.27059434338295,98.82462409043538,99.3786538374878,99.93268358454023,100.48671333159265,101.04074307864508,101.5947728256975,102.14880257274993,102.70283231980235,103.2568620668548,103.81089181390722,104.36492156095964,104.91895130801207,105.4729810550645,106.02701080211692,106.58104054916934,107.13507029622177,107.6891000432742,108.24312979032662,108.79715953737904,109.35118928443147,109.9052190314839,110.45924877853632,111.01327852558875,111.56730827264117,112.1213380196936,112.67536776674602,113.22939751379845],\"y\":[0.03333333333333333,0.2,0.26666666666666666,0.26666666666666666,0.3333333333333333,0.36666666666666664,0.4,0.5333333333333333,0.6,0.6,0.6,0.6,0.6333333333333333,0.7,0.7333333333333333,0.7666666666666667,0.8333333333333334,0.8333333333333334,0.8666666666666667,0.8666666666666667,0.8666666666666667,0.8666666666666667,0.8666666666666667,0.8666666666666667,0.9,0.9,0.9,0.9,0.9,0.9333333333333333,0.9333333333333333,0.9333333333333333,0.9333333333333333,0.9333333333333333,0.9333333333333333,0.9333333333333333,0.9333333333333333,0.9333333333333333,0.9333333333333333,0.9333333333333333,0.9333333333333333,0.9333333333333333,0.9666666666666667,0.9666666666666667,0.9666666666666667,0.9666666666666667,0.9666666666666667,0.9666666666666667,0.9666666666666667,0.9666666666666667,0.9666666666666667,0.9666666666666667,0.9666666666666667,0.9666666666666667,0.9666666666666667,0.9666666666666667,0.9666666666666667,0.9666666666666667,0.9666666666666667,0.9666666666666667,0.9666666666666667,0.9666666666666667,0.9666666666666667,0.9666666666666667,0.9666666666666667,0.9666666666666667,0.9666666666666667,0.9666666666666667,0.9666666666666667,0.9666666666666667,0.9666666666666667,0.9666666666666667,0.9666666666666667,0.9666666666666667,0.9666666666666667,0.9666666666666667,0.9666666666666667,0.9666666666666667,0.9666666666666667,0.9666666666666667,0.9666666666666667,0.9666666666666667,0.9666666666666667,0.9666666666666667,0.9666666666666667,0.9666666666666667,0.9666666666666667,0.9666666666666667,0.9666666666666667,0.9666666666666667,0.9666666666666667,0.9666666666666667,0.9666666666666667,0.9666666666666667,0.9666666666666667,0.9666666666666667,0.9666666666666667,0.9666666666666667,0.9666666666666667,1.0],\"type\":\"scatter\"}],                        {\"title\":{\"text\":\"Empirical Distribution Function Plot\"},\"xaxis\":{\"title\":{\"text\":\"MAE\"}},\"yaxis\":{\"title\":{\"text\":\"Cumulative Probability\"},\"range\":[0,1]},\"template\":{\"data\":{\"histogram2dcontour\":[{\"type\":\"histogram2dcontour\",\"colorbar\":{\"outlinewidth\":0,\"ticks\":\"\"},\"colorscale\":[[0.0,\"#0d0887\"],[0.1111111111111111,\"#46039f\"],[0.2222222222222222,\"#7201a8\"],[0.3333333333333333,\"#9c179e\"],[0.4444444444444444,\"#bd3786\"],[0.5555555555555556,\"#d8576b\"],[0.6666666666666666,\"#ed7953\"],[0.7777777777777778,\"#fb9f3a\"],[0.8888888888888888,\"#fdca26\"],[1.0,\"#f0f921\"]]}],\"choropleth\":[{\"type\":\"choropleth\",\"colorbar\":{\"outlinewidth\":0,\"ticks\":\"\"}}],\"histogram2d\":[{\"type\":\"histogram2d\",\"colorbar\":{\"outlinewidth\":0,\"ticks\":\"\"},\"colorscale\":[[0.0,\"#0d0887\"],[0.1111111111111111,\"#46039f\"],[0.2222222222222222,\"#7201a8\"],[0.3333333333333333,\"#9c179e\"],[0.4444444444444444,\"#bd3786\"],[0.5555555555555556,\"#d8576b\"],[0.6666666666666666,\"#ed7953\"],[0.7777777777777778,\"#fb9f3a\"],[0.8888888888888888,\"#fdca26\"],[1.0,\"#f0f921\"]]}],\"heatmap\":[{\"type\":\"heatmap\",\"colorbar\":{\"outlinewidth\":0,\"ticks\":\"\"},\"colorscale\":[[0.0,\"#0d0887\"],[0.1111111111111111,\"#46039f\"],[0.2222222222222222,\"#7201a8\"],[0.3333333333333333,\"#9c179e\"],[0.4444444444444444,\"#bd3786\"],[0.5555555555555556,\"#d8576b\"],[0.6666666666666666,\"#ed7953\"],[0.7777777777777778,\"#fb9f3a\"],[0.8888888888888888,\"#fdca26\"],[1.0,\"#f0f921\"]]}],\"heatmapgl\":[{\"type\":\"heatmapgl\",\"colorbar\":{\"outlinewidth\":0,\"ticks\":\"\"},\"colorscale\":[[0.0,\"#0d0887\"],[0.1111111111111111,\"#46039f\"],[0.2222222222222222,\"#7201a8\"],[0.3333333333333333,\"#9c179e\"],[0.4444444444444444,\"#bd3786\"],[0.5555555555555556,\"#d8576b\"],[0.6666666666666666,\"#ed7953\"],[0.7777777777777778,\"#fb9f3a\"],[0.8888888888888888,\"#fdca26\"],[1.0,\"#f0f921\"]]}],\"contourcarpet\":[{\"type\":\"contourcarpet\",\"colorbar\":{\"outlinewidth\":0,\"ticks\":\"\"}}],\"contour\":[{\"type\":\"contour\",\"colorbar\":{\"outlinewidth\":0,\"ticks\":\"\"},\"colorscale\":[[0.0,\"#0d0887\"],[0.1111111111111111,\"#46039f\"],[0.2222222222222222,\"#7201a8\"],[0.3333333333333333,\"#9c179e\"],[0.4444444444444444,\"#bd3786\"],[0.5555555555555556,\"#d8576b\"],[0.6666666666666666,\"#ed7953\"],[0.7777777777777778,\"#fb9f3a\"],[0.8888888888888888,\"#fdca26\"],[1.0,\"#f0f921\"]]}],\"surface\":[{\"type\":\"surface\",\"colorbar\":{\"outlinewidth\":0,\"ticks\":\"\"},\"colorscale\":[[0.0,\"#0d0887\"],[0.1111111111111111,\"#46039f\"],[0.2222222222222222,\"#7201a8\"],[0.3333333333333333,\"#9c179e\"],[0.4444444444444444,\"#bd3786\"],[0.5555555555555556,\"#d8576b\"],[0.6666666666666666,\"#ed7953\"],[0.7777777777777778,\"#fb9f3a\"],[0.8888888888888888,\"#fdca26\"],[1.0,\"#f0f921\"]]}],\"mesh3d\":[{\"type\":\"mesh3d\",\"colorbar\":{\"outlinewidth\":0,\"ticks\":\"\"}}],\"scatter\":[{\"fillpattern\":{\"fillmode\":\"overlay\",\"size\":10,\"solidity\":0.2},\"type\":\"scatter\"}],\"parcoords\":[{\"type\":\"parcoords\",\"line\":{\"colorbar\":{\"outlinewidth\":0,\"ticks\":\"\"}}}],\"scatterpolargl\":[{\"type\":\"scatterpolargl\",\"marker\":{\"colorbar\":{\"outlinewidth\":0,\"ticks\":\"\"}}}],\"bar\":[{\"error_x\":{\"color\":\"#2a3f5f\"},\"error_y\":{\"color\":\"#2a3f5f\"},\"marker\":{\"line\":{\"color\":\"#E5ECF6\",\"width\":0.5},\"pattern\":{\"fillmode\":\"overlay\",\"size\":10,\"solidity\":0.2}},\"type\":\"bar\"}],\"scattergeo\":[{\"type\":\"scattergeo\",\"marker\":{\"colorbar\":{\"outlinewidth\":0,\"ticks\":\"\"}}}],\"scatterpolar\":[{\"type\":\"scatterpolar\",\"marker\":{\"colorbar\":{\"outlinewidth\":0,\"ticks\":\"\"}}}],\"histogram\":[{\"marker\":{\"pattern\":{\"fillmode\":\"overlay\",\"size\":10,\"solidity\":0.2}},\"type\":\"histogram\"}],\"scattergl\":[{\"type\":\"scattergl\",\"marker\":{\"colorbar\":{\"outlinewidth\":0,\"ticks\":\"\"}}}],\"scatter3d\":[{\"type\":\"scatter3d\",\"line\":{\"colorbar\":{\"outlinewidth\":0,\"ticks\":\"\"}},\"marker\":{\"colorbar\":{\"outlinewidth\":0,\"ticks\":\"\"}}}],\"scattermapbox\":[{\"type\":\"scattermapbox\",\"marker\":{\"colorbar\":{\"outlinewidth\":0,\"ticks\":\"\"}}}],\"scatterternary\":[{\"type\":\"scatterternary\",\"marker\":{\"colorbar\":{\"outlinewidth\":0,\"ticks\":\"\"}}}],\"scattercarpet\":[{\"type\":\"scattercarpet\",\"marker\":{\"colorbar\":{\"outlinewidth\":0,\"ticks\":\"\"}}}],\"carpet\":[{\"aaxis\":{\"endlinecolor\":\"#2a3f5f\",\"gridcolor\":\"white\",\"linecolor\":\"white\",\"minorgridcolor\":\"white\",\"startlinecolor\":\"#2a3f5f\"},\"baxis\":{\"endlinecolor\":\"#2a3f5f\",\"gridcolor\":\"white\",\"linecolor\":\"white\",\"minorgridcolor\":\"white\",\"startlinecolor\":\"#2a3f5f\"},\"type\":\"carpet\"}],\"table\":[{\"cells\":{\"fill\":{\"color\":\"#EBF0F8\"},\"line\":{\"color\":\"white\"}},\"header\":{\"fill\":{\"color\":\"#C8D4E3\"},\"line\":{\"color\":\"white\"}},\"type\":\"table\"}],\"barpolar\":[{\"marker\":{\"line\":{\"color\":\"#E5ECF6\",\"width\":0.5},\"pattern\":{\"fillmode\":\"overlay\",\"size\":10,\"solidity\":0.2}},\"type\":\"barpolar\"}],\"pie\":[{\"automargin\":true,\"type\":\"pie\"}]},\"layout\":{\"autotypenumbers\":\"strict\",\"colorway\":[\"#636efa\",\"#EF553B\",\"#00cc96\",\"#ab63fa\",\"#FFA15A\",\"#19d3f3\",\"#FF6692\",\"#B6E880\",\"#FF97FF\",\"#FECB52\"],\"font\":{\"color\":\"#2a3f5f\"},\"hovermode\":\"closest\",\"hoverlabel\":{\"align\":\"left\"},\"paper_bgcolor\":\"white\",\"plot_bgcolor\":\"#E5ECF6\",\"polar\":{\"bgcolor\":\"#E5ECF6\",\"angularaxis\":{\"gridcolor\":\"white\",\"linecolor\":\"white\",\"ticks\":\"\"},\"radialaxis\":{\"gridcolor\":\"white\",\"linecolor\":\"white\",\"ticks\":\"\"}},\"ternary\":{\"bgcolor\":\"#E5ECF6\",\"aaxis\":{\"gridcolor\":\"white\",\"linecolor\":\"white\",\"ticks\":\"\"},\"baxis\":{\"gridcolor\":\"white\",\"linecolor\":\"white\",\"ticks\":\"\"},\"caxis\":{\"gridcolor\":\"white\",\"linecolor\":\"white\",\"ticks\":\"\"}},\"coloraxis\":{\"colorbar\":{\"outlinewidth\":0,\"ticks\":\"\"}},\"colorscale\":{\"sequential\":[[0.0,\"#0d0887\"],[0.1111111111111111,\"#46039f\"],[0.2222222222222222,\"#7201a8\"],[0.3333333333333333,\"#9c179e\"],[0.4444444444444444,\"#bd3786\"],[0.5555555555555556,\"#d8576b\"],[0.6666666666666666,\"#ed7953\"],[0.7777777777777778,\"#fb9f3a\"],[0.8888888888888888,\"#fdca26\"],[1.0,\"#f0f921\"]],\"sequentialminus\":[[0.0,\"#0d0887\"],[0.1111111111111111,\"#46039f\"],[0.2222222222222222,\"#7201a8\"],[0.3333333333333333,\"#9c179e\"],[0.4444444444444444,\"#bd3786\"],[0.5555555555555556,\"#d8576b\"],[0.6666666666666666,\"#ed7953\"],[0.7777777777777778,\"#fb9f3a\"],[0.8888888888888888,\"#fdca26\"],[1.0,\"#f0f921\"]],\"diverging\":[[0,\"#8e0152\"],[0.1,\"#c51b7d\"],[0.2,\"#de77ae\"],[0.3,\"#f1b6da\"],[0.4,\"#fde0ef\"],[0.5,\"#f7f7f7\"],[0.6,\"#e6f5d0\"],[0.7,\"#b8e186\"],[0.8,\"#7fbc41\"],[0.9,\"#4d9221\"],[1,\"#276419\"]]},\"xaxis\":{\"gridcolor\":\"white\",\"linecolor\":\"white\",\"ticks\":\"\",\"title\":{\"standoff\":15},\"zerolinecolor\":\"white\",\"automargin\":true,\"zerolinewidth\":2},\"yaxis\":{\"gridcolor\":\"white\",\"linecolor\":\"white\",\"ticks\":\"\",\"title\":{\"standoff\":15},\"zerolinecolor\":\"white\",\"automargin\":true,\"zerolinewidth\":2},\"scene\":{\"xaxis\":{\"backgroundcolor\":\"#E5ECF6\",\"gridcolor\":\"white\",\"linecolor\":\"white\",\"showbackground\":true,\"ticks\":\"\",\"zerolinecolor\":\"white\",\"gridwidth\":2},\"yaxis\":{\"backgroundcolor\":\"#E5ECF6\",\"gridcolor\":\"white\",\"linecolor\":\"white\",\"showbackground\":true,\"ticks\":\"\",\"zerolinecolor\":\"white\",\"gridwidth\":2},\"zaxis\":{\"backgroundcolor\":\"#E5ECF6\",\"gridcolor\":\"white\",\"linecolor\":\"white\",\"showbackground\":true,\"ticks\":\"\",\"zerolinecolor\":\"white\",\"gridwidth\":2}},\"shapedefaults\":{\"line\":{\"color\":\"#2a3f5f\"}},\"annotationdefaults\":{\"arrowcolor\":\"#2a3f5f\",\"arrowhead\":0,\"arrowwidth\":1},\"geo\":{\"bgcolor\":\"white\",\"landcolor\":\"#E5ECF6\",\"subunitcolor\":\"white\",\"showland\":true,\"showlakes\":true,\"lakecolor\":\"white\"},\"title\":{\"x\":0.05},\"mapbox\":{\"style\":\"light\"}}}},                        {\"responsive\": true}                    ).then(function(){\n",
              "                            \n",
              "var gd = document.getElementById('f86c0222-4bfb-48bc-a352-d09c0429c9b0');\n",
              "var x = new MutationObserver(function (mutations, observer) {{\n",
              "        var display = window.getComputedStyle(gd).display;\n",
              "        if (!display || display === 'none') {{\n",
              "            console.log([gd, 'removed!']);\n",
              "            Plotly.purge(gd);\n",
              "            observer.disconnect();\n",
              "        }}\n",
              "}});\n",
              "\n",
              "// Listen for the removal of the full notebook cells\n",
              "var notebookContainer = gd.closest('#notebook-container');\n",
              "if (notebookContainer) {{\n",
              "    x.observe(notebookContainer, {childList: true});\n",
              "}}\n",
              "\n",
              "// Listen for the clearing of the current output cell\n",
              "var outputEl = gd.closest('.output');\n",
              "if (outputEl) {{\n",
              "    x.observe(outputEl, {childList: true});\n",
              "}}\n",
              "\n",
              "                        })                };                            </script>        </div>\n",
              "</body>\n",
              "</html>"
            ]
          },
          "metadata": {},
          "output_type": "display_data"
        },
        {
          "name": "stdout",
          "output_type": "stream",
          "text": [
            "\tBest value (MAE): 58.38045\n",
            "\tBest params Consumption_48h_diif_model_Catboost:\n",
            "\t\titerations: 9000\n",
            "\t\tlearning_rate: 0.016862985221162422\n",
            "\t\tdepth: 10\n",
            "\t\trandom_strength: 29.84529179985335\n",
            "\t\tsubsample: 0.5799090266204205\n",
            "\t\tmin_data_in_leaf: 790\n",
            "\t\treg_lambda: 2.9400782862345847\n"
          ]
        }
      ],
      "source": [
        "Hyperparameter_study_visualization(study = study_consumption_48h_diif,target_name=\"MAE\",study_name=\"Consumption_48h_diif_model_Catboost\")"
      ]
    },
    {
      "cell_type": "markdown",
      "metadata": {
        "id": "h_EdLDpELWSl"
      },
      "source": [
        "## Production_48h_diif_model_Catboost"
      ]
    },
    {
      "cell_type": "code",
      "execution_count": null,
      "metadata": {
        "colab": {
          "background_save": true,
          "base_uri": "https://localhost:8080/"
        },
        "id": "OQiP309qLZ-3",
        "outputId": "20e9bcd2-cec0-4f91-c40c-ec8b4e2c6b43"
      },
      "outputs": [
        {
          "name": "stderr",
          "output_type": "stream",
          "text": [
            "[I 2024-01-25 11:28:30,038] A new study created in memory with name: Production_48h_diif_model_Catboost\n",
            "[I 2024-01-25 11:30:10,824] Trial 0 finished with value: 52.695500492837915 and parameters: {'iterations': 4500, 'learning_rate': 0.012268578655076297, 'depth': 7, 'random_strength': 29.835148887994922, 'subsample': 0.752280310808296, 'min_data_in_leaf': 561, 'reg_lambda': 3.329176488799522}. Best is trial 0 with value: 52.695500492837915.\n",
            "[I 2024-01-25 11:34:52,619] Trial 1 finished with value: 60.59160896308812 and parameters: {'iterations': 7000, 'learning_rate': 0.23419177689344747, 'depth': 10, 'random_strength': 49.94688283912376, 'subsample': 0.7474349687278995, 'min_data_in_leaf': 627, 'reg_lambda': 1.2136376629514343}. Best is trial 0 with value: 52.695500492837915.\n",
            "[I 2024-01-25 11:43:59,464] Trial 2 finished with value: 62.99101019931487 and parameters: {'iterations': 10000, 'learning_rate': 0.3710815554219042, 'depth': 11, 'random_strength': 43.536341053572045, 'subsample': 0.5702715174785917, 'min_data_in_leaf': 556, 'reg_lambda': 4.758720106891352}. Best is trial 0 with value: 52.695500492837915.\n",
            "[I 2024-01-25 11:45:47,859] Trial 3 finished with value: 55.559289945779014 and parameters: {'iterations': 5000, 'learning_rate': 0.06685325462611061, 'depth': 7, 'random_strength': 41.16605363925834, 'subsample': 0.8653775181900158, 'min_data_in_leaf': 94, 'reg_lambda': 2.5979145551267067}. Best is trial 0 with value: 52.695500492837915.\n",
            "[I 2024-01-25 11:46:33,678] Trial 4 finished with value: 57.509436269652284 and parameters: {'iterations': 5000, 'learning_rate': 0.30382885358214407, 'depth': 3, 'random_strength': 44.96090696732413, 'subsample': 0.7854554217055687, 'min_data_in_leaf': 958, 'reg_lambda': 2.4858634952912855}. Best is trial 0 with value: 52.695500492837915.\n",
            "[I 2024-01-25 12:18:00,257] Trial 5 finished with value: 64.3877714602267 and parameters: {'iterations': 8500, 'learning_rate': 0.2570568024159448, 'depth': 14, 'random_strength': 47.83984590039011, 'subsample': 0.5385995307985574, 'min_data_in_leaf': 305, 'reg_lambda': 1.766962472715254}. Best is trial 0 with value: 52.695500492837915.\n",
            "[I 2024-01-25 12:27:28,863] Trial 6 finished with value: 65.37263696795212 and parameters: {'iterations': 7000, 'learning_rate': 0.4930004197684756, 'depth': 12, 'random_strength': 34.48762183274351, 'subsample': 0.9432809640303321, 'min_data_in_leaf': 723, 'reg_lambda': 4.135643787809359}. Best is trial 0 with value: 52.695500492837915.\n",
            "[I 2024-01-25 12:28:47,341] Trial 7 finished with value: 59.55338092479486 and parameters: {'iterations': 3000, 'learning_rate': 0.40345912717114846, 'depth': 8, 'random_strength': 43.487530000299635, 'subsample': 0.72407426550903, 'min_data_in_leaf': 226, 'reg_lambda': 4.335910180056681}. Best is trial 0 with value: 52.695500492837915.\n",
            "[I 2024-01-25 12:28:57,339] Trial 8 finished with value: 89.05036176268513 and parameters: {'iterations': 2000, 'learning_rate': 0.0686610971014305, 'depth': 1, 'random_strength': 35.71952669779975, 'subsample': 0.7798029466350058, 'min_data_in_leaf': 222, 'reg_lambda': 4.991267766879903}. Best is trial 0 with value: 52.695500492837915.\n",
            "[I 2024-01-25 12:29:42,199] Trial 9 finished with value: 65.83881251343853 and parameters: {'iterations': 2000, 'learning_rate': 0.4438959410802061, 'depth': 7, 'random_strength': 25.667260117734227, 'subsample': 0.6356765409206802, 'min_data_in_leaf': 108, 'reg_lambda': 4.584653408319003}. Best is trial 0 with value: 52.695500492837915.\n",
            "[I 2024-01-25 12:30:36,300] Trial 10 finished with value: 53.3616222999877 and parameters: {'iterations': 4500, 'learning_rate': 0.15344758633796712, 'depth': 4, 'random_strength': 15.86458380726068, 'subsample': 0.6571348035140878, 'min_data_in_leaf': 820, 'reg_lambda': 3.273274725056875}. Best is trial 0 with value: 52.695500492837915.\n",
            "[I 2024-01-25 12:31:24,677] Trial 11 finished with value: 54.34760758854259 and parameters: {'iterations': 4000, 'learning_rate': 0.13545613882115823, 'depth': 4, 'random_strength': 12.210820397014594, 'subsample': 0.6522027437398975, 'min_data_in_leaf': 857, 'reg_lambda': 3.295110723500392}. Best is trial 0 with value: 52.695500492837915.\n",
            "[I 2024-01-25 12:32:30,115] Trial 12 finished with value: 51.79879244745049 and parameters: {'iterations': 5500, 'learning_rate': 0.014717722862756716, 'depth': 4, 'random_strength': 21.12351422045656, 'subsample': 0.666008849986861, 'min_data_in_leaf': 433, 'reg_lambda': 3.4305256384121776}. Best is trial 12 with value: 51.79879244745049.\n",
            "[I 2024-01-25 12:34:27,957] Trial 13 finished with value: 51.54939586724547 and parameters: {'iterations': 6500, 'learning_rate': 0.012127784376455796, 'depth': 6, 'random_strength': 23.204989729160964, 'subsample': 0.8500956299868443, 'min_data_in_leaf': 403, 'reg_lambda': 0.39239876664841056}. Best is trial 13 with value: 51.54939586724547.\n",
            "[I 2024-01-25 12:36:04,518] Trial 14 finished with value: 52.27514353703995 and parameters: {'iterations': 6500, 'learning_rate': 0.012712987679617446, 'depth': 5, 'random_strength': 21.426221965503508, 'subsample': 0.8874615245519133, 'min_data_in_leaf': 392, 'reg_lambda': 0.39296532033355186}. Best is trial 13 with value: 51.54939586724547.\n",
            "[I 2024-01-25 12:36:34,246] Trial 15 finished with value: 89.96490743372048 and parameters: {'iterations': 8000, 'learning_rate': 0.14103766609015053, 'depth': 1, 'random_strength': 19.955058347279156, 'subsample': 0.8380921220565518, 'min_data_in_leaf': 418, 'reg_lambda': 0.4691233680199005}. Best is trial 13 with value: 51.54939586724547.\n",
            "[I 2024-01-25 12:38:03,192] Trial 16 finished with value: 56.338072295845066 and parameters: {'iterations': 6000, 'learning_rate': 0.08286196105111875, 'depth': 5, 'random_strength': 24.415092391147773, 'subsample': 0.9771480873380156, 'min_data_in_leaf': 439, 'reg_lambda': 1.2829237697480613}. Best is trial 13 with value: 51.54939586724547.\n",
            "[I 2024-01-25 12:42:27,836] Trial 17 finished with value: 58.208091453635404 and parameters: {'iterations': 8500, 'learning_rate': 0.19954750549340516, 'depth': 9, 'random_strength': 10.046381832841863, 'subsample': 0.6967870830349526, 'min_data_in_leaf': 311, 'reg_lambda': 2.544458007677478}. Best is trial 13 with value: 51.54939586724547.\n",
            "[I 2024-01-25 12:43:06,420] Trial 18 finished with value: 57.46553900279769 and parameters: {'iterations': 6000, 'learning_rate': 0.07780192355455791, 'depth': 2, 'random_strength': 17.206364287120994, 'subsample': 0.8225552634975529, 'min_data_in_leaf': 649, 'reg_lambda': 3.823162832007224}. Best is trial 13 with value: 51.54939586724547.\n",
            "[I 2024-01-25 12:44:13,373] Trial 19 finished with value: 53.801061533173545 and parameters: {'iterations': 3500, 'learning_rate': 0.010180235532692955, 'depth': 6, 'random_strength': 29.641258941619206, 'subsample': 0.5980557819299904, 'min_data_in_leaf': 11, 'reg_lambda': 2.0856391944884276}. Best is trial 13 with value: 51.54939586724547.\n",
            "[I 2024-01-25 13:21:05,171] Trial 20 finished with value: 67.20835660340936 and parameters: {'iterations': 5500, 'learning_rate': 0.32963075957459564, 'depth': 15, 'random_strength': 24.479237756198312, 'subsample': 0.8997165193527707, 'min_data_in_leaf': 467, 'reg_lambda': 1.0067408780464193}. Best is trial 13 with value: 51.54939586724547.\n",
            "[I 2024-01-25 13:22:48,871] Trial 21 finished with value: 58.35697686483786 and parameters: {'iterations': 7000, 'learning_rate': 0.031394001438555655, 'depth': 5, 'random_strength': 20.8666314879683, 'subsample': 0.9017072160256872, 'min_data_in_leaf': 374, 'reg_lambda': 0.1942869110850943}. Best is trial 13 with value: 51.54939586724547.\n",
            "[I 2024-01-25 13:24:39,709] Trial 22 finished with value: 53.09026149202398 and parameters: {'iterations': 7500, 'learning_rate': 0.09832791831962077, 'depth': 5, 'random_strength': 19.83833237793984, 'subsample': 0.999807069677451, 'min_data_in_leaf': 339, 'reg_lambda': 0.7221292288471877}. Best is trial 13 with value: 51.54939586724547.\n",
            "[I 2024-01-25 13:25:38,517] Trial 23 finished with value: 53.36628975654652 and parameters: {'iterations': 6500, 'learning_rate': 0.038587600803623834, 'depth': 3, 'random_strength': 27.396330084684855, 'subsample': 0.9015062489216413, 'min_data_in_leaf': 511, 'reg_lambda': 0.11939909473760169}. Best is trial 13 with value: 51.54939586724547.\n",
            "[I 2024-01-25 13:27:17,609] Trial 24 finished with value: 54.90254951411323 and parameters: {'iterations': 5500, 'learning_rate': 0.10699723443117637, 'depth': 6, 'random_strength': 22.353904847191007, 'subsample': 0.805558443864091, 'min_data_in_leaf': 207, 'reg_lambda': 1.6561929327093852}. Best is trial 13 with value: 51.54939586724547.\n",
            "[I 2024-01-25 13:28:41,837] Trial 25 finished with value: 55.065088164131616 and parameters: {'iterations': 9500, 'learning_rate': 0.17273307429549728, 'depth': 3, 'random_strength': 16.93720907884142, 'subsample': 0.8515917709455834, 'min_data_in_leaf': 381, 'reg_lambda': 0.6908390007393914}. Best is trial 13 with value: 51.54939586724547.\n",
            "[I 2024-01-25 13:32:07,467] Trial 26 finished with value: 53.527957481126755 and parameters: {'iterations': 6500, 'learning_rate': 0.04518648517445831, 'depth': 9, 'random_strength': 33.9374684833508, 'subsample': 0.7034128622876569, 'min_data_in_leaf': 511, 'reg_lambda': 3.7164736248156056}. Best is trial 13 with value: 51.54939586724547.\n",
            "[I 2024-01-25 13:33:40,736] Trial 27 finished with value: 55.47790312275282 and parameters: {'iterations': 8000, 'learning_rate': 0.11749187529140837, 'depth': 4, 'random_strength': 13.566740602658056, 'subsample': 0.9359758113966549, 'min_data_in_leaf': 277, 'reg_lambda': 2.8656460653447984}. Best is trial 13 with value: 51.54939586724547.\n",
            "[I 2024-01-25 13:35:20,951] Trial 28 finished with value: 55.39956620394016 and parameters: {'iterations': 5500, 'learning_rate': 0.18306086959647583, 'depth': 6, 'random_strength': 27.142984228673583, 'subsample': 0.8781574249570703, 'min_data_in_leaf': 627, 'reg_lambda': 1.736038000119377}. Best is trial 13 with value: 51.54939586724547.\n",
            "[I 2024-01-25 13:38:09,057] Trial 29 finished with value: 51.03460936870907 and parameters: {'iterations': 6500, 'learning_rate': 0.018259963452920122, 'depth': 8, 'random_strength': 30.5673223926427, 'subsample': 0.5042710648358888, 'min_data_in_leaf': 557, 'reg_lambda': 3.050085237442225}. Best is trial 29 with value: 51.03460936870907.\n"
          ]
        }
      ],
      "source": [
        "study_production_48h_diif = Hyperparameter_study(mask=production, study_name=\"Production_48h_diif_model_Catboost\", is_diff=1 , n_trials=n_trials)"
      ]
    },
    {
      "cell_type": "code",
      "execution_count": null,
      "metadata": {
        "colab": {
          "background_save": true
        },
        "id": "dFm7G5J0N3gl",
        "outputId": "33e07c5c-681a-4cd6-c440-b978d6f2b173"
      },
      "outputs": [
        {
          "data": {
            "text/html": [
              "<html>\n",
              "<head><meta charset=\"utf-8\" /></head>\n",
              "<body>\n",
              "    <div>            <script src=\"https://cdnjs.cloudflare.com/ajax/libs/mathjax/2.7.5/MathJax.js?config=TeX-AMS-MML_SVG\"></script><script type=\"text/javascript\">if (window.MathJax && window.MathJax.Hub && window.MathJax.Hub.Config) {window.MathJax.Hub.Config({SVG: {font: \"STIX-Web\"}});}</script>                <script type=\"text/javascript\">window.PlotlyConfig = {MathJaxConfig: 'local'};</script>\n",
              "        <script charset=\"utf-8\" src=\"https://cdn.plot.ly/plotly-2.24.1.min.js\"></script>                <div id=\"123bf620-f26d-4293-b8f1-fe14adf89583\" class=\"plotly-graph-div\" style=\"height:525px; width:100%;\"></div>            <script type=\"text/javascript\">                                    window.PLOTLYENV=window.PLOTLYENV || {};                                    if (document.getElementById(\"123bf620-f26d-4293-b8f1-fe14adf89583\")) {                    Plotly.newPlot(                        \"123bf620-f26d-4293-b8f1-fe14adf89583\",                        [{\"mode\":\"markers\",\"name\":\"MAE\",\"x\":[0,1,2,3,4,5,6,7,8,9,10,11,12,13,14,15,16,17,18,19,20,21,22,23,24,25,26,27,28,29],\"y\":[60.85326948930696,68.20807624489647,67.18466645781865,62.772772717180246,60.30661750294687,62.02995217449699,67.14907390451181,65.4923470674927,71.55577019438203,73.94592777104373,62.220157251439524,64.54307569561743,61.80536858722123,65.51714185786011,113.22939751379845,62.71013607282669,59.2568457457461,58.83739224857024,81.28777344890833,58.95858244919207,66.07396257671627,58.380452555608336,58.668131069676356,58.55956850507941,60.1686624099793,58.57429595378685,66.2073448584839,61.34089485918729,61.96563359464775,58.81941576607545],\"type\":\"scatter\"},{\"mode\":\"lines\",\"name\":\"Best Value\",\"x\":[0,1,2,3,4,5,6,7,8,9,10,11,12,13,14,15,16,17,18,19,20,21,22,23,24,25,26,27,28,29],\"y\":[60.85326948930696,60.85326948930696,60.85326948930696,60.85326948930696,60.30661750294687,60.30661750294687,60.30661750294687,60.30661750294687,60.30661750294687,60.30661750294687,60.30661750294687,60.30661750294687,60.30661750294687,60.30661750294687,60.30661750294687,60.30661750294687,59.2568457457461,58.83739224857024,58.83739224857024,58.83739224857024,58.83739224857024,58.380452555608336,58.380452555608336,58.380452555608336,58.380452555608336,58.380452555608336,58.380452555608336,58.380452555608336,58.380452555608336,58.380452555608336],\"type\":\"scatter\"},{\"marker\":{\"color\":\"#cccccc\"},\"mode\":\"markers\",\"name\":\"Infeasible Trial\",\"showlegend\":false,\"x\":[],\"y\":[],\"type\":\"scatter\"}],                        {\"title\":{\"text\":\"Optimization History Plot\"},\"xaxis\":{\"title\":{\"text\":\"Trial\"}},\"yaxis\":{\"title\":{\"text\":\"MAE\"}},\"template\":{\"data\":{\"histogram2dcontour\":[{\"type\":\"histogram2dcontour\",\"colorbar\":{\"outlinewidth\":0,\"ticks\":\"\"},\"colorscale\":[[0.0,\"#0d0887\"],[0.1111111111111111,\"#46039f\"],[0.2222222222222222,\"#7201a8\"],[0.3333333333333333,\"#9c179e\"],[0.4444444444444444,\"#bd3786\"],[0.5555555555555556,\"#d8576b\"],[0.6666666666666666,\"#ed7953\"],[0.7777777777777778,\"#fb9f3a\"],[0.8888888888888888,\"#fdca26\"],[1.0,\"#f0f921\"]]}],\"choropleth\":[{\"type\":\"choropleth\",\"colorbar\":{\"outlinewidth\":0,\"ticks\":\"\"}}],\"histogram2d\":[{\"type\":\"histogram2d\",\"colorbar\":{\"outlinewidth\":0,\"ticks\":\"\"},\"colorscale\":[[0.0,\"#0d0887\"],[0.1111111111111111,\"#46039f\"],[0.2222222222222222,\"#7201a8\"],[0.3333333333333333,\"#9c179e\"],[0.4444444444444444,\"#bd3786\"],[0.5555555555555556,\"#d8576b\"],[0.6666666666666666,\"#ed7953\"],[0.7777777777777778,\"#fb9f3a\"],[0.8888888888888888,\"#fdca26\"],[1.0,\"#f0f921\"]]}],\"heatmap\":[{\"type\":\"heatmap\",\"colorbar\":{\"outlinewidth\":0,\"ticks\":\"\"},\"colorscale\":[[0.0,\"#0d0887\"],[0.1111111111111111,\"#46039f\"],[0.2222222222222222,\"#7201a8\"],[0.3333333333333333,\"#9c179e\"],[0.4444444444444444,\"#bd3786\"],[0.5555555555555556,\"#d8576b\"],[0.6666666666666666,\"#ed7953\"],[0.7777777777777778,\"#fb9f3a\"],[0.8888888888888888,\"#fdca26\"],[1.0,\"#f0f921\"]]}],\"heatmapgl\":[{\"type\":\"heatmapgl\",\"colorbar\":{\"outlinewidth\":0,\"ticks\":\"\"},\"colorscale\":[[0.0,\"#0d0887\"],[0.1111111111111111,\"#46039f\"],[0.2222222222222222,\"#7201a8\"],[0.3333333333333333,\"#9c179e\"],[0.4444444444444444,\"#bd3786\"],[0.5555555555555556,\"#d8576b\"],[0.6666666666666666,\"#ed7953\"],[0.7777777777777778,\"#fb9f3a\"],[0.8888888888888888,\"#fdca26\"],[1.0,\"#f0f921\"]]}],\"contourcarpet\":[{\"type\":\"contourcarpet\",\"colorbar\":{\"outlinewidth\":0,\"ticks\":\"\"}}],\"contour\":[{\"type\":\"contour\",\"colorbar\":{\"outlinewidth\":0,\"ticks\":\"\"},\"colorscale\":[[0.0,\"#0d0887\"],[0.1111111111111111,\"#46039f\"],[0.2222222222222222,\"#7201a8\"],[0.3333333333333333,\"#9c179e\"],[0.4444444444444444,\"#bd3786\"],[0.5555555555555556,\"#d8576b\"],[0.6666666666666666,\"#ed7953\"],[0.7777777777777778,\"#fb9f3a\"],[0.8888888888888888,\"#fdca26\"],[1.0,\"#f0f921\"]]}],\"surface\":[{\"type\":\"surface\",\"colorbar\":{\"outlinewidth\":0,\"ticks\":\"\"},\"colorscale\":[[0.0,\"#0d0887\"],[0.1111111111111111,\"#46039f\"],[0.2222222222222222,\"#7201a8\"],[0.3333333333333333,\"#9c179e\"],[0.4444444444444444,\"#bd3786\"],[0.5555555555555556,\"#d8576b\"],[0.6666666666666666,\"#ed7953\"],[0.7777777777777778,\"#fb9f3a\"],[0.8888888888888888,\"#fdca26\"],[1.0,\"#f0f921\"]]}],\"mesh3d\":[{\"type\":\"mesh3d\",\"colorbar\":{\"outlinewidth\":0,\"ticks\":\"\"}}],\"scatter\":[{\"fillpattern\":{\"fillmode\":\"overlay\",\"size\":10,\"solidity\":0.2},\"type\":\"scatter\"}],\"parcoords\":[{\"type\":\"parcoords\",\"line\":{\"colorbar\":{\"outlinewidth\":0,\"ticks\":\"\"}}}],\"scatterpolargl\":[{\"type\":\"scatterpolargl\",\"marker\":{\"colorbar\":{\"outlinewidth\":0,\"ticks\":\"\"}}}],\"bar\":[{\"error_x\":{\"color\":\"#2a3f5f\"},\"error_y\":{\"color\":\"#2a3f5f\"},\"marker\":{\"line\":{\"color\":\"#E5ECF6\",\"width\":0.5},\"pattern\":{\"fillmode\":\"overlay\",\"size\":10,\"solidity\":0.2}},\"type\":\"bar\"}],\"scattergeo\":[{\"type\":\"scattergeo\",\"marker\":{\"colorbar\":{\"outlinewidth\":0,\"ticks\":\"\"}}}],\"scatterpolar\":[{\"type\":\"scatterpolar\",\"marker\":{\"colorbar\":{\"outlinewidth\":0,\"ticks\":\"\"}}}],\"histogram\":[{\"marker\":{\"pattern\":{\"fillmode\":\"overlay\",\"size\":10,\"solidity\":0.2}},\"type\":\"histogram\"}],\"scattergl\":[{\"type\":\"scattergl\",\"marker\":{\"colorbar\":{\"outlinewidth\":0,\"ticks\":\"\"}}}],\"scatter3d\":[{\"type\":\"scatter3d\",\"line\":{\"colorbar\":{\"outlinewidth\":0,\"ticks\":\"\"}},\"marker\":{\"colorbar\":{\"outlinewidth\":0,\"ticks\":\"\"}}}],\"scattermapbox\":[{\"type\":\"scattermapbox\",\"marker\":{\"colorbar\":{\"outlinewidth\":0,\"ticks\":\"\"}}}],\"scatterternary\":[{\"type\":\"scatterternary\",\"marker\":{\"colorbar\":{\"outlinewidth\":0,\"ticks\":\"\"}}}],\"scattercarpet\":[{\"type\":\"scattercarpet\",\"marker\":{\"colorbar\":{\"outlinewidth\":0,\"ticks\":\"\"}}}],\"carpet\":[{\"aaxis\":{\"endlinecolor\":\"#2a3f5f\",\"gridcolor\":\"white\",\"linecolor\":\"white\",\"minorgridcolor\":\"white\",\"startlinecolor\":\"#2a3f5f\"},\"baxis\":{\"endlinecolor\":\"#2a3f5f\",\"gridcolor\":\"white\",\"linecolor\":\"white\",\"minorgridcolor\":\"white\",\"startlinecolor\":\"#2a3f5f\"},\"type\":\"carpet\"}],\"table\":[{\"cells\":{\"fill\":{\"color\":\"#EBF0F8\"},\"line\":{\"color\":\"white\"}},\"header\":{\"fill\":{\"color\":\"#C8D4E3\"},\"line\":{\"color\":\"white\"}},\"type\":\"table\"}],\"barpolar\":[{\"marker\":{\"line\":{\"color\":\"#E5ECF6\",\"width\":0.5},\"pattern\":{\"fillmode\":\"overlay\",\"size\":10,\"solidity\":0.2}},\"type\":\"barpolar\"}],\"pie\":[{\"automargin\":true,\"type\":\"pie\"}]},\"layout\":{\"autotypenumbers\":\"strict\",\"colorway\":[\"#636efa\",\"#EF553B\",\"#00cc96\",\"#ab63fa\",\"#FFA15A\",\"#19d3f3\",\"#FF6692\",\"#B6E880\",\"#FF97FF\",\"#FECB52\"],\"font\":{\"color\":\"#2a3f5f\"},\"hovermode\":\"closest\",\"hoverlabel\":{\"align\":\"left\"},\"paper_bgcolor\":\"white\",\"plot_bgcolor\":\"#E5ECF6\",\"polar\":{\"bgcolor\":\"#E5ECF6\",\"angularaxis\":{\"gridcolor\":\"white\",\"linecolor\":\"white\",\"ticks\":\"\"},\"radialaxis\":{\"gridcolor\":\"white\",\"linecolor\":\"white\",\"ticks\":\"\"}},\"ternary\":{\"bgcolor\":\"#E5ECF6\",\"aaxis\":{\"gridcolor\":\"white\",\"linecolor\":\"white\",\"ticks\":\"\"},\"baxis\":{\"gridcolor\":\"white\",\"linecolor\":\"white\",\"ticks\":\"\"},\"caxis\":{\"gridcolor\":\"white\",\"linecolor\":\"white\",\"ticks\":\"\"}},\"coloraxis\":{\"colorbar\":{\"outlinewidth\":0,\"ticks\":\"\"}},\"colorscale\":{\"sequential\":[[0.0,\"#0d0887\"],[0.1111111111111111,\"#46039f\"],[0.2222222222222222,\"#7201a8\"],[0.3333333333333333,\"#9c179e\"],[0.4444444444444444,\"#bd3786\"],[0.5555555555555556,\"#d8576b\"],[0.6666666666666666,\"#ed7953\"],[0.7777777777777778,\"#fb9f3a\"],[0.8888888888888888,\"#fdca26\"],[1.0,\"#f0f921\"]],\"sequentialminus\":[[0.0,\"#0d0887\"],[0.1111111111111111,\"#46039f\"],[0.2222222222222222,\"#7201a8\"],[0.3333333333333333,\"#9c179e\"],[0.4444444444444444,\"#bd3786\"],[0.5555555555555556,\"#d8576b\"],[0.6666666666666666,\"#ed7953\"],[0.7777777777777778,\"#fb9f3a\"],[0.8888888888888888,\"#fdca26\"],[1.0,\"#f0f921\"]],\"diverging\":[[0,\"#8e0152\"],[0.1,\"#c51b7d\"],[0.2,\"#de77ae\"],[0.3,\"#f1b6da\"],[0.4,\"#fde0ef\"],[0.5,\"#f7f7f7\"],[0.6,\"#e6f5d0\"],[0.7,\"#b8e186\"],[0.8,\"#7fbc41\"],[0.9,\"#4d9221\"],[1,\"#276419\"]]},\"xaxis\":{\"gridcolor\":\"white\",\"linecolor\":\"white\",\"ticks\":\"\",\"title\":{\"standoff\":15},\"zerolinecolor\":\"white\",\"automargin\":true,\"zerolinewidth\":2},\"yaxis\":{\"gridcolor\":\"white\",\"linecolor\":\"white\",\"ticks\":\"\",\"title\":{\"standoff\":15},\"zerolinecolor\":\"white\",\"automargin\":true,\"zerolinewidth\":2},\"scene\":{\"xaxis\":{\"backgroundcolor\":\"#E5ECF6\",\"gridcolor\":\"white\",\"linecolor\":\"white\",\"showbackground\":true,\"ticks\":\"\",\"zerolinecolor\":\"white\",\"gridwidth\":2},\"yaxis\":{\"backgroundcolor\":\"#E5ECF6\",\"gridcolor\":\"white\",\"linecolor\":\"white\",\"showbackground\":true,\"ticks\":\"\",\"zerolinecolor\":\"white\",\"gridwidth\":2},\"zaxis\":{\"backgroundcolor\":\"#E5ECF6\",\"gridcolor\":\"white\",\"linecolor\":\"white\",\"showbackground\":true,\"ticks\":\"\",\"zerolinecolor\":\"white\",\"gridwidth\":2}},\"shapedefaults\":{\"line\":{\"color\":\"#2a3f5f\"}},\"annotationdefaults\":{\"arrowcolor\":\"#2a3f5f\",\"arrowhead\":0,\"arrowwidth\":1},\"geo\":{\"bgcolor\":\"white\",\"landcolor\":\"#E5ECF6\",\"subunitcolor\":\"white\",\"showland\":true,\"showlakes\":true,\"lakecolor\":\"white\"},\"title\":{\"x\":0.05},\"mapbox\":{\"style\":\"light\"}}}},                        {\"responsive\": true}                    ).then(function(){\n",
              "                            \n",
              "var gd = document.getElementById('123bf620-f26d-4293-b8f1-fe14adf89583');\n",
              "var x = new MutationObserver(function (mutations, observer) {{\n",
              "        var display = window.getComputedStyle(gd).display;\n",
              "        if (!display || display === 'none') {{\n",
              "            console.log([gd, 'removed!']);\n",
              "            Plotly.purge(gd);\n",
              "            observer.disconnect();\n",
              "        }}\n",
              "}});\n",
              "\n",
              "// Listen for the removal of the full notebook cells\n",
              "var notebookContainer = gd.closest('#notebook-container');\n",
              "if (notebookContainer) {{\n",
              "    x.observe(notebookContainer, {childList: true});\n",
              "}}\n",
              "\n",
              "// Listen for the clearing of the current output cell\n",
              "var outputEl = gd.closest('.output');\n",
              "if (outputEl) {{\n",
              "    x.observe(outputEl, {childList: true});\n",
              "}}\n",
              "\n",
              "                        })                };                            </script>        </div>\n",
              "</body>\n",
              "</html>"
            ]
          },
          "metadata": {},
          "output_type": "display_data"
        },
        {
          "data": {
            "text/html": [
              "<html>\n",
              "<head><meta charset=\"utf-8\" /></head>\n",
              "<body>\n",
              "    <div>            <script src=\"https://cdnjs.cloudflare.com/ajax/libs/mathjax/2.7.5/MathJax.js?config=TeX-AMS-MML_SVG\"></script><script type=\"text/javascript\">if (window.MathJax && window.MathJax.Hub && window.MathJax.Hub.Config) {window.MathJax.Hub.Config({SVG: {font: \"STIX-Web\"}});}</script>                <script type=\"text/javascript\">window.PlotlyConfig = {MathJaxConfig: 'local'};</script>\n",
              "        <script charset=\"utf-8\" src=\"https://cdn.plot.ly/plotly-2.24.1.min.js\"></script>                <div id=\"494f7425-83ba-44d4-9f6c-f6c5809b3248\" class=\"plotly-graph-div\" style=\"height:525px; width:100%;\"></div>            <script type=\"text/javascript\">                                    window.PLOTLYENV=window.PLOTLYENV || {};                                    if (document.getElementById(\"494f7425-83ba-44d4-9f6c-f6c5809b3248\")) {                    Plotly.newPlot(                        \"494f7425-83ba-44d4-9f6c-f6c5809b3248\",                        [{\"dimensions\":[{\"label\":\"MAE\",\"range\":[58.380452555608336,113.22939751379845],\"values\":[60.85326948930696,68.20807624489647,67.18466645781865,62.772772717180246,60.30661750294687,62.02995217449699,67.14907390451181,65.4923470674927,71.55577019438203,73.94592777104373,62.220157251439524,64.54307569561743,61.80536858722123,65.51714185786011,113.22939751379845,62.71013607282669,59.2568457457461,58.83739224857024,81.28777344890833,58.95858244919207,66.07396257671627,58.380452555608336,58.668131069676356,58.55956850507941,60.1686624099793,58.57429595378685,66.2073448584839,61.34089485918729,61.96563359464775,58.81941576607545]},{\"label\":\"depth\",\"range\":[1,15],\"values\":[7,15,4,15,7,12,9,6,14,2,10,6,6,8,1,4,11,11,12,11,12,10,10,9,10,9,8,13,9,9]},{\"label\":\"iterations\",\"range\":[2000,10000],\"values\":[2500,6500,8000,6500,8000,6000,5000,2000,4500,7500,10000,2000,9500,3500,9000,3000,8500,8500,8500,7000,7000,9000,10000,10000,10000,9500,9000,9500,9500,9000]},{\"label\":\"learning_rate\",\"range\":[0.014891398032248485,0.4875945242095062],\"values\":[0.07025670457566684,0.1727322601503304,0.4172506439258091,0.04516880886457119,0.11759812530174875,0.07164133131433938,0.3451959301347218,0.019047003886362636,0.24990818767168774,0.2372878448947537,0.15375518790264633,0.12195635006884005,0.11227709258070273,0.2023176032533856,0.3129016228912011,0.08662491321584387,0.020594819258376487,0.02371940276244394,0.4875945242095062,0.031776380459022105,0.1737093311170265,0.016862985221162422,0.034264752978504884,0.014891398032248485,0.0906162476923518,0.04677642937023066,0.3141643688035826,0.06477733009791174,0.1449575867882778,0.06428637422551338]},{\"label\":\"min_data_in_leaf\",\"range\":[10,950],\"values\":[176,658,306,10,546,152,494,303,948,506,829,571,337,674,49,408,195,752,800,785,950,790,807,702,878,700,677,615,735,878]},{\"label\":\"random_strength\",\"range\":[11.04573017451644,49.823049670089475],\"values\":[48.60503106383933,33.21424656944389,11.04573017451644,25.530755093039424,43.59432725801986,49.823049670089475,14.70275188458816,14.128894431429107,14.518650737063052,43.043297111211906,36.45612189039682,49.777110633258026,42.71563666808705,41.369691129164906,26.110807294275077,45.117404956114896,37.10814912773438,37.39930300171451,34.854770683489434,28.26632187795207,22.33040653435201,29.84529179985335,30.983565961996668,31.17153589748329,32.092333391494925,20.95302716645734,22.237536856455396,19.462196500126026,28.057514588791207,19.145369411253974]},{\"label\":\"reg_lambda\",\"range\":[0.2213760796019475,4.9504333536576235],\"values\":[1.4379244941221576,4.9504333536576235,4.721312118109984,2.1998615082707533,4.947785025351073,4.935727275928628,1.7286184527235546,3.2599185904504844,0.866984303345825,0.9433719411921735,3.441507193614058,3.4107479439490365,1.6301386249879153,0.2213760796019475,2.756964139380688,3.7898937246282243,2.5190248333550493,2.5510221968277977,2.5968623285232657,4.036805496343391,4.12377547252909,2.9400782862345847,4.297414311035129,3.0744505215800095,4.411590058330517,3.0478202608722804,3.0582560270938024,2.207292389208074,2.9418100790024027,2.034953304242239]},{\"label\":\"subsample\",\"range\":[0.5021994564469707,0.9827056546001118],\"values\":[0.5163295285540281,0.7550934084773187,0.8696697641062185,0.879228528112385,0.8480623951313192,0.7252272748769266,0.6740168376964286,0.9554520269953386,0.9827056546001118,0.6662252128376633,0.8155199357404586,0.5212355308605938,0.5346156988224361,0.6150442937396765,0.7959829305090627,0.8942833451062809,0.5854179174607782,0.5965149747466122,0.5917910682544335,0.6044814069126216,0.6601756185140182,0.5799090266204205,0.5670566464570769,0.5608690319524061,0.5394978135697726,0.5631318864804641,0.6381532929542277,0.7068935554008973,0.5021994564469707,0.5547985371611424]}],\"labelangle\":30,\"labelside\":\"bottom\",\"line\":{\"color\":[60.85326948930696,68.20807624489647,67.18466645781865,62.772772717180246,60.30661750294687,62.02995217449699,67.14907390451181,65.4923470674927,71.55577019438203,73.94592777104373,62.220157251439524,64.54307569561743,61.80536858722123,65.51714185786011,113.22939751379845,62.71013607282669,59.2568457457461,58.83739224857024,81.28777344890833,58.95858244919207,66.07396257671627,58.380452555608336,58.668131069676356,58.55956850507941,60.1686624099793,58.57429595378685,66.2073448584839,61.34089485918729,61.96563359464775,58.81941576607545],\"colorbar\":{\"title\":{\"text\":\"MAE\"}},\"colorscale\":[[0.0,\"rgb(247,251,255)\"],[0.125,\"rgb(222,235,247)\"],[0.25,\"rgb(198,219,239)\"],[0.375,\"rgb(158,202,225)\"],[0.5,\"rgb(107,174,214)\"],[0.625,\"rgb(66,146,198)\"],[0.75,\"rgb(33,113,181)\"],[0.875,\"rgb(8,81,156)\"],[1.0,\"rgb(8,48,107)\"]],\"reversescale\":true,\"showscale\":true},\"type\":\"parcoords\"}],                        {\"title\":{\"text\":\"Parallel Coordinate Plot\"},\"template\":{\"data\":{\"histogram2dcontour\":[{\"type\":\"histogram2dcontour\",\"colorbar\":{\"outlinewidth\":0,\"ticks\":\"\"},\"colorscale\":[[0.0,\"#0d0887\"],[0.1111111111111111,\"#46039f\"],[0.2222222222222222,\"#7201a8\"],[0.3333333333333333,\"#9c179e\"],[0.4444444444444444,\"#bd3786\"],[0.5555555555555556,\"#d8576b\"],[0.6666666666666666,\"#ed7953\"],[0.7777777777777778,\"#fb9f3a\"],[0.8888888888888888,\"#fdca26\"],[1.0,\"#f0f921\"]]}],\"choropleth\":[{\"type\":\"choropleth\",\"colorbar\":{\"outlinewidth\":0,\"ticks\":\"\"}}],\"histogram2d\":[{\"type\":\"histogram2d\",\"colorbar\":{\"outlinewidth\":0,\"ticks\":\"\"},\"colorscale\":[[0.0,\"#0d0887\"],[0.1111111111111111,\"#46039f\"],[0.2222222222222222,\"#7201a8\"],[0.3333333333333333,\"#9c179e\"],[0.4444444444444444,\"#bd3786\"],[0.5555555555555556,\"#d8576b\"],[0.6666666666666666,\"#ed7953\"],[0.7777777777777778,\"#fb9f3a\"],[0.8888888888888888,\"#fdca26\"],[1.0,\"#f0f921\"]]}],\"heatmap\":[{\"type\":\"heatmap\",\"colorbar\":{\"outlinewidth\":0,\"ticks\":\"\"},\"colorscale\":[[0.0,\"#0d0887\"],[0.1111111111111111,\"#46039f\"],[0.2222222222222222,\"#7201a8\"],[0.3333333333333333,\"#9c179e\"],[0.4444444444444444,\"#bd3786\"],[0.5555555555555556,\"#d8576b\"],[0.6666666666666666,\"#ed7953\"],[0.7777777777777778,\"#fb9f3a\"],[0.8888888888888888,\"#fdca26\"],[1.0,\"#f0f921\"]]}],\"heatmapgl\":[{\"type\":\"heatmapgl\",\"colorbar\":{\"outlinewidth\":0,\"ticks\":\"\"},\"colorscale\":[[0.0,\"#0d0887\"],[0.1111111111111111,\"#46039f\"],[0.2222222222222222,\"#7201a8\"],[0.3333333333333333,\"#9c179e\"],[0.4444444444444444,\"#bd3786\"],[0.5555555555555556,\"#d8576b\"],[0.6666666666666666,\"#ed7953\"],[0.7777777777777778,\"#fb9f3a\"],[0.8888888888888888,\"#fdca26\"],[1.0,\"#f0f921\"]]}],\"contourcarpet\":[{\"type\":\"contourcarpet\",\"colorbar\":{\"outlinewidth\":0,\"ticks\":\"\"}}],\"contour\":[{\"type\":\"contour\",\"colorbar\":{\"outlinewidth\":0,\"ticks\":\"\"},\"colorscale\":[[0.0,\"#0d0887\"],[0.1111111111111111,\"#46039f\"],[0.2222222222222222,\"#7201a8\"],[0.3333333333333333,\"#9c179e\"],[0.4444444444444444,\"#bd3786\"],[0.5555555555555556,\"#d8576b\"],[0.6666666666666666,\"#ed7953\"],[0.7777777777777778,\"#fb9f3a\"],[0.8888888888888888,\"#fdca26\"],[1.0,\"#f0f921\"]]}],\"surface\":[{\"type\":\"surface\",\"colorbar\":{\"outlinewidth\":0,\"ticks\":\"\"},\"colorscale\":[[0.0,\"#0d0887\"],[0.1111111111111111,\"#46039f\"],[0.2222222222222222,\"#7201a8\"],[0.3333333333333333,\"#9c179e\"],[0.4444444444444444,\"#bd3786\"],[0.5555555555555556,\"#d8576b\"],[0.6666666666666666,\"#ed7953\"],[0.7777777777777778,\"#fb9f3a\"],[0.8888888888888888,\"#fdca26\"],[1.0,\"#f0f921\"]]}],\"mesh3d\":[{\"type\":\"mesh3d\",\"colorbar\":{\"outlinewidth\":0,\"ticks\":\"\"}}],\"scatter\":[{\"fillpattern\":{\"fillmode\":\"overlay\",\"size\":10,\"solidity\":0.2},\"type\":\"scatter\"}],\"parcoords\":[{\"type\":\"parcoords\",\"line\":{\"colorbar\":{\"outlinewidth\":0,\"ticks\":\"\"}}}],\"scatterpolargl\":[{\"type\":\"scatterpolargl\",\"marker\":{\"colorbar\":{\"outlinewidth\":0,\"ticks\":\"\"}}}],\"bar\":[{\"error_x\":{\"color\":\"#2a3f5f\"},\"error_y\":{\"color\":\"#2a3f5f\"},\"marker\":{\"line\":{\"color\":\"#E5ECF6\",\"width\":0.5},\"pattern\":{\"fillmode\":\"overlay\",\"size\":10,\"solidity\":0.2}},\"type\":\"bar\"}],\"scattergeo\":[{\"type\":\"scattergeo\",\"marker\":{\"colorbar\":{\"outlinewidth\":0,\"ticks\":\"\"}}}],\"scatterpolar\":[{\"type\":\"scatterpolar\",\"marker\":{\"colorbar\":{\"outlinewidth\":0,\"ticks\":\"\"}}}],\"histogram\":[{\"marker\":{\"pattern\":{\"fillmode\":\"overlay\",\"size\":10,\"solidity\":0.2}},\"type\":\"histogram\"}],\"scattergl\":[{\"type\":\"scattergl\",\"marker\":{\"colorbar\":{\"outlinewidth\":0,\"ticks\":\"\"}}}],\"scatter3d\":[{\"type\":\"scatter3d\",\"line\":{\"colorbar\":{\"outlinewidth\":0,\"ticks\":\"\"}},\"marker\":{\"colorbar\":{\"outlinewidth\":0,\"ticks\":\"\"}}}],\"scattermapbox\":[{\"type\":\"scattermapbox\",\"marker\":{\"colorbar\":{\"outlinewidth\":0,\"ticks\":\"\"}}}],\"scatterternary\":[{\"type\":\"scatterternary\",\"marker\":{\"colorbar\":{\"outlinewidth\":0,\"ticks\":\"\"}}}],\"scattercarpet\":[{\"type\":\"scattercarpet\",\"marker\":{\"colorbar\":{\"outlinewidth\":0,\"ticks\":\"\"}}}],\"carpet\":[{\"aaxis\":{\"endlinecolor\":\"#2a3f5f\",\"gridcolor\":\"white\",\"linecolor\":\"white\",\"minorgridcolor\":\"white\",\"startlinecolor\":\"#2a3f5f\"},\"baxis\":{\"endlinecolor\":\"#2a3f5f\",\"gridcolor\":\"white\",\"linecolor\":\"white\",\"minorgridcolor\":\"white\",\"startlinecolor\":\"#2a3f5f\"},\"type\":\"carpet\"}],\"table\":[{\"cells\":{\"fill\":{\"color\":\"#EBF0F8\"},\"line\":{\"color\":\"white\"}},\"header\":{\"fill\":{\"color\":\"#C8D4E3\"},\"line\":{\"color\":\"white\"}},\"type\":\"table\"}],\"barpolar\":[{\"marker\":{\"line\":{\"color\":\"#E5ECF6\",\"width\":0.5},\"pattern\":{\"fillmode\":\"overlay\",\"size\":10,\"solidity\":0.2}},\"type\":\"barpolar\"}],\"pie\":[{\"automargin\":true,\"type\":\"pie\"}]},\"layout\":{\"autotypenumbers\":\"strict\",\"colorway\":[\"#636efa\",\"#EF553B\",\"#00cc96\",\"#ab63fa\",\"#FFA15A\",\"#19d3f3\",\"#FF6692\",\"#B6E880\",\"#FF97FF\",\"#FECB52\"],\"font\":{\"color\":\"#2a3f5f\"},\"hovermode\":\"closest\",\"hoverlabel\":{\"align\":\"left\"},\"paper_bgcolor\":\"white\",\"plot_bgcolor\":\"#E5ECF6\",\"polar\":{\"bgcolor\":\"#E5ECF6\",\"angularaxis\":{\"gridcolor\":\"white\",\"linecolor\":\"white\",\"ticks\":\"\"},\"radialaxis\":{\"gridcolor\":\"white\",\"linecolor\":\"white\",\"ticks\":\"\"}},\"ternary\":{\"bgcolor\":\"#E5ECF6\",\"aaxis\":{\"gridcolor\":\"white\",\"linecolor\":\"white\",\"ticks\":\"\"},\"baxis\":{\"gridcolor\":\"white\",\"linecolor\":\"white\",\"ticks\":\"\"},\"caxis\":{\"gridcolor\":\"white\",\"linecolor\":\"white\",\"ticks\":\"\"}},\"coloraxis\":{\"colorbar\":{\"outlinewidth\":0,\"ticks\":\"\"}},\"colorscale\":{\"sequential\":[[0.0,\"#0d0887\"],[0.1111111111111111,\"#46039f\"],[0.2222222222222222,\"#7201a8\"],[0.3333333333333333,\"#9c179e\"],[0.4444444444444444,\"#bd3786\"],[0.5555555555555556,\"#d8576b\"],[0.6666666666666666,\"#ed7953\"],[0.7777777777777778,\"#fb9f3a\"],[0.8888888888888888,\"#fdca26\"],[1.0,\"#f0f921\"]],\"sequentialminus\":[[0.0,\"#0d0887\"],[0.1111111111111111,\"#46039f\"],[0.2222222222222222,\"#7201a8\"],[0.3333333333333333,\"#9c179e\"],[0.4444444444444444,\"#bd3786\"],[0.5555555555555556,\"#d8576b\"],[0.6666666666666666,\"#ed7953\"],[0.7777777777777778,\"#fb9f3a\"],[0.8888888888888888,\"#fdca26\"],[1.0,\"#f0f921\"]],\"diverging\":[[0,\"#8e0152\"],[0.1,\"#c51b7d\"],[0.2,\"#de77ae\"],[0.3,\"#f1b6da\"],[0.4,\"#fde0ef\"],[0.5,\"#f7f7f7\"],[0.6,\"#e6f5d0\"],[0.7,\"#b8e186\"],[0.8,\"#7fbc41\"],[0.9,\"#4d9221\"],[1,\"#276419\"]]},\"xaxis\":{\"gridcolor\":\"white\",\"linecolor\":\"white\",\"ticks\":\"\",\"title\":{\"standoff\":15},\"zerolinecolor\":\"white\",\"automargin\":true,\"zerolinewidth\":2},\"yaxis\":{\"gridcolor\":\"white\",\"linecolor\":\"white\",\"ticks\":\"\",\"title\":{\"standoff\":15},\"zerolinecolor\":\"white\",\"automargin\":true,\"zerolinewidth\":2},\"scene\":{\"xaxis\":{\"backgroundcolor\":\"#E5ECF6\",\"gridcolor\":\"white\",\"linecolor\":\"white\",\"showbackground\":true,\"ticks\":\"\",\"zerolinecolor\":\"white\",\"gridwidth\":2},\"yaxis\":{\"backgroundcolor\":\"#E5ECF6\",\"gridcolor\":\"white\",\"linecolor\":\"white\",\"showbackground\":true,\"ticks\":\"\",\"zerolinecolor\":\"white\",\"gridwidth\":2},\"zaxis\":{\"backgroundcolor\":\"#E5ECF6\",\"gridcolor\":\"white\",\"linecolor\":\"white\",\"showbackground\":true,\"ticks\":\"\",\"zerolinecolor\":\"white\",\"gridwidth\":2}},\"shapedefaults\":{\"line\":{\"color\":\"#2a3f5f\"}},\"annotationdefaults\":{\"arrowcolor\":\"#2a3f5f\",\"arrowhead\":0,\"arrowwidth\":1},\"geo\":{\"bgcolor\":\"white\",\"landcolor\":\"#E5ECF6\",\"subunitcolor\":\"white\",\"showland\":true,\"showlakes\":true,\"lakecolor\":\"white\"},\"title\":{\"x\":0.05},\"mapbox\":{\"style\":\"light\"}}}},                        {\"responsive\": true}                    ).then(function(){\n",
              "                            \n",
              "var gd = document.getElementById('494f7425-83ba-44d4-9f6c-f6c5809b3248');\n",
              "var x = new MutationObserver(function (mutations, observer) {{\n",
              "        var display = window.getComputedStyle(gd).display;\n",
              "        if (!display || display === 'none') {{\n",
              "            console.log([gd, 'removed!']);\n",
              "            Plotly.purge(gd);\n",
              "            observer.disconnect();\n",
              "        }}\n",
              "}});\n",
              "\n",
              "// Listen for the removal of the full notebook cells\n",
              "var notebookContainer = gd.closest('#notebook-container');\n",
              "if (notebookContainer) {{\n",
              "    x.observe(notebookContainer, {childList: true});\n",
              "}}\n",
              "\n",
              "// Listen for the clearing of the current output cell\n",
              "var outputEl = gd.closest('.output');\n",
              "if (outputEl) {{\n",
              "    x.observe(outputEl, {childList: true});\n",
              "}}\n",
              "\n",
              "                        })                };                            </script>        </div>\n",
              "</body>\n",
              "</html>"
            ]
          },
          "metadata": {},
          "output_type": "display_data"
        },
        {
          "data": {
            "text/html": [
              "<html>\n",
              "<head><meta charset=\"utf-8\" /></head>\n",
              "<body>\n",
              "    <div>            <script src=\"https://cdnjs.cloudflare.com/ajax/libs/mathjax/2.7.5/MathJax.js?config=TeX-AMS-MML_SVG\"></script><script type=\"text/javascript\">if (window.MathJax && window.MathJax.Hub && window.MathJax.Hub.Config) {window.MathJax.Hub.Config({SVG: {font: \"STIX-Web\"}});}</script>                <script type=\"text/javascript\">window.PlotlyConfig = {MathJaxConfig: 'local'};</script>\n",
              "        <script charset=\"utf-8\" src=\"https://cdn.plot.ly/plotly-2.24.1.min.js\"></script>                <div id=\"fbba6c44-bcce-4495-93ed-2b7c46c078dd\" class=\"plotly-graph-div\" style=\"height:525px; width:2100px;\"></div>            <script type=\"text/javascript\">                                    window.PLOTLYENV=window.PLOTLYENV || {};                                    if (document.getElementById(\"fbba6c44-bcce-4495-93ed-2b7c46c078dd\")) {                    Plotly.newPlot(                        \"fbba6c44-bcce-4495-93ed-2b7c46c078dd\",                        [{\"marker\":{\"color\":[0,1,2,3,4,5,6,7,8,9,10,11,12,13,14,15,16,17,18,19,20,21,22,23,24,25,26,27,28,29],\"colorbar\":{\"title\":{\"text\":\"Trial\"},\"x\":1.0,\"xpad\":40},\"colorscale\":[[0.0,\"rgb(247,251,255)\"],[0.125,\"rgb(222,235,247)\"],[0.25,\"rgb(198,219,239)\"],[0.375,\"rgb(158,202,225)\"],[0.5,\"rgb(107,174,214)\"],[0.625,\"rgb(66,146,198)\"],[0.75,\"rgb(33,113,181)\"],[0.875,\"rgb(8,81,156)\"],[1.0,\"rgb(8,48,107)\"]],\"line\":{\"color\":\"Grey\",\"width\":0.5},\"showscale\":true},\"mode\":\"markers\",\"name\":\"Feasible Trial\",\"showlegend\":false,\"x\":[7,15,4,15,7,12,9,6,14,2,10,6,6,8,1,4,11,11,12,11,12,10,10,9,10,9,8,13,9,9],\"y\":[60.85326948930696,68.20807624489647,67.18466645781865,62.772772717180246,60.30661750294687,62.02995217449699,67.14907390451181,65.4923470674927,71.55577019438203,73.94592777104373,62.220157251439524,64.54307569561743,61.80536858722123,65.51714185786011,113.22939751379845,62.71013607282669,59.2568457457461,58.83739224857024,81.28777344890833,58.95858244919207,66.07396257671627,58.380452555608336,58.668131069676356,58.55956850507941,60.1686624099793,58.57429595378685,66.2073448584839,61.34089485918729,61.96563359464775,58.81941576607545],\"type\":\"scatter\",\"xaxis\":\"x\",\"yaxis\":\"y\"},{\"marker\":{\"color\":[0,1,2,3,4,5,6,7,8,9,10,11,12,13,14,15,16,17,18,19,20,21,22,23,24,25,26,27,28,29],\"colorbar\":{\"title\":{\"text\":\"Trial\"},\"x\":1.0,\"xpad\":40},\"colorscale\":[[0.0,\"rgb(247,251,255)\"],[0.125,\"rgb(222,235,247)\"],[0.25,\"rgb(198,219,239)\"],[0.375,\"rgb(158,202,225)\"],[0.5,\"rgb(107,174,214)\"],[0.625,\"rgb(66,146,198)\"],[0.75,\"rgb(33,113,181)\"],[0.875,\"rgb(8,81,156)\"],[1.0,\"rgb(8,48,107)\"]],\"line\":{\"color\":\"Grey\",\"width\":0.5},\"showscale\":false},\"mode\":\"markers\",\"name\":\"Feasible Trial\",\"showlegend\":false,\"x\":[2500,6500,8000,6500,8000,6000,5000,2000,4500,7500,10000,2000,9500,3500,9000,3000,8500,8500,8500,7000,7000,9000,10000,10000,10000,9500,9000,9500,9500,9000],\"y\":[60.85326948930696,68.20807624489647,67.18466645781865,62.772772717180246,60.30661750294687,62.02995217449699,67.14907390451181,65.4923470674927,71.55577019438203,73.94592777104373,62.220157251439524,64.54307569561743,61.80536858722123,65.51714185786011,113.22939751379845,62.71013607282669,59.2568457457461,58.83739224857024,81.28777344890833,58.95858244919207,66.07396257671627,58.380452555608336,58.668131069676356,58.55956850507941,60.1686624099793,58.57429595378685,66.2073448584839,61.34089485918729,61.96563359464775,58.81941576607545],\"type\":\"scatter\",\"xaxis\":\"x2\",\"yaxis\":\"y2\"},{\"marker\":{\"color\":[0,1,2,3,4,5,6,7,8,9,10,11,12,13,14,15,16,17,18,19,20,21,22,23,24,25,26,27,28,29],\"colorbar\":{\"title\":{\"text\":\"Trial\"},\"x\":1.0,\"xpad\":40},\"colorscale\":[[0.0,\"rgb(247,251,255)\"],[0.125,\"rgb(222,235,247)\"],[0.25,\"rgb(198,219,239)\"],[0.375,\"rgb(158,202,225)\"],[0.5,\"rgb(107,174,214)\"],[0.625,\"rgb(66,146,198)\"],[0.75,\"rgb(33,113,181)\"],[0.875,\"rgb(8,81,156)\"],[1.0,\"rgb(8,48,107)\"]],\"line\":{\"color\":\"Grey\",\"width\":0.5},\"showscale\":false},\"mode\":\"markers\",\"name\":\"Feasible Trial\",\"showlegend\":false,\"x\":[0.07025670457566684,0.1727322601503304,0.4172506439258091,0.04516880886457119,0.11759812530174875,0.07164133131433938,0.3451959301347218,0.019047003886362636,0.24990818767168774,0.2372878448947537,0.15375518790264633,0.12195635006884005,0.11227709258070273,0.2023176032533856,0.3129016228912011,0.08662491321584387,0.020594819258376487,0.02371940276244394,0.4875945242095062,0.031776380459022105,0.1737093311170265,0.016862985221162422,0.034264752978504884,0.014891398032248485,0.0906162476923518,0.04677642937023066,0.3141643688035826,0.06477733009791174,0.1449575867882778,0.06428637422551338],\"y\":[60.85326948930696,68.20807624489647,67.18466645781865,62.772772717180246,60.30661750294687,62.02995217449699,67.14907390451181,65.4923470674927,71.55577019438203,73.94592777104373,62.220157251439524,64.54307569561743,61.80536858722123,65.51714185786011,113.22939751379845,62.71013607282669,59.2568457457461,58.83739224857024,81.28777344890833,58.95858244919207,66.07396257671627,58.380452555608336,58.668131069676356,58.55956850507941,60.1686624099793,58.57429595378685,66.2073448584839,61.34089485918729,61.96563359464775,58.81941576607545],\"type\":\"scatter\",\"xaxis\":\"x3\",\"yaxis\":\"y3\"},{\"marker\":{\"color\":[0,1,2,3,4,5,6,7,8,9,10,11,12,13,14,15,16,17,18,19,20,21,22,23,24,25,26,27,28,29],\"colorbar\":{\"title\":{\"text\":\"Trial\"},\"x\":1.0,\"xpad\":40},\"colorscale\":[[0.0,\"rgb(247,251,255)\"],[0.125,\"rgb(222,235,247)\"],[0.25,\"rgb(198,219,239)\"],[0.375,\"rgb(158,202,225)\"],[0.5,\"rgb(107,174,214)\"],[0.625,\"rgb(66,146,198)\"],[0.75,\"rgb(33,113,181)\"],[0.875,\"rgb(8,81,156)\"],[1.0,\"rgb(8,48,107)\"]],\"line\":{\"color\":\"Grey\",\"width\":0.5},\"showscale\":false},\"mode\":\"markers\",\"name\":\"Feasible Trial\",\"showlegend\":false,\"x\":[176,658,306,10,546,152,494,303,948,506,829,571,337,674,49,408,195,752,800,785,950,790,807,702,878,700,677,615,735,878],\"y\":[60.85326948930696,68.20807624489647,67.18466645781865,62.772772717180246,60.30661750294687,62.02995217449699,67.14907390451181,65.4923470674927,71.55577019438203,73.94592777104373,62.220157251439524,64.54307569561743,61.80536858722123,65.51714185786011,113.22939751379845,62.71013607282669,59.2568457457461,58.83739224857024,81.28777344890833,58.95858244919207,66.07396257671627,58.380452555608336,58.668131069676356,58.55956850507941,60.1686624099793,58.57429595378685,66.2073448584839,61.34089485918729,61.96563359464775,58.81941576607545],\"type\":\"scatter\",\"xaxis\":\"x4\",\"yaxis\":\"y4\"},{\"marker\":{\"color\":[0,1,2,3,4,5,6,7,8,9,10,11,12,13,14,15,16,17,18,19,20,21,22,23,24,25,26,27,28,29],\"colorbar\":{\"title\":{\"text\":\"Trial\"},\"x\":1.0,\"xpad\":40},\"colorscale\":[[0.0,\"rgb(247,251,255)\"],[0.125,\"rgb(222,235,247)\"],[0.25,\"rgb(198,219,239)\"],[0.375,\"rgb(158,202,225)\"],[0.5,\"rgb(107,174,214)\"],[0.625,\"rgb(66,146,198)\"],[0.75,\"rgb(33,113,181)\"],[0.875,\"rgb(8,81,156)\"],[1.0,\"rgb(8,48,107)\"]],\"line\":{\"color\":\"Grey\",\"width\":0.5},\"showscale\":false},\"mode\":\"markers\",\"name\":\"Feasible Trial\",\"showlegend\":false,\"x\":[48.60503106383933,33.21424656944389,11.04573017451644,25.530755093039424,43.59432725801986,49.823049670089475,14.70275188458816,14.128894431429107,14.518650737063052,43.043297111211906,36.45612189039682,49.777110633258026,42.71563666808705,41.369691129164906,26.110807294275077,45.117404956114896,37.10814912773438,37.39930300171451,34.854770683489434,28.26632187795207,22.33040653435201,29.84529179985335,30.983565961996668,31.17153589748329,32.092333391494925,20.95302716645734,22.237536856455396,19.462196500126026,28.057514588791207,19.145369411253974],\"y\":[60.85326948930696,68.20807624489647,67.18466645781865,62.772772717180246,60.30661750294687,62.02995217449699,67.14907390451181,65.4923470674927,71.55577019438203,73.94592777104373,62.220157251439524,64.54307569561743,61.80536858722123,65.51714185786011,113.22939751379845,62.71013607282669,59.2568457457461,58.83739224857024,81.28777344890833,58.95858244919207,66.07396257671627,58.380452555608336,58.668131069676356,58.55956850507941,60.1686624099793,58.57429595378685,66.2073448584839,61.34089485918729,61.96563359464775,58.81941576607545],\"type\":\"scatter\",\"xaxis\":\"x5\",\"yaxis\":\"y5\"},{\"marker\":{\"color\":[0,1,2,3,4,5,6,7,8,9,10,11,12,13,14,15,16,17,18,19,20,21,22,23,24,25,26,27,28,29],\"colorbar\":{\"title\":{\"text\":\"Trial\"},\"x\":1.0,\"xpad\":40},\"colorscale\":[[0.0,\"rgb(247,251,255)\"],[0.125,\"rgb(222,235,247)\"],[0.25,\"rgb(198,219,239)\"],[0.375,\"rgb(158,202,225)\"],[0.5,\"rgb(107,174,214)\"],[0.625,\"rgb(66,146,198)\"],[0.75,\"rgb(33,113,181)\"],[0.875,\"rgb(8,81,156)\"],[1.0,\"rgb(8,48,107)\"]],\"line\":{\"color\":\"Grey\",\"width\":0.5},\"showscale\":false},\"mode\":\"markers\",\"name\":\"Feasible Trial\",\"showlegend\":false,\"x\":[1.4379244941221576,4.9504333536576235,4.721312118109984,2.1998615082707533,4.947785025351073,4.935727275928628,1.7286184527235546,3.2599185904504844,0.866984303345825,0.9433719411921735,3.441507193614058,3.4107479439490365,1.6301386249879153,0.2213760796019475,2.756964139380688,3.7898937246282243,2.5190248333550493,2.5510221968277977,2.5968623285232657,4.036805496343391,4.12377547252909,2.9400782862345847,4.297414311035129,3.0744505215800095,4.411590058330517,3.0478202608722804,3.0582560270938024,2.207292389208074,2.9418100790024027,2.034953304242239],\"y\":[60.85326948930696,68.20807624489647,67.18466645781865,62.772772717180246,60.30661750294687,62.02995217449699,67.14907390451181,65.4923470674927,71.55577019438203,73.94592777104373,62.220157251439524,64.54307569561743,61.80536858722123,65.51714185786011,113.22939751379845,62.71013607282669,59.2568457457461,58.83739224857024,81.28777344890833,58.95858244919207,66.07396257671627,58.380452555608336,58.668131069676356,58.55956850507941,60.1686624099793,58.57429595378685,66.2073448584839,61.34089485918729,61.96563359464775,58.81941576607545],\"type\":\"scatter\",\"xaxis\":\"x6\",\"yaxis\":\"y6\"},{\"marker\":{\"color\":[0,1,2,3,4,5,6,7,8,9,10,11,12,13,14,15,16,17,18,19,20,21,22,23,24,25,26,27,28,29],\"colorbar\":{\"title\":{\"text\":\"Trial\"},\"x\":1.0,\"xpad\":40},\"colorscale\":[[0.0,\"rgb(247,251,255)\"],[0.125,\"rgb(222,235,247)\"],[0.25,\"rgb(198,219,239)\"],[0.375,\"rgb(158,202,225)\"],[0.5,\"rgb(107,174,214)\"],[0.625,\"rgb(66,146,198)\"],[0.75,\"rgb(33,113,181)\"],[0.875,\"rgb(8,81,156)\"],[1.0,\"rgb(8,48,107)\"]],\"line\":{\"color\":\"Grey\",\"width\":0.5},\"showscale\":false},\"mode\":\"markers\",\"name\":\"Feasible Trial\",\"showlegend\":false,\"x\":[0.5163295285540281,0.7550934084773187,0.8696697641062185,0.879228528112385,0.8480623951313192,0.7252272748769266,0.6740168376964286,0.9554520269953386,0.9827056546001118,0.6662252128376633,0.8155199357404586,0.5212355308605938,0.5346156988224361,0.6150442937396765,0.7959829305090627,0.8942833451062809,0.5854179174607782,0.5965149747466122,0.5917910682544335,0.6044814069126216,0.6601756185140182,0.5799090266204205,0.5670566464570769,0.5608690319524061,0.5394978135697726,0.5631318864804641,0.6381532929542277,0.7068935554008973,0.5021994564469707,0.5547985371611424],\"y\":[60.85326948930696,68.20807624489647,67.18466645781865,62.772772717180246,60.30661750294687,62.02995217449699,67.14907390451181,65.4923470674927,71.55577019438203,73.94592777104373,62.220157251439524,64.54307569561743,61.80536858722123,65.51714185786011,113.22939751379845,62.71013607282669,59.2568457457461,58.83739224857024,81.28777344890833,58.95858244919207,66.07396257671627,58.380452555608336,58.668131069676356,58.55956850507941,60.1686624099793,58.57429595378685,66.2073448584839,61.34089485918729,61.96563359464775,58.81941576607545],\"type\":\"scatter\",\"xaxis\":\"x7\",\"yaxis\":\"y7\"}],                        {\"template\":{\"data\":{\"histogram2dcontour\":[{\"type\":\"histogram2dcontour\",\"colorbar\":{\"outlinewidth\":0,\"ticks\":\"\"},\"colorscale\":[[0.0,\"#0d0887\"],[0.1111111111111111,\"#46039f\"],[0.2222222222222222,\"#7201a8\"],[0.3333333333333333,\"#9c179e\"],[0.4444444444444444,\"#bd3786\"],[0.5555555555555556,\"#d8576b\"],[0.6666666666666666,\"#ed7953\"],[0.7777777777777778,\"#fb9f3a\"],[0.8888888888888888,\"#fdca26\"],[1.0,\"#f0f921\"]]}],\"choropleth\":[{\"type\":\"choropleth\",\"colorbar\":{\"outlinewidth\":0,\"ticks\":\"\"}}],\"histogram2d\":[{\"type\":\"histogram2d\",\"colorbar\":{\"outlinewidth\":0,\"ticks\":\"\"},\"colorscale\":[[0.0,\"#0d0887\"],[0.1111111111111111,\"#46039f\"],[0.2222222222222222,\"#7201a8\"],[0.3333333333333333,\"#9c179e\"],[0.4444444444444444,\"#bd3786\"],[0.5555555555555556,\"#d8576b\"],[0.6666666666666666,\"#ed7953\"],[0.7777777777777778,\"#fb9f3a\"],[0.8888888888888888,\"#fdca26\"],[1.0,\"#f0f921\"]]}],\"heatmap\":[{\"type\":\"heatmap\",\"colorbar\":{\"outlinewidth\":0,\"ticks\":\"\"},\"colorscale\":[[0.0,\"#0d0887\"],[0.1111111111111111,\"#46039f\"],[0.2222222222222222,\"#7201a8\"],[0.3333333333333333,\"#9c179e\"],[0.4444444444444444,\"#bd3786\"],[0.5555555555555556,\"#d8576b\"],[0.6666666666666666,\"#ed7953\"],[0.7777777777777778,\"#fb9f3a\"],[0.8888888888888888,\"#fdca26\"],[1.0,\"#f0f921\"]]}],\"heatmapgl\":[{\"type\":\"heatmapgl\",\"colorbar\":{\"outlinewidth\":0,\"ticks\":\"\"},\"colorscale\":[[0.0,\"#0d0887\"],[0.1111111111111111,\"#46039f\"],[0.2222222222222222,\"#7201a8\"],[0.3333333333333333,\"#9c179e\"],[0.4444444444444444,\"#bd3786\"],[0.5555555555555556,\"#d8576b\"],[0.6666666666666666,\"#ed7953\"],[0.7777777777777778,\"#fb9f3a\"],[0.8888888888888888,\"#fdca26\"],[1.0,\"#f0f921\"]]}],\"contourcarpet\":[{\"type\":\"contourcarpet\",\"colorbar\":{\"outlinewidth\":0,\"ticks\":\"\"}}],\"contour\":[{\"type\":\"contour\",\"colorbar\":{\"outlinewidth\":0,\"ticks\":\"\"},\"colorscale\":[[0.0,\"#0d0887\"],[0.1111111111111111,\"#46039f\"],[0.2222222222222222,\"#7201a8\"],[0.3333333333333333,\"#9c179e\"],[0.4444444444444444,\"#bd3786\"],[0.5555555555555556,\"#d8576b\"],[0.6666666666666666,\"#ed7953\"],[0.7777777777777778,\"#fb9f3a\"],[0.8888888888888888,\"#fdca26\"],[1.0,\"#f0f921\"]]}],\"surface\":[{\"type\":\"surface\",\"colorbar\":{\"outlinewidth\":0,\"ticks\":\"\"},\"colorscale\":[[0.0,\"#0d0887\"],[0.1111111111111111,\"#46039f\"],[0.2222222222222222,\"#7201a8\"],[0.3333333333333333,\"#9c179e\"],[0.4444444444444444,\"#bd3786\"],[0.5555555555555556,\"#d8576b\"],[0.6666666666666666,\"#ed7953\"],[0.7777777777777778,\"#fb9f3a\"],[0.8888888888888888,\"#fdca26\"],[1.0,\"#f0f921\"]]}],\"mesh3d\":[{\"type\":\"mesh3d\",\"colorbar\":{\"outlinewidth\":0,\"ticks\":\"\"}}],\"scatter\":[{\"fillpattern\":{\"fillmode\":\"overlay\",\"size\":10,\"solidity\":0.2},\"type\":\"scatter\"}],\"parcoords\":[{\"type\":\"parcoords\",\"line\":{\"colorbar\":{\"outlinewidth\":0,\"ticks\":\"\"}}}],\"scatterpolargl\":[{\"type\":\"scatterpolargl\",\"marker\":{\"colorbar\":{\"outlinewidth\":0,\"ticks\":\"\"}}}],\"bar\":[{\"error_x\":{\"color\":\"#2a3f5f\"},\"error_y\":{\"color\":\"#2a3f5f\"},\"marker\":{\"line\":{\"color\":\"#E5ECF6\",\"width\":0.5},\"pattern\":{\"fillmode\":\"overlay\",\"size\":10,\"solidity\":0.2}},\"type\":\"bar\"}],\"scattergeo\":[{\"type\":\"scattergeo\",\"marker\":{\"colorbar\":{\"outlinewidth\":0,\"ticks\":\"\"}}}],\"scatterpolar\":[{\"type\":\"scatterpolar\",\"marker\":{\"colorbar\":{\"outlinewidth\":0,\"ticks\":\"\"}}}],\"histogram\":[{\"marker\":{\"pattern\":{\"fillmode\":\"overlay\",\"size\":10,\"solidity\":0.2}},\"type\":\"histogram\"}],\"scattergl\":[{\"type\":\"scattergl\",\"marker\":{\"colorbar\":{\"outlinewidth\":0,\"ticks\":\"\"}}}],\"scatter3d\":[{\"type\":\"scatter3d\",\"line\":{\"colorbar\":{\"outlinewidth\":0,\"ticks\":\"\"}},\"marker\":{\"colorbar\":{\"outlinewidth\":0,\"ticks\":\"\"}}}],\"scattermapbox\":[{\"type\":\"scattermapbox\",\"marker\":{\"colorbar\":{\"outlinewidth\":0,\"ticks\":\"\"}}}],\"scatterternary\":[{\"type\":\"scatterternary\",\"marker\":{\"colorbar\":{\"outlinewidth\":0,\"ticks\":\"\"}}}],\"scattercarpet\":[{\"type\":\"scattercarpet\",\"marker\":{\"colorbar\":{\"outlinewidth\":0,\"ticks\":\"\"}}}],\"carpet\":[{\"aaxis\":{\"endlinecolor\":\"#2a3f5f\",\"gridcolor\":\"white\",\"linecolor\":\"white\",\"minorgridcolor\":\"white\",\"startlinecolor\":\"#2a3f5f\"},\"baxis\":{\"endlinecolor\":\"#2a3f5f\",\"gridcolor\":\"white\",\"linecolor\":\"white\",\"minorgridcolor\":\"white\",\"startlinecolor\":\"#2a3f5f\"},\"type\":\"carpet\"}],\"table\":[{\"cells\":{\"fill\":{\"color\":\"#EBF0F8\"},\"line\":{\"color\":\"white\"}},\"header\":{\"fill\":{\"color\":\"#C8D4E3\"},\"line\":{\"color\":\"white\"}},\"type\":\"table\"}],\"barpolar\":[{\"marker\":{\"line\":{\"color\":\"#E5ECF6\",\"width\":0.5},\"pattern\":{\"fillmode\":\"overlay\",\"size\":10,\"solidity\":0.2}},\"type\":\"barpolar\"}],\"pie\":[{\"automargin\":true,\"type\":\"pie\"}]},\"layout\":{\"autotypenumbers\":\"strict\",\"colorway\":[\"#636efa\",\"#EF553B\",\"#00cc96\",\"#ab63fa\",\"#FFA15A\",\"#19d3f3\",\"#FF6692\",\"#B6E880\",\"#FF97FF\",\"#FECB52\"],\"font\":{\"color\":\"#2a3f5f\"},\"hovermode\":\"closest\",\"hoverlabel\":{\"align\":\"left\"},\"paper_bgcolor\":\"white\",\"plot_bgcolor\":\"#E5ECF6\",\"polar\":{\"bgcolor\":\"#E5ECF6\",\"angularaxis\":{\"gridcolor\":\"white\",\"linecolor\":\"white\",\"ticks\":\"\"},\"radialaxis\":{\"gridcolor\":\"white\",\"linecolor\":\"white\",\"ticks\":\"\"}},\"ternary\":{\"bgcolor\":\"#E5ECF6\",\"aaxis\":{\"gridcolor\":\"white\",\"linecolor\":\"white\",\"ticks\":\"\"},\"baxis\":{\"gridcolor\":\"white\",\"linecolor\":\"white\",\"ticks\":\"\"},\"caxis\":{\"gridcolor\":\"white\",\"linecolor\":\"white\",\"ticks\":\"\"}},\"coloraxis\":{\"colorbar\":{\"outlinewidth\":0,\"ticks\":\"\"}},\"colorscale\":{\"sequential\":[[0.0,\"#0d0887\"],[0.1111111111111111,\"#46039f\"],[0.2222222222222222,\"#7201a8\"],[0.3333333333333333,\"#9c179e\"],[0.4444444444444444,\"#bd3786\"],[0.5555555555555556,\"#d8576b\"],[0.6666666666666666,\"#ed7953\"],[0.7777777777777778,\"#fb9f3a\"],[0.8888888888888888,\"#fdca26\"],[1.0,\"#f0f921\"]],\"sequentialminus\":[[0.0,\"#0d0887\"],[0.1111111111111111,\"#46039f\"],[0.2222222222222222,\"#7201a8\"],[0.3333333333333333,\"#9c179e\"],[0.4444444444444444,\"#bd3786\"],[0.5555555555555556,\"#d8576b\"],[0.6666666666666666,\"#ed7953\"],[0.7777777777777778,\"#fb9f3a\"],[0.8888888888888888,\"#fdca26\"],[1.0,\"#f0f921\"]],\"diverging\":[[0,\"#8e0152\"],[0.1,\"#c51b7d\"],[0.2,\"#de77ae\"],[0.3,\"#f1b6da\"],[0.4,\"#fde0ef\"],[0.5,\"#f7f7f7\"],[0.6,\"#e6f5d0\"],[0.7,\"#b8e186\"],[0.8,\"#7fbc41\"],[0.9,\"#4d9221\"],[1,\"#276419\"]]},\"xaxis\":{\"gridcolor\":\"white\",\"linecolor\":\"white\",\"ticks\":\"\",\"title\":{\"standoff\":15},\"zerolinecolor\":\"white\",\"automargin\":true,\"zerolinewidth\":2},\"yaxis\":{\"gridcolor\":\"white\",\"linecolor\":\"white\",\"ticks\":\"\",\"title\":{\"standoff\":15},\"zerolinecolor\":\"white\",\"automargin\":true,\"zerolinewidth\":2},\"scene\":{\"xaxis\":{\"backgroundcolor\":\"#E5ECF6\",\"gridcolor\":\"white\",\"linecolor\":\"white\",\"showbackground\":true,\"ticks\":\"\",\"zerolinecolor\":\"white\",\"gridwidth\":2},\"yaxis\":{\"backgroundcolor\":\"#E5ECF6\",\"gridcolor\":\"white\",\"linecolor\":\"white\",\"showbackground\":true,\"ticks\":\"\",\"zerolinecolor\":\"white\",\"gridwidth\":2},\"zaxis\":{\"backgroundcolor\":\"#E5ECF6\",\"gridcolor\":\"white\",\"linecolor\":\"white\",\"showbackground\":true,\"ticks\":\"\",\"zerolinecolor\":\"white\",\"gridwidth\":2}},\"shapedefaults\":{\"line\":{\"color\":\"#2a3f5f\"}},\"annotationdefaults\":{\"arrowcolor\":\"#2a3f5f\",\"arrowhead\":0,\"arrowwidth\":1},\"geo\":{\"bgcolor\":\"white\",\"landcolor\":\"#E5ECF6\",\"subunitcolor\":\"white\",\"showland\":true,\"showlakes\":true,\"lakecolor\":\"white\"},\"title\":{\"x\":0.05},\"mapbox\":{\"style\":\"light\"}}},\"xaxis\":{\"anchor\":\"y\",\"domain\":[0.0,0.1183673469387755],\"title\":{\"text\":\"depth\"}},\"yaxis\":{\"anchor\":\"x\",\"domain\":[0.0,1.0],\"title\":{\"text\":\"MAE\"}},\"xaxis2\":{\"anchor\":\"y2\",\"domain\":[0.14693877551020407,0.26530612244897955],\"title\":{\"text\":\"iterations\"}},\"yaxis2\":{\"anchor\":\"x2\",\"domain\":[0.0,1.0],\"matches\":\"y\",\"showticklabels\":false},\"xaxis3\":{\"anchor\":\"y3\",\"domain\":[0.29387755102040813,0.4122448979591836],\"title\":{\"text\":\"learning_rate\"}},\"yaxis3\":{\"anchor\":\"x3\",\"domain\":[0.0,1.0],\"matches\":\"y\",\"showticklabels\":false},\"xaxis4\":{\"anchor\":\"y4\",\"domain\":[0.4408163265306122,0.5591836734693877],\"title\":{\"text\":\"min_data_in_leaf\"}},\"yaxis4\":{\"anchor\":\"x4\",\"domain\":[0.0,1.0],\"matches\":\"y\",\"showticklabels\":false},\"xaxis5\":{\"anchor\":\"y5\",\"domain\":[0.5877551020408163,0.7061224489795918],\"title\":{\"text\":\"random_strength\"}},\"yaxis5\":{\"anchor\":\"x5\",\"domain\":[0.0,1.0],\"matches\":\"y\",\"showticklabels\":false},\"xaxis6\":{\"anchor\":\"y6\",\"domain\":[0.7346938775510204,0.8530612244897959],\"title\":{\"text\":\"reg_lambda\"}},\"yaxis6\":{\"anchor\":\"x6\",\"domain\":[0.0,1.0],\"matches\":\"y\",\"showticklabels\":false},\"xaxis7\":{\"anchor\":\"y7\",\"domain\":[0.8816326530612244,0.9999999999999999],\"title\":{\"text\":\"subsample\"}},\"yaxis7\":{\"anchor\":\"x7\",\"domain\":[0.0,1.0],\"matches\":\"y\",\"showticklabels\":false},\"title\":{\"text\":\"Slice Plot\"},\"width\":2100},                        {\"responsive\": true}                    ).then(function(){\n",
              "                            \n",
              "var gd = document.getElementById('fbba6c44-bcce-4495-93ed-2b7c46c078dd');\n",
              "var x = new MutationObserver(function (mutations, observer) {{\n",
              "        var display = window.getComputedStyle(gd).display;\n",
              "        if (!display || display === 'none') {{\n",
              "            console.log([gd, 'removed!']);\n",
              "            Plotly.purge(gd);\n",
              "            observer.disconnect();\n",
              "        }}\n",
              "}});\n",
              "\n",
              "// Listen for the removal of the full notebook cells\n",
              "var notebookContainer = gd.closest('#notebook-container');\n",
              "if (notebookContainer) {{\n",
              "    x.observe(notebookContainer, {childList: true});\n",
              "}}\n",
              "\n",
              "// Listen for the clearing of the current output cell\n",
              "var outputEl = gd.closest('.output');\n",
              "if (outputEl) {{\n",
              "    x.observe(outputEl, {childList: true});\n",
              "}}\n",
              "\n",
              "                        })                };                            </script>        </div>\n",
              "</body>\n",
              "</html>"
            ]
          },
          "metadata": {},
          "output_type": "display_data"
        },
        {
          "data": {
            "text/html": [
              "<html>\n",
              "<head><meta charset=\"utf-8\" /></head>\n",
              "<body>\n",
              "    <div>            <script src=\"https://cdnjs.cloudflare.com/ajax/libs/mathjax/2.7.5/MathJax.js?config=TeX-AMS-MML_SVG\"></script><script type=\"text/javascript\">if (window.MathJax && window.MathJax.Hub && window.MathJax.Hub.Config) {window.MathJax.Hub.Config({SVG: {font: \"STIX-Web\"}});}</script>                <script type=\"text/javascript\">window.PlotlyConfig = {MathJaxConfig: 'local'};</script>\n",
              "        <script charset=\"utf-8\" src=\"https://cdn.plot.ly/plotly-2.24.1.min.js\"></script>                <div id=\"10c373b3-ae8b-455a-8997-d1beb3cd83f8\" class=\"plotly-graph-div\" style=\"height:525px; width:100%;\"></div>            <script type=\"text/javascript\">                                    window.PLOTLYENV=window.PLOTLYENV || {};                                    if (document.getElementById(\"10c373b3-ae8b-455a-8997-d1beb3cd83f8\")) {                    Plotly.newPlot(                        \"10c373b3-ae8b-455a-8997-d1beb3cd83f8\",                        [{\"cliponaxis\":false,\"hovertemplate\":[\"reg_lambda (FloatDistribution): 0.004295776942414829\\u003cextra\\u003e\\u003c\\u002fextra\\u003e\",\"iterations (IntDistribution): 0.017089144640248126\\u003cextra\\u003e\\u003c\\u002fextra\\u003e\",\"random_strength (FloatDistribution): 0.02059017598529539\\u003cextra\\u003e\\u003c\\u002fextra\\u003e\",\"subsample (FloatDistribution): 0.04060281564281212\\u003cextra\\u003e\\u003c\\u002fextra\\u003e\",\"min_data_in_leaf (IntDistribution): 0.26385087695280685\\u003cextra\\u003e\\u003c\\u002fextra\\u003e\",\"depth (IntDistribution): 0.30188588717944326\\u003cextra\\u003e\\u003c\\u002fextra\\u003e\",\"learning_rate (FloatDistribution): 0.3516853226569796\\u003cextra\\u003e\\u003c\\u002fextra\\u003e\"],\"name\":\"MAE\",\"orientation\":\"h\",\"text\":[\"\\u003c0.01\",\"0.02\",\"0.02\",\"0.04\",\"0.26\",\"0.30\",\"0.35\"],\"textposition\":\"outside\",\"x\":[0.004295776942414829,0.017089144640248126,0.02059017598529539,0.04060281564281212,0.26385087695280685,0.30188588717944326,0.3516853226569796],\"y\":[\"reg_lambda\",\"iterations\",\"random_strength\",\"subsample\",\"min_data_in_leaf\",\"depth\",\"learning_rate\"],\"type\":\"bar\"}],                        {\"title\":{\"text\":\"Hyperparameter Importances\"},\"xaxis\":{\"title\":{\"text\":\"Hyperparameter Importance\"}},\"yaxis\":{\"title\":{\"text\":\"Hyperparameter\"}},\"template\":{\"data\":{\"histogram2dcontour\":[{\"type\":\"histogram2dcontour\",\"colorbar\":{\"outlinewidth\":0,\"ticks\":\"\"},\"colorscale\":[[0.0,\"#0d0887\"],[0.1111111111111111,\"#46039f\"],[0.2222222222222222,\"#7201a8\"],[0.3333333333333333,\"#9c179e\"],[0.4444444444444444,\"#bd3786\"],[0.5555555555555556,\"#d8576b\"],[0.6666666666666666,\"#ed7953\"],[0.7777777777777778,\"#fb9f3a\"],[0.8888888888888888,\"#fdca26\"],[1.0,\"#f0f921\"]]}],\"choropleth\":[{\"type\":\"choropleth\",\"colorbar\":{\"outlinewidth\":0,\"ticks\":\"\"}}],\"histogram2d\":[{\"type\":\"histogram2d\",\"colorbar\":{\"outlinewidth\":0,\"ticks\":\"\"},\"colorscale\":[[0.0,\"#0d0887\"],[0.1111111111111111,\"#46039f\"],[0.2222222222222222,\"#7201a8\"],[0.3333333333333333,\"#9c179e\"],[0.4444444444444444,\"#bd3786\"],[0.5555555555555556,\"#d8576b\"],[0.6666666666666666,\"#ed7953\"],[0.7777777777777778,\"#fb9f3a\"],[0.8888888888888888,\"#fdca26\"],[1.0,\"#f0f921\"]]}],\"heatmap\":[{\"type\":\"heatmap\",\"colorbar\":{\"outlinewidth\":0,\"ticks\":\"\"},\"colorscale\":[[0.0,\"#0d0887\"],[0.1111111111111111,\"#46039f\"],[0.2222222222222222,\"#7201a8\"],[0.3333333333333333,\"#9c179e\"],[0.4444444444444444,\"#bd3786\"],[0.5555555555555556,\"#d8576b\"],[0.6666666666666666,\"#ed7953\"],[0.7777777777777778,\"#fb9f3a\"],[0.8888888888888888,\"#fdca26\"],[1.0,\"#f0f921\"]]}],\"heatmapgl\":[{\"type\":\"heatmapgl\",\"colorbar\":{\"outlinewidth\":0,\"ticks\":\"\"},\"colorscale\":[[0.0,\"#0d0887\"],[0.1111111111111111,\"#46039f\"],[0.2222222222222222,\"#7201a8\"],[0.3333333333333333,\"#9c179e\"],[0.4444444444444444,\"#bd3786\"],[0.5555555555555556,\"#d8576b\"],[0.6666666666666666,\"#ed7953\"],[0.7777777777777778,\"#fb9f3a\"],[0.8888888888888888,\"#fdca26\"],[1.0,\"#f0f921\"]]}],\"contourcarpet\":[{\"type\":\"contourcarpet\",\"colorbar\":{\"outlinewidth\":0,\"ticks\":\"\"}}],\"contour\":[{\"type\":\"contour\",\"colorbar\":{\"outlinewidth\":0,\"ticks\":\"\"},\"colorscale\":[[0.0,\"#0d0887\"],[0.1111111111111111,\"#46039f\"],[0.2222222222222222,\"#7201a8\"],[0.3333333333333333,\"#9c179e\"],[0.4444444444444444,\"#bd3786\"],[0.5555555555555556,\"#d8576b\"],[0.6666666666666666,\"#ed7953\"],[0.7777777777777778,\"#fb9f3a\"],[0.8888888888888888,\"#fdca26\"],[1.0,\"#f0f921\"]]}],\"surface\":[{\"type\":\"surface\",\"colorbar\":{\"outlinewidth\":0,\"ticks\":\"\"},\"colorscale\":[[0.0,\"#0d0887\"],[0.1111111111111111,\"#46039f\"],[0.2222222222222222,\"#7201a8\"],[0.3333333333333333,\"#9c179e\"],[0.4444444444444444,\"#bd3786\"],[0.5555555555555556,\"#d8576b\"],[0.6666666666666666,\"#ed7953\"],[0.7777777777777778,\"#fb9f3a\"],[0.8888888888888888,\"#fdca26\"],[1.0,\"#f0f921\"]]}],\"mesh3d\":[{\"type\":\"mesh3d\",\"colorbar\":{\"outlinewidth\":0,\"ticks\":\"\"}}],\"scatter\":[{\"fillpattern\":{\"fillmode\":\"overlay\",\"size\":10,\"solidity\":0.2},\"type\":\"scatter\"}],\"parcoords\":[{\"type\":\"parcoords\",\"line\":{\"colorbar\":{\"outlinewidth\":0,\"ticks\":\"\"}}}],\"scatterpolargl\":[{\"type\":\"scatterpolargl\",\"marker\":{\"colorbar\":{\"outlinewidth\":0,\"ticks\":\"\"}}}],\"bar\":[{\"error_x\":{\"color\":\"#2a3f5f\"},\"error_y\":{\"color\":\"#2a3f5f\"},\"marker\":{\"line\":{\"color\":\"#E5ECF6\",\"width\":0.5},\"pattern\":{\"fillmode\":\"overlay\",\"size\":10,\"solidity\":0.2}},\"type\":\"bar\"}],\"scattergeo\":[{\"type\":\"scattergeo\",\"marker\":{\"colorbar\":{\"outlinewidth\":0,\"ticks\":\"\"}}}],\"scatterpolar\":[{\"type\":\"scatterpolar\",\"marker\":{\"colorbar\":{\"outlinewidth\":0,\"ticks\":\"\"}}}],\"histogram\":[{\"marker\":{\"pattern\":{\"fillmode\":\"overlay\",\"size\":10,\"solidity\":0.2}},\"type\":\"histogram\"}],\"scattergl\":[{\"type\":\"scattergl\",\"marker\":{\"colorbar\":{\"outlinewidth\":0,\"ticks\":\"\"}}}],\"scatter3d\":[{\"type\":\"scatter3d\",\"line\":{\"colorbar\":{\"outlinewidth\":0,\"ticks\":\"\"}},\"marker\":{\"colorbar\":{\"outlinewidth\":0,\"ticks\":\"\"}}}],\"scattermapbox\":[{\"type\":\"scattermapbox\",\"marker\":{\"colorbar\":{\"outlinewidth\":0,\"ticks\":\"\"}}}],\"scatterternary\":[{\"type\":\"scatterternary\",\"marker\":{\"colorbar\":{\"outlinewidth\":0,\"ticks\":\"\"}}}],\"scattercarpet\":[{\"type\":\"scattercarpet\",\"marker\":{\"colorbar\":{\"outlinewidth\":0,\"ticks\":\"\"}}}],\"carpet\":[{\"aaxis\":{\"endlinecolor\":\"#2a3f5f\",\"gridcolor\":\"white\",\"linecolor\":\"white\",\"minorgridcolor\":\"white\",\"startlinecolor\":\"#2a3f5f\"},\"baxis\":{\"endlinecolor\":\"#2a3f5f\",\"gridcolor\":\"white\",\"linecolor\":\"white\",\"minorgridcolor\":\"white\",\"startlinecolor\":\"#2a3f5f\"},\"type\":\"carpet\"}],\"table\":[{\"cells\":{\"fill\":{\"color\":\"#EBF0F8\"},\"line\":{\"color\":\"white\"}},\"header\":{\"fill\":{\"color\":\"#C8D4E3\"},\"line\":{\"color\":\"white\"}},\"type\":\"table\"}],\"barpolar\":[{\"marker\":{\"line\":{\"color\":\"#E5ECF6\",\"width\":0.5},\"pattern\":{\"fillmode\":\"overlay\",\"size\":10,\"solidity\":0.2}},\"type\":\"barpolar\"}],\"pie\":[{\"automargin\":true,\"type\":\"pie\"}]},\"layout\":{\"autotypenumbers\":\"strict\",\"colorway\":[\"#636efa\",\"#EF553B\",\"#00cc96\",\"#ab63fa\",\"#FFA15A\",\"#19d3f3\",\"#FF6692\",\"#B6E880\",\"#FF97FF\",\"#FECB52\"],\"font\":{\"color\":\"#2a3f5f\"},\"hovermode\":\"closest\",\"hoverlabel\":{\"align\":\"left\"},\"paper_bgcolor\":\"white\",\"plot_bgcolor\":\"#E5ECF6\",\"polar\":{\"bgcolor\":\"#E5ECF6\",\"angularaxis\":{\"gridcolor\":\"white\",\"linecolor\":\"white\",\"ticks\":\"\"},\"radialaxis\":{\"gridcolor\":\"white\",\"linecolor\":\"white\",\"ticks\":\"\"}},\"ternary\":{\"bgcolor\":\"#E5ECF6\",\"aaxis\":{\"gridcolor\":\"white\",\"linecolor\":\"white\",\"ticks\":\"\"},\"baxis\":{\"gridcolor\":\"white\",\"linecolor\":\"white\",\"ticks\":\"\"},\"caxis\":{\"gridcolor\":\"white\",\"linecolor\":\"white\",\"ticks\":\"\"}},\"coloraxis\":{\"colorbar\":{\"outlinewidth\":0,\"ticks\":\"\"}},\"colorscale\":{\"sequential\":[[0.0,\"#0d0887\"],[0.1111111111111111,\"#46039f\"],[0.2222222222222222,\"#7201a8\"],[0.3333333333333333,\"#9c179e\"],[0.4444444444444444,\"#bd3786\"],[0.5555555555555556,\"#d8576b\"],[0.6666666666666666,\"#ed7953\"],[0.7777777777777778,\"#fb9f3a\"],[0.8888888888888888,\"#fdca26\"],[1.0,\"#f0f921\"]],\"sequentialminus\":[[0.0,\"#0d0887\"],[0.1111111111111111,\"#46039f\"],[0.2222222222222222,\"#7201a8\"],[0.3333333333333333,\"#9c179e\"],[0.4444444444444444,\"#bd3786\"],[0.5555555555555556,\"#d8576b\"],[0.6666666666666666,\"#ed7953\"],[0.7777777777777778,\"#fb9f3a\"],[0.8888888888888888,\"#fdca26\"],[1.0,\"#f0f921\"]],\"diverging\":[[0,\"#8e0152\"],[0.1,\"#c51b7d\"],[0.2,\"#de77ae\"],[0.3,\"#f1b6da\"],[0.4,\"#fde0ef\"],[0.5,\"#f7f7f7\"],[0.6,\"#e6f5d0\"],[0.7,\"#b8e186\"],[0.8,\"#7fbc41\"],[0.9,\"#4d9221\"],[1,\"#276419\"]]},\"xaxis\":{\"gridcolor\":\"white\",\"linecolor\":\"white\",\"ticks\":\"\",\"title\":{\"standoff\":15},\"zerolinecolor\":\"white\",\"automargin\":true,\"zerolinewidth\":2},\"yaxis\":{\"gridcolor\":\"white\",\"linecolor\":\"white\",\"ticks\":\"\",\"title\":{\"standoff\":15},\"zerolinecolor\":\"white\",\"automargin\":true,\"zerolinewidth\":2},\"scene\":{\"xaxis\":{\"backgroundcolor\":\"#E5ECF6\",\"gridcolor\":\"white\",\"linecolor\":\"white\",\"showbackground\":true,\"ticks\":\"\",\"zerolinecolor\":\"white\",\"gridwidth\":2},\"yaxis\":{\"backgroundcolor\":\"#E5ECF6\",\"gridcolor\":\"white\",\"linecolor\":\"white\",\"showbackground\":true,\"ticks\":\"\",\"zerolinecolor\":\"white\",\"gridwidth\":2},\"zaxis\":{\"backgroundcolor\":\"#E5ECF6\",\"gridcolor\":\"white\",\"linecolor\":\"white\",\"showbackground\":true,\"ticks\":\"\",\"zerolinecolor\":\"white\",\"gridwidth\":2}},\"shapedefaults\":{\"line\":{\"color\":\"#2a3f5f\"}},\"annotationdefaults\":{\"arrowcolor\":\"#2a3f5f\",\"arrowhead\":0,\"arrowwidth\":1},\"geo\":{\"bgcolor\":\"white\",\"landcolor\":\"#E5ECF6\",\"subunitcolor\":\"white\",\"showland\":true,\"showlakes\":true,\"lakecolor\":\"white\"},\"title\":{\"x\":0.05},\"mapbox\":{\"style\":\"light\"}}}},                        {\"responsive\": true}                    ).then(function(){\n",
              "                            \n",
              "var gd = document.getElementById('10c373b3-ae8b-455a-8997-d1beb3cd83f8');\n",
              "var x = new MutationObserver(function (mutations, observer) {{\n",
              "        var display = window.getComputedStyle(gd).display;\n",
              "        if (!display || display === 'none') {{\n",
              "            console.log([gd, 'removed!']);\n",
              "            Plotly.purge(gd);\n",
              "            observer.disconnect();\n",
              "        }}\n",
              "}});\n",
              "\n",
              "// Listen for the removal of the full notebook cells\n",
              "var notebookContainer = gd.closest('#notebook-container');\n",
              "if (notebookContainer) {{\n",
              "    x.observe(notebookContainer, {childList: true});\n",
              "}}\n",
              "\n",
              "// Listen for the clearing of the current output cell\n",
              "var outputEl = gd.closest('.output');\n",
              "if (outputEl) {{\n",
              "    x.observe(outputEl, {childList: true});\n",
              "}}\n",
              "\n",
              "                        })                };                            </script>        </div>\n",
              "</body>\n",
              "</html>"
            ]
          },
          "metadata": {},
          "output_type": "display_data"
        },
        {
          "data": {
            "text/html": [
              "<html>\n",
              "<head><meta charset=\"utf-8\" /></head>\n",
              "<body>\n",
              "    <div>            <script src=\"https://cdnjs.cloudflare.com/ajax/libs/mathjax/2.7.5/MathJax.js?config=TeX-AMS-MML_SVG\"></script><script type=\"text/javascript\">if (window.MathJax && window.MathJax.Hub && window.MathJax.Hub.Config) {window.MathJax.Hub.Config({SVG: {font: \"STIX-Web\"}});}</script>                <script type=\"text/javascript\">window.PlotlyConfig = {MathJaxConfig: 'local'};</script>\n",
              "        <script charset=\"utf-8\" src=\"https://cdn.plot.ly/plotly-2.24.1.min.js\"></script>                <div id=\"7d71bfb6-8d9e-4559-b5ce-74fa66de75df\" class=\"plotly-graph-div\" style=\"height:525px; width:100%;\"></div>            <script type=\"text/javascript\">                                    window.PLOTLYENV=window.PLOTLYENV || {};                                    if (document.getElementById(\"7d71bfb6-8d9e-4559-b5ce-74fa66de75df\")) {                    Plotly.newPlot(                        \"7d71bfb6-8d9e-4559-b5ce-74fa66de75df\",                        [{\"mode\":\"lines\",\"name\":\"Consumption_48h_diif_model_Catboost\",\"x\":[58.380452555608336,58.93448230266076,59.48851204971319,60.04254179676561,60.59657154381804,61.15060129087046,61.70463103792289,62.25866078497531,62.81269053202774,63.36672027908016,63.92075002613259,64.47477977318502,65.02880952023744,65.58283926728987,66.1368690143423,66.69089876139472,67.24492850844715,67.79895825549957,68.352988002552,68.90701774960442,69.46104749665685,70.01507724370927,70.5691069907617,71.12313673781412,71.67716648486655,72.23119623191897,72.7852259789714,73.33925572602382,73.89328547307625,74.44731522012867,75.0013449671811,75.55537471423352,76.10940446128595,76.66343420833837,77.2174639553908,77.77149370244322,78.32552344949565,78.87955319654807,79.4335829436005,79.98761269065292,80.54164243770535,81.09567218475777,81.6497019318102,82.20373167886262,82.75776142591505,83.31179117296747,83.8658209200199,84.41985066707232,84.97388041412475,85.52791016117718,86.0819399082296,86.63596965528203,87.18999940233445,87.74402914938688,88.2980588964393,88.85208864349173,89.40611839054415,89.96014813759658,90.514177884649,91.06820763170143,91.62223737875385,92.17626712580628,92.7302968728587,93.28432661991113,93.83835636696355,94.39238611401598,94.9464158610684,95.50044560812083,96.05447535517325,96.60850510222568,97.1625348492781,97.71656459633053,98.27059434338295,98.82462409043538,99.3786538374878,99.93268358454023,100.48671333159265,101.04074307864508,101.5947728256975,102.14880257274993,102.70283231980235,103.2568620668548,103.81089181390722,104.36492156095964,104.91895130801207,105.4729810550645,106.02701080211692,106.58104054916934,107.13507029622177,107.6891000432742,108.24312979032662,108.79715953737904,109.35118928443147,109.9052190314839,110.45924877853632,111.01327852558875,111.56730827264117,112.1213380196936,112.67536776674602,113.22939751379845],\"y\":[0.03333333333333333,0.2,0.26666666666666666,0.26666666666666666,0.3333333333333333,0.36666666666666664,0.4,0.5333333333333333,0.6,0.6,0.6,0.6,0.6333333333333333,0.7,0.7333333333333333,0.7666666666666667,0.8333333333333334,0.8333333333333334,0.8666666666666667,0.8666666666666667,0.8666666666666667,0.8666666666666667,0.8666666666666667,0.8666666666666667,0.9,0.9,0.9,0.9,0.9,0.9333333333333333,0.9333333333333333,0.9333333333333333,0.9333333333333333,0.9333333333333333,0.9333333333333333,0.9333333333333333,0.9333333333333333,0.9333333333333333,0.9333333333333333,0.9333333333333333,0.9333333333333333,0.9333333333333333,0.9666666666666667,0.9666666666666667,0.9666666666666667,0.9666666666666667,0.9666666666666667,0.9666666666666667,0.9666666666666667,0.9666666666666667,0.9666666666666667,0.9666666666666667,0.9666666666666667,0.9666666666666667,0.9666666666666667,0.9666666666666667,0.9666666666666667,0.9666666666666667,0.9666666666666667,0.9666666666666667,0.9666666666666667,0.9666666666666667,0.9666666666666667,0.9666666666666667,0.9666666666666667,0.9666666666666667,0.9666666666666667,0.9666666666666667,0.9666666666666667,0.9666666666666667,0.9666666666666667,0.9666666666666667,0.9666666666666667,0.9666666666666667,0.9666666666666667,0.9666666666666667,0.9666666666666667,0.9666666666666667,0.9666666666666667,0.9666666666666667,0.9666666666666667,0.9666666666666667,0.9666666666666667,0.9666666666666667,0.9666666666666667,0.9666666666666667,0.9666666666666667,0.9666666666666667,0.9666666666666667,0.9666666666666667,0.9666666666666667,0.9666666666666667,0.9666666666666667,0.9666666666666667,0.9666666666666667,0.9666666666666667,0.9666666666666667,0.9666666666666667,0.9666666666666667,1.0],\"type\":\"scatter\"}],                        {\"title\":{\"text\":\"Empirical Distribution Function Plot\"},\"xaxis\":{\"title\":{\"text\":\"MAE\"}},\"yaxis\":{\"title\":{\"text\":\"Cumulative Probability\"},\"range\":[0,1]},\"template\":{\"data\":{\"histogram2dcontour\":[{\"type\":\"histogram2dcontour\",\"colorbar\":{\"outlinewidth\":0,\"ticks\":\"\"},\"colorscale\":[[0.0,\"#0d0887\"],[0.1111111111111111,\"#46039f\"],[0.2222222222222222,\"#7201a8\"],[0.3333333333333333,\"#9c179e\"],[0.4444444444444444,\"#bd3786\"],[0.5555555555555556,\"#d8576b\"],[0.6666666666666666,\"#ed7953\"],[0.7777777777777778,\"#fb9f3a\"],[0.8888888888888888,\"#fdca26\"],[1.0,\"#f0f921\"]]}],\"choropleth\":[{\"type\":\"choropleth\",\"colorbar\":{\"outlinewidth\":0,\"ticks\":\"\"}}],\"histogram2d\":[{\"type\":\"histogram2d\",\"colorbar\":{\"outlinewidth\":0,\"ticks\":\"\"},\"colorscale\":[[0.0,\"#0d0887\"],[0.1111111111111111,\"#46039f\"],[0.2222222222222222,\"#7201a8\"],[0.3333333333333333,\"#9c179e\"],[0.4444444444444444,\"#bd3786\"],[0.5555555555555556,\"#d8576b\"],[0.6666666666666666,\"#ed7953\"],[0.7777777777777778,\"#fb9f3a\"],[0.8888888888888888,\"#fdca26\"],[1.0,\"#f0f921\"]]}],\"heatmap\":[{\"type\":\"heatmap\",\"colorbar\":{\"outlinewidth\":0,\"ticks\":\"\"},\"colorscale\":[[0.0,\"#0d0887\"],[0.1111111111111111,\"#46039f\"],[0.2222222222222222,\"#7201a8\"],[0.3333333333333333,\"#9c179e\"],[0.4444444444444444,\"#bd3786\"],[0.5555555555555556,\"#d8576b\"],[0.6666666666666666,\"#ed7953\"],[0.7777777777777778,\"#fb9f3a\"],[0.8888888888888888,\"#fdca26\"],[1.0,\"#f0f921\"]]}],\"heatmapgl\":[{\"type\":\"heatmapgl\",\"colorbar\":{\"outlinewidth\":0,\"ticks\":\"\"},\"colorscale\":[[0.0,\"#0d0887\"],[0.1111111111111111,\"#46039f\"],[0.2222222222222222,\"#7201a8\"],[0.3333333333333333,\"#9c179e\"],[0.4444444444444444,\"#bd3786\"],[0.5555555555555556,\"#d8576b\"],[0.6666666666666666,\"#ed7953\"],[0.7777777777777778,\"#fb9f3a\"],[0.8888888888888888,\"#fdca26\"],[1.0,\"#f0f921\"]]}],\"contourcarpet\":[{\"type\":\"contourcarpet\",\"colorbar\":{\"outlinewidth\":0,\"ticks\":\"\"}}],\"contour\":[{\"type\":\"contour\",\"colorbar\":{\"outlinewidth\":0,\"ticks\":\"\"},\"colorscale\":[[0.0,\"#0d0887\"],[0.1111111111111111,\"#46039f\"],[0.2222222222222222,\"#7201a8\"],[0.3333333333333333,\"#9c179e\"],[0.4444444444444444,\"#bd3786\"],[0.5555555555555556,\"#d8576b\"],[0.6666666666666666,\"#ed7953\"],[0.7777777777777778,\"#fb9f3a\"],[0.8888888888888888,\"#fdca26\"],[1.0,\"#f0f921\"]]}],\"surface\":[{\"type\":\"surface\",\"colorbar\":{\"outlinewidth\":0,\"ticks\":\"\"},\"colorscale\":[[0.0,\"#0d0887\"],[0.1111111111111111,\"#46039f\"],[0.2222222222222222,\"#7201a8\"],[0.3333333333333333,\"#9c179e\"],[0.4444444444444444,\"#bd3786\"],[0.5555555555555556,\"#d8576b\"],[0.6666666666666666,\"#ed7953\"],[0.7777777777777778,\"#fb9f3a\"],[0.8888888888888888,\"#fdca26\"],[1.0,\"#f0f921\"]]}],\"mesh3d\":[{\"type\":\"mesh3d\",\"colorbar\":{\"outlinewidth\":0,\"ticks\":\"\"}}],\"scatter\":[{\"fillpattern\":{\"fillmode\":\"overlay\",\"size\":10,\"solidity\":0.2},\"type\":\"scatter\"}],\"parcoords\":[{\"type\":\"parcoords\",\"line\":{\"colorbar\":{\"outlinewidth\":0,\"ticks\":\"\"}}}],\"scatterpolargl\":[{\"type\":\"scatterpolargl\",\"marker\":{\"colorbar\":{\"outlinewidth\":0,\"ticks\":\"\"}}}],\"bar\":[{\"error_x\":{\"color\":\"#2a3f5f\"},\"error_y\":{\"color\":\"#2a3f5f\"},\"marker\":{\"line\":{\"color\":\"#E5ECF6\",\"width\":0.5},\"pattern\":{\"fillmode\":\"overlay\",\"size\":10,\"solidity\":0.2}},\"type\":\"bar\"}],\"scattergeo\":[{\"type\":\"scattergeo\",\"marker\":{\"colorbar\":{\"outlinewidth\":0,\"ticks\":\"\"}}}],\"scatterpolar\":[{\"type\":\"scatterpolar\",\"marker\":{\"colorbar\":{\"outlinewidth\":0,\"ticks\":\"\"}}}],\"histogram\":[{\"marker\":{\"pattern\":{\"fillmode\":\"overlay\",\"size\":10,\"solidity\":0.2}},\"type\":\"histogram\"}],\"scattergl\":[{\"type\":\"scattergl\",\"marker\":{\"colorbar\":{\"outlinewidth\":0,\"ticks\":\"\"}}}],\"scatter3d\":[{\"type\":\"scatter3d\",\"line\":{\"colorbar\":{\"outlinewidth\":0,\"ticks\":\"\"}},\"marker\":{\"colorbar\":{\"outlinewidth\":0,\"ticks\":\"\"}}}],\"scattermapbox\":[{\"type\":\"scattermapbox\",\"marker\":{\"colorbar\":{\"outlinewidth\":0,\"ticks\":\"\"}}}],\"scatterternary\":[{\"type\":\"scatterternary\",\"marker\":{\"colorbar\":{\"outlinewidth\":0,\"ticks\":\"\"}}}],\"scattercarpet\":[{\"type\":\"scattercarpet\",\"marker\":{\"colorbar\":{\"outlinewidth\":0,\"ticks\":\"\"}}}],\"carpet\":[{\"aaxis\":{\"endlinecolor\":\"#2a3f5f\",\"gridcolor\":\"white\",\"linecolor\":\"white\",\"minorgridcolor\":\"white\",\"startlinecolor\":\"#2a3f5f\"},\"baxis\":{\"endlinecolor\":\"#2a3f5f\",\"gridcolor\":\"white\",\"linecolor\":\"white\",\"minorgridcolor\":\"white\",\"startlinecolor\":\"#2a3f5f\"},\"type\":\"carpet\"}],\"table\":[{\"cells\":{\"fill\":{\"color\":\"#EBF0F8\"},\"line\":{\"color\":\"white\"}},\"header\":{\"fill\":{\"color\":\"#C8D4E3\"},\"line\":{\"color\":\"white\"}},\"type\":\"table\"}],\"barpolar\":[{\"marker\":{\"line\":{\"color\":\"#E5ECF6\",\"width\":0.5},\"pattern\":{\"fillmode\":\"overlay\",\"size\":10,\"solidity\":0.2}},\"type\":\"barpolar\"}],\"pie\":[{\"automargin\":true,\"type\":\"pie\"}]},\"layout\":{\"autotypenumbers\":\"strict\",\"colorway\":[\"#636efa\",\"#EF553B\",\"#00cc96\",\"#ab63fa\",\"#FFA15A\",\"#19d3f3\",\"#FF6692\",\"#B6E880\",\"#FF97FF\",\"#FECB52\"],\"font\":{\"color\":\"#2a3f5f\"},\"hovermode\":\"closest\",\"hoverlabel\":{\"align\":\"left\"},\"paper_bgcolor\":\"white\",\"plot_bgcolor\":\"#E5ECF6\",\"polar\":{\"bgcolor\":\"#E5ECF6\",\"angularaxis\":{\"gridcolor\":\"white\",\"linecolor\":\"white\",\"ticks\":\"\"},\"radialaxis\":{\"gridcolor\":\"white\",\"linecolor\":\"white\",\"ticks\":\"\"}},\"ternary\":{\"bgcolor\":\"#E5ECF6\",\"aaxis\":{\"gridcolor\":\"white\",\"linecolor\":\"white\",\"ticks\":\"\"},\"baxis\":{\"gridcolor\":\"white\",\"linecolor\":\"white\",\"ticks\":\"\"},\"caxis\":{\"gridcolor\":\"white\",\"linecolor\":\"white\",\"ticks\":\"\"}},\"coloraxis\":{\"colorbar\":{\"outlinewidth\":0,\"ticks\":\"\"}},\"colorscale\":{\"sequential\":[[0.0,\"#0d0887\"],[0.1111111111111111,\"#46039f\"],[0.2222222222222222,\"#7201a8\"],[0.3333333333333333,\"#9c179e\"],[0.4444444444444444,\"#bd3786\"],[0.5555555555555556,\"#d8576b\"],[0.6666666666666666,\"#ed7953\"],[0.7777777777777778,\"#fb9f3a\"],[0.8888888888888888,\"#fdca26\"],[1.0,\"#f0f921\"]],\"sequentialminus\":[[0.0,\"#0d0887\"],[0.1111111111111111,\"#46039f\"],[0.2222222222222222,\"#7201a8\"],[0.3333333333333333,\"#9c179e\"],[0.4444444444444444,\"#bd3786\"],[0.5555555555555556,\"#d8576b\"],[0.6666666666666666,\"#ed7953\"],[0.7777777777777778,\"#fb9f3a\"],[0.8888888888888888,\"#fdca26\"],[1.0,\"#f0f921\"]],\"diverging\":[[0,\"#8e0152\"],[0.1,\"#c51b7d\"],[0.2,\"#de77ae\"],[0.3,\"#f1b6da\"],[0.4,\"#fde0ef\"],[0.5,\"#f7f7f7\"],[0.6,\"#e6f5d0\"],[0.7,\"#b8e186\"],[0.8,\"#7fbc41\"],[0.9,\"#4d9221\"],[1,\"#276419\"]]},\"xaxis\":{\"gridcolor\":\"white\",\"linecolor\":\"white\",\"ticks\":\"\",\"title\":{\"standoff\":15},\"zerolinecolor\":\"white\",\"automargin\":true,\"zerolinewidth\":2},\"yaxis\":{\"gridcolor\":\"white\",\"linecolor\":\"white\",\"ticks\":\"\",\"title\":{\"standoff\":15},\"zerolinecolor\":\"white\",\"automargin\":true,\"zerolinewidth\":2},\"scene\":{\"xaxis\":{\"backgroundcolor\":\"#E5ECF6\",\"gridcolor\":\"white\",\"linecolor\":\"white\",\"showbackground\":true,\"ticks\":\"\",\"zerolinecolor\":\"white\",\"gridwidth\":2},\"yaxis\":{\"backgroundcolor\":\"#E5ECF6\",\"gridcolor\":\"white\",\"linecolor\":\"white\",\"showbackground\":true,\"ticks\":\"\",\"zerolinecolor\":\"white\",\"gridwidth\":2},\"zaxis\":{\"backgroundcolor\":\"#E5ECF6\",\"gridcolor\":\"white\",\"linecolor\":\"white\",\"showbackground\":true,\"ticks\":\"\",\"zerolinecolor\":\"white\",\"gridwidth\":2}},\"shapedefaults\":{\"line\":{\"color\":\"#2a3f5f\"}},\"annotationdefaults\":{\"arrowcolor\":\"#2a3f5f\",\"arrowhead\":0,\"arrowwidth\":1},\"geo\":{\"bgcolor\":\"white\",\"landcolor\":\"#E5ECF6\",\"subunitcolor\":\"white\",\"showland\":true,\"showlakes\":true,\"lakecolor\":\"white\"},\"title\":{\"x\":0.05},\"mapbox\":{\"style\":\"light\"}}}},                        {\"responsive\": true}                    ).then(function(){\n",
              "                            \n",
              "var gd = document.getElementById('7d71bfb6-8d9e-4559-b5ce-74fa66de75df');\n",
              "var x = new MutationObserver(function (mutations, observer) {{\n",
              "        var display = window.getComputedStyle(gd).display;\n",
              "        if (!display || display === 'none') {{\n",
              "            console.log([gd, 'removed!']);\n",
              "            Plotly.purge(gd);\n",
              "            observer.disconnect();\n",
              "        }}\n",
              "}});\n",
              "\n",
              "// Listen for the removal of the full notebook cells\n",
              "var notebookContainer = gd.closest('#notebook-container');\n",
              "if (notebookContainer) {{\n",
              "    x.observe(notebookContainer, {childList: true});\n",
              "}}\n",
              "\n",
              "// Listen for the clearing of the current output cell\n",
              "var outputEl = gd.closest('.output');\n",
              "if (outputEl) {{\n",
              "    x.observe(outputEl, {childList: true});\n",
              "}}\n",
              "\n",
              "                        })                };                            </script>        </div>\n",
              "</body>\n",
              "</html>"
            ]
          },
          "metadata": {},
          "output_type": "display_data"
        },
        {
          "name": "stdout",
          "output_type": "stream",
          "text": [
            "\tBest value (MAE): 58.38045\n",
            "\tBest params Production_48h_diif_model_Catboost:\n",
            "\t\titerations: 9000\n",
            "\t\tlearning_rate: 0.016862985221162422\n",
            "\t\tdepth: 10\n",
            "\t\trandom_strength: 29.84529179985335\n",
            "\t\tsubsample: 0.5799090266204205\n",
            "\t\tmin_data_in_leaf: 790\n",
            "\t\treg_lambda: 2.9400782862345847\n"
          ]
        }
      ],
      "source": [
        "Hyperparameter_study_visualization(study = study_consumption_48h_diif,target_name=\"MAE\",study_name=\"Production_48h_diif_model_Catboost\")"
      ]
    }
  ],
  "metadata": {
    "accelerator": "GPU",
    "colab": {
      "authorship_tag": "ABX9TyON68Nv8Mh6/VVQHQxO7Rpb",
      "collapsed_sections": [
        "4U5b2Nxgiw6C",
        "R3Db2Yomi6eo"
      ],
      "include_colab_link": true,
      "machine_shape": "hm",
      "provenance": []
    },
    "kernelspec": {
      "display_name": "Python 3",
      "name": "python3"
    },
    "language_info": {
      "name": "python",
      "version": "3.8.18"
    }
  },
  "nbformat": 4,
  "nbformat_minor": 0
}
