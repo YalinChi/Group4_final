{
 "cells": [
  {
   "cell_type": "code",
   "execution_count": 1,
   "id": "5efbaf53",
   "metadata": {
    "_cell_guid": "b1076dfc-b9ad-4769-8c92-a6c4dae69d19",
    "_uuid": "8f2839f25d086af736a60e9eeb907d3b93b6e0e5",
    "execution": {
     "iopub.execute_input": "2024-01-17T00:51:40.902073Z",
     "iopub.status.busy": "2024-01-17T00:51:40.901333Z",
     "iopub.status.idle": "2024-01-17T00:51:43.472907Z",
     "shell.execute_reply": "2024-01-17T00:51:43.471665Z"
    },
    "papermill": {
     "duration": 2.593018,
     "end_time": "2024-01-17T00:51:43.476135",
     "exception": false,
     "start_time": "2024-01-17T00:51:40.883117",
     "status": "completed"
    },
    "tags": []
   },
   "outputs": [],
   "source": [
    "import pandas as pd\n",
    "import numpy as np\n",
    "import matplotlib.pyplot as plt\n",
    "import seaborn as sns\n",
    "import plotly.graph_objs as go\n",
    "from plotly import tools"
   ]
  },
  {
   "cell_type": "code",
   "execution_count": 16,
   "id": "06a32a44",
   "metadata": {
    "execution": {
     "iopub.execute_input": "2024-01-17T00:51:43.543250Z",
     "iopub.status.busy": "2024-01-17T00:51:43.542650Z",
     "iopub.status.idle": "2024-01-17T00:52:24.208798Z",
     "shell.execute_reply": "2024-01-17T00:52:24.207442Z"
    },
    "papermill": {
     "duration": 40.686913,
     "end_time": "2024-01-17T00:52:24.212270",
     "exception": false,
     "start_time": "2024-01-17T00:51:43.525357",
     "status": "completed"
    },
    "tags": []
   },
   "outputs": [],
   "source": [
    "train_data = pd.read_csv('../Data/train.csv')"
   ]
  },
  {
   "cell_type": "code",
   "execution_count": 17,
   "id": "27f58b18",
   "metadata": {
    "execution": {
     "iopub.execute_input": "2024-01-17T00:52:24.246570Z",
     "iopub.status.busy": "2024-01-17T00:52:24.246112Z",
     "iopub.status.idle": "2024-01-17T00:52:24.368292Z",
     "shell.execute_reply": "2024-01-17T00:52:24.367107Z"
    },
    "papermill": {
     "duration": 0.143276,
     "end_time": "2024-01-17T00:52:24.371569",
     "exception": false,
     "start_time": "2024-01-17T00:52:24.228293",
     "status": "completed"
    },
    "tags": []
   },
   "outputs": [],
   "source": [
    "# Function to build Sankey Diagram\n",
    "\n",
    "def genSankey(df,cat_cols=[],value_cols='',title='Sankey Diagram'):\n",
    "    # maximum of 6 value cols -> 6 colors\n",
    "    colorPalette = ['#4B8BBE','#306998','#FFE873','#FFD43B','#646464']\n",
    "    labelList = []\n",
    "    colorNumList = []\n",
    "    for catCol in cat_cols:\n",
    "        labelListTemp =  list(set(df[catCol].values))\n",
    "        colorNumList.append(len(labelListTemp))\n",
    "        labelList = labelList + labelListTemp\n",
    "        \n",
    "    # remove duplicates from labelList\n",
    "    labelList = list(dict.fromkeys(labelList))\n",
    "    \n",
    "    # define colors based on number of levels\n",
    "    colorList = []\n",
    "    for idx, colorNum in enumerate(colorNumList):\n",
    "        colorList = colorList + [colorPalette[idx]]*colorNum\n",
    "        \n",
    "    # transform df into a source-target pair\n",
    "    for i in range(len(cat_cols)-1):\n",
    "        if i==0:\n",
    "            sourceTargetDf = df[[cat_cols[i],cat_cols[i+1],value_cols]]\n",
    "            sourceTargetDf.columns = ['source','target','count']\n",
    "        else:\n",
    "            tempDf = df[[cat_cols[i],cat_cols[i+1],value_cols]]\n",
    "            tempDf.columns = ['source','target','count']\n",
    "            sourceTargetDf = pd.concat([sourceTargetDf,tempDf])\n",
    "        sourceTargetDf = sourceTargetDf.groupby(['source','target']).agg({'count':'sum'}).reset_index()\n",
    "        \n",
    "    # add index for source-target pair\n",
    "    sourceTargetDf['sourceID'] = sourceTargetDf['source'].apply(lambda x: labelList.index(x))\n",
    "    sourceTargetDf['targetID'] = sourceTargetDf['target'].apply(lambda x: labelList.index(x))\n",
    "    \n",
    "    # creating the sankey diagram\n",
    "    data = dict(\n",
    "        type='sankey',\n",
    "        node = dict(\n",
    "          pad = 15,\n",
    "          thickness = 20,\n",
    "          line = dict(\n",
    "            color = \"black\",\n",
    "            width = 0.5\n",
    "          ),\n",
    "          label = labelList,\n",
    "          color = colorList\n",
    "        ),\n",
    "        link = dict(\n",
    "          source = sourceTargetDf['sourceID'],\n",
    "          target = sourceTargetDf['targetID'],\n",
    "          value = sourceTargetDf['count']\n",
    "        )\n",
    "      )\n",
    "    \n",
    "    layout =  dict(\n",
    "        title = title,\n",
    "        font = dict(\n",
    "          size = 10\n",
    "        )\n",
    "    )\n",
    "       \n",
    "    fig = dict(data=[data], layout=layout)\n",
    "    \n",
    "    return fig"
   ]
  },
  {
   "cell_type": "code",
   "execution_count": 7,
   "id": "6f2805f2",
   "metadata": {
    "execution": {
     "iopub.execute_input": "2024-01-17T00:52:24.405958Z",
     "iopub.status.busy": "2024-01-17T00:52:24.404573Z",
     "iopub.status.idle": "2024-01-17T00:52:24.419111Z",
     "shell.execute_reply": "2024-01-17T00:52:24.418014Z"
    },
    "papermill": {
     "duration": 0.034841,
     "end_time": "2024-01-17T00:52:24.422188",
     "exception": false,
     "start_time": "2024-01-17T00:52:24.387347",
     "status": "completed"
    },
    "tags": []
   },
   "outputs": [],
   "source": [
    "# Functions to Build Time Series Plots\n",
    "\n",
    "def month_plots(county,is_business,product_type,is_consumption):\n",
    "    \n",
    "    m1 = train_data['county'] == county\n",
    "    m2 = train_data['is_business'] == is_business\n",
    "    m3 = train_data['product_type'] == product_type\n",
    "    m4 = train_data['is_consumption'] == is_consumption\n",
    "\n",
    "    tmp = train_data.loc[m1 & m2 & m3 & m4]\n",
    "    tmp = tmp.reset_index(drop=True)\n",
    "    tmp = tmp[['datetime','target']]\n",
    "    tmp['datetime'] = pd.to_datetime(tmp[\"datetime\"])\n",
    "    tmp = tmp.groupby(pd.Grouper(key=\"datetime\", freq=\"1M\")).mean()\n",
    "    tmp = tmp.reset_index()\n",
    "\n",
    "    plt.plot(tmp['datetime'],tmp['target'])\n",
    "    plt.xticks(rotation=45)\n",
    "\n",
    "    plt.title('Target Value By Month')\n",
    "    plt.xlabel('Month')\n",
    "    plt.ylabel('Target')\n",
    "    \n",
    "    plt.show()\n",
    "    \n",
    "    \n",
    "def hourly_plots(county,is_business,product_type,is_consumption,year,month,day):\n",
    "    \n",
    "    train_data['datetime'] = pd.to_datetime(train_data['datetime'])\n",
    "    \n",
    "    m1 = train_data['county'] == county\n",
    "    m2 = train_data['is_business'] == is_business\n",
    "    m3 = train_data['product_type'] == product_type\n",
    "    m4 = train_data['is_consumption'] == is_consumption\n",
    "    m5 = train_data['datetime'].dt.year == year\n",
    "    m6 = train_data['datetime'].dt.month == month\n",
    "    m7 = train_data['datetime'].dt.day == day\n",
    "    \n",
    "    tmp = train_data.loc[m1 & m2 & m3 & m4 & m5 & m6 & m7]\n",
    "    tmp = tmp.reset_index(drop=True)\n",
    "    tmp = tmp[['datetime','target']]\n",
    "    \n",
    "    plt.plot(tmp['datetime'],tmp['target'])\n",
    "    plt.xticks(rotation=45)\n",
    "\n",
    "    plt.title('Target Value By Hour')\n",
    "    plt.xlabel('Hour')\n",
    "    plt.ylabel('Target')\n",
    "    \n",
    "    plt.show()\n"
   ]
  },
  {
   "cell_type": "markdown",
   "id": "73a2b618",
   "metadata": {
    "papermill": {
     "duration": 0.01623,
     "end_time": "2024-01-17T00:52:24.454548",
     "exception": false,
     "start_time": "2024-01-17T00:52:24.438318",
     "status": "completed"
    },
    "tags": []
   },
   "source": [
    "# Sankey Diagrams"
   ]
  },
  {
   "cell_type": "code",
   "execution_count": 18,
   "id": "24ab8118",
   "metadata": {
    "execution": {
     "iopub.execute_input": "2024-01-17T00:52:24.490947Z",
     "iopub.status.busy": "2024-01-17T00:52:24.490158Z",
     "iopub.status.idle": "2024-01-17T00:52:28.783676Z",
     "shell.execute_reply": "2024-01-17T00:52:28.782305Z"
    },
    "papermill": {
     "duration": 4.315075,
     "end_time": "2024-01-17T00:52:28.786942",
     "exception": false,
     "start_time": "2024-01-17T00:52:24.471867",
     "status": "completed"
    },
    "tags": []
   },
   "outputs": [],
   "source": [
    "# Building Temporary DF for Sankey\n",
    "sankey_df = train_data.copy()\n",
    "sankey_df['datetime'] = pd.to_datetime(sankey_df['datetime'])\n",
    "\n",
    "is_business = list(sankey_df['is_business'])\n",
    "is_consumption = list(sankey_df['is_consumption'])\n",
    "product_type = list(sankey_df['product_type'])\n",
    "\n",
    "is_business2, is_consumption2, product_type2 = [],[],[]\n",
    "for i in range(len(is_business)):\n",
    "    if is_business[i] == 1:\n",
    "        is_business2.append(\"Business\")\n",
    "    else:\n",
    "        is_business2.append(\"Not Business\")\n",
    "        \n",
    "for j in range(len(is_consumption)):\n",
    "    if is_consumption[j] == 1:\n",
    "        is_consumption2.append(\"Consumption\")\n",
    "    else:\n",
    "        is_consumption2.append(\"Production\")\n",
    "        \n",
    "for k in range(len(product_type)):\n",
    "    if product_type[k] == 0:\n",
    "        product_type2.append(\"Combined\")\n",
    "    elif product_type[k] == 1:\n",
    "        product_type2.append(\"Fixed\")\n",
    "    elif product_type[k] == 2:\n",
    "        product_type2.append(\"General Service\")\n",
    "    elif product_type[k] == 3:\n",
    "        product_type2.append(\"Spot\")\n",
    "        \n",
    "sankey_df['is_business'] = is_business2\n",
    "sankey_df['is_consumption'] = is_consumption2\n",
    "sankey_df['product_type'] = product_type2\n",
    "sankey_df['Year'] = sankey_df['datetime'].dt.year\n",
    "sankey_df['Month'] = sankey_df['datetime'].dt.month\n",
    "        "
   ]
  },
  {
   "cell_type": "markdown",
   "id": "764f3f61",
   "metadata": {
    "papermill": {
     "duration": 0.014997,
     "end_time": "2024-01-17T00:52:28.817662",
     "exception": false,
     "start_time": "2024-01-17T00:52:28.802665",
     "status": "completed"
    },
    "tags": []
   },
   "source": [
    "#### Business, Consumption, Product Type, and County Flow"
   ]
  },
  {
   "cell_type": "code",
   "execution_count": 19,
   "id": "369c4f53",
   "metadata": {
    "execution": {
     "iopub.execute_input": "2024-01-17T00:52:28.850722Z",
     "iopub.status.busy": "2024-01-17T00:52:28.850303Z",
     "iopub.status.idle": "2024-01-17T00:52:32.293632Z",
     "shell.execute_reply": "2024-01-17T00:52:32.292332Z"
    },
    "papermill": {
     "duration": 3.463288,
     "end_time": "2024-01-17T00:52:32.296550",
     "exception": false,
     "start_time": "2024-01-17T00:52:28.833262",
     "status": "completed"
    },
    "tags": []
   },
   "outputs": [
    {
     "data": {
      "application/vnd.plotly.v1+json": {
       "config": {
        "plotlyServerURL": "https://plot.ly"
       },
       "data": [
        {
         "link": {
          "source": [
           0,
           0,
           7,
           7,
           7,
           7,
           7,
           7,
           2,
           2,
           2,
           2,
           4,
           4,
           4,
           4,
           4,
           4,
           4,
           4,
           4,
           4,
           4,
           4,
           4,
           4,
           5,
           5,
           5,
           5,
           5,
           1,
           1,
           3,
           3,
           3,
           3,
           6,
           6,
           6,
           6,
           6,
           6,
           6,
           6,
           6,
           6,
           6,
           6,
           6,
           6,
           6,
           6
          ],
          "target": [
           2,
           3,
           8,
           12,
           13,
           15,
           19,
           23,
           7,
           4,
           5,
           6,
           8,
           9,
           10,
           11,
           12,
           13,
           15,
           16,
           17,
           18,
           19,
           21,
           22,
           23,
           8,
           15,
           18,
           19,
           22,
           2,
           3,
           7,
           4,
           5,
           6,
           8,
           9,
           10,
           11,
           12,
           13,
           14,
           15,
           16,
           17,
           18,
           19,
           20,
           21,
           22,
           23
          ],
          "value": [
           403306321.861,
           43552376.085,
           9317129.98,
           7081887.402,
           9172000.016,
           6247630.029,
           4085503.424,
           4678663.575,
           37403896.204,
           53274547.49,
           2482004.008,
           371653459.517,
           25052122.449,
           332460.863,
           1358830.023,
           2172850.648,
           2089115.618,
           3916671.683,
           9320742.307,
           520713.628,
           2707162.692,
           2703778.342,
           11908169.473,
           1151862.484,
           3339520.765,
           2764931.311,
           1626648.666,
           85580.128,
           576439.632,
           500715.185,
           100333.453,
           61507585.358,
           46243862.397,
           3178918.222,
           16064384.796,
           407713.056,
           70145222.408,
           164385945.412,
           3170062.862,
           13600376.363,
           17721447.67,
           12568206.729,
           21935775.312,
           2823396.457,
           19839517.105,
           7594921.02,
           8332869.341,
           22954443.604,
           86790609.661,
           8476354.351,
           10877992.155,
           30233020.031,
           10493743.852
          ]
         },
         "node": {
          "color": [
           "#4B8BBE",
           "#4B8BBE",
           "#306998",
           "#306998",
           "#FFE873",
           "#FFE873",
           "#FFE873",
           "#FFE873",
           "#FFD43B",
           "#FFD43B",
           "#FFD43B",
           "#FFD43B",
           "#FFD43B",
           "#FFD43B",
           "#FFD43B",
           "#FFD43B",
           "#FFD43B",
           "#FFD43B",
           "#FFD43B",
           "#FFD43B",
           "#FFD43B",
           "#FFD43B",
           "#FFD43B",
           "#FFD43B"
          ],
          "label": [
           "Business",
           "Not Business",
           "Consumption",
           "Production",
           "Fixed",
           "General Service",
           "Spot",
           "Combined",
           0,
           1,
           2,
           3,
           4,
           5,
           6,
           7,
           8,
           9,
           10,
           11,
           12,
           13,
           14,
           15
          ],
          "line": {
           "color": "black",
           "width": 0.5
          },
          "pad": 15,
          "thickness": 20
         },
         "type": "sankey"
        }
       ],
       "layout": {
        "font": {
         "size": 10
        },
        "template": {
         "data": {
          "bar": [
           {
            "error_x": {
             "color": "#2a3f5f"
            },
            "error_y": {
             "color": "#2a3f5f"
            },
            "marker": {
             "line": {
              "color": "#E5ECF6",
              "width": 0.5
             },
             "pattern": {
              "fillmode": "overlay",
              "size": 10,
              "solidity": 0.2
             }
            },
            "type": "bar"
           }
          ],
          "barpolar": [
           {
            "marker": {
             "line": {
              "color": "#E5ECF6",
              "width": 0.5
             },
             "pattern": {
              "fillmode": "overlay",
              "size": 10,
              "solidity": 0.2
             }
            },
            "type": "barpolar"
           }
          ],
          "carpet": [
           {
            "aaxis": {
             "endlinecolor": "#2a3f5f",
             "gridcolor": "white",
             "linecolor": "white",
             "minorgridcolor": "white",
             "startlinecolor": "#2a3f5f"
            },
            "baxis": {
             "endlinecolor": "#2a3f5f",
             "gridcolor": "white",
             "linecolor": "white",
             "minorgridcolor": "white",
             "startlinecolor": "#2a3f5f"
            },
            "type": "carpet"
           }
          ],
          "choropleth": [
           {
            "colorbar": {
             "outlinewidth": 0,
             "ticks": ""
            },
            "type": "choropleth"
           }
          ],
          "contour": [
           {
            "colorbar": {
             "outlinewidth": 0,
             "ticks": ""
            },
            "colorscale": [
             [
              0,
              "#0d0887"
             ],
             [
              0.1111111111111111,
              "#46039f"
             ],
             [
              0.2222222222222222,
              "#7201a8"
             ],
             [
              0.3333333333333333,
              "#9c179e"
             ],
             [
              0.4444444444444444,
              "#bd3786"
             ],
             [
              0.5555555555555556,
              "#d8576b"
             ],
             [
              0.6666666666666666,
              "#ed7953"
             ],
             [
              0.7777777777777778,
              "#fb9f3a"
             ],
             [
              0.8888888888888888,
              "#fdca26"
             ],
             [
              1,
              "#f0f921"
             ]
            ],
            "type": "contour"
           }
          ],
          "contourcarpet": [
           {
            "colorbar": {
             "outlinewidth": 0,
             "ticks": ""
            },
            "type": "contourcarpet"
           }
          ],
          "heatmap": [
           {
            "colorbar": {
             "outlinewidth": 0,
             "ticks": ""
            },
            "colorscale": [
             [
              0,
              "#0d0887"
             ],
             [
              0.1111111111111111,
              "#46039f"
             ],
             [
              0.2222222222222222,
              "#7201a8"
             ],
             [
              0.3333333333333333,
              "#9c179e"
             ],
             [
              0.4444444444444444,
              "#bd3786"
             ],
             [
              0.5555555555555556,
              "#d8576b"
             ],
             [
              0.6666666666666666,
              "#ed7953"
             ],
             [
              0.7777777777777778,
              "#fb9f3a"
             ],
             [
              0.8888888888888888,
              "#fdca26"
             ],
             [
              1,
              "#f0f921"
             ]
            ],
            "type": "heatmap"
           }
          ],
          "heatmapgl": [
           {
            "colorbar": {
             "outlinewidth": 0,
             "ticks": ""
            },
            "colorscale": [
             [
              0,
              "#0d0887"
             ],
             [
              0.1111111111111111,
              "#46039f"
             ],
             [
              0.2222222222222222,
              "#7201a8"
             ],
             [
              0.3333333333333333,
              "#9c179e"
             ],
             [
              0.4444444444444444,
              "#bd3786"
             ],
             [
              0.5555555555555556,
              "#d8576b"
             ],
             [
              0.6666666666666666,
              "#ed7953"
             ],
             [
              0.7777777777777778,
              "#fb9f3a"
             ],
             [
              0.8888888888888888,
              "#fdca26"
             ],
             [
              1,
              "#f0f921"
             ]
            ],
            "type": "heatmapgl"
           }
          ],
          "histogram": [
           {
            "marker": {
             "pattern": {
              "fillmode": "overlay",
              "size": 10,
              "solidity": 0.2
             }
            },
            "type": "histogram"
           }
          ],
          "histogram2d": [
           {
            "colorbar": {
             "outlinewidth": 0,
             "ticks": ""
            },
            "colorscale": [
             [
              0,
              "#0d0887"
             ],
             [
              0.1111111111111111,
              "#46039f"
             ],
             [
              0.2222222222222222,
              "#7201a8"
             ],
             [
              0.3333333333333333,
              "#9c179e"
             ],
             [
              0.4444444444444444,
              "#bd3786"
             ],
             [
              0.5555555555555556,
              "#d8576b"
             ],
             [
              0.6666666666666666,
              "#ed7953"
             ],
             [
              0.7777777777777778,
              "#fb9f3a"
             ],
             [
              0.8888888888888888,
              "#fdca26"
             ],
             [
              1,
              "#f0f921"
             ]
            ],
            "type": "histogram2d"
           }
          ],
          "histogram2dcontour": [
           {
            "colorbar": {
             "outlinewidth": 0,
             "ticks": ""
            },
            "colorscale": [
             [
              0,
              "#0d0887"
             ],
             [
              0.1111111111111111,
              "#46039f"
             ],
             [
              0.2222222222222222,
              "#7201a8"
             ],
             [
              0.3333333333333333,
              "#9c179e"
             ],
             [
              0.4444444444444444,
              "#bd3786"
             ],
             [
              0.5555555555555556,
              "#d8576b"
             ],
             [
              0.6666666666666666,
              "#ed7953"
             ],
             [
              0.7777777777777778,
              "#fb9f3a"
             ],
             [
              0.8888888888888888,
              "#fdca26"
             ],
             [
              1,
              "#f0f921"
             ]
            ],
            "type": "histogram2dcontour"
           }
          ],
          "mesh3d": [
           {
            "colorbar": {
             "outlinewidth": 0,
             "ticks": ""
            },
            "type": "mesh3d"
           }
          ],
          "parcoords": [
           {
            "line": {
             "colorbar": {
              "outlinewidth": 0,
              "ticks": ""
             }
            },
            "type": "parcoords"
           }
          ],
          "pie": [
           {
            "automargin": true,
            "type": "pie"
           }
          ],
          "scatter": [
           {
            "fillpattern": {
             "fillmode": "overlay",
             "size": 10,
             "solidity": 0.2
            },
            "type": "scatter"
           }
          ],
          "scatter3d": [
           {
            "line": {
             "colorbar": {
              "outlinewidth": 0,
              "ticks": ""
             }
            },
            "marker": {
             "colorbar": {
              "outlinewidth": 0,
              "ticks": ""
             }
            },
            "type": "scatter3d"
           }
          ],
          "scattercarpet": [
           {
            "marker": {
             "colorbar": {
              "outlinewidth": 0,
              "ticks": ""
             }
            },
            "type": "scattercarpet"
           }
          ],
          "scattergeo": [
           {
            "marker": {
             "colorbar": {
              "outlinewidth": 0,
              "ticks": ""
             }
            },
            "type": "scattergeo"
           }
          ],
          "scattergl": [
           {
            "marker": {
             "colorbar": {
              "outlinewidth": 0,
              "ticks": ""
             }
            },
            "type": "scattergl"
           }
          ],
          "scattermapbox": [
           {
            "marker": {
             "colorbar": {
              "outlinewidth": 0,
              "ticks": ""
             }
            },
            "type": "scattermapbox"
           }
          ],
          "scatterpolar": [
           {
            "marker": {
             "colorbar": {
              "outlinewidth": 0,
              "ticks": ""
             }
            },
            "type": "scatterpolar"
           }
          ],
          "scatterpolargl": [
           {
            "marker": {
             "colorbar": {
              "outlinewidth": 0,
              "ticks": ""
             }
            },
            "type": "scatterpolargl"
           }
          ],
          "scatterternary": [
           {
            "marker": {
             "colorbar": {
              "outlinewidth": 0,
              "ticks": ""
             }
            },
            "type": "scatterternary"
           }
          ],
          "surface": [
           {
            "colorbar": {
             "outlinewidth": 0,
             "ticks": ""
            },
            "colorscale": [
             [
              0,
              "#0d0887"
             ],
             [
              0.1111111111111111,
              "#46039f"
             ],
             [
              0.2222222222222222,
              "#7201a8"
             ],
             [
              0.3333333333333333,
              "#9c179e"
             ],
             [
              0.4444444444444444,
              "#bd3786"
             ],
             [
              0.5555555555555556,
              "#d8576b"
             ],
             [
              0.6666666666666666,
              "#ed7953"
             ],
             [
              0.7777777777777778,
              "#fb9f3a"
             ],
             [
              0.8888888888888888,
              "#fdca26"
             ],
             [
              1,
              "#f0f921"
             ]
            ],
            "type": "surface"
           }
          ],
          "table": [
           {
            "cells": {
             "fill": {
              "color": "#EBF0F8"
             },
             "line": {
              "color": "white"
             }
            },
            "header": {
             "fill": {
              "color": "#C8D4E3"
             },
             "line": {
              "color": "white"
             }
            },
            "type": "table"
           }
          ]
         },
         "layout": {
          "annotationdefaults": {
           "arrowcolor": "#2a3f5f",
           "arrowhead": 0,
           "arrowwidth": 1
          },
          "autotypenumbers": "strict",
          "coloraxis": {
           "colorbar": {
            "outlinewidth": 0,
            "ticks": ""
           }
          },
          "colorscale": {
           "diverging": [
            [
             0,
             "#8e0152"
            ],
            [
             0.1,
             "#c51b7d"
            ],
            [
             0.2,
             "#de77ae"
            ],
            [
             0.3,
             "#f1b6da"
            ],
            [
             0.4,
             "#fde0ef"
            ],
            [
             0.5,
             "#f7f7f7"
            ],
            [
             0.6,
             "#e6f5d0"
            ],
            [
             0.7,
             "#b8e186"
            ],
            [
             0.8,
             "#7fbc41"
            ],
            [
             0.9,
             "#4d9221"
            ],
            [
             1,
             "#276419"
            ]
           ],
           "sequential": [
            [
             0,
             "#0d0887"
            ],
            [
             0.1111111111111111,
             "#46039f"
            ],
            [
             0.2222222222222222,
             "#7201a8"
            ],
            [
             0.3333333333333333,
             "#9c179e"
            ],
            [
             0.4444444444444444,
             "#bd3786"
            ],
            [
             0.5555555555555556,
             "#d8576b"
            ],
            [
             0.6666666666666666,
             "#ed7953"
            ],
            [
             0.7777777777777778,
             "#fb9f3a"
            ],
            [
             0.8888888888888888,
             "#fdca26"
            ],
            [
             1,
             "#f0f921"
            ]
           ],
           "sequentialminus": [
            [
             0,
             "#0d0887"
            ],
            [
             0.1111111111111111,
             "#46039f"
            ],
            [
             0.2222222222222222,
             "#7201a8"
            ],
            [
             0.3333333333333333,
             "#9c179e"
            ],
            [
             0.4444444444444444,
             "#bd3786"
            ],
            [
             0.5555555555555556,
             "#d8576b"
            ],
            [
             0.6666666666666666,
             "#ed7953"
            ],
            [
             0.7777777777777778,
             "#fb9f3a"
            ],
            [
             0.8888888888888888,
             "#fdca26"
            ],
            [
             1,
             "#f0f921"
            ]
           ]
          },
          "colorway": [
           "#636efa",
           "#EF553B",
           "#00cc96",
           "#ab63fa",
           "#FFA15A",
           "#19d3f3",
           "#FF6692",
           "#B6E880",
           "#FF97FF",
           "#FECB52"
          ],
          "font": {
           "color": "#2a3f5f"
          },
          "geo": {
           "bgcolor": "white",
           "lakecolor": "white",
           "landcolor": "#E5ECF6",
           "showlakes": true,
           "showland": true,
           "subunitcolor": "white"
          },
          "hoverlabel": {
           "align": "left"
          },
          "hovermode": "closest",
          "mapbox": {
           "style": "light"
          },
          "paper_bgcolor": "white",
          "plot_bgcolor": "#E5ECF6",
          "polar": {
           "angularaxis": {
            "gridcolor": "white",
            "linecolor": "white",
            "ticks": ""
           },
           "bgcolor": "#E5ECF6",
           "radialaxis": {
            "gridcolor": "white",
            "linecolor": "white",
            "ticks": ""
           }
          },
          "scene": {
           "xaxis": {
            "backgroundcolor": "#E5ECF6",
            "gridcolor": "white",
            "gridwidth": 2,
            "linecolor": "white",
            "showbackground": true,
            "ticks": "",
            "zerolinecolor": "white"
           },
           "yaxis": {
            "backgroundcolor": "#E5ECF6",
            "gridcolor": "white",
            "gridwidth": 2,
            "linecolor": "white",
            "showbackground": true,
            "ticks": "",
            "zerolinecolor": "white"
           },
           "zaxis": {
            "backgroundcolor": "#E5ECF6",
            "gridcolor": "white",
            "gridwidth": 2,
            "linecolor": "white",
            "showbackground": true,
            "ticks": "",
            "zerolinecolor": "white"
           }
          },
          "shapedefaults": {
           "line": {
            "color": "#2a3f5f"
           }
          },
          "ternary": {
           "aaxis": {
            "gridcolor": "white",
            "linecolor": "white",
            "ticks": ""
           },
           "baxis": {
            "gridcolor": "white",
            "linecolor": "white",
            "ticks": ""
           },
           "bgcolor": "#E5ECF6",
           "caxis": {
            "gridcolor": "white",
            "linecolor": "white",
            "ticks": ""
           }
          },
          "title": {
           "x": 0.05
          },
          "xaxis": {
           "automargin": true,
           "gridcolor": "white",
           "linecolor": "white",
           "ticks": "",
           "title": {
            "standoff": 15
           },
           "zerolinecolor": "white",
           "zerolinewidth": 2
          },
          "yaxis": {
           "automargin": true,
           "gridcolor": "white",
           "linecolor": "white",
           "ticks": "",
           "title": {
            "standoff": 15
           },
           "zerolinecolor": "white",
           "zerolinewidth": 2
          }
         }
        },
        "title": {
         "text": "Sankey Diagram"
        }
       }
      }
     },
     "metadata": {},
     "output_type": "display_data"
    }
   ],
   "source": [
    "fig=genSankey(sankey_df,cat_cols=['is_business','is_consumption','product_type','county'],value_cols='target',title='Sankey Diagram')\n",
    "\n",
    "fig2 = go.Figure(fig)\n",
    "fig2.show()"
   ]
  }
 ],
 "metadata": {
  "kaggle": {
   "accelerator": "none",
   "dataSources": [
    {
     "databundleVersionId": 7292407,
     "sourceId": 57236,
     "sourceType": "competition"
    },
    {
     "sourceId": 157472009,
     "sourceType": "kernelVersion"
    }
   ],
   "dockerImageVersionId": 30626,
   "isGpuEnabled": false,
   "isInternetEnabled": true,
   "language": "python",
   "sourceType": "notebook"
  },
  "kernelspec": {
   "display_name": "Python 3",
   "language": "python",
   "name": "python3"
  },
  "language_info": {
   "codemirror_mode": {
    "name": "ipython",
    "version": 3
   },
   "file_extension": ".py",
   "mimetype": "text/x-python",
   "name": "python",
   "nbconvert_exporter": "python",
   "pygments_lexer": "ipython3",
   "version": "3.8.12"
  },
  "papermill": {
   "default_parameters": {},
   "duration": 85.497143,
   "end_time": "2024-01-17T00:53:02.319956",
   "environment_variables": {},
   "exception": null,
   "input_path": "__notebook__.ipynb",
   "output_path": "__notebook__.ipynb",
   "parameters": {},
   "start_time": "2024-01-17T00:51:36.822813",
   "version": "2.4.0"
  }
 },
 "nbformat": 4,
 "nbformat_minor": 5
}
