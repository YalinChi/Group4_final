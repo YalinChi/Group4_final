version https://git-lfs.github.com/spec/v1
oid sha256:f79bfe622fed6e6a43907cf9170d56ecf46ef45a6f9eb261c220e90ae8fd0324
size 35102
