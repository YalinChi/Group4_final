version https://git-lfs.github.com/spec/v1
oid sha256:80d1b62f4a4ffec55e5e811d1cbf750b9a17b1df4571547ec0252ee15e49bdc6
size 599104
