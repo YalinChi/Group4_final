version https://git-lfs.github.com/spec/v1
oid sha256:9c37c759d4d7f3af5c946b63c03896411a734d535dfbc3f16e1267dfd972a9eb
size 29755
