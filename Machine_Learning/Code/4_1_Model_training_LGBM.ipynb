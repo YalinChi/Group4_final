version https://git-lfs.github.com/spec/v1
oid sha256:bbb7326032ebffeec2e298787e0c3664795b064bd493fee7bd268bb24ce4e2da
size 594593
